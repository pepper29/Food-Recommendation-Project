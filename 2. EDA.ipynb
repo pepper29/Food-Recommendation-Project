{
 "cells": [
  {
   "cell_type": "code",
   "execution_count": 7,
   "id": "64427ff0",
   "metadata": {},
   "outputs": [
    {
     "name": "stderr",
     "output_type": "stream",
     "text": [
      "Token indices sequence length is longer than the specified maximum sequence length for this model (517 > 512). Running this sequence through the model will result in indexing errors\n"
     ]
    }
   ],
   "source": [
    "import pandas as pd\n",
    "from transformers import AutoTokenizer\n",
    "import matplotlib.pyplot as plt \n",
    "import seaborn as sns\n",
    "import warnings\n",
    "\n",
    "warnings.filterwarnings(action='ignore')\n",
    "\n",
    "\n",
    "tokenizer = AutoTokenizer.from_pretrained('klue/roberta-small')\n",
    "\n",
    "df = pd.read_csv('C:/Users/ADMIN/Documents/수업파일/221228(Final)/전처리단계/clean_total_crawling10.1.csv') \n",
    "# df = pd.read_csv('./data/train.csv')\n",
    "# test = pd.read_csv('./data/test.csv')\n",
    "\n",
    "df['tok'] = df['reviews'].apply(lambda x : tokenizer.tokenize(x))\n",
    "df['tok_len'] = df['tok'].apply(lambda x : len(x))\n",
    "# test['tok'] = test['문장'].apply(lambda x : tokenizer.tokenize(x))\n",
    "# test['tok_len'] = test['tok'].apply(lambda x : len(x))"
   ]
  },
  {
   "cell_type": "code",
   "execution_count": 8,
   "id": "bd83133a",
   "metadata": {},
   "outputs": [
    {
     "name": "stdout",
     "output_type": "stream",
     "text": [
      "Train max length : 2679\n"
     ]
    },
    {
     "data": {
      "image/png": "[encoded data removed]",
      "text/plain": [
       "<Figure size 576x576 with 2 Axes>"
      ]
     },
     "metadata": {
      "needs_background": "light"
     },
     "output_type": "display_data"
    }
   ],
   "source": [
    "fig, axes = plt.subplots(1, 2, figsize=(8, 8))\n",
    "\n",
    "g = sns.distplot(df['tok_len'], ax=axes[0])\n",
    "axes[0].set_xlabel(g.get_xlabel(), fontsize=12)\n",
    "axes[0].set_ylabel(g.get_ylabel(), fontsize=12) \n",
    "axes[0].set_xlim(-10, 300)\n",
    "axes[0].set_title('Density of sentence length')\n",
    "\n",
    "\n",
    "# g = sns.distplot(test['tok_len'], ax=axes[1])\n",
    "# axes[1].set_xlabel(g.get_xlabel(), fontsize=12)\n",
    "# axes[1].set_ylabel(g.get_ylabel(), fontsize=12) \n",
    "# axes[0].set_xlim(-10, 300)\n",
    "# axes[1].set_title('Density of sentence length')\n",
    "\n",
    "print(f\"Train max length : {max(df['tok_len'])}\")\n",
    "# print(f\"TeST max length : {max(test['tok_len'])}\")"
   ]
  },
  {
   "cell_type": "code",
   "execution_count": 9,
   "id": "fff67964",
   "metadata": {},
   "outputs": [
    {
     "data": {
      "text/html": [
       "<div>\n",
       "<style scoped>\n",
       "    .dataframe tbody tr th:only-of-type {\n",
       "        vertical-align: middle;\n",
       "    }\n",
       "\n",
       "    .dataframe tbody tr th {\n",
       "        vertical-align: top;\n",
       "    }\n",
       "\n",
       "    .dataframe thead th {\n",
       "        text-align: right;\n",
       "    }\n",
       "</style>\n",
       "<table border=\"1\" class=\"dataframe\">\n",
       "  <thead>\n",
       "    <tr style=\"text-align: right;\">\n",
       "      <th></th>\n",
       "      <th>Column1</th>\n",
       "      <th>reviews</th>\n",
       "      <th>keyword_kor</th>\n",
       "      <th>keyword_num</th>\n",
       "      <th>글자수</th>\n",
       "      <th>tok</th>\n",
       "      <th>tok_len</th>\n",
       "    </tr>\n",
       "  </thead>\n",
       "  <tbody>\n",
       "    <tr>\n",
       "      <th>0</th>\n",
       "      <td>65928</td>\n",
       "      <td>냄새안나고 맛있어요</td>\n",
       "      <td>곱창</td>\n",
       "      <td>1</td>\n",
       "      <td>10</td>\n",
       "      <td>[냄새, ##안, ##나, ##고, 맛있, ##어요]</td>\n",
       "      <td>6</td>\n",
       "    </tr>\n",
       "    <tr>\n",
       "      <th>1</th>\n",
       "      <td>65940</td>\n",
       "      <td>부추된장찌개랑 양밥</td>\n",
       "      <td>곱창</td>\n",
       "      <td>1</td>\n",
       "      <td>10</td>\n",
       "      <td>[부추, ##된, ##장, ##찌개, ##랑, 양, ##밥]</td>\n",
       "      <td>7</td>\n",
       "    </tr>\n",
       "    <tr>\n",
       "      <th>2</th>\n",
       "      <td>66081</td>\n",
       "      <td>곱창과 전골을 추천</td>\n",
       "      <td>곱창</td>\n",
       "      <td>1</td>\n",
       "      <td>10</td>\n",
       "      <td>[곱창, ##과, 전골, ##을, 추천]</td>\n",
       "      <td>5</td>\n",
       "    </tr>\n",
       "    <tr>\n",
       "      <th>3</th>\n",
       "      <td>66191</td>\n",
       "      <td>생각만큼은 아니었다</td>\n",
       "      <td>곱창</td>\n",
       "      <td>1</td>\n",
       "      <td>10</td>\n",
       "      <td>[생각, ##만큼, ##은, 아니, ##었, ##다]</td>\n",
       "      <td>6</td>\n",
       "    </tr>\n",
       "    <tr>\n",
       "      <th>4</th>\n",
       "      <td>66725</td>\n",
       "      <td>망원 청어람 볶음밥</td>\n",
       "      <td>곱창</td>\n",
       "      <td>1</td>\n",
       "      <td>10</td>\n",
       "      <td>[망원, 청, ##어, ##람, 볶음밥]</td>\n",
       "      <td>5</td>\n",
       "    </tr>\n",
       "  </tbody>\n",
       "</table>\n",
       "</div>"
      ],
      "text/plain": [
       "   Column1     reviews keyword_kor  keyword_num  글자수  \\\n",
       "0    65928  냄새안나고 맛있어요          곱창            1   10   \n",
       "1    65940  부추된장찌개랑 양밥          곱창            1   10   \n",
       "2    66081  곱창과 전골을 추천          곱창            1   10   \n",
       "3    66191  생각만큼은 아니었다          곱창            1   10   \n",
       "4    66725  망원 청어람 볶음밥          곱창            1   10   \n",
       "\n",
       "                                 tok  tok_len  \n",
       "0      [냄새, ##안, ##나, ##고, 맛있, ##어요]        6  \n",
       "1  [부추, ##된, ##장, ##찌개, ##랑, 양, ##밥]        7  \n",
       "2             [곱창, ##과, 전골, ##을, 추천]        5  \n",
       "3      [생각, ##만큼, ##은, 아니, ##었, ##다]        6  \n",
       "4             [망원, 청, ##어, ##람, 볶음밥]        5  "
      ]
     },
     "execution_count": 9,
     "metadata": {},
     "output_type": "execute_result"
    }
   ],
   "source": [
    "df.head(5)"
   ]
  },
  {
   "cell_type": "code",
   "execution_count": 10,
   "id": "b3e2eb55",
   "metadata": {},
   "outputs": [
    {
     "data": {
      "text/html": [
       "<div>\n",
       "<style scoped>\n",
       "    .dataframe tbody tr th:only-of-type {\n",
       "        vertical-align: middle;\n",
       "    }\n",
       "\n",
       "    .dataframe tbody tr th {\n",
       "        vertical-align: top;\n",
       "    }\n",
       "\n",
       "    .dataframe thead th {\n",
       "        text-align: right;\n",
       "    }\n",
       "</style>\n",
       "<table border=\"1\" class=\"dataframe\">\n",
       "  <thead>\n",
       "    <tr style=\"text-align: right;\">\n",
       "      <th></th>\n",
       "      <th>Column1</th>\n",
       "      <th>keyword_num</th>\n",
       "      <th>글자수</th>\n",
       "      <th>tok_len</th>\n",
       "    </tr>\n",
       "  </thead>\n",
       "  <tbody>\n",
       "    <tr>\n",
       "      <th>count</th>\n",
       "      <td>55042.000000</td>\n",
       "      <td>55042.000000</td>\n",
       "      <td>55042.000000</td>\n",
       "      <td>55042.000000</td>\n",
       "    </tr>\n",
       "    <tr>\n",
       "      <th>mean</th>\n",
       "      <td>35065.839286</td>\n",
       "      <td>9.787399</td>\n",
       "      <td>283.717161</td>\n",
       "      <td>148.205389</td>\n",
       "    </tr>\n",
       "    <tr>\n",
       "      <th>std</th>\n",
       "      <td>19857.392141</td>\n",
       "      <td>4.901508</td>\n",
       "      <td>308.002918</td>\n",
       "      <td>159.697186</td>\n",
       "    </tr>\n",
       "    <tr>\n",
       "      <th>min</th>\n",
       "      <td>0.000000</td>\n",
       "      <td>1.000000</td>\n",
       "      <td>10.000000</td>\n",
       "      <td>2.000000</td>\n",
       "    </tr>\n",
       "    <tr>\n",
       "      <th>25%</th>\n",
       "      <td>19167.250000</td>\n",
       "      <td>5.000000</td>\n",
       "      <td>96.000000</td>\n",
       "      <td>51.000000</td>\n",
       "    </tr>\n",
       "    <tr>\n",
       "      <th>50%</th>\n",
       "      <td>34711.500000</td>\n",
       "      <td>10.000000</td>\n",
       "      <td>197.000000</td>\n",
       "      <td>104.000000</td>\n",
       "    </tr>\n",
       "    <tr>\n",
       "      <th>75%</th>\n",
       "      <td>51762.750000</td>\n",
       "      <td>15.000000</td>\n",
       "      <td>362.000000</td>\n",
       "      <td>190.000000</td>\n",
       "    </tr>\n",
       "    <tr>\n",
       "      <th>max</th>\n",
       "      <td>71636.000000</td>\n",
       "      <td>17.000000</td>\n",
       "      <td>5079.000000</td>\n",
       "      <td>2679.000000</td>\n",
       "    </tr>\n",
       "  </tbody>\n",
       "</table>\n",
       "</div>"
      ],
      "text/plain": [
       "            Column1   keyword_num           글자수       tok_len\n",
       "count  55042.000000  55042.000000  55042.000000  55042.000000\n",
       "mean   35065.839286      9.787399    283.717161    148.205389\n",
       "std    19857.392141      4.901508    308.002918    159.697186\n",
       "min        0.000000      1.000000     10.000000      2.000000\n",
       "25%    19167.250000      5.000000     96.000000     51.000000\n",
       "50%    34711.500000     10.000000    197.000000    104.000000\n",
       "75%    51762.750000     15.000000    362.000000    190.000000\n",
       "max    71636.000000     17.000000   5079.000000   2679.000000"
      ]
     },
     "execution_count": 10,
     "metadata": {},
     "output_type": "execute_result"
    }
   ],
   "source": [
    "df.describe()"
   ]
  },
  {
   "cell_type": "code",
   "execution_count": 11,
   "id": "c9d8575c",
   "metadata": {},
   "outputs": [
    {
     "name": "stdout",
     "output_type": "stream",
     "text": [
      "<class 'pandas.core.frame.DataFrame'>\n",
      "RangeIndex: 55042 entries, 0 to 55041\n",
      "Data columns (total 7 columns):\n",
      " #   Column       Non-Null Count  Dtype \n",
      "---  ------       --------------  ----- \n",
      " 0   Column1      55042 non-null  int64 \n",
      " 1   reviews      55042 non-null  object\n",
      " 2   keyword_kor  55042 non-null  object\n",
      " 3   keyword_num  55042 non-null  int64 \n",
      " 4   글자수          55042 non-null  int64 \n",
      " 5   tok          55042 non-null  object\n",
      " 6   tok_len      55042 non-null  int64 \n",
      "dtypes: int64(4), object(3)\n",
      "memory usage: 2.9+ MB\n"
     ]
    }
   ],
   "source": [
    "df.info()"
   ]
  },
  {
   "cell_type": "code",
   "execution_count": null,
   "id": "95d338b2",
   "metadata": {},
   "outputs": [],
   "source": [
    "label_df = pd.read_csv('./data/train.csv')\n",
    "label_df.columns = ['Column1', 'reviews', 'keyword_kor', 'keyword_num','글자수', 'tok' , 'tok_len']\n",
    "# type_dict = {\"사실형\" : \"Tr\", \"추론형\" : \"Guess\", \"대화형\" : \"Talk\", \"예측형\" : \"Predict\"}\n",
    "# polarity_dict = {\"긍정\" : \"Pos\", \"부정\" : \"Neg\" , \"미정\" : \"No\"}\n",
    "# tense_dict = {\"과거\" : \"Past\", \"현재\" : \"present\", \"미래\" : \"Future\"}\n",
    "# certainty_dict = {\"확실\" : \"Sure\", \"불확실\" : \"nosure\"}\n",
    "\n",
    "# label_df['type'] = label_df['type'].apply(lambda x : type_dict[x])\n",
    "# label_df['polarity'] = label_df['polarity'].apply(lambda x : polarity_dict[x])\n",
    "# label_df['tense'] = label_df['tense'].apply(lambda x : tense_dict[x])\n",
    "# label_df['certainty'] = label_df['certainty'].apply(lambda x : certainty_dict[x])\n",
    "\n",
    "def make_label(type,polarity,tense,certainty):\n",
    "    return f\"{type}-{polarity}-{tense}-{certainty}\"\n",
    "\n",
    "label_df['label_eng'] = label_df.apply(lambda x : make_label(x['type'],x['polarity'],x['tense'],x['certainty']), axis =1 , result_type = 'expand')"
   ]
  },
  {
   "cell_type": "code",
   "execution_count": null,
   "id": "2e5c22bb",
   "metadata": {},
   "outputs": [],
   "source": []
  },
  {
   "cell_type": "code",
   "execution_count": null,
   "id": "d85a0cdb",
   "metadata": {},
   "outputs": [],
   "source": []
  },
  {
   "cell_type": "code",
   "execution_count": null,
   "id": "3a6b69d0",
   "metadata": {},
   "outputs": [],
   "source": []
  },
  {
   "cell_type": "code",
   "execution_count": null,
   "id": "fce7e0b1",
   "metadata": {},
   "outputs": [],
   "source": []
  },
  {
   "cell_type": "code",
   "execution_count": null,
   "id": "59654807",
   "metadata": {},
   "outputs": [],
   "source": []
  }
 ],
 "metadata": {
  "kernelspec": {
   "display_name": "Python 3 (ipykernel)",
   "language": "python",
   "name": "python3"
  },
  "language_info": {
   "codemirror_mode": {
    "name": "ipython",
    "version": 3
   },
   "file_extension": ".py",
   "mimetype": "text/x-python",
   "name": "python",
   "nbconvert_exporter": "python",
   "pygments_lexer": "ipython3",
   "version": "3.9.12"
  }
 },
 "nbformat": 4,
 "nbformat_minor": 5
}
