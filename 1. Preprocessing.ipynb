{
 "cells": [
  {
   "cell_type": "markdown",
   "id": "16567f54",
   "metadata": {},
   "source": [
    "# 데이터 확인 -> 0열 컬럼제거 -> 행 확인 -> 불필요한 행 제거"
   ]
  },
  {
   "cell_type": "code",
   "execution_count": null,
   "id": "f13124e7",
   "metadata": {},
   "outputs": [],
   "source": [
    "import csv\n",
    "\n",
    "### csv 불러오기\n",
    "pd = open('C:/Users/ADMIN/Documents/수업파일/221228(Final)/크롤링_데이터/1.한정식.csv', 'r', encoding='utf-8')\n",
    " = csv.reader(file)"
   ]
  },
  {
   "cell_type": "code",
   "execution_count": 4,
   "id": "a136e0be",
   "metadata": {
    "scrolled": true
   },
   "outputs": [
    {
     "data": {
      "text/html": [
       "<div>\n",
       "<style scoped>\n",
       "    .dataframe tbody tr th:only-of-type {\n",
       "        vertical-align: middle;\n",
       "    }\n",
       "\n",
       "    .dataframe tbody tr th {\n",
       "        vertical-align: top;\n",
       "    }\n",
       "\n",
       "    .dataframe thead th {\n",
       "        text-align: right;\n",
       "    }\n",
       "</style>\n",
       "<table border=\"1\" class=\"dataframe\">\n",
       "  <thead>\n",
       "    <tr style=\"text-align: right;\">\n",
       "      <th></th>\n",
       "      <th>호반_한식주점부문 맛집(2)\\n\\n최초방문_’21년 12월\\n최근방문_’22년 11월\\n\\n1. 첫 방문 이후 꽤 오랜시간이 지났다. 첫 방문당시 호반은 4.7점을 기록중이었고, 그 기대감만큼은 아니라는 리뷰를 남겼었다 ㅋㅋㅋ 점수는 점차 내려갈것이라 생각했지만, 현재 오히려 4.8점을 기록중이며, 승승장구 중이다.\\n\\n2. 이번 방문을 통해 알게된 것은 다양한 메뉴를 가지고 있는 노포는 그 노포를 지금까지 오게 만들어준 시그니처메뉴를 미리 알고 방문하는것이 중요하다는 것이다. 두번째 방문에서야 먹어본 “호반”의 병어찜 덕분에, 왜 “호반”이 긴 시간동안 영업을 할수 있었는지, 왜 평점이 이정도까지 올라갈수 있었는지, 그리고 왜 아직도 웨이팅이 있는지에 대해 아주 제대로 알수있게 해줬다.\\n\\n3. 병어찜과 강굴을 주문했다.\\n  - 병어찜 (중, 48,-) **\\n  : 우선 병어는 기본적으로 살이 하얗고 비린내 없이 담백하며 부들부들한 생선이다. 그래서인지 빨갛고 달콤한 양념장과 너무 잘어울렸고, 정말 완벽한 병어찜이 된다. 함께 들어간 두부, 애호박, 감자, 무 모두 정말 맛이 좋았다. 이 곳에 온다면 무조건 병어찜을 먹어야만 한다.\\n  - 서산강굴 (35,-)\\n  : 함께방문한 일행의 강력한 주장으로 주문한 강굴이다. 역시나, 맛은 평범한 굴과 차이점은 느끼지 못했다. 하지만, 평범한 굴도 맛있으니 맛있게 먹고왔다.\\n  - 콩비지 (Service)\\n  : 역시나 ㅋㅋㅋ 호반의 콩비지는 예술이다 ㅋㅋㅋ 이건 정말 맛있다 ㅋㅋ\\n\\n4. 호반은 종로의 노포들이 가진 레트로한 분위기를 가지고 있어 술맛을 한껏 올려주지만, 그와 동시에 단점도 명확하다. 자리가 매우 좁고 불편하다(특히 4인방문시) 그리고, 운이 없으면 입구 바로 옆 좌석에 앉아 찬바람을 잔뜩 즐길수도 있으니 운이 좋길 바라야 한다. 그리고, 종로 노포들을 다니면 가격이 묘하게 세다고 느껴질때가 있는데, 호반도 그 중 하나다.\\n\\n※ 결론\\n불편하지만 맛있는 호반</th>\n",
       "    </tr>\n",
       "  </thead>\n",
       "  <tbody>\n",
       "    <tr>\n",
       "      <th>0</th>\n",
       "      <td>이번엔 도가니무침을 먹어보았는데 크기도 크고 양도 많았다. 맛도 딱 소주안주로 좋았...</td>\n",
       "    </tr>\n",
       "    <tr>\n",
       "      <th>1</th>\n",
       "      <td>#병어찜#순대#낙원동</td>\n",
       "    </tr>\n",
       "    <tr>\n",
       "      <th>2</th>\n",
       "      <td>여전히 종로3가에서 최고의 맛집은 호반이다. 우설수육은 정말 최고 미쳤다...</td>\n",
       "    </tr>\n",
       "    <tr>\n",
       "      <th>3</th>\n",
       "      <td>애정하는 종로 &lt;호반&gt;의 우거지국. 식사 메뉴이다\\n고기를 삶아내니 육수가 기본적으...</td>\n",
       "    </tr>\n",
       "    <tr>\n",
       "      <th>4</th>\n",
       "      <td>어무니가 요리 잘하시는데\\n진짜 비슷한 맛이남</td>\n",
       "    </tr>\n",
       "  </tbody>\n",
       "</table>\n",
       "</div>"
      ],
      "text/plain": [
       "  호반_한식주점부문 맛집(2)\\n\\n최초방문_’21년 12월\\n최근방문_’22년 11월\\n\\n1. 첫 방문 이후 꽤 오랜시간이 지났다. 첫 방문당시 호반은 4.7점을 기록중이었고, 그 기대감만큼은 아니라는 리뷰를 남겼었다 ㅋㅋㅋ 점수는 점차 내려갈것이라 생각했지만, 현재 오히려 4.8점을 기록중이며, 승승장구 중이다.\\n\\n2. 이번 방문을 통해 알게된 것은 다양한 메뉴를 가지고 있는 노포는 그 노포를 지금까지 오게 만들어준 시그니처메뉴를 미리 알고 방문하는것이 중요하다는 것이다. 두번째 방문에서야 먹어본 “호반”의 병어찜 덕분에, 왜 “호반”이 긴 시간동안 영업을 할수 있었는지, 왜 평점이 이정도까지 올라갈수 있었는지, 그리고 왜 아직도 웨이팅이 있는지에 대해 아주 제대로 알수있게 해줬다.\\n\\n3. 병어찜과 강굴을 주문했다.\\n  - 병어찜 (중, 48,-) **\\n  : 우선 병어는 기본적으로 살이 하얗고 비린내 없이 담백하며 부들부들한 생선이다. 그래서인지 빨갛고 달콤한 양념장과 너무 잘어울렸고, 정말 완벽한 병어찜이 된다. 함께 들어간 두부, 애호박, 감자, 무 모두 정말 맛이 좋았다. 이 곳에 온다면 무조건 병어찜을 먹어야만 한다.\\n  - 서산강굴 (35,-)\\n  : 함께방문한 일행의 강력한 주장으로 주문한 강굴이다. 역시나, 맛은 평범한 굴과 차이점은 느끼지 못했다. 하지만, 평범한 굴도 맛있으니 맛있게 먹고왔다.\\n  - 콩비지 (Service)\\n  : 역시나 ㅋㅋㅋ 호반의 콩비지는 예술이다 ㅋㅋㅋ 이건 정말 맛있다 ㅋㅋ\\n\\n4. 호반은 종로의 노포들이 가진 레트로한 분위기를 가지고 있어 술맛을 한껏 올려주지만, 그와 동시에 단점도 명확하다. 자리가 매우 좁고 불편하다(특히 4인방문시) 그리고, 운이 없으면 입구 바로 옆 좌석에 앉아 찬바람을 잔뜩 즐길수도 있으니 운이 좋길 바라야 한다. 그리고, 종로 노포들을 다니면 가격이 묘하게 세다고 느껴질때가 있는데, 호반도 그 중 하나다.\\n\\n※ 결론\\n불편하지만 맛있는 호반\n",
       "0  이번엔 도가니무침을 먹어보았는데 크기도 크고 양도 많았다. 맛도 딱 소주안주로 좋았...                                                                                                                                                                                                                                                                                                                                                                                                                                                                                                                                                                                                                                                                                                                                                                                                                                                                                                                                                                          \n",
       "1                                        #병어찜#순대#낙원동                                                                                                                                                                                                                                                                                                                                                                                                                                                                                                                                                                                                                                                                                                                                                                                                                                                                                                                                                                          \n",
       "2        여전히 종로3가에서 최고의 맛집은 호반이다. 우설수육은 정말 최고 미쳤다...                                                                                                                                                                                                                                                                                                                                                                                                                                                                                                                                                                                                                                                                                                                                                                                                                                                                                                                                                                          \n",
       "3  애정하는 종로 <호반>의 우거지국. 식사 메뉴이다\\n고기를 삶아내니 육수가 기본적으...                                                                                                                                                                                                                                                                                                                                                                                                                                                                                                                                                                                                                                                                                                                                                                                                                                                                                                                                                                          \n",
       "4                          어무니가 요리 잘하시는데\\n진짜 비슷한 맛이남                                                                                                                                                                                                                                                                                                                                                                                                                                                                                                                                                                                                                                                                                                                                                                                                                                                                                                                                                                          "
      ]
     },
     "execution_count": 4,
     "metadata": {},
     "output_type": "execute_result"
    }
   ],
   "source": [
    "import pandas as pd\n",
    "df = pd.read_csv('C:/Users/ADMIN/Documents/수업파일/221228(Final)/크롤링_데이터/1.한정식.csv', encoding='utf-8') #, 'r'\n",
    "df.head()"
   ]
  },
  {
   "cell_type": "code",
   "execution_count": 5,
   "id": "e236b7b8",
   "metadata": {
    "scrolled": true
   },
   "outputs": [
    {
     "name": "stdout",
     "output_type": "stream",
     "text": [
      "<class 'pandas.core.frame.DataFrame'>\n",
      "RangeIndex: 2447 entries, 0 to 2446\n",
      "Data columns (total 1 columns):\n",
      " #   Column                                                                                                                                                                                                                                                                                                                                                                                                                                                                                                                                                                                                                                                                                                                                                                                                                                                                                                                                                                                                    Non-Null Count  Dtype \n",
      "---  ------                                                                                                                                                                                                                                                                                                                                                                                                                                                                                                                                                                                                                                                                                                                                                                                                                                                                                                                                                                                                    --------------  ----- \n",
      " 0   호반_한식주점부문 맛집(2)\n",
      "\n",
      "최초방문_’21년 12월\n",
      "최근방문_’22년 11월\n",
      "\n",
      "1. 첫 방문 이후 꽤 오랜시간이 지났다. 첫 방문당시 호반은 4.7점을 기록중이었고, 그 기대감만큼은 아니라는 리뷰를 남겼었다 ㅋㅋㅋ 점수는 점차 내려갈것이라 생각했지만, 현재 오히려 4.8점을 기록중이며, 승승장구 중이다.\n",
      "\n",
      "2. 이번 방문을 통해 알게된 것은 다양한 메뉴를 가지고 있는 노포는 그 노포를 지금까지 오게 만들어준 시그니처메뉴를 미리 알고 방문하는것이 중요하다는 것이다. 두번째 방문에서야 먹어본 “호반”의 병어찜 덕분에, 왜 “호반”이 긴 시간동안 영업을 할수 있었는지, 왜 평점이 이정도까지 올라갈수 있었는지, 그리고 왜 아직도 웨이팅이 있는지에 대해 아주 제대로 알수있게 해줬다.\n",
      "\n",
      "3. 병어찜과 강굴을 주문했다.\n",
      "  - 병어찜 (중, 48,-) **\n",
      "  : 우선 병어는 기본적으로 살이 하얗고 비린내 없이 담백하며 부들부들한 생선이다. 그래서인지 빨갛고 달콤한 양념장과 너무 잘어울렸고, 정말 완벽한 병어찜이 된다. 함께 들어간 두부, 애호박, 감자, 무 모두 정말 맛이 좋았다. 이 곳에 온다면 무조건 병어찜을 먹어야만 한다.\n",
      "  - 서산강굴 (35,-)\n",
      "  : 함께방문한 일행의 강력한 주장으로 주문한 강굴이다. 역시나, 맛은 평범한 굴과 차이점은 느끼지 못했다. 하지만, 평범한 굴도 맛있으니 맛있게 먹고왔다.\n",
      "  - 콩비지 (Service)\n",
      "  : 역시나 ㅋㅋㅋ 호반의 콩비지는 예술이다 ㅋㅋㅋ 이건 정말 맛있다 ㅋㅋ\n",
      "\n",
      "4. 호반은 종로의 노포들이 가진 레트로한 분위기를 가지고 있어 술맛을 한껏 올려주지만, 그와 동시에 단점도 명확하다. 자리가 매우 좁고 불편하다(특히 4인방문시) 그리고, 운이 없으면 입구 바로 옆 좌석에 앉아 찬바람을 잔뜩 즐길수도 있으니 운이 좋길 바라야 한다. 그리고, 종로 노포들을 다니면 가격이 묘하게 세다고 느껴질때가 있는데, 호반도 그 중 하나다.\n",
      "\n",
      "※ 결론\n",
      "불편하지만 맛있는 호반  2439 non-null   object\n",
      "dtypes: object(1)\n",
      "memory usage: 19.2+ KB\n"
     ]
    }
   ],
   "source": [
    "df.info()"
   ]
  },
  {
   "cell_type": "code",
   "execution_count": 8,
   "id": "ef204e5c",
   "metadata": {},
   "outputs": [
    {
     "data": {
      "text/html": [
       "<div>\n",
       "<style scoped>\n",
       "    .dataframe tbody tr th:only-of-type {\n",
       "        vertical-align: middle;\n",
       "    }\n",
       "\n",
       "    .dataframe tbody tr th {\n",
       "        vertical-align: top;\n",
       "    }\n",
       "\n",
       "    .dataframe thead th {\n",
       "        text-align: right;\n",
       "    }\n",
       "</style>\n",
       "<table border=\"1\" class=\"dataframe\">\n",
       "  <thead>\n",
       "    <tr style=\"text-align: right;\">\n",
       "      <th></th>\n",
       "      <th>Unnamed: 0</th>\n",
       "      <th>0</th>\n",
       "      <th>1</th>\n",
       "      <th>2</th>\n",
       "    </tr>\n",
       "  </thead>\n",
       "  <tbody>\n",
       "    <tr>\n",
       "      <th>0</th>\n",
       "      <td>0</td>\n",
       "      <td>NaN</td>\n",
       "      <td>reviews</td>\n",
       "      <td>label</td>\n",
       "    </tr>\n",
       "    <tr>\n",
       "      <th>1</th>\n",
       "      <td>1</td>\n",
       "      <td>0.0</td>\n",
       "      <td>호반_한식주점부문 맛집(2)\\n\\n최초방문_’21년 12월\\n최근방문_’22년 11...</td>\n",
       "      <td>1</td>\n",
       "    </tr>\n",
       "    <tr>\n",
       "      <th>2</th>\n",
       "      <td>2</td>\n",
       "      <td>1.0</td>\n",
       "      <td>이번엔 도가니무침을 먹어보았는데 크기도 크고 양도 많았다. 맛도 딱 소주안주로 좋았...</td>\n",
       "      <td>1</td>\n",
       "    </tr>\n",
       "    <tr>\n",
       "      <th>3</th>\n",
       "      <td>3</td>\n",
       "      <td>2.0</td>\n",
       "      <td>#병어찜#순대#낙원동</td>\n",
       "      <td>1</td>\n",
       "    </tr>\n",
       "    <tr>\n",
       "      <th>4</th>\n",
       "      <td>4</td>\n",
       "      <td>3.0</td>\n",
       "      <td>여전히 종로3가에서 최고의 맛집은 호반이다. 우설수육은 정말 최고 미쳤다...</td>\n",
       "      <td>1</td>\n",
       "    </tr>\n",
       "  </tbody>\n",
       "</table>\n",
       "</div>"
      ],
      "text/plain": [
       "   Unnamed: 0    0                                                  1      2\n",
       "0           0  NaN                                            reviews  label\n",
       "1           1  0.0  호반_한식주점부문 맛집(2)\\n\\n최초방문_’21년 12월\\n최근방문_’22년 11...      1\n",
       "2           2  1.0  이번엔 도가니무침을 먹어보았는데 크기도 크고 양도 많았다. 맛도 딱 소주안주로 좋았...      1\n",
       "3           3  2.0                                        #병어찜#순대#낙원동      1\n",
       "4           4  3.0        여전히 종로3가에서 최고의 맛집은 호반이다. 우설수육은 정말 최고 미쳤다...      1"
      ]
     },
     "execution_count": 8,
     "metadata": {},
     "output_type": "execute_result"
    }
   ],
   "source": [
    "import pandas as pd\n",
    "df = pd.read_csv('C:/Users/ADMIN/Downloads/라벨링작업된 데이터/1.한정식L.csv', encoding='utf-8') #, 'r'\n",
    "df.head()"
   ]
  },
  {
   "cell_type": "code",
   "execution_count": 13,
   "id": "e137a6cb",
   "metadata": {
    "scrolled": true
   },
   "outputs": [],
   "source": [
    "df = df.drop(['Unnamed: 0','0'], axis=1)"
   ]
  },
  {
   "cell_type": "code",
   "execution_count": 15,
   "id": "9ee28ac9",
   "metadata": {},
   "outputs": [],
   "source": [
    "df = df.drop([0])"
   ]
  },
  {
   "cell_type": "code",
   "execution_count": 16,
   "id": "af6b6892",
   "metadata": {
    "scrolled": true
   },
   "outputs": [
    {
     "data": {
      "text/html": [
       "<div>\n",
       "<style scoped>\n",
       "    .dataframe tbody tr th:only-of-type {\n",
       "        vertical-align: middle;\n",
       "    }\n",
       "\n",
       "    .dataframe tbody tr th {\n",
       "        vertical-align: top;\n",
       "    }\n",
       "\n",
       "    .dataframe thead th {\n",
       "        text-align: right;\n",
       "    }\n",
       "</style>\n",
       "<table border=\"1\" class=\"dataframe\">\n",
       "  <thead>\n",
       "    <tr style=\"text-align: right;\">\n",
       "      <th></th>\n",
       "      <th>1</th>\n",
       "      <th>2</th>\n",
       "    </tr>\n",
       "  </thead>\n",
       "  <tbody>\n",
       "    <tr>\n",
       "      <th>1</th>\n",
       "      <td>호반_한식주점부문 맛집(2)\\n\\n최초방문_’21년 12월\\n최근방문_’22년 11...</td>\n",
       "      <td>1</td>\n",
       "    </tr>\n",
       "    <tr>\n",
       "      <th>2</th>\n",
       "      <td>이번엔 도가니무침을 먹어보았는데 크기도 크고 양도 많았다. 맛도 딱 소주안주로 좋았...</td>\n",
       "      <td>1</td>\n",
       "    </tr>\n",
       "    <tr>\n",
       "      <th>3</th>\n",
       "      <td>#병어찜#순대#낙원동</td>\n",
       "      <td>1</td>\n",
       "    </tr>\n",
       "    <tr>\n",
       "      <th>4</th>\n",
       "      <td>여전히 종로3가에서 최고의 맛집은 호반이다. 우설수육은 정말 최고 미쳤다...</td>\n",
       "      <td>1</td>\n",
       "    </tr>\n",
       "    <tr>\n",
       "      <th>5</th>\n",
       "      <td>애정하는 종로 &lt;호반&gt;의 우거지국. 식사 메뉴이다\\n고기를 삶아내니 육수가 기본적으...</td>\n",
       "      <td>1</td>\n",
       "    </tr>\n",
       "    <tr>\n",
       "      <th>...</th>\n",
       "      <td>...</td>\n",
       "      <td>...</td>\n",
       "    </tr>\n",
       "    <tr>\n",
       "      <th>2444</th>\n",
       "      <td>제주향토음식 명인이 운영하신다는 낭푼밥상에 갔다. 제주도를 여러번 다녀오면서 몸국은...</td>\n",
       "      <td>1</td>\n",
       "    </tr>\n",
       "    <tr>\n",
       "      <th>2445</th>\n",
       "      <td>종로구에서 직접 매일 만드는\\n두부집인 미당순두부 다녀왔어요\\n\\n가고자 했던 곳이...</td>\n",
       "      <td>1</td>\n",
       "    </tr>\n",
       "    <tr>\n",
       "      <th>2446</th>\n",
       "      <td>토속순두부 처음 먹고 한달 후에 비지찌개 또 먹으러 감. 가격은 대부분 9천원.\\n...</td>\n",
       "      <td>1</td>\n",
       "    </tr>\n",
       "    <tr>\n",
       "      <th>2447</th>\n",
       "      <td>제육순두부 먹기 싫어서 토속순두부 시켰는데 그냥 순두부를 물에 넣고 끓인게 나왔어요...</td>\n",
       "      <td>1</td>\n",
       "    </tr>\n",
       "    <tr>\n",
       "      <th>2448</th>\n",
       "      <td>두번 방문했는데 두번 다 대만족이요\\n하얀 순두부랑 비지찌개 먹어봤어요\\n비지찌개 ...</td>\n",
       "      <td>1</td>\n",
       "    </tr>\n",
       "  </tbody>\n",
       "</table>\n",
       "<p>2448 rows × 2 columns</p>\n",
       "</div>"
      ],
      "text/plain": [
       "                                                      1  2\n",
       "1     호반_한식주점부문 맛집(2)\\n\\n최초방문_’21년 12월\\n최근방문_’22년 11...  1\n",
       "2     이번엔 도가니무침을 먹어보았는데 크기도 크고 양도 많았다. 맛도 딱 소주안주로 좋았...  1\n",
       "3                                           #병어찜#순대#낙원동  1\n",
       "4           여전히 종로3가에서 최고의 맛집은 호반이다. 우설수육은 정말 최고 미쳤다...  1\n",
       "5     애정하는 종로 <호반>의 우거지국. 식사 메뉴이다\\n고기를 삶아내니 육수가 기본적으...  1\n",
       "...                                                 ... ..\n",
       "2444  제주향토음식 명인이 운영하신다는 낭푼밥상에 갔다. 제주도를 여러번 다녀오면서 몸국은...  1\n",
       "2445  종로구에서 직접 매일 만드는\\n두부집인 미당순두부 다녀왔어요\\n\\n가고자 했던 곳이...  1\n",
       "2446  토속순두부 처음 먹고 한달 후에 비지찌개 또 먹으러 감. 가격은 대부분 9천원.\\n...  1\n",
       "2447  제육순두부 먹기 싫어서 토속순두부 시켰는데 그냥 순두부를 물에 넣고 끓인게 나왔어요...  1\n",
       "2448  두번 방문했는데 두번 다 대만족이요\\n하얀 순두부랑 비지찌개 먹어봤어요\\n비지찌개 ...  1\n",
       "\n",
       "[2448 rows x 2 columns]"
      ]
     },
     "execution_count": 16,
     "metadata": {},
     "output_type": "execute_result"
    }
   ],
   "source": [
    "df"
   ]
  },
  {
   "cell_type": "code",
   "execution_count": 22,
   "id": "56165d76",
   "metadata": {
    "scrolled": false
   },
   "outputs": [
    {
     "data": {
      "text/html": [
       "<div>\n",
       "<style scoped>\n",
       "    .dataframe tbody tr th:only-of-type {\n",
       "        vertical-align: middle;\n",
       "    }\n",
       "\n",
       "    .dataframe tbody tr th {\n",
       "        vertical-align: top;\n",
       "    }\n",
       "\n",
       "    .dataframe thead th {\n",
       "        text-align: right;\n",
       "    }\n",
       "</style>\n",
       "<table border=\"1\" class=\"dataframe\">\n",
       "  <thead>\n",
       "    <tr style=\"text-align: right;\">\n",
       "      <th></th>\n",
       "      <th>Unnamed: 0</th>\n",
       "      <th>reviews</th>\n",
       "      <th>label</th>\n",
       "    </tr>\n",
       "  </thead>\n",
       "  <tbody>\n",
       "    <tr>\n",
       "      <th>0</th>\n",
       "      <td>0</td>\n",
       "      <td>호반_한식주점부문 맛집(2)\\n\\n최초방문_’21년 12월\\n최근방문_’22년 11...</td>\n",
       "      <td>1</td>\n",
       "    </tr>\n",
       "    <tr>\n",
       "      <th>1</th>\n",
       "      <td>1</td>\n",
       "      <td>이번엔 도가니무침을 먹어보았는데 크기도 크고 양도 많았다. 맛도 딱 소주안주로 좋았...</td>\n",
       "      <td>1</td>\n",
       "    </tr>\n",
       "    <tr>\n",
       "      <th>2</th>\n",
       "      <td>2</td>\n",
       "      <td>#병어찜#순대#낙원동</td>\n",
       "      <td>1</td>\n",
       "    </tr>\n",
       "    <tr>\n",
       "      <th>3</th>\n",
       "      <td>3</td>\n",
       "      <td>여전히 종로3가에서 최고의 맛집은 호반이다. 우설수육은 정말 최고 미쳤다...</td>\n",
       "      <td>1</td>\n",
       "    </tr>\n",
       "    <tr>\n",
       "      <th>4</th>\n",
       "      <td>4</td>\n",
       "      <td>애정하는 종로 &lt;호반&gt;의 우거지국. 식사 메뉴이다\\n고기를 삶아내니 육수가 기본적으...</td>\n",
       "      <td>1</td>\n",
       "    </tr>\n",
       "  </tbody>\n",
       "</table>\n",
       "</div>"
      ],
      "text/plain": [
       "   Unnamed: 0                                            reviews  label\n",
       "0           0  호반_한식주점부문 맛집(2)\\n\\n최초방문_’21년 12월\\n최근방문_’22년 11...      1\n",
       "1           1  이번엔 도가니무침을 먹어보았는데 크기도 크고 양도 많았다. 맛도 딱 소주안주로 좋았...      1\n",
       "2           2                                        #병어찜#순대#낙원동      1\n",
       "3           3        여전히 종로3가에서 최고의 맛집은 호반이다. 우설수육은 정말 최고 미쳤다...      1\n",
       "4           4  애정하는 종로 <호반>의 우거지국. 식사 메뉴이다\\n고기를 삶아내니 육수가 기본적으...      1"
      ]
     },
     "execution_count": 22,
     "metadata": {},
     "output_type": "execute_result"
    }
   ],
   "source": [
    "import pandas as pd\n",
    "df = pd.read_csv('C:/Users/ADMIN/Documents/수업파일/221228(Final)/1한정식.csv', encoding='utf-8') #, 'r'\n",
    "df.head()"
   ]
  },
  {
   "cell_type": "code",
   "execution_count": 31,
   "id": "7b33a8eb",
   "metadata": {},
   "outputs": [],
   "source": [
    "df = df.drop(['Unnamed: 0'], axis=1)"
   ]
  },
  {
   "cell_type": "code",
   "execution_count": 32,
   "id": "4741051f",
   "metadata": {
    "scrolled": true
   },
   "outputs": [
    {
     "data": {
      "text/html": [
       "<div>\n",
       "<style scoped>\n",
       "    .dataframe tbody tr th:only-of-type {\n",
       "        vertical-align: middle;\n",
       "    }\n",
       "\n",
       "    .dataframe tbody tr th {\n",
       "        vertical-align: top;\n",
       "    }\n",
       "\n",
       "    .dataframe thead th {\n",
       "        text-align: right;\n",
       "    }\n",
       "</style>\n",
       "<table border=\"1\" class=\"dataframe\">\n",
       "  <thead>\n",
       "    <tr style=\"text-align: right;\">\n",
       "      <th></th>\n",
       "      <th>reviews</th>\n",
       "      <th>label</th>\n",
       "    </tr>\n",
       "  </thead>\n",
       "  <tbody>\n",
       "    <tr>\n",
       "      <th>0</th>\n",
       "      <td>호반_한식주점부문 맛집(2)\\n\\n최초방문_’21년 12월\\n최근방문_’22년 11...</td>\n",
       "      <td>1</td>\n",
       "    </tr>\n",
       "    <tr>\n",
       "      <th>1</th>\n",
       "      <td>이번엔 도가니무침을 먹어보았는데 크기도 크고 양도 많았다. 맛도 딱 소주안주로 좋았...</td>\n",
       "      <td>1</td>\n",
       "    </tr>\n",
       "    <tr>\n",
       "      <th>2</th>\n",
       "      <td>#병어찜#순대#낙원동</td>\n",
       "      <td>1</td>\n",
       "    </tr>\n",
       "    <tr>\n",
       "      <th>3</th>\n",
       "      <td>여전히 종로3가에서 최고의 맛집은 호반이다. 우설수육은 정말 최고 미쳤다...</td>\n",
       "      <td>1</td>\n",
       "    </tr>\n",
       "    <tr>\n",
       "      <th>4</th>\n",
       "      <td>애정하는 종로 &lt;호반&gt;의 우거지국. 식사 메뉴이다\\n고기를 삶아내니 육수가 기본적으...</td>\n",
       "      <td>1</td>\n",
       "    </tr>\n",
       "    <tr>\n",
       "      <th>...</th>\n",
       "      <td>...</td>\n",
       "      <td>...</td>\n",
       "    </tr>\n",
       "    <tr>\n",
       "      <th>2443</th>\n",
       "      <td>제주향토음식 명인이 운영하신다는 낭푼밥상에 갔다. 제주도를 여러번 다녀오면서 몸국은...</td>\n",
       "      <td>1</td>\n",
       "    </tr>\n",
       "    <tr>\n",
       "      <th>2444</th>\n",
       "      <td>종로구에서 직접 매일 만드는\\n두부집인 미당순두부 다녀왔어요\\n\\n가고자 했던 곳이...</td>\n",
       "      <td>1</td>\n",
       "    </tr>\n",
       "    <tr>\n",
       "      <th>2445</th>\n",
       "      <td>토속순두부 처음 먹고 한달 후에 비지찌개 또 먹으러 감. 가격은 대부분 9천원.\\n...</td>\n",
       "      <td>1</td>\n",
       "    </tr>\n",
       "    <tr>\n",
       "      <th>2446</th>\n",
       "      <td>제육순두부 먹기 싫어서 토속순두부 시켰는데 그냥 순두부를 물에 넣고 끓인게 나왔어요...</td>\n",
       "      <td>1</td>\n",
       "    </tr>\n",
       "    <tr>\n",
       "      <th>2447</th>\n",
       "      <td>두번 방문했는데 두번 다 대만족이요\\n하얀 순두부랑 비지찌개 먹어봤어요\\n비지찌개 ...</td>\n",
       "      <td>1</td>\n",
       "    </tr>\n",
       "  </tbody>\n",
       "</table>\n",
       "<p>2448 rows × 2 columns</p>\n",
       "</div>"
      ],
      "text/plain": [
       "                                                reviews  label\n",
       "0     호반_한식주점부문 맛집(2)\\n\\n최초방문_’21년 12월\\n최근방문_’22년 11...      1\n",
       "1     이번엔 도가니무침을 먹어보았는데 크기도 크고 양도 많았다. 맛도 딱 소주안주로 좋았...      1\n",
       "2                                           #병어찜#순대#낙원동      1\n",
       "3           여전히 종로3가에서 최고의 맛집은 호반이다. 우설수육은 정말 최고 미쳤다...      1\n",
       "4     애정하는 종로 <호반>의 우거지국. 식사 메뉴이다\\n고기를 삶아내니 육수가 기본적으...      1\n",
       "...                                                 ...    ...\n",
       "2443  제주향토음식 명인이 운영하신다는 낭푼밥상에 갔다. 제주도를 여러번 다녀오면서 몸국은...      1\n",
       "2444  종로구에서 직접 매일 만드는\\n두부집인 미당순두부 다녀왔어요\\n\\n가고자 했던 곳이...      1\n",
       "2445  토속순두부 처음 먹고 한달 후에 비지찌개 또 먹으러 감. 가격은 대부분 9천원.\\n...      1\n",
       "2446  제육순두부 먹기 싫어서 토속순두부 시켰는데 그냥 순두부를 물에 넣고 끓인게 나왔어요...      1\n",
       "2447  두번 방문했는데 두번 다 대만족이요\\n하얀 순두부랑 비지찌개 먹어봤어요\\n비지찌개 ...      1\n",
       "\n",
       "[2448 rows x 2 columns]"
      ]
     },
     "execution_count": 32,
     "metadata": {},
     "output_type": "execute_result"
    }
   ],
   "source": [
    "df"
   ]
  },
  {
   "cell_type": "markdown",
   "id": "976465a5",
   "metadata": {},
   "source": [
    "# raw데이터 전처리"
   ]
  },
  {
   "cell_type": "code",
   "execution_count": 109,
   "id": "a26f3e6b",
   "metadata": {},
   "outputs": [],
   "source": [
    "import pandas as pd"
   ]
  },
  {
   "cell_type": "code",
   "execution_count": 132,
   "id": "2950e09d",
   "metadata": {
    "scrolled": true
   },
   "outputs": [
    {
     "data": {
      "text/html": [
       "<div>\n",
       "<style scoped>\n",
       "    .dataframe tbody tr th:only-of-type {\n",
       "        vertical-align: middle;\n",
       "    }\n",
       "\n",
       "    .dataframe tbody tr th {\n",
       "        vertical-align: top;\n",
       "    }\n",
       "\n",
       "    .dataframe thead th {\n",
       "        text-align: right;\n",
       "    }\n",
       "</style>\n",
       "<table border=\"1\" class=\"dataframe\">\n",
       "  <thead>\n",
       "    <tr style=\"text-align: right;\">\n",
       "      <th></th>\n",
       "      <th>reviews</th>\n",
       "      <th>label</th>\n",
       "    </tr>\n",
       "  </thead>\n",
       "  <tbody>\n",
       "    <tr>\n",
       "      <th>0</th>\n",
       "      <td>&lt;점심 마라탕, 소각 마라탕, 소각마라탕&gt;\\n\\n첫 리뷰 이후로 세 번 더 방문했다...</td>\n",
       "      <td>30</td>\n",
       "    </tr>\n",
       "    <tr>\n",
       "      <th>1</th>\n",
       "      <td>소 지섭 실물\\n각 까이에서 본 썰 푼다…\\n\\n맛10 친절10 청결10\\n메뉴: ...</td>\n",
       "      <td>30</td>\n",
       "    </tr>\n",
       "    <tr>\n",
       "      <th>2</th>\n",
       "      <td>중국 가정식 요리를 선보이는 신사동의 소각 SOGAK\\n땅 넓은 중국이라 지역마다 ...</td>\n",
       "      <td>30</td>\n",
       "    </tr>\n",
       "    <tr>\n",
       "      <th>3</th>\n",
       "      <td>가지탕수, 파이황과, 프리미엄 마라탕, 마라샹궤, 꿔빠로우, 쿵파오치킨 &amp; 황금꽃빵...</td>\n",
       "      <td>30</td>\n",
       "    </tr>\n",
       "    <tr>\n",
       "      <th>4</th>\n",
       "      <td>가로수길에서 맛볼 수 있는 깔끔한 마라탕, 재방문의사 O\\n\\n이번에 망플 게더링을...</td>\n",
       "      <td>30</td>\n",
       "    </tr>\n",
       "    <tr>\n",
       "      <th>...</th>\n",
       "      <td>...</td>\n",
       "      <td>...</td>\n",
       "    </tr>\n",
       "    <tr>\n",
       "      <th>1948</th>\n",
       "      <td>전 소고기로 맵기 1단계, 지인은 기본으로 맵기 3단계 먹었는데 사진에 국물 빨간게...</td>\n",
       "      <td>30</td>\n",
       "    </tr>\n",
       "    <tr>\n",
       "      <th>1949</th>\n",
       "      <td>재료를 직접 선택하는 게 아니라 메뉴 중에서 마라탕 골라먹는? 그런 곳이에요! 양념...</td>\n",
       "      <td>30</td>\n",
       "    </tr>\n",
       "    <tr>\n",
       "      <th>1950</th>\n",
       "      <td>마라탕이 너무 먹고싶은데 배달팁 6000원에 포기할 수 없어 판교 역 근방으로 나가...</td>\n",
       "      <td>30</td>\n",
       "    </tr>\n",
       "    <tr>\n",
       "      <th>1951</th>\n",
       "      <td>\"내 인생 마파두부와 마라탕은 여기밖에 없다\"\\n언젠가 우연히 카카오맵을 둘러보다가...</td>\n",
       "      <td>30</td>\n",
       "    </tr>\n",
       "    <tr>\n",
       "      <th>1952</th>\n",
       "      <td>한줄평: 판교역 근처 무난한 마라탕\\n\\n&lt;리뷰원정대 12/100&gt;\\n사실 원래 다...</td>\n",
       "      <td>30</td>\n",
       "    </tr>\n",
       "  </tbody>\n",
       "</table>\n",
       "<p>1953 rows × 2 columns</p>\n",
       "</div>"
      ],
      "text/plain": [
       "                                                reviews  label\n",
       "0     <점심 마라탕, 소각 마라탕, 소각마라탕>\\n\\n첫 리뷰 이후로 세 번 더 방문했다...     30\n",
       "1     소 지섭 실물\\n각 까이에서 본 썰 푼다…\\n\\n맛10 친절10 청결10\\n메뉴: ...     30\n",
       "2     중국 가정식 요리를 선보이는 신사동의 소각 SOGAK\\n땅 넓은 중국이라 지역마다 ...     30\n",
       "3     가지탕수, 파이황과, 프리미엄 마라탕, 마라샹궤, 꿔빠로우, 쿵파오치킨 & 황금꽃빵...     30\n",
       "4     가로수길에서 맛볼 수 있는 깔끔한 마라탕, 재방문의사 O\\n\\n이번에 망플 게더링을...     30\n",
       "...                                                 ...    ...\n",
       "1948  전 소고기로 맵기 1단계, 지인은 기본으로 맵기 3단계 먹었는데 사진에 국물 빨간게...     30\n",
       "1949  재료를 직접 선택하는 게 아니라 메뉴 중에서 마라탕 골라먹는? 그런 곳이에요! 양념...     30\n",
       "1950  마라탕이 너무 먹고싶은데 배달팁 6000원에 포기할 수 없어 판교 역 근방으로 나가...     30\n",
       "1951  \"내 인생 마파두부와 마라탕은 여기밖에 없다\"\\n언젠가 우연히 카카오맵을 둘러보다가...     30\n",
       "1952  한줄평: 판교역 근처 무난한 마라탕\\n\\n<리뷰원정대 12/100>\\n사실 원래 다...     30\n",
       "\n",
       "[1953 rows x 2 columns]"
      ]
     },
     "execution_count": 132,
     "metadata": {},
     "output_type": "execute_result"
    }
   ],
   "source": [
    "df = pd.read_csv('C:/Users/ADMIN/Downloads/라벨링230116/30마라탕.csv', encoding='utf-8') #, 'r' #불러오기\n",
    "df = df.drop(['Unnamed: 0'], axis=1) #0열 제거\n",
    "df #확인"
   ]
  },
  {
   "cell_type": "code",
   "execution_count": 133,
   "id": "7f4f593f",
   "metadata": {},
   "outputs": [],
   "source": [
    "df.to_csv(\"30.마라탕_l.csv\") #저장"
   ]
  },
  {
   "cell_type": "markdown",
   "id": "fa0f58ff",
   "metadata": {},
   "source": [
    "# 파일 합치기 "
   ]
  },
  {
   "cell_type": "code",
   "execution_count": 146,
   "id": "b78655ab",
   "metadata": {},
   "outputs": [],
   "source": [
    "import pandas as pd\n",
    "from glob import glob\n",
    "import os"
   ]
  },
  {
   "cell_type": "code",
   "execution_count": 147,
   "id": "2dae4efc",
   "metadata": {},
   "outputs": [
    {
     "data": {
      "text/plain": [
       "'C:\\\\Users\\\\ADMIN\\\\Documents\\\\수업파일\\\\221228(Final)'"
      ]
     },
     "execution_count": 147,
     "metadata": {},
     "output_type": "execute_result"
    }
   ],
   "source": [
    "os.getcwd() # 파일디렉토리"
   ]
  },
  {
   "cell_type": "code",
   "execution_count": 148,
   "id": "e5ef76e8",
   "metadata": {},
   "outputs": [],
   "source": [
    "files = glob('./라벨링완료/*.csv') #경로에 있는 모든 csv 가져오기\n",
    "total = pd.DataFrame() #빈 데이터프레임생성\n",
    "for file in files : #csv파일 하나씩 열어서\n",
    "    temp = pd.read_csv(file,sep=\",\", encoding='utf-8') #임시 데이터프레임으로 생성\n",
    "    total = pd.concat([total,temp]) #전체 데이터프레임에 추가\n",
    "total.to_csv('total_category.csv') #csv파일로 저장 경로는 디렉토리경로"
   ]
  },
  {
   "cell_type": "markdown",
   "id": "f8e93ac0",
   "metadata": {},
   "source": [
    "# 라벨을 통합한 데이터 확인"
   ]
  },
  {
   "cell_type": "code",
   "execution_count": 134,
   "id": "754c4d5b",
   "metadata": {},
   "outputs": [
    {
     "data": {
      "text/html": [
       "<div>\n",
       "<style scoped>\n",
       "    .dataframe tbody tr th:only-of-type {\n",
       "        vertical-align: middle;\n",
       "    }\n",
       "\n",
       "    .dataframe tbody tr th {\n",
       "        vertical-align: top;\n",
       "    }\n",
       "\n",
       "    .dataframe thead th {\n",
       "        text-align: right;\n",
       "    }\n",
       "</style>\n",
       "<table border=\"1\" class=\"dataframe\">\n",
       "  <thead>\n",
       "    <tr style=\"text-align: right;\">\n",
       "      <th></th>\n",
       "      <th>Unnamed: 0</th>\n",
       "      <th>reviews</th>\n",
       "      <th>label</th>\n",
       "    </tr>\n",
       "  </thead>\n",
       "  <tbody>\n",
       "    <tr>\n",
       "      <th>0</th>\n",
       "      <td>0</td>\n",
       "      <td>호반_한식주점부문 맛집(2)\\n\\n최초방문_’21년 12월\\n최근방문_’22년 11...</td>\n",
       "      <td>1</td>\n",
       "    </tr>\n",
       "    <tr>\n",
       "      <th>1</th>\n",
       "      <td>1</td>\n",
       "      <td>이번엔 도가니무침을 먹어보았는데 크기도 크고 양도 많았다. 맛도 딱 소주안주로 좋았...</td>\n",
       "      <td>1</td>\n",
       "    </tr>\n",
       "    <tr>\n",
       "      <th>2</th>\n",
       "      <td>2</td>\n",
       "      <td>#병어찜#순대#낙원동</td>\n",
       "      <td>1</td>\n",
       "    </tr>\n",
       "    <tr>\n",
       "      <th>3</th>\n",
       "      <td>3</td>\n",
       "      <td>여전히 종로3가에서 최고의 맛집은 호반이다. 우설수육은 정말 최고 미쳤다...</td>\n",
       "      <td>1</td>\n",
       "    </tr>\n",
       "    <tr>\n",
       "      <th>4</th>\n",
       "      <td>4</td>\n",
       "      <td>애정하는 종로 &lt;호반&gt;의 우거지국. 식사 메뉴이다\\n고기를 삶아내니 육수가 기본적으...</td>\n",
       "      <td>1</td>\n",
       "    </tr>\n",
       "    <tr>\n",
       "      <th>...</th>\n",
       "      <td>...</td>\n",
       "      <td>...</td>\n",
       "      <td>...</td>\n",
       "    </tr>\n",
       "    <tr>\n",
       "      <th>72979</th>\n",
       "      <td>3841</td>\n",
       "      <td>#을지로 #베트남\\n분짜 정말 맛있었어요! 사실 고추뼈찜을 먹으러 간건데 점심 때는...</td>\n",
       "      <td>9</td>\n",
       "    </tr>\n",
       "    <tr>\n",
       "      <th>72980</th>\n",
       "      <td>3842</td>\n",
       "      <td>입국 금지임에도 갈 수 있는 베트남이 이...</td>\n",
       "      <td>9</td>\n",
       "    </tr>\n",
       "    <tr>\n",
       "      <th>72981</th>\n",
       "      <td>3843</td>\n",
       "      <td>덮밥에 함께 나오는 고기는 약간 매웠어요 그치만 적당히 잘구워져서 맛있었고, 밥에 ...</td>\n",
       "      <td>9</td>\n",
       "    </tr>\n",
       "    <tr>\n",
       "      <th>72982</th>\n",
       "      <td>3844</td>\n",
       "      <td>베트남쌀국수가 너무 먹고싶어서 들린 을지깐깐\\n분위기는 힙지로답게 조명부터 해서 너...</td>\n",
       "      <td>9</td>\n",
       "    </tr>\n",
       "    <tr>\n",
       "      <th>72983</th>\n",
       "      <td>\u001a</td>\n",
       "      <td>NaN</td>\n",
       "      <td>NaN</td>\n",
       "    </tr>\n",
       "  </tbody>\n",
       "</table>\n",
       "<p>72984 rows × 3 columns</p>\n",
       "</div>"
      ],
      "text/plain": [
       "      Unnamed: 0                                            reviews label\n",
       "0              0  호반_한식주점부문 맛집(2)\\n\\n최초방문_’21년 12월\\n최근방문_’22년 11...     1\n",
       "1              1  이번엔 도가니무침을 먹어보았는데 크기도 크고 양도 많았다. 맛도 딱 소주안주로 좋았...     1\n",
       "2              2                                        #병어찜#순대#낙원동     1\n",
       "3              3        여전히 종로3가에서 최고의 맛집은 호반이다. 우설수육은 정말 최고 미쳤다...     1\n",
       "4              4  애정하는 종로 <호반>의 우거지국. 식사 메뉴이다\\n고기를 삶아내니 육수가 기본적으...     1\n",
       "...          ...                                                ...   ...\n",
       "72979       3841  #을지로 #베트남\\n분짜 정말 맛있었어요! 사실 고추뼈찜을 먹으러 간건데 점심 때는...     9\n",
       "72980       3842  입국 금지임에도 갈 수 있는 베트남이 이...     9\n",
       "72981       3843  덮밥에 함께 나오는 고기는 약간 매웠어요 그치만 적당히 잘구워져서 맛있었고, 밥에 ...     9\n",
       "72982       3844  베트남쌀국수가 너무 먹고싶어서 들린 을지깐깐\\n분위기는 힙지로답게 조명부터 해서 너...     9\n",
       "72983          \u001a                                                NaN   NaN\n",
       "\n",
       "[72984 rows x 3 columns]"
      ]
     },
     "execution_count": 134,
     "metadata": {},
     "output_type": "execute_result"
    }
   ],
   "source": [
    "df = pd.read_csv('C:/Users/ADMIN/Documents/수업파일/221228(Final)/라벨링완료/crawling_all.csv', encoding='utf-8') #, 'r' # 합쳐진 데이터확인\n",
    "df"
   ]
  },
  {
   "cell_type": "code",
   "execution_count": 139,
   "id": "722fca56",
   "metadata": {
    "scrolled": true
   },
   "outputs": [
    {
     "data": {
      "text/plain": [
       "18       4573\n",
       "7        4131\n",
       "14       4124\n",
       "9        3845\n",
       "25       3712\n",
       "29       3559\n",
       "27       3529\n",
       "3        2891\n",
       "4        2839\n",
       "10       2595\n",
       "6        2548\n",
       "1        2448\n",
       "8        2374\n",
       "19       2321\n",
       "16       2269\n",
       "2        2242\n",
       "12       2109\n",
       "30       1953\n",
       "13       1893\n",
       "15       1767\n",
       "26       1567\n",
       "11       1312\n",
       "24       1308\n",
       "17       1195\n",
       "28       1079\n",
       "5         825\n",
       "20        818\n",
       "23        700\n",
       "label      27\n",
       "Name: label, dtype: int64"
      ]
     },
     "execution_count": 139,
     "metadata": {},
     "output_type": "execute_result"
    }
   ],
   "source": [
    "#라벨별 갯수 확인\n",
    "df['label'].value_counts()"
   ]
  },
  {
   "cell_type": "markdown",
   "id": "7d54c687",
   "metadata": {},
   "source": [
    "# 합친 파일 전처리"
   ]
  },
  {
   "cell_type": "code",
   "execution_count": 177,
   "id": "0b786caa",
   "metadata": {
    "scrolled": false
   },
   "outputs": [
    {
     "data": {
      "text/html": [
       "<div>\n",
       "<style scoped>\n",
       "    .dataframe tbody tr th:only-of-type {\n",
       "        vertical-align: middle;\n",
       "    }\n",
       "\n",
       "    .dataframe tbody tr th {\n",
       "        vertical-align: top;\n",
       "    }\n",
       "\n",
       "    .dataframe thead th {\n",
       "        text-align: right;\n",
       "    }\n",
       "</style>\n",
       "<table border=\"1\" class=\"dataframe\">\n",
       "  <thead>\n",
       "    <tr style=\"text-align: right;\">\n",
       "      <th></th>\n",
       "      <th>Unnamed: 0</th>\n",
       "      <th>reviews</th>\n",
       "      <th>label</th>\n",
       "    </tr>\n",
       "  </thead>\n",
       "  <tbody>\n",
       "    <tr>\n",
       "      <th>0</th>\n",
       "      <td>0.0</td>\n",
       "      <td>호반_한식주점부문 맛집(2)\\n\\n최초방문_’21년 12월\\n최근방문_’22년 11...</td>\n",
       "      <td>1</td>\n",
       "    </tr>\n",
       "    <tr>\n",
       "      <th>1</th>\n",
       "      <td>1.0</td>\n",
       "      <td>이번엔 도가니무침을 먹어보았는데 크기도 크고 양도 많았다. 맛도 딱 소주안주로 좋았...</td>\n",
       "      <td>1</td>\n",
       "    </tr>\n",
       "    <tr>\n",
       "      <th>2</th>\n",
       "      <td>2.0</td>\n",
       "      <td>#병어찜#순대#낙원동</td>\n",
       "      <td>1</td>\n",
       "    </tr>\n",
       "    <tr>\n",
       "      <th>3</th>\n",
       "      <td>3.0</td>\n",
       "      <td>여전히 종로3가에서 최고의 맛집은 호반이다. 우설수육은 정말 최고 미쳤다...</td>\n",
       "      <td>1</td>\n",
       "    </tr>\n",
       "    <tr>\n",
       "      <th>4</th>\n",
       "      <td>4.0</td>\n",
       "      <td>애정하는 종로 &lt;호반&gt;의 우거지국. 식사 메뉴이다\\n고기를 삶아내니 육수가 기본적으...</td>\n",
       "      <td>1</td>\n",
       "    </tr>\n",
       "    <tr>\n",
       "      <th>...</th>\n",
       "      <td>...</td>\n",
       "      <td>...</td>\n",
       "      <td>...</td>\n",
       "    </tr>\n",
       "    <tr>\n",
       "      <th>3840</th>\n",
       "      <td>3840.0</td>\n",
       "      <td>쌀국수는 평범 덮밥은 괜찮아요</td>\n",
       "      <td>9</td>\n",
       "    </tr>\n",
       "    <tr>\n",
       "      <th>3841</th>\n",
       "      <td>3841.0</td>\n",
       "      <td>#을지로 #베트남\\n분짜 정말 맛있었어요! 사실 고추뼈찜을 먹으러 간건데 점심 때는...</td>\n",
       "      <td>9</td>\n",
       "    </tr>\n",
       "    <tr>\n",
       "      <th>3842</th>\n",
       "      <td>3842.0</td>\n",
       "      <td>입국 금지임에도 갈 수 있는 베트남이 이...</td>\n",
       "      <td>9</td>\n",
       "    </tr>\n",
       "    <tr>\n",
       "      <th>3843</th>\n",
       "      <td>3843.0</td>\n",
       "      <td>덮밥에 함께 나오는 고기는 약간 매웠어요 그치만 적당히 잘구워져서 맛있었고, 밥에 ...</td>\n",
       "      <td>9</td>\n",
       "    </tr>\n",
       "    <tr>\n",
       "      <th>3844</th>\n",
       "      <td>3844.0</td>\n",
       "      <td>베트남쌀국수가 너무 먹고싶어서 들린 을지깐깐\\n분위기는 힙지로답게 조명부터 해서 너...</td>\n",
       "      <td>9</td>\n",
       "    </tr>\n",
       "  </tbody>\n",
       "</table>\n",
       "<p>72954 rows × 3 columns</p>\n",
       "</div>"
      ],
      "text/plain": [
       "      Unnamed: 0                                            reviews  label\n",
       "0            0.0  호반_한식주점부문 맛집(2)\\n\\n최초방문_’21년 12월\\n최근방문_’22년 11...      1\n",
       "1            1.0  이번엔 도가니무침을 먹어보았는데 크기도 크고 양도 많았다. 맛도 딱 소주안주로 좋았...      1\n",
       "2            2.0                                        #병어찜#순대#낙원동      1\n",
       "3            3.0        여전히 종로3가에서 최고의 맛집은 호반이다. 우설수육은 정말 최고 미쳤다...      1\n",
       "4            4.0  애정하는 종로 <호반>의 우거지국. 식사 메뉴이다\\n고기를 삶아내니 육수가 기본적으...      1\n",
       "...          ...                                                ...    ...\n",
       "3840      3840.0                                   쌀국수는 평범 덮밥은 괜찮아요      9\n",
       "3841      3841.0  #을지로 #베트남\\n분짜 정말 맛있었어요! 사실 고추뼈찜을 먹으러 간건데 점심 때는...      9\n",
       "3842      3842.0  입국 금지임에도 갈 수 있는 베트남이 이...      9\n",
       "3843      3843.0  덮밥에 함께 나오는 고기는 약간 매웠어요 그치만 적당히 잘구워져서 맛있었고, 밥에 ...      9\n",
       "3844      3844.0  베트남쌀국수가 너무 먹고싶어서 들린 을지깐깐\\n분위기는 힙지로답게 조명부터 해서 너...      9\n",
       "\n",
       "[72954 rows x 3 columns]"
      ]
     },
     "execution_count": 177,
     "metadata": {},
     "output_type": "execute_result"
    }
   ],
   "source": [
    "import pandas as pd\n",
    "df = pd.read_csv('C:/Users/ADMIN/Documents/수업파일/221228(Final)/라벨링완료/0. total_category.csv', encoding='utf-8',index_col=0)\n",
    "df"
   ]
  },
  {
   "cell_type": "code",
   "execution_count": 204,
   "id": "85998fc3",
   "metadata": {
    "scrolled": true
   },
   "outputs": [
    {
     "data": {
      "text/plain": [
       "Counter({1: 2448,\n",
       "         10: 2595,\n",
       "         11: 1312,\n",
       "         12: 2109,\n",
       "         13: 1893,\n",
       "         14: 4124,\n",
       "         15: 1767,\n",
       "         16: 2269,\n",
       "         17: 1195,\n",
       "         18: 4573,\n",
       "         19: 2321,\n",
       "         2: 2242,\n",
       "         20: 818,\n",
       "         21: 2973,\n",
       "         22: 3455,\n",
       "         23: 700,\n",
       "         24: 1308,\n",
       "         25: 3712,\n",
       "         26: 1567,\n",
       "         27: 3529,\n",
       "         28: 1079,\n",
       "         29: 3559,\n",
       "         3: 2891,\n",
       "         30: 1953,\n",
       "         4: 2839,\n",
       "         5: 825,\n",
       "         6: 2548,\n",
       "         7: 4131,\n",
       "         8: 2374,\n",
       "         9: 3845})"
      ]
     },
     "execution_count": 204,
     "metadata": {},
     "output_type": "execute_result"
    }
   ],
   "source": [
    "#라벨별 의도 개수 확인\n",
    "from collections import Counter\n",
    "Counter(df['label'])"
   ]
  },
  {
   "cell_type": "code",
   "execution_count": 178,
   "id": "a8847f5e",
   "metadata": {},
   "outputs": [
    {
     "data": {
      "text/plain": [
       "Unnamed: 0    6428\n",
       "reviews        127\n",
       "label            0\n",
       "dtype: int64"
      ]
     },
     "execution_count": 178,
     "metadata": {},
     "output_type": "execute_result"
    }
   ],
   "source": [
    "df.isnull().sum() # 컬럼별 결측치 확인"
   ]
  },
  {
   "cell_type": "code",
   "execution_count": 213,
   "id": "cd9f328e",
   "metadata": {},
   "outputs": [],
   "source": [
    "df = df.drop(['Unnamed: 0'], axis=1) #한번만 실행"
   ]
  },
  {
   "cell_type": "code",
   "execution_count": 214,
   "id": "514e3df6",
   "metadata": {},
   "outputs": [
    {
     "data": {
      "text/plain": [
       "reviews    127\n",
       "label        0\n",
       "dtype: int64"
      ]
     },
     "execution_count": 214,
     "metadata": {},
     "output_type": "execute_result"
    }
   ],
   "source": [
    "df.isnull().sum() # 컬럼별 결측치 확인"
   ]
  },
  {
   "cell_type": "code",
   "execution_count": 210,
   "id": "00900061",
   "metadata": {},
   "outputs": [],
   "source": [
    "# !pip install missingno"
   ]
  },
  {
   "cell_type": "code",
   "execution_count": 215,
   "id": "0a14b856",
   "metadata": {},
   "outputs": [
    {
     "data": {
      "image/png": "[encoded data removed]",
      "text/plain": [
       "<Figure size 1800x720 with 2 Axes>"
      ]
     },
     "metadata": {
      "needs_background": "light"
     },
     "output_type": "display_data"
    }
   ],
   "source": [
    "import missingno as msno\n",
    "import matplotlib.pyplot as plt\n",
    "\n",
    "msno.matrix(df)\n",
    "plt.show()"
   ]
  },
  {
   "cell_type": "markdown",
   "id": "74705b3e",
   "metadata": {},
   "source": [
    "* missingno 패키지를 사용하면 대규모의 데이터에서도 결측 데이터에 대한 시각화를 쉽게 할 수 있다. \n",
    "* matrix() 함수는 결측 데이터를 시각화하는 명령이다. 결측된 데이터는 흰색으로, 그렇지 않은 데이터는 검은색으로 나타난다. \n",
    "* 가장 오른쪽에 있는 것은 스파크라인(spark line)이라고 부르고, 각 행의 데이터 완성도를 표현한다."
   ]
  },
  {
   "cell_type": "code",
   "execution_count": 216,
   "id": "d88825a7",
   "metadata": {},
   "outputs": [
    {
     "data": {
      "image/png": "[encoded data removed]",
      "text/plain": [
       "<Figure size 1800x720 with 3 Axes>"
      ]
     },
     "metadata": {
      "needs_background": "light"
     },
     "output_type": "display_data"
    }
   ],
   "source": [
    "msno.bar(df) #각 열에 결측치가 얼마나 있는지 확인\n",
    "plt.show() "
   ]
  },
  {
   "cell_type": "code",
   "execution_count": 217,
   "id": "6a138623",
   "metadata": {
    "scrolled": true
   },
   "outputs": [
    {
     "name": "stdout",
     "output_type": "stream",
     "text": [
      "reviews의 결측치는 127 개 입니다.\n"
     ]
    }
   ],
   "source": [
    "print('reviews의 결측치는' ,72954 - 72827,'개 입니다.')"
   ]
  },
  {
   "cell_type": "code",
   "execution_count": 218,
   "id": "d06faf4e",
   "metadata": {
    "scrolled": true
   },
   "outputs": [
    {
     "data": {
      "text/html": [
       "<div>\n",
       "<style scoped>\n",
       "    .dataframe tbody tr th:only-of-type {\n",
       "        vertical-align: middle;\n",
       "    }\n",
       "\n",
       "    .dataframe tbody tr th {\n",
       "        vertical-align: top;\n",
       "    }\n",
       "\n",
       "    .dataframe thead th {\n",
       "        text-align: right;\n",
       "    }\n",
       "</style>\n",
       "<table border=\"1\" class=\"dataframe\">\n",
       "  <thead>\n",
       "    <tr style=\"text-align: right;\">\n",
       "      <th></th>\n",
       "      <th>reviews</th>\n",
       "      <th>label</th>\n",
       "    </tr>\n",
       "  </thead>\n",
       "  <tbody>\n",
       "    <tr>\n",
       "      <th>0</th>\n",
       "      <td>호반_한식주점부문 맛집(2)\\n\\n최초방문_’21년 12월\\n최근방문_’22년 11...</td>\n",
       "      <td>1</td>\n",
       "    </tr>\n",
       "    <tr>\n",
       "      <th>1</th>\n",
       "      <td>이번엔 도가니무침을 먹어보았는데 크기도 크고 양도 많았다. 맛도 딱 소주안주로 좋았...</td>\n",
       "      <td>1</td>\n",
       "    </tr>\n",
       "    <tr>\n",
       "      <th>2</th>\n",
       "      <td>#병어찜#순대#낙원동</td>\n",
       "      <td>1</td>\n",
       "    </tr>\n",
       "    <tr>\n",
       "      <th>3</th>\n",
       "      <td>여전히 종로3가에서 최고의 맛집은 호반이다. 우설수육은 정말 최고 미쳤다...</td>\n",
       "      <td>1</td>\n",
       "    </tr>\n",
       "    <tr>\n",
       "      <th>4</th>\n",
       "      <td>애정하는 종로 &lt;호반&gt;의 우거지국. 식사 메뉴이다\\n고기를 삶아내니 육수가 기본적으...</td>\n",
       "      <td>1</td>\n",
       "    </tr>\n",
       "    <tr>\n",
       "      <th>...</th>\n",
       "      <td>...</td>\n",
       "      <td>...</td>\n",
       "    </tr>\n",
       "    <tr>\n",
       "      <th>3840</th>\n",
       "      <td>쌀국수는 평범 덮밥은 괜찮아요</td>\n",
       "      <td>9</td>\n",
       "    </tr>\n",
       "    <tr>\n",
       "      <th>3841</th>\n",
       "      <td>#을지로 #베트남\\n분짜 정말 맛있었어요! 사실 고추뼈찜을 먹으러 간건데 점심 때는...</td>\n",
       "      <td>9</td>\n",
       "    </tr>\n",
       "    <tr>\n",
       "      <th>3842</th>\n",
       "      <td>입국 금지임에도 갈 수 있는 베트남이 이...</td>\n",
       "      <td>9</td>\n",
       "    </tr>\n",
       "    <tr>\n",
       "      <th>3843</th>\n",
       "      <td>덮밥에 함께 나오는 고기는 약간 매웠어요 그치만 적당히 잘구워져서 맛있었고, 밥에 ...</td>\n",
       "      <td>9</td>\n",
       "    </tr>\n",
       "    <tr>\n",
       "      <th>3844</th>\n",
       "      <td>베트남쌀국수가 너무 먹고싶어서 들린 을지깐깐\\n분위기는 힙지로답게 조명부터 해서 너...</td>\n",
       "      <td>9</td>\n",
       "    </tr>\n",
       "  </tbody>\n",
       "</table>\n",
       "<p>72827 rows × 2 columns</p>\n",
       "</div>"
      ],
      "text/plain": [
       "                                                reviews  label\n",
       "0     호반_한식주점부문 맛집(2)\\n\\n최초방문_’21년 12월\\n최근방문_’22년 11...      1\n",
       "1     이번엔 도가니무침을 먹어보았는데 크기도 크고 양도 많았다. 맛도 딱 소주안주로 좋았...      1\n",
       "2                                           #병어찜#순대#낙원동      1\n",
       "3           여전히 종로3가에서 최고의 맛집은 호반이다. 우설수육은 정말 최고 미쳤다...      1\n",
       "4     애정하는 종로 <호반>의 우거지국. 식사 메뉴이다\\n고기를 삶아내니 육수가 기본적으...      1\n",
       "...                                                 ...    ...\n",
       "3840                                   쌀국수는 평범 덮밥은 괜찮아요      9\n",
       "3841  #을지로 #베트남\\n분짜 정말 맛있었어요! 사실 고추뼈찜을 먹으러 간건데 점심 때는...      9\n",
       "3842  입국 금지임에도 갈 수 있는 베트남이 이...      9\n",
       "3843  덮밥에 함께 나오는 고기는 약간 매웠어요 그치만 적당히 잘구워져서 맛있었고, 밥에 ...      9\n",
       "3844  베트남쌀국수가 너무 먹고싶어서 들린 을지깐깐\\n분위기는 힙지로답게 조명부터 해서 너...      9\n",
       "\n",
       "[72827 rows x 2 columns]"
      ]
     },
     "execution_count": 218,
     "metadata": {},
     "output_type": "execute_result"
    }
   ],
   "source": [
    "df.dropna(axis=0) #결측치를 제거한 후 갯수확인 (아직 원본데이터에 씌우진않음)"
   ]
  },
  {
   "cell_type": "code",
   "execution_count": 219,
   "id": "a5c694f6",
   "metadata": {},
   "outputs": [
    {
     "data": {
      "text/html": [
       "<div>\n",
       "<style scoped>\n",
       "    .dataframe tbody tr th:only-of-type {\n",
       "        vertical-align: middle;\n",
       "    }\n",
       "\n",
       "    .dataframe tbody tr th {\n",
       "        vertical-align: top;\n",
       "    }\n",
       "\n",
       "    .dataframe thead th {\n",
       "        text-align: right;\n",
       "    }\n",
       "</style>\n",
       "<table border=\"1\" class=\"dataframe\">\n",
       "  <thead>\n",
       "    <tr style=\"text-align: right;\">\n",
       "      <th></th>\n",
       "      <th>reviews</th>\n",
       "      <th>label</th>\n",
       "    </tr>\n",
       "  </thead>\n",
       "  <tbody>\n",
       "    <tr>\n",
       "      <th>0</th>\n",
       "      <td>호반_한식주점부문 맛집(2)\\n\\n최초방문_’21년 12월\\n최근방문_’22년 11...</td>\n",
       "      <td>1</td>\n",
       "    </tr>\n",
       "    <tr>\n",
       "      <th>1</th>\n",
       "      <td>이번엔 도가니무침을 먹어보았는데 크기도 크고 양도 많았다. 맛도 딱 소주안주로 좋았...</td>\n",
       "      <td>1</td>\n",
       "    </tr>\n",
       "    <tr>\n",
       "      <th>2</th>\n",
       "      <td>#병어찜#순대#낙원동</td>\n",
       "      <td>1</td>\n",
       "    </tr>\n",
       "    <tr>\n",
       "      <th>3</th>\n",
       "      <td>여전히 종로3가에서 최고의 맛집은 호반이다. 우설수육은 정말 최고 미쳤다...</td>\n",
       "      <td>1</td>\n",
       "    </tr>\n",
       "    <tr>\n",
       "      <th>4</th>\n",
       "      <td>애정하는 종로 &lt;호반&gt;의 우거지국. 식사 메뉴이다\\n고기를 삶아내니 육수가 기본적으...</td>\n",
       "      <td>1</td>\n",
       "    </tr>\n",
       "    <tr>\n",
       "      <th>...</th>\n",
       "      <td>...</td>\n",
       "      <td>...</td>\n",
       "    </tr>\n",
       "    <tr>\n",
       "      <th>3840</th>\n",
       "      <td>쌀국수는 평범 덮밥은 괜찮아요</td>\n",
       "      <td>9</td>\n",
       "    </tr>\n",
       "    <tr>\n",
       "      <th>3841</th>\n",
       "      <td>#을지로 #베트남\\n분짜 정말 맛있었어요! 사실 고추뼈찜을 먹으러 간건데 점심 때는...</td>\n",
       "      <td>9</td>\n",
       "    </tr>\n",
       "    <tr>\n",
       "      <th>3842</th>\n",
       "      <td>입국 금지임에도 갈 수 있는 베트남이 이...</td>\n",
       "      <td>9</td>\n",
       "    </tr>\n",
       "    <tr>\n",
       "      <th>3843</th>\n",
       "      <td>덮밥에 함께 나오는 고기는 약간 매웠어요 그치만 적당히 잘구워져서 맛있었고, 밥에 ...</td>\n",
       "      <td>9</td>\n",
       "    </tr>\n",
       "    <tr>\n",
       "      <th>3844</th>\n",
       "      <td>베트남쌀국수가 너무 먹고싶어서 들린 을지깐깐\\n분위기는 힙지로답게 조명부터 해서 너...</td>\n",
       "      <td>9</td>\n",
       "    </tr>\n",
       "  </tbody>\n",
       "</table>\n",
       "<p>72827 rows × 2 columns</p>\n",
       "</div>"
      ],
      "text/plain": [
       "                                                reviews  label\n",
       "0     호반_한식주점부문 맛집(2)\\n\\n최초방문_’21년 12월\\n최근방문_’22년 11...      1\n",
       "1     이번엔 도가니무침을 먹어보았는데 크기도 크고 양도 많았다. 맛도 딱 소주안주로 좋았...      1\n",
       "2                                           #병어찜#순대#낙원동      1\n",
       "3           여전히 종로3가에서 최고의 맛집은 호반이다. 우설수육은 정말 최고 미쳤다...      1\n",
       "4     애정하는 종로 <호반>의 우거지국. 식사 메뉴이다\\n고기를 삶아내니 육수가 기본적으...      1\n",
       "...                                                 ...    ...\n",
       "3840                                   쌀국수는 평범 덮밥은 괜찮아요      9\n",
       "3841  #을지로 #베트남\\n분짜 정말 맛있었어요! 사실 고추뼈찜을 먹으러 간건데 점심 때는...      9\n",
       "3842  입국 금지임에도 갈 수 있는 베트남이 이...      9\n",
       "3843  덮밥에 함께 나오는 고기는 약간 매웠어요 그치만 적당히 잘구워져서 맛있었고, 밥에 ...      9\n",
       "3844  베트남쌀국수가 너무 먹고싶어서 들린 을지깐깐\\n분위기는 힙지로답게 조명부터 해서 너...      9\n",
       "\n",
       "[72827 rows x 2 columns]"
      ]
     },
     "execution_count": 219,
     "metadata": {},
     "output_type": "execute_result"
    }
   ],
   "source": [
    "df = df.dropna(axis=0)\n",
    "df #한번만 실행할것"
   ]
  },
  {
   "cell_type": "code",
   "execution_count": 220,
   "id": "9503b3da",
   "metadata": {},
   "outputs": [
    {
     "name": "stdout",
     "output_type": "stream",
     "text": [
      "<class 'pandas.core.frame.DataFrame'>\n",
      "Int64Index: 72827 entries, 0 to 3844\n",
      "Data columns (total 2 columns):\n",
      " #   Column   Non-Null Count  Dtype \n",
      "---  ------   --------------  ----- \n",
      " 0   reviews  72827 non-null  object\n",
      " 1   label    72827 non-null  int64 \n",
      "dtypes: int64(1), object(1)\n",
      "memory usage: 1.7+ MB\n"
     ]
    }
   ],
   "source": [
    "df.info()\n",
    "# label이 이미 int64로 작업하지 않아도 되지만 만약 object라면\n",
    "# df['label'] = df['label'].astype('int64') 이런식으로 바꾸기"
   ]
  },
  {
   "cell_type": "code",
   "execution_count": 227,
   "id": "d873dc25",
   "metadata": {},
   "outputs": [
    {
     "data": {
      "text/plain": [
       "0       호반_한식주점부문 맛집 2   최초방문_ 21년 12월 최근방문_ 22년 11월  ...\n",
       "1       이번엔 도가니무침을 먹어보았는데 크기도 크고 양도 많았다  맛도 딱 소주안주로 좋았...\n",
       "2                                              병어찜 순대 낙원동\n",
       "3             여전히 종로3가에서 최고의 맛집은 호반이다  우설수육은 정말 최고 미쳤다   \n",
       "4       애정하는 종로  호반 의 우거지국  식사 메뉴이다 고기를 삶아내니 육수가 기본적으로...\n",
       "                              ...                        \n",
       "3840                                     쌀국수는 평범 덮밥은 괜찮아요\n",
       "3841     을지로  베트남 분짜 정말 맛있었어요  사실 고추뼈찜을 먹으러 간건데 점심 때는 ...\n",
       "3842    입국 금지임에도 갈 수 있는 베트남이 이...\n",
       "3843    덮밥에 함께 나오는 고기는 약간 매웠어요 그치만 적당히 잘구워져서 맛있었고  밥에 ...\n",
       "3844    베트남쌀국수가 너무 먹고싶어서 들린 을지깐깐 분위기는 힙지로답게 조명부터 해서 너무...\n",
       "Name: reviews, Length: 72827, dtype: object"
      ]
     },
     "execution_count": 227,
     "metadata": {},
     "output_type": "execute_result"
    }
   ],
   "source": [
    "#참고 주소: https://seong6496.tistory.com/242\n",
    "df['reviews'].str[0:]\n",
    "\n",
    "# 컬럼.str은 문자열이면서 동시에 Series입니다.\n",
    "# 따라서 replace를 적용이 가능합니다.\n",
    "\n",
    "df['reviews'] = df['reviews'].str.replace(pat=r'[^\\w]',repl=r' ',regex=True) #\n",
    "df['reviews']"
   ]
  },
  {
   "cell_type": "code",
   "execution_count": 228,
   "id": "14a3020c",
   "metadata": {},
   "outputs": [
    {
     "data": {
      "image/png": "[encoded data removed]",
      "text/plain": [
       "<Figure size 1800x720 with 2 Axes>"
      ]
     },
     "metadata": {
      "needs_background": "light"
     },
     "output_type": "display_data"
    }
   ],
   "source": [
    "msno.matrix(df)\n",
    "plt.show()\n",
    "# 결측치가 제거 된 것을 확인할 수 있다."
   ]
  },
  {
   "cell_type": "code",
   "execution_count": 229,
   "id": "c5d3dd7d",
   "metadata": {},
   "outputs": [
    {
     "data": {
      "image/png": "[encoded data removed]",
      "text/plain": [
       "<Figure size 1800x720 with 3 Axes>"
      ]
     },
     "metadata": {
      "needs_background": "light"
     },
     "output_type": "display_data"
    }
   ],
   "source": [
    "msno.bar(df) #각 열에 결측치가 얼마나 있는지 확인\n",
    "plt.show() "
   ]
  },
  {
   "cell_type": "code",
   "execution_count": 230,
   "id": "1db3c1d9",
   "metadata": {},
   "outputs": [],
   "source": [
    "df.to_csv(\"clean_total_crawling.csv\") #데이터 저장"
   ]
  },
  {
   "cell_type": "code",
   "execution_count": 231,
   "id": "761f7c34",
   "metadata": {},
   "outputs": [
    {
     "data": {
      "text/html": [
       "<div>\n",
       "<style scoped>\n",
       "    .dataframe tbody tr th:only-of-type {\n",
       "        vertical-align: middle;\n",
       "    }\n",
       "\n",
       "    .dataframe tbody tr th {\n",
       "        vertical-align: top;\n",
       "    }\n",
       "\n",
       "    .dataframe thead th {\n",
       "        text-align: right;\n",
       "    }\n",
       "</style>\n",
       "<table border=\"1\" class=\"dataframe\">\n",
       "  <thead>\n",
       "    <tr style=\"text-align: right;\">\n",
       "      <th></th>\n",
       "      <th>reviews</th>\n",
       "      <th>label</th>\n",
       "    </tr>\n",
       "  </thead>\n",
       "  <tbody>\n",
       "    <tr>\n",
       "      <th>0</th>\n",
       "      <td>호반_한식주점부문 맛집 2   최초방문_ 21년 12월 최근방문_ 22년 11월  ...</td>\n",
       "      <td>1</td>\n",
       "    </tr>\n",
       "    <tr>\n",
       "      <th>1</th>\n",
       "      <td>이번엔 도가니무침을 먹어보았는데 크기도 크고 양도 많았다  맛도 딱 소주안주로 좋았...</td>\n",
       "      <td>1</td>\n",
       "    </tr>\n",
       "    <tr>\n",
       "      <th>2</th>\n",
       "      <td>병어찜 순대 낙원동</td>\n",
       "      <td>1</td>\n",
       "    </tr>\n",
       "    <tr>\n",
       "      <th>3</th>\n",
       "      <td>여전히 종로3가에서 최고의 맛집은 호반이다  우설수육은 정말 최고 미쳤다</td>\n",
       "      <td>1</td>\n",
       "    </tr>\n",
       "    <tr>\n",
       "      <th>4</th>\n",
       "      <td>애정하는 종로  호반 의 우거지국  식사 메뉴이다 고기를 삶아내니 육수가 기본적으로...</td>\n",
       "      <td>1</td>\n",
       "    </tr>\n",
       "    <tr>\n",
       "      <th>...</th>\n",
       "      <td>...</td>\n",
       "      <td>...</td>\n",
       "    </tr>\n",
       "    <tr>\n",
       "      <th>3840</th>\n",
       "      <td>쌀국수는 평범 덮밥은 괜찮아요</td>\n",
       "      <td>9</td>\n",
       "    </tr>\n",
       "    <tr>\n",
       "      <th>3841</th>\n",
       "      <td>을지로  베트남 분짜 정말 맛있었어요  사실 고추뼈찜을 먹으러 간건데 점심 때는 ...</td>\n",
       "      <td>9</td>\n",
       "    </tr>\n",
       "    <tr>\n",
       "      <th>3842</th>\n",
       "      <td>입국 금지임에도 갈 수 있는 베트남이 이...</td>\n",
       "      <td>9</td>\n",
       "    </tr>\n",
       "    <tr>\n",
       "      <th>3843</th>\n",
       "      <td>덮밥에 함께 나오는 고기는 약간 매웠어요 그치만 적당히 잘구워져서 맛있었고  밥에 ...</td>\n",
       "      <td>9</td>\n",
       "    </tr>\n",
       "    <tr>\n",
       "      <th>3844</th>\n",
       "      <td>베트남쌀국수가 너무 먹고싶어서 들린 을지깐깐 분위기는 힙지로답게 조명부터 해서 너무...</td>\n",
       "      <td>9</td>\n",
       "    </tr>\n",
       "  </tbody>\n",
       "</table>\n",
       "<p>72827 rows × 2 columns</p>\n",
       "</div>"
      ],
      "text/plain": [
       "                                                reviews  label\n",
       "0     호반_한식주점부문 맛집 2   최초방문_ 21년 12월 최근방문_ 22년 11월  ...      1\n",
       "1     이번엔 도가니무침을 먹어보았는데 크기도 크고 양도 많았다  맛도 딱 소주안주로 좋았...      1\n",
       "2                                            병어찜 순대 낙원동      1\n",
       "3           여전히 종로3가에서 최고의 맛집은 호반이다  우설수육은 정말 최고 미쳤다         1\n",
       "4     애정하는 종로  호반 의 우거지국  식사 메뉴이다 고기를 삶아내니 육수가 기본적으로...      1\n",
       "...                                                 ...    ...\n",
       "3840                                   쌀국수는 평범 덮밥은 괜찮아요      9\n",
       "3841   을지로  베트남 분짜 정말 맛있었어요  사실 고추뼈찜을 먹으러 간건데 점심 때는 ...      9\n",
       "3842  입국 금지임에도 갈 수 있는 베트남이 이...      9\n",
       "3843  덮밥에 함께 나오는 고기는 약간 매웠어요 그치만 적당히 잘구워져서 맛있었고  밥에 ...      9\n",
       "3844  베트남쌀국수가 너무 먹고싶어서 들린 을지깐깐 분위기는 힙지로답게 조명부터 해서 너무...      9\n",
       "\n",
       "[72827 rows x 2 columns]"
      ]
     },
     "execution_count": 231,
     "metadata": {},
     "output_type": "execute_result"
    }
   ],
   "source": [
    "# 데이터확인\n",
    "import pandas as pd\n",
    "df = pd.read_csv('C:/Users/ADMIN/Documents/수업파일/221228(Final)/전처리단계/3.결측치,불용어제거/clean_total_crawling.csv', encoding='utf-8',index_col=0)\n",
    "df"
   ]
  }
 ],
 "metadata": {
  "kernelspec": {
   "display_name": "Python 3 (ipykernel)",
   "language": "python",
   "name": "python3"
  },
  "language_info": {
   "codemirror_mode": {
    "name": "ipython",
    "version": 3
   },
   "file_extension": ".py",
   "mimetype": "text/x-python",
   "name": "python",
   "nbconvert_exporter": "python",
   "pygments_lexer": "ipython3",
   "version": "3.9.12"
  }
 },
 "nbformat": 4,
 "nbformat_minor": 5
}
