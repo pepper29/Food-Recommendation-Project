{
 "cells": [
  {
   "cell_type": "code",
   "execution_count": 1,
   "id": "144c528c",
   "metadata": {},
   "outputs": [],
   "source": [
    "import pandas as pd\n",
    "import numpy as np\n",
    "from kss import split_sentences\n",
    "from pykospacing import Spacing\n",
    "from hanspell import spell_checker\n",
    "from konlpy.tag import Okt, Kkma, Hannanum, Komoran, Mecab\n",
    "import re\n",
    "from textrankr import TextRank\n",
    "import matplotlib.pyplot as plt"
   ]
  },
  {
   "cell_type": "markdown",
   "id": "c842717c",
   "metadata": {},
   "source": [
    "### Dataset all load (학습데이터 제작)\n",
    " 1. 전체 데이터 합침\n",
    " 2. NULL 제거 (title 기준)\n",
    " 3. 중복값 제거"
   ]
  },
  {
   "cell_type": "code",
   "execution_count": 123,
   "id": "0a30ab74",
   "metadata": {
    "scrolled": false
   },
   "outputs": [],
   "source": [
    "file = pd.read_csv('title1.csv', encoding = 'utf-8-sig', names = ['Keyword'])\n",
    "\n",
    "data=pd.DataFrame()\n",
    "for name in file['Keyword']:\n",
    "    try:\n",
    "        temp = pd.read_csv(\"dataset/\"+name + '.csv', encoding = 'utf-8-sig')\n",
    "        if len(temp.columns)>9: # error 파일 체크\n",
    "            print('col error:',name)\n",
    "        if 'keyword' not in temp.columns:\n",
    "            print('keyword error:',name)\n",
    "        data=pd.concat([data,temp], ignore_index=True, axis=0)\n",
    "    except:\n",
    "        print('없는 파일:',name)"
   ]
  },
  {
   "cell_type": "code",
   "execution_count": 124,
   "id": "88c4c0a9",
   "metadata": {
    "scrolled": true
   },
   "outputs": [
    {
     "data": {
      "text/plain": [
       "Index(['Q_title', 'Q_content', 'A_content_1', 'A_content_2', 'A_content_3',\n",
       "       'A_content_4', 'A_content_5', 'keyword', 'A_content_6'],\n",
       "      dtype='object')"
      ]
     },
     "execution_count": 124,
     "metadata": {},
     "output_type": "execute_result"
    }
   ],
   "source": [
    "data.columns"
   ]
  },
  {
   "cell_type": "code",
   "execution_count": 125,
   "id": "cb92f877",
   "metadata": {
    "scrolled": true
   },
   "outputs": [
    {
     "data": {
      "text/plain": [
       "False"
      ]
     },
     "execution_count": 125,
     "metadata": {},
     "output_type": "execute_result"
    }
   ],
   "source": [
    "data['keyword'].isnull()[0]"
   ]
  },
  {
   "cell_type": "code",
   "execution_count": 126,
   "id": "eb7447cc",
   "metadata": {},
   "outputs": [],
   "source": [
    "data=data.dropna(subset=['Q_title']).reset_index(drop=True)"
   ]
  },
  {
   "cell_type": "code",
   "execution_count": 127,
   "id": "2c8c4dec",
   "metadata": {
    "scrolled": true
   },
   "outputs": [
    {
     "data": {
      "text/html": [
       "<div>\n",
       "<style scoped>\n",
       "    .dataframe tbody tr th:only-of-type {\n",
       "        vertical-align: middle;\n",
       "    }\n",
       "\n",
       "    .dataframe tbody tr th {\n",
       "        vertical-align: top;\n",
       "    }\n",
       "\n",
       "    .dataframe thead th {\n",
       "        text-align: right;\n",
       "    }\n",
       "</style>\n",
       "<table border=\"1\" class=\"dataframe\">\n",
       "  <thead>\n",
       "    <tr style=\"text-align: right;\">\n",
       "      <th></th>\n",
       "      <th>Q_title</th>\n",
       "      <th>Q_content</th>\n",
       "      <th>A_content_1</th>\n",
       "      <th>A_content_2</th>\n",
       "      <th>A_content_3</th>\n",
       "      <th>A_content_4</th>\n",
       "      <th>A_content_5</th>\n",
       "      <th>keyword</th>\n",
       "      <th>A_content_6</th>\n",
       "    </tr>\n",
       "  </thead>\n",
       "  <tbody>\n",
       "    <tr>\n",
       "      <th>0</th>\n",
       "      <td>강아지 불리불안…..강아지가 우리가 집에서 나갈때마다 심하게 짖으면서 우리 다리를 ...</td>\n",
       "      <td>NaN</td>\n",
       "      <td>산책은 매일매일 시켜 주시고, 출근하는 분이라면 아침에 나가기 전에 산책시...</td>\n",
       "      <td>2일에 한번은 자주가 아닙니다.</td>\n",
       "      <td>강아지를 힘들게 하는 분리불안증 입니다. 안녕하세요. 저는 동물심리전문가이...</td>\n",
       "      <td>강아지불리불안증의 원인은 여러가지가 있습니다.  주인과 강아지간 서열정리가...</td>\n",
       "      <td>NaN</td>\n",
       "      <td>강아지 장애</td>\n",
       "      <td>NaN</td>\n",
       "    </tr>\n",
       "    <tr>\n",
       "      <th>1</th>\n",
       "      <td>분리불안 강아지 제가 공원에 버려져있는 강아지를 키우는 한 고등학생입니다버려져있는 ...</td>\n",
       "      <td>NaN</td>\n",
       "      <td>안녕하세요.인터파크펫 반려동물 전문 톡집사 입니다. 개인적인 경험으로, 분리불안은 ...</td>\n",
       "      <td>다른 답변 여러가지 듣는것 보다 유튜브에서 강형욱씨 영상 찾아서 분리불안 고치세요</td>\n",
       "      <td>유튜브에 \"세상에 나쁜 개는 없다\"에 분리불안 치면 강아지 교육하는 것도 나와있으니...</td>\n",
       "      <td>분리불안증세 맞습니다. 우선 제가 운영하는 블로그와 포스트에 관련포스팅 링크 걸어...</td>\n",
       "      <td>NaN</td>\n",
       "      <td>강아지 장애</td>\n",
       "      <td>NaN</td>\n",
       "    </tr>\n",
       "    <tr>\n",
       "      <th>2</th>\n",
       "      <td>불리불안 강아지</td>\n",
       "      <td>1.불리불안이 심한 강아지 종류는 뭔가요?? 2.불리불안 강아지 종류는 다 불리불안...</td>\n",
       "      <td>분리불안은 견종과 관계없이 타고난 성격과 주거 환경, 견주나 가족들의 보육...</td>\n",
       "      <td>우선 1,2번에 대해서 말씀드리자면 분리불안은 강아지 종류가 아니라 강아지...</td>\n",
       "      <td>NaN</td>\n",
       "      <td>NaN</td>\n",
       "      <td>NaN</td>\n",
       "      <td>강아지 장애</td>\n",
       "      <td>NaN</td>\n",
       "    </tr>\n",
       "    <tr>\n",
       "      <th>3</th>\n",
       "      <td>분리불안강아지 잠자리분리 질문이용</td>\n",
       "      <td>진도믹스 세살 제가 외출하면 하울링을 해서분리불안 훈련중인데하우스훈련이랑잠자리도 분...</td>\n",
       "      <td>근데 잠자리분리 훈련시에 제 침대에 올라오는것을아예 못하게해야하나요? 잘때...</td>\n",
       "      <td>안녕하세요.천만 반려인과 함께하는 애견 동반 여행 플랫폼 하트독 입니다. ...</td>\n",
       "      <td>NaN</td>\n",
       "      <td>NaN</td>\n",
       "      <td>NaN</td>\n",
       "      <td>강아지 장애</td>\n",
       "      <td>NaN</td>\n",
       "    </tr>\n",
       "    <tr>\n",
       "      <th>4</th>\n",
       "      <td>분리불안 강아지와 새로운 강아지</td>\n",
       "      <td>4년 동안 고양이와 같이 살았던 강아지가 고양이랑 떨어지면서 분리불안이 생긴 것 같...</td>\n",
       "      <td>이사하고 스트레스를 보이는 강아지죠?지금 그 아이도 적응해야 하는데.. 새...</td>\n",
       "      <td>강아지 한 마리 더 키우기 안녕하세요. 저는 동물심리 전문가이며 애견훈련...</td>\n",
       "      <td>NaN</td>\n",
       "      <td>NaN</td>\n",
       "      <td>NaN</td>\n",
       "      <td>강아지 장애</td>\n",
       "      <td>NaN</td>\n",
       "    </tr>\n",
       "    <tr>\n",
       "      <th>...</th>\n",
       "      <td>...</td>\n",
       "      <td>...</td>\n",
       "      <td>...</td>\n",
       "      <td>...</td>\n",
       "      <td>...</td>\n",
       "      <td>...</td>\n",
       "      <td>...</td>\n",
       "      <td>...</td>\n",
       "      <td>...</td>\n",
       "    </tr>\n",
       "    <tr>\n",
       "      <th>86528</th>\n",
       "      <td>강아지가 심하게 많이 설사를 해요~</td>\n",
       "      <td>병원에 가서 분변세균도말검사랑 파보장염검사랑 Giardia분변검사를 다 해봤거든요~...</td>\n",
       "      <td>1.맨 윗부분에 써있는 약을 먹었는데도 왜설사가 점점 심해지는지...한방울 싸고 3...</td>\n",
       "      <td>1.기생충약을 먹이셨을때.. 설사하는 경우가 있읍니다. - 말하자면 안에 있는 모든...</td>\n",
       "      <td>혹시 장염이 아닐까요~?아직 아기강아지가 설사를 하면 그건 큰일이거든요!첫번째로~ ...</td>\n",
       "      <td>NaN</td>\n",
       "      <td>NaN</td>\n",
       "      <td>핥는 강아지</td>\n",
       "      <td>NaN</td>\n",
       "    </tr>\n",
       "    <tr>\n",
       "      <th>86529</th>\n",
       "      <td>강아지 얼굴 상처저희 강아지가 땅바닥이나 손 핥는 걸 좋아하는데 오늘 보니 얼굴 왼...</td>\n",
       "      <td>NaN</td>\n",
       "      <td>안녕하세요. 부천 하모니동물병원 원장 하모니카입니다.설명 내용과 사진만 보면서 추정...</td>\n",
       "      <td>NaN</td>\n",
       "      <td>NaN</td>\n",
       "      <td>NaN</td>\n",
       "      <td>NaN</td>\n",
       "      <td>핥는 강아지</td>\n",
       "      <td>NaN</td>\n",
       "    </tr>\n",
       "    <tr>\n",
       "      <th>86530</th>\n",
       "      <td>새끼강아지가 자꾸 달려들어요.</td>\n",
       "      <td>2개월 말티즈 키우고있습니다. 가끔씩 제 다리위에서 자기도 하고 제가 무릎꿇고있으면...</td>\n",
       "      <td>안녕하세요.천만 반려인과 함께하는 애견 동반 여행 플랫폼 하트독 입니다. ...</td>\n",
       "      <td>아기 강아지 들은 이갈이를 하기 때문에그런걸수도 있습니다.저도 정확한 시기...</td>\n",
       "      <td>NaN</td>\n",
       "      <td>NaN</td>\n",
       "      <td>NaN</td>\n",
       "      <td>핥는 강아지</td>\n",
       "      <td>NaN</td>\n",
       "    </tr>\n",
       "    <tr>\n",
       "      <th>86531</th>\n",
       "      <td>강아지 발바닥에 뭔가요?</td>\n",
       "      <td>강아지가 매일 발바닥을 핥아요 5분정도 계속 끊임없이 핥더라구요 그래서 발바닥 봤는...</td>\n",
       "      <td>상처가 있거나 할 수 있습니다. 자세히 살펴 보시고요 혹 가시같은게 박혀있...</td>\n",
       "      <td>강아지가 발을 햝거나 물어뜯어면 뭐가 박혀 있거나 그게 아니면 습진 문제일...</td>\n",
       "      <td>불편한가 본데요? 계속 핥을시 습진이 생길 수 있습니다.</td>\n",
       "      <td>NaN</td>\n",
       "      <td>NaN</td>\n",
       "      <td>핥는 강아지</td>\n",
       "      <td>NaN</td>\n",
       "    </tr>\n",
       "    <tr>\n",
       "      <th>86532</th>\n",
       "      <td>강아지가 입술을 자꾸 핥아요</td>\n",
       "      <td>자는 엄마 입술을 맨날 핥습니다 맨날 혼내고 때려봐도 소용없습니다.지가 잘못한건 또...</td>\n",
       "      <td>강아지에게 핥는것은 맛보는것 그 이상의 의미도 있답니다.호감이나 친밀함의 표현, 즉...</td>\n",
       "      <td>NaN</td>\n",
       "      <td>NaN</td>\n",
       "      <td>NaN</td>\n",
       "      <td>NaN</td>\n",
       "      <td>핥는 강아지</td>\n",
       "      <td>NaN</td>\n",
       "    </tr>\n",
       "  </tbody>\n",
       "</table>\n",
       "<p>86533 rows × 9 columns</p>\n",
       "</div>"
      ],
      "text/plain": [
       "                                                 Q_title  \\\n",
       "0      강아지 불리불안…..강아지가 우리가 집에서 나갈때마다 심하게 짖으면서 우리 다리를 ...   \n",
       "1      분리불안 강아지 제가 공원에 버려져있는 강아지를 키우는 한 고등학생입니다버려져있는 ...   \n",
       "2                                               불리불안 강아지   \n",
       "3                                     분리불안강아지 잠자리분리 질문이용   \n",
       "4                                      분리불안 강아지와 새로운 강아지   \n",
       "...                                                  ...   \n",
       "86528                                강아지가 심하게 많이 설사를 해요~   \n",
       "86529  강아지 얼굴 상처저희 강아지가 땅바닥이나 손 핥는 걸 좋아하는데 오늘 보니 얼굴 왼...   \n",
       "86530                                   새끼강아지가 자꾸 달려들어요.   \n",
       "86531                                      강아지 발바닥에 뭔가요?   \n",
       "86532                                    강아지가 입술을 자꾸 핥아요   \n",
       "\n",
       "                                               Q_content  \\\n",
       "0                                                    NaN   \n",
       "1                                                    NaN   \n",
       "2      1.불리불안이 심한 강아지 종류는 뭔가요?? 2.불리불안 강아지 종류는 다 불리불안...   \n",
       "3      진도믹스 세살 제가 외출하면 하울링을 해서분리불안 훈련중인데하우스훈련이랑잠자리도 분...   \n",
       "4      4년 동안 고양이와 같이 살았던 강아지가 고양이랑 떨어지면서 분리불안이 생긴 것 같...   \n",
       "...                                                  ...   \n",
       "86528  병원에 가서 분변세균도말검사랑 파보장염검사랑 Giardia분변검사를 다 해봤거든요~...   \n",
       "86529                                                NaN   \n",
       "86530  2개월 말티즈 키우고있습니다. 가끔씩 제 다리위에서 자기도 하고 제가 무릎꿇고있으면...   \n",
       "86531  강아지가 매일 발바닥을 핥아요 5분정도 계속 끊임없이 핥더라구요 그래서 발바닥 봤는...   \n",
       "86532  자는 엄마 입술을 맨날 핥습니다 맨날 혼내고 때려봐도 소용없습니다.지가 잘못한건 또...   \n",
       "\n",
       "                                             A_content_1  \\\n",
       "0           산책은 매일매일 시켜 주시고, 출근하는 분이라면 아침에 나가기 전에 산책시...   \n",
       "1      안녕하세요.인터파크펫 반려동물 전문 톡집사 입니다. 개인적인 경험으로, 분리불안은 ...   \n",
       "2           분리불안은 견종과 관계없이 타고난 성격과 주거 환경, 견주나 가족들의 보육...   \n",
       "3           근데 잠자리분리 훈련시에 제 침대에 올라오는것을아예 못하게해야하나요? 잘때...   \n",
       "4           이사하고 스트레스를 보이는 강아지죠?지금 그 아이도 적응해야 하는데.. 새...   \n",
       "...                                                  ...   \n",
       "86528  1.맨 윗부분에 써있는 약을 먹었는데도 왜설사가 점점 심해지는지...한방울 싸고 3...   \n",
       "86529  안녕하세요. 부천 하모니동물병원 원장 하모니카입니다.설명 내용과 사진만 보면서 추정...   \n",
       "86530       안녕하세요.천만 반려인과 함께하는 애견 동반 여행 플랫폼 하트독 입니다. ...   \n",
       "86531       상처가 있거나 할 수 있습니다. 자세히 살펴 보시고요 혹 가시같은게 박혀있...   \n",
       "86532  강아지에게 핥는것은 맛보는것 그 이상의 의미도 있답니다.호감이나 친밀함의 표현, 즉...   \n",
       "\n",
       "                                             A_content_2  \\\n",
       "0                                 2일에 한번은 자주가 아닙니다.        \n",
       "1          다른 답변 여러가지 듣는것 보다 유튜브에서 강형욱씨 영상 찾아서 분리불안 고치세요   \n",
       "2           우선 1,2번에 대해서 말씀드리자면 분리불안은 강아지 종류가 아니라 강아지...   \n",
       "3           안녕하세요.천만 반려인과 함께하는 애견 동반 여행 플랫폼 하트독 입니다. ...   \n",
       "4            강아지 한 마리 더 키우기 안녕하세요. 저는 동물심리 전문가이며 애견훈련...   \n",
       "...                                                  ...   \n",
       "86528  1.기생충약을 먹이셨을때.. 설사하는 경우가 있읍니다. - 말하자면 안에 있는 모든...   \n",
       "86529                                                NaN   \n",
       "86530       아기 강아지 들은 이갈이를 하기 때문에그런걸수도 있습니다.저도 정확한 시기...   \n",
       "86531       강아지가 발을 햝거나 물어뜯어면 뭐가 박혀 있거나 그게 아니면 습진 문제일...   \n",
       "86532                                                NaN   \n",
       "\n",
       "                                             A_content_3  \\\n",
       "0           강아지를 힘들게 하는 분리불안증 입니다. 안녕하세요. 저는 동물심리전문가이...   \n",
       "1      유튜브에 \"세상에 나쁜 개는 없다\"에 분리불안 치면 강아지 교육하는 것도 나와있으니...   \n",
       "2                                                    NaN   \n",
       "3                                                    NaN   \n",
       "4                                                    NaN   \n",
       "...                                                  ...   \n",
       "86528  혹시 장염이 아닐까요~?아직 아기강아지가 설사를 하면 그건 큰일이거든요!첫번째로~ ...   \n",
       "86529                                                NaN   \n",
       "86530                                                NaN   \n",
       "86531            불편한가 본데요? 계속 핥을시 습진이 생길 수 있습니다.           \n",
       "86532                                                NaN   \n",
       "\n",
       "                                             A_content_4 A_content_5 keyword  \\\n",
       "0           강아지불리불안증의 원인은 여러가지가 있습니다.  주인과 강아지간 서열정리가...         NaN  강아지 장애   \n",
       "1       분리불안증세 맞습니다. 우선 제가 운영하는 블로그와 포스트에 관련포스팅 링크 걸어...         NaN  강아지 장애   \n",
       "2                                                    NaN         NaN  강아지 장애   \n",
       "3                                                    NaN         NaN  강아지 장애   \n",
       "4                                                    NaN         NaN  강아지 장애   \n",
       "...                                                  ...         ...     ...   \n",
       "86528                                                NaN         NaN  핥는 강아지   \n",
       "86529                                                NaN         NaN  핥는 강아지   \n",
       "86530                                                NaN         NaN  핥는 강아지   \n",
       "86531                                                NaN         NaN  핥는 강아지   \n",
       "86532                                                NaN         NaN  핥는 강아지   \n",
       "\n",
       "      A_content_6  \n",
       "0             NaN  \n",
       "1             NaN  \n",
       "2             NaN  \n",
       "3             NaN  \n",
       "4             NaN  \n",
       "...           ...  \n",
       "86528         NaN  \n",
       "86529         NaN  \n",
       "86530         NaN  \n",
       "86531         NaN  \n",
       "86532         NaN  \n",
       "\n",
       "[86533 rows x 9 columns]"
      ]
     },
     "execution_count": 127,
     "metadata": {},
     "output_type": "execute_result"
    }
   ],
   "source": [
    "data"
   ]
  },
  {
   "cell_type": "code",
   "execution_count": 128,
   "id": "cd892130",
   "metadata": {
    "scrolled": true
   },
   "outputs": [
    {
     "name": "stdout",
     "output_type": "stream",
     "text": [
      "<class 'pandas.core.frame.DataFrame'>\n",
      "RangeIndex: 86533 entries, 0 to 86532\n",
      "Data columns (total 9 columns):\n",
      " #   Column       Non-Null Count  Dtype \n",
      "---  ------       --------------  ----- \n",
      " 0   Q_title      86533 non-null  object\n",
      " 1   Q_content    78193 non-null  object\n",
      " 2   A_content_1  86519 non-null  object\n",
      " 3   A_content_2  56718 non-null  object\n",
      " 4   A_content_3  33703 non-null  object\n",
      " 5   A_content_4  19159 non-null  object\n",
      " 6   A_content_5  10532 non-null  object\n",
      " 7   keyword      86533 non-null  object\n",
      " 8   A_content_6  2 non-null      object\n",
      "dtypes: object(9)\n",
      "memory usage: 5.9+ MB\n"
     ]
    }
   ],
   "source": [
    "data.info()"
   ]
  },
  {
   "cell_type": "code",
   "execution_count": 129,
   "id": "44be3a35",
   "metadata": {},
   "outputs": [],
   "source": [
    "# 1:1 대응을 위해 A_content_1 개수로 맞추기\n",
    "data=data.dropna(subset=['A_content_1']).reset_index(drop=True)"
   ]
  },
  {
   "cell_type": "code",
   "execution_count": 130,
   "id": "907fedfb",
   "metadata": {},
   "outputs": [
    {
     "name": "stdout",
     "output_type": "stream",
     "text": [
      "<class 'pandas.core.frame.DataFrame'>\n",
      "RangeIndex: 86519 entries, 0 to 86518\n",
      "Data columns (total 9 columns):\n",
      " #   Column       Non-Null Count  Dtype \n",
      "---  ------       --------------  ----- \n",
      " 0   Q_title      86519 non-null  object\n",
      " 1   Q_content    78180 non-null  object\n",
      " 2   A_content_1  86519 non-null  object\n",
      " 3   A_content_2  56711 non-null  object\n",
      " 4   A_content_3  33698 non-null  object\n",
      " 5   A_content_4  19155 non-null  object\n",
      " 6   A_content_5  10529 non-null  object\n",
      " 7   keyword      86519 non-null  object\n",
      " 8   A_content_6  2 non-null      object\n",
      "dtypes: object(9)\n",
      "memory usage: 5.9+ MB\n"
     ]
    }
   ],
   "source": [
    "data.info()"
   ]
  },
  {
   "cell_type": "code",
   "execution_count": 131,
   "id": "8b4f7814",
   "metadata": {
    "scrolled": true
   },
   "outputs": [
    {
     "data": {
      "text/plain": [
       "11201"
      ]
     },
     "execution_count": 131,
     "metadata": {},
     "output_type": "execute_result"
    }
   ],
   "source": [
    "# 중복되는 데이터 지우기(한 행의 모든 열이 같으면..)\n",
    "data.duplicated(data.columns).sum()"
   ]
  },
  {
   "cell_type": "code",
   "execution_count": 132,
   "id": "acf6ee71",
   "metadata": {},
   "outputs": [],
   "source": [
    "data=data.drop_duplicates(data.columns, keep='first').reset_index(drop=True)"
   ]
  },
  {
   "cell_type": "code",
   "execution_count": 133,
   "id": "c652a4b8",
   "metadata": {
    "scrolled": true
   },
   "outputs": [
    {
     "name": "stdout",
     "output_type": "stream",
     "text": [
      "<class 'pandas.core.frame.DataFrame'>\n",
      "RangeIndex: 75318 entries, 0 to 75317\n",
      "Data columns (total 9 columns):\n",
      " #   Column       Non-Null Count  Dtype \n",
      "---  ------       --------------  ----- \n",
      " 0   Q_title      75318 non-null  object\n",
      " 1   Q_content    67842 non-null  object\n",
      " 2   A_content_1  75318 non-null  object\n",
      " 3   A_content_2  45783 non-null  object\n",
      " 4   A_content_3  25631 non-null  object\n",
      " 5   A_content_4  13922 non-null  object\n",
      " 6   A_content_5  7454 non-null   object\n",
      " 7   keyword      75318 non-null  object\n",
      " 8   A_content_6  2 non-null      object\n",
      "dtypes: object(9)\n",
      "memory usage: 5.2+ MB\n"
     ]
    }
   ],
   "source": [
    "data.info()"
   ]
  },
  {
   "cell_type": "markdown",
   "id": "79f80d50",
   "metadata": {},
   "source": [
    "### 각 열별 데이터 정제\n",
    "\n",
    " 1. 정규표현식으로 한글, 숫자, ., ? 정규화 하기\n",
    " 2. hanspell 패키지를 이용하여 맞춤법 검사 돌리기"
   ]
  },
  {
   "cell_type": "code",
   "execution_count": 134,
   "id": "d112a4c2",
   "metadata": {
    "scrolled": true
   },
   "outputs": [
    {
     "name": "stdout",
     "output_type": "stream",
     "text": [
      "index: 49972 col: Q_title\n",
      "index: 10517 col: Q_content\n",
      "index: 13461 col: Q_content\n",
      "index: 33647 col: Q_content\n",
      "index: 47513 col: Q_content\n",
      "index: 70349 col: Q_content\n",
      "index: 60667 col: A_content_1\n",
      "index: 7865 col: A_content_2\n",
      "index: 47388 col: A_content_2\n",
      "index: 21876 col: A_content_3\n",
      "index: 54186 col: A_content_3\n",
      "index: 65849 col: A_content_4\n",
      "index: 72349 col: A_content_4\n"
     ]
    }
   ],
   "source": [
    "column=data.columns\n",
    "for col in column:\n",
    "    if col=='keyword':   # 키워드는 정제 안해도 됨\n",
    "        continue\n",
    "    for i in range(len(data[col])):\n",
    "        if data[col].isnull()[i]:   # nan 값일 경우 pass\n",
    "            continue\n",
    "        try:\n",
    "            norm = re.compile('[가-힣|0-9|.|?]+').findall(data.loc[i,col])\n",
    "            st = ' '.join(norm)\n",
    "            st2 = spell_checker.check(st)\n",
    "            data.loc[i,col]=st2[2]\n",
    "        except:\n",
    "            print('index:',i,'col:',col)"
   ]
  },
  {
   "cell_type": "code",
   "execution_count": 211,
   "id": "18881963",
   "metadata": {},
   "outputs": [
    {
     "data": {
      "text/plain": [
       "'    여기이사진은,저희집강아지 튀김인데요>3<[이름이조금그렇죠ㅋㅋ]종류가토이푸들쪽입니다.전저희어머니친구의딸의친구분이키우던걸받았는데요.제가전부터말티즈같은조그만종류를키우고싶어했어요.근데어머니께말씀을들어보니까푸들이라고하시더라구요.그래서좀속상하구..괜히데려왓다하는생각이게속들더라구요.근데토요일날왔는데학교갔다오니까강아지가있길래어머니께이강아지냐구여쭤봣더니맞다구그러시더라구요. 생각보다많이귀여웠고, 애교도많았어요>3<그래서지금은말티즈보다푸들이더낫다고생각하네요. 저희튀김이는처음보는사람보고물지도않구요.말도잘듣고칭찬받을짓을많이해요.집에누가오면짖긴하지만요 ㅎㅎ.지금질문자님의글을보니까푸들이너무활발한탓에순하다는건보장을못해주신다고말씀하신것같은데요.활발하면산책같은데가도더뛰어놀고가만히앉아있는것보단좋을것같은데요?그리고강아지가활발해야지더재밌게키울수도잇죠 ㅋㅋ,그니까지금상황에서도푸들강추입니다! [푸들은집도잘지키는데다가,영리하고,똑똑하고훈련좀만받으면금방익힌답니다~] '"
      ]
     },
     "execution_count": 211,
     "metadata": {},
     "output_type": "execute_result"
    }
   ],
   "source": [
    "index=72349\n",
    "column='A_content_4'\n",
    "data.loc[index,column]"
   ]
  },
  {
   "cell_type": "code",
   "execution_count": 212,
   "id": "975ded04",
   "metadata": {},
   "outputs": [],
   "source": [
    "data.loc[index,column]=''"
   ]
  },
  {
   "cell_type": "code",
   "execution_count": 203,
   "id": "aa3f7ef4",
   "metadata": {},
   "outputs": [],
   "source": [
    "data.loc[index,column]=data.loc[index,column].replace(\".\",\" \")"
   ]
  },
  {
   "cell_type": "code",
   "execution_count": 165,
   "id": "c271cf61",
   "metadata": {},
   "outputs": [],
   "source": [
    "data.drop([index], axis=0, inplace=True)"
   ]
  },
  {
   "cell_type": "code",
   "execution_count": 204,
   "id": "18bb8e7d",
   "metadata": {},
   "outputs": [
    {
     "data": {
      "text/plain": [
       "'함께 키워도 되여 키우실 때는 요 깨긋한 환경에서 키우시 구요 개목욕시켜도 냄새가 나면요 일단은 샴푸로만 하지 마시구 요 비누질하신 다음에 그다음에 샴퓨지를 해주시구요 목욕을 시켜주세요 개는 요 1주일에 한 번씩 구충제를 먹여야 되여 왜냐하면 요 몸 안에 기생충들이 잇잖아요 그것을 예방하고 치료해주는 거거든요 그리구요 개들 몸에 냄새가 나잖아요 그러면 이 제품을 사셔서   개몸에 뿌려주세요 도 그 죤에서 나왔는데요 살균도 그 죤 탈취제 제품 추천 해드릴께 요 이 제품은 요 개들 몸에 악취 제거해 주구요 향기를 유지시켜주는 제품입니다 개목욕시킬 실 때는 요 앤완견 전용을 쓰세요(단 사람들용 삼퓨로 목욕시키시키면 개피부병 유발) 그리구 요 맨 먼저 비누질을 해서 깨끗하게 문질려 주세요 그러면 개들 몸에 더려운 곳들이 빠져나오든 요 그 다음에 샴푸질해서 깨끗히 문지르신 다음에  깨끗하게 씻어주세요 그리 구목욕은 요 1주일에 두 번만 꼭 시켜주세요'"
      ]
     },
     "execution_count": 204,
     "metadata": {},
     "output_type": "execute_result"
    }
   ],
   "source": [
    "spacing = Spacing(rules=voca.index)\n",
    "st=spacing(data.loc[index,column])\n",
    "st"
   ]
  },
  {
   "cell_type": "code",
   "execution_count": 205,
   "id": "f0e09393",
   "metadata": {},
   "outputs": [],
   "source": [
    "data.loc[index,column] = st"
   ]
  },
  {
   "cell_type": "code",
   "execution_count": 206,
   "id": "68dc7697",
   "metadata": {},
   "outputs": [],
   "source": [
    "st2=spell_checker.check(data.loc[index,column])"
   ]
  },
  {
   "cell_type": "code",
   "execution_count": 207,
   "id": "8ed6aca9",
   "metadata": {},
   "outputs": [
    {
     "data": {
      "text/plain": [
       "'함께 키워도 돼요 키우실 때는 요 깨끗한 환경에서 키 우시 구요 개 목욕시켜도 냄새가 나면요 일단은 샴푸로만 하지 마시고 요 비누질하신 다음에 그다음에 샴푸 지를 해주시고요 목욕을 시켜주세요 개는 요 1주일에 한 번씩 구충제를 먹여야 돼요 왜냐하면 요 몸 안에 기생충들이 있잖아요 그것을 예방하고 치료해주는 거거든요 그리고요 개들 몸에 냄새가 나잖아요 그러면 이 제품을 사셔서   게 몸에 뿌려주세요 도 그 죤에서 나왔는데요 살균도 그 죤 탈취제 제품 추천해드릴게 요 이 제품은 요 개들 몸에 악취 제거해 주고요 향기를 유지시켜주는 제품입니다 개 목욕시킬 실 때는 요 애완견 전용을 쓰세요(단 사람들용 샴푸로 목욕 시 키 시키면 게 피부병 유발) 그리고 요 맨 먼저 비누질을 해서 깨끗하게 문질려 주세요 그러면 개들 몸에 더려 운 곳들이 빠져나오든 요 그다음에 샴푸 질해서 깨끗이 문지르신 다음에  깨끗하게 씻어주세요 그리 후 목욕은 요 1주일에 두 번만 꼭 시켜주세요'"
      ]
     },
     "execution_count": 207,
     "metadata": {},
     "output_type": "execute_result"
    }
   ],
   "source": [
    "st2[2]"
   ]
  },
  {
   "cell_type": "code",
   "execution_count": 208,
   "id": "84901dec",
   "metadata": {},
   "outputs": [],
   "source": [
    "data.loc[index,column]=st2[2]"
   ]
  },
  {
   "cell_type": "code",
   "execution_count": 276,
   "id": "7ccf011a",
   "metadata": {},
   "outputs": [
    {
     "name": "stdout",
     "output_type": "stream",
     "text": [
      "<class 'pandas.core.frame.DataFrame'>\n",
      "RangeIndex: 75317 entries, 0 to 75316\n",
      "Data columns (total 9 columns):\n",
      " #   Column       Non-Null Count  Dtype \n",
      "---  ------       --------------  ----- \n",
      " 0   Q_title      75317 non-null  object\n",
      " 1   Q_content    67841 non-null  object\n",
      " 2   A_content_1  75317 non-null  object\n",
      " 3   A_content_2  45782 non-null  object\n",
      " 4   A_content_3  25630 non-null  object\n",
      " 5   A_content_4  13921 non-null  object\n",
      " 6   A_content_5  7454 non-null   object\n",
      " 7   keyword      75317 non-null  object\n",
      " 8   A_content_6  2 non-null      object\n",
      "dtypes: object(9)\n",
      "memory usage: 5.2+ MB\n"
     ]
    }
   ],
   "source": [
    "data.info()"
   ]
  },
  {
   "cell_type": "code",
   "execution_count": 277,
   "id": "c93ea013",
   "metadata": {},
   "outputs": [
    {
     "data": {
      "text/plain": [
       "''"
      ]
     },
     "execution_count": 277,
     "metadata": {},
     "output_type": "execute_result"
    }
   ],
   "source": [
    "data.loc[359,\"Q_title\"]"
   ]
  },
  {
   "cell_type": "code",
   "execution_count": 234,
   "id": "3245bf81",
   "metadata": {},
   "outputs": [],
   "source": [
    "data.reset_index(drop=True, inplace=True)"
   ]
  },
  {
   "cell_type": "code",
   "execution_count": 465,
   "id": "43d590c2",
   "metadata": {},
   "outputs": [],
   "source": [
    "# 데이터 정제 파일 저장\n",
    "data.to_csv(\"dataset/temp_data.csv\", encoding='utf-8-sig', index=False)"
   ]
  },
  {
   "cell_type": "markdown",
   "id": "c61e2d9a",
   "metadata": {},
   "source": [
    "### voca_dictionary 데이터를 이용하여 오타 수정\n",
    " 1. 품종별 정리도 되어 있음.\n",
    " 2. 그 외 크롤링 data를 기반으로 오타 수정"
   ]
  },
  {
   "cell_type": "code",
   "execution_count": 2,
   "id": "2298c8e5",
   "metadata": {},
   "outputs": [],
   "source": [
    "# 다시 불러오기\n",
    "data2= pd.read_csv(\"dataset/temp_data.csv\", encoding = 'utf-8-sig')    "
   ]
  },
  {
   "cell_type": "code",
   "execution_count": 3,
   "id": "f3ae1b06",
   "metadata": {},
   "outputs": [
    {
     "name": "stdout",
     "output_type": "stream",
     "text": [
      "<class 'pandas.core.frame.DataFrame'>\n",
      "RangeIndex: 75317 entries, 0 to 75316\n",
      "Data columns (total 9 columns):\n",
      " #   Column       Non-Null Count  Dtype \n",
      "---  ------       --------------  ----- \n",
      " 0   Q_title      74984 non-null  object\n",
      " 1   Q_content    56460 non-null  object\n",
      " 2   A_content_1  50733 non-null  object\n",
      " 3   A_content_2  35459 non-null  object\n",
      " 4   A_content_3  18814 non-null  object\n",
      " 5   A_content_4  9966 non-null   object\n",
      " 6   A_content_5  5379 non-null   object\n",
      " 7   keyword      75317 non-null  object\n",
      " 8   A_content_6  2 non-null      object\n",
      "dtypes: object(9)\n",
      "memory usage: 5.2+ MB\n"
     ]
    }
   ],
   "source": [
    "data2.info()"
   ]
  },
  {
   "cell_type": "code",
   "execution_count": 4,
   "id": "7a6d958d",
   "metadata": {},
   "outputs": [],
   "source": [
    "# 빈공백 지우기\n",
    "data2=data2.dropna(subset=['A_content_1','Q_title']).reset_index(drop=True)"
   ]
  },
  {
   "cell_type": "code",
   "execution_count": 5,
   "id": "989a0e90",
   "metadata": {},
   "outputs": [
    {
     "name": "stdout",
     "output_type": "stream",
     "text": [
      "<class 'pandas.core.frame.DataFrame'>\n",
      "RangeIndex: 50531 entries, 0 to 50530\n",
      "Data columns (total 9 columns):\n",
      " #   Column       Non-Null Count  Dtype \n",
      "---  ------       --------------  ----- \n",
      " 0   Q_title      50531 non-null  object\n",
      " 1   Q_content    39244 non-null  object\n",
      " 2   A_content_1  50531 non-null  object\n",
      " 3   A_content_2  24794 non-null  object\n",
      " 4   A_content_3  12776 non-null  object\n",
      " 5   A_content_4  6672 non-null   object\n",
      " 6   A_content_5  3541 non-null   object\n",
      " 7   keyword      50531 non-null  object\n",
      " 8   A_content_6  1 non-null      object\n",
      "dtypes: object(9)\n",
      "memory usage: 3.5+ MB\n"
     ]
    }
   ],
   "source": [
    "data2.info()"
   ]
  },
  {
   "cell_type": "code",
   "execution_count": 6,
   "id": "38487923",
   "metadata": {},
   "outputs": [
    {
     "data": {
      "text/html": [
       "<div>\n",
       "<style scoped>\n",
       "    .dataframe tbody tr th:only-of-type {\n",
       "        vertical-align: middle;\n",
       "    }\n",
       "\n",
       "    .dataframe tbody tr th {\n",
       "        vertical-align: top;\n",
       "    }\n",
       "\n",
       "    .dataframe thead th {\n",
       "        text-align: right;\n",
       "    }\n",
       "</style>\n",
       "<table border=\"1\" class=\"dataframe\">\n",
       "  <thead>\n",
       "    <tr style=\"text-align: right;\">\n",
       "      <th></th>\n",
       "      <th>Q_title</th>\n",
       "      <th>Q_content</th>\n",
       "      <th>A_content_1</th>\n",
       "      <th>A_content_2</th>\n",
       "      <th>A_content_3</th>\n",
       "      <th>A_content_4</th>\n",
       "      <th>A_content_5</th>\n",
       "      <th>keyword</th>\n",
       "      <th>A_content_6</th>\n",
       "    </tr>\n",
       "  </thead>\n",
       "  <tbody>\n",
       "    <tr>\n",
       "      <th>0</th>\n",
       "      <td>불리 불안 강아지</td>\n",
       "      <td>1. 불리 불안이 심한 강아지 종류는 뭔가요?? 2. 불리 불안 강아지 종류는 다 ...</td>\n",
       "      <td>분리불안은 견종과 관계없이 타고난 성격과 주거 환경 견주나 가족들의 보육 습관으로 ...</td>\n",
       "      <td>우선 1 2번에 대해서 말씀드리자면 분리불안은 강아지 종류가 아니라 강아지 한 마리...</td>\n",
       "      <td>NaN</td>\n",
       "      <td>NaN</td>\n",
       "      <td>NaN</td>\n",
       "      <td>강아지 장애</td>\n",
       "      <td>NaN</td>\n",
       "    </tr>\n",
       "    <tr>\n",
       "      <th>1</th>\n",
       "      <td>분리불안 강아지 잠자리 분리 질문 이용</td>\n",
       "      <td>진도 믹스 세 살 제가 외출하면 하울링을 해서 분리불안 훈련 중인데 하우스 훈련이랑...</td>\n",
       "      <td>근데 잠자리 분리 훈련 시에 제 침대에 올라오는 것을 아예 못하게 해야 하나요? 잘...</td>\n",
       "      <td>안녕하세요. 천만 반려 인과 함께하는 애견 동반 여행 플랫폼 하트 덕입니다. 반려견...</td>\n",
       "      <td>NaN</td>\n",
       "      <td>NaN</td>\n",
       "      <td>NaN</td>\n",
       "      <td>강아지 장애</td>\n",
       "      <td>NaN</td>\n",
       "    </tr>\n",
       "    <tr>\n",
       "      <th>2</th>\n",
       "      <td>분리불안 강아지와 새로운 강아지</td>\n",
       "      <td>4년 동안 고양이와 같이 살았던 강아지가 고양이랑 떨어지면서 분리불안이 생긴 것 같...</td>\n",
       "      <td>이사하고 스트레스를 보이는 강아지죠? 지금 그 아이도 적응해야 하는데.. 새로운 아...</td>\n",
       "      <td>NaN</td>\n",
       "      <td>NaN</td>\n",
       "      <td>NaN</td>\n",
       "      <td>NaN</td>\n",
       "      <td>강아지 장애</td>\n",
       "      <td>NaN</td>\n",
       "    </tr>\n",
       "    <tr>\n",
       "      <th>3</th>\n",
       "      <td>강아지가 불리 불안이 있는데 제가 외출만 하면 패드를 물어뜯어놓는데 패드를 물어뜯는...</td>\n",
       "      <td>NaN</td>\n",
       "      <td>안녕하세요. 지식 동물의료 상담 수의사 은평 동물병원장 버드나무 이상철입니다. 강아...</td>\n",
       "      <td>NaN</td>\n",
       "      <td>NaN</td>\n",
       "      <td>NaN</td>\n",
       "      <td>NaN</td>\n",
       "      <td>강아지 장애</td>\n",
       "      <td>NaN</td>\n",
       "    </tr>\n",
       "    <tr>\n",
       "      <th>4</th>\n",
       "      <td>분리불안 강아지 노견 노즈 워크 추천해주세요</td>\n",
       "      <td>NaN</td>\n",
       "      <td>산책 강아지 다리가 안 좋으면 강아지 유모차 조그이라도 자주 나가주시고요 노즈 워크...</td>\n",
       "      <td>저런 여러 가지 증상이 한꺼번에 있네요 식탐은 많은가요? 노즈 워크가 좋기는 한데 ...</td>\n",
       "      <td>이걸로 하시면 되지 않을까 합니다 아무쪼록 건강하게 함께 오래 하시길 바라요. 펫 ...</td>\n",
       "      <td>NaN</td>\n",
       "      <td>NaN</td>\n",
       "      <td>강아지 장애</td>\n",
       "      <td>NaN</td>\n",
       "    </tr>\n",
       "  </tbody>\n",
       "</table>\n",
       "</div>"
      ],
      "text/plain": [
       "                                             Q_title  \\\n",
       "0                                          불리 불안 강아지   \n",
       "1                              분리불안 강아지 잠자리 분리 질문 이용   \n",
       "2                                  분리불안 강아지와 새로운 강아지   \n",
       "3  강아지가 불리 불안이 있는데 제가 외출만 하면 패드를 물어뜯어놓는데 패드를 물어뜯는...   \n",
       "4                           분리불안 강아지 노견 노즈 워크 추천해주세요   \n",
       "\n",
       "                                           Q_content  \\\n",
       "0  1. 불리 불안이 심한 강아지 종류는 뭔가요?? 2. 불리 불안 강아지 종류는 다 ...   \n",
       "1  진도 믹스 세 살 제가 외출하면 하울링을 해서 분리불안 훈련 중인데 하우스 훈련이랑...   \n",
       "2  4년 동안 고양이와 같이 살았던 강아지가 고양이랑 떨어지면서 분리불안이 생긴 것 같...   \n",
       "3                                                NaN   \n",
       "4                                                NaN   \n",
       "\n",
       "                                         A_content_1  \\\n",
       "0  분리불안은 견종과 관계없이 타고난 성격과 주거 환경 견주나 가족들의 보육 습관으로 ...   \n",
       "1  근데 잠자리 분리 훈련 시에 제 침대에 올라오는 것을 아예 못하게 해야 하나요? 잘...   \n",
       "2  이사하고 스트레스를 보이는 강아지죠? 지금 그 아이도 적응해야 하는데.. 새로운 아...   \n",
       "3  안녕하세요. 지식 동물의료 상담 수의사 은평 동물병원장 버드나무 이상철입니다. 강아...   \n",
       "4  산책 강아지 다리가 안 좋으면 강아지 유모차 조그이라도 자주 나가주시고요 노즈 워크...   \n",
       "\n",
       "                                         A_content_2  \\\n",
       "0  우선 1 2번에 대해서 말씀드리자면 분리불안은 강아지 종류가 아니라 강아지 한 마리...   \n",
       "1  안녕하세요. 천만 반려 인과 함께하는 애견 동반 여행 플랫폼 하트 덕입니다. 반려견...   \n",
       "2                                                NaN   \n",
       "3                                                NaN   \n",
       "4  저런 여러 가지 증상이 한꺼번에 있네요 식탐은 많은가요? 노즈 워크가 좋기는 한데 ...   \n",
       "\n",
       "                                         A_content_3 A_content_4 A_content_5  \\\n",
       "0                                                NaN         NaN         NaN   \n",
       "1                                                NaN         NaN         NaN   \n",
       "2                                                NaN         NaN         NaN   \n",
       "3                                                NaN         NaN         NaN   \n",
       "4  이걸로 하시면 되지 않을까 합니다 아무쪼록 건강하게 함께 오래 하시길 바라요. 펫 ...         NaN         NaN   \n",
       "\n",
       "  keyword A_content_6  \n",
       "0  강아지 장애         NaN  \n",
       "1  강아지 장애         NaN  \n",
       "2  강아지 장애         NaN  \n",
       "3  강아지 장애         NaN  \n",
       "4  강아지 장애         NaN  "
      ]
     },
     "execution_count": 6,
     "metadata": {},
     "output_type": "execute_result"
    }
   ],
   "source": [
    "data2.head()"
   ]
  },
  {
   "cell_type": "code",
   "execution_count": 9,
   "id": "777d6476",
   "metadata": {},
   "outputs": [],
   "source": [
    "# 사전 파일\n",
    "voca=pd.read_csv(\"voca_dictionary.csv\",encoding='utf-8-sig', index_col=0)"
   ]
  },
  {
   "cell_type": "code",
   "execution_count": null,
   "id": "efc41747",
   "metadata": {
    "scrolled": true
   },
   "outputs": [],
   "source": [
    "# komoran을 이용하여 명사만 추출해서 수정\n",
    "komoran=Komoran()\n",
    "check=''\n",
    "for key in voca['values']:\n",
    "    check+=' '+key\n",
    "    \n",
    "for col in data2.columns:\n",
    "    if col=='keyword':   # 키워드는 정제 안해도 됨\n",
    "        continue\n",
    "    try:\n",
    "        for i in range(len(data2[col])):\n",
    "            if data2[col].isnull()[i]:   # nan 값일 경우 pass\n",
    "                continue\n",
    "            string=''\n",
    "            for name in data2.loc[i,col].split():\n",
    "                for st, ty in komoran.pos(name):\n",
    "                    if ty[0]=='N':\n",
    "                        if st in check.split():\n",
    "                            for key in voca.index:\n",
    "                                if st in voca.loc[key,'values'].split():\n",
    "                                    name=name.replace(name,key)  # key로 변경하기\n",
    "                                    break\n",
    "                string=string+' '+str(name)\n",
    "            data2.loc[i,col]=string\n",
    "    except:\n",
    "        print('error index,col:',(index,col))"
   ]
  },
  {
   "cell_type": "code",
   "execution_count": 284,
   "id": "b70c00f4",
   "metadata": {},
   "outputs": [
    {
     "name": "stdout",
     "output_type": "stream",
     "text": [
      "<class 'pandas.core.frame.DataFrame'>\n",
      "RangeIndex: 50531 entries, 0 to 50530\n",
      "Data columns (total 9 columns):\n",
      " #   Column       Non-Null Count  Dtype \n",
      "---  ------       --------------  ----- \n",
      " 0   Q_title      50531 non-null  object\n",
      " 1   Q_content    39244 non-null  object\n",
      " 2   A_content_1  50531 non-null  object\n",
      " 3   A_content_2  24794 non-null  object\n",
      " 4   A_content_3  12776 non-null  object\n",
      " 5   A_content_4  6672 non-null   object\n",
      " 6   A_content_5  3541 non-null   object\n",
      " 7   keyword      50531 non-null  object\n",
      " 8   A_content_6  1 non-null      object\n",
      "dtypes: object(9)\n",
      "memory usage: 3.5+ MB\n"
     ]
    }
   ],
   "source": [
    "data2.info()"
   ]
  },
  {
   "cell_type": "code",
   "execution_count": 285,
   "id": "a4fdfffa",
   "metadata": {},
   "outputs": [],
   "source": [
    "# 데이터 정제 파일 저장\n",
    "data2.to_csv(\"dataset/total_data2.csv\", encoding='utf-8-sig', index=False)"
   ]
  },
  {
   "cell_type": "markdown",
   "id": "f4267611",
   "metadata": {},
   "source": [
    "### 데이터 문장 길이 관계성 파악\n",
    " 1. 열별로 평균 문장 길이 파악 (data 관계 파악)\n",
    " 2. 97% 이내 데이터만 사용 (나머지 outlier 제거)"
   ]
  },
  {
   "cell_type": "code",
   "execution_count": 2,
   "id": "d133e434",
   "metadata": {},
   "outputs": [],
   "source": [
    "# 데이터 정제 파일 저장\n",
    "data2=pd.read_csv(\"dataset/total_data2.csv\", encoding='utf-8-sig')"
   ]
  },
  {
   "cell_type": "code",
   "execution_count": 3,
   "id": "694a72c9",
   "metadata": {},
   "outputs": [
    {
     "name": "stdout",
     "output_type": "stream",
     "text": [
      "<class 'pandas.core.frame.DataFrame'>\n",
      "RangeIndex: 50531 entries, 0 to 50530\n",
      "Data columns (total 9 columns):\n",
      " #   Column       Non-Null Count  Dtype \n",
      "---  ------       --------------  ----- \n",
      " 0   Q_title      50531 non-null  object\n",
      " 1   Q_content    39244 non-null  object\n",
      " 2   A_content_1  50531 non-null  object\n",
      " 3   A_content_2  24794 non-null  object\n",
      " 4   A_content_3  12776 non-null  object\n",
      " 5   A_content_4  6672 non-null   object\n",
      " 6   A_content_5  3541 non-null   object\n",
      " 7   keyword      50531 non-null  object\n",
      " 8   A_content_6  1 non-null      object\n",
      "dtypes: object(9)\n",
      "memory usage: 3.5+ MB\n"
     ]
    }
   ],
   "source": [
    "data2.info()"
   ]
  },
  {
   "cell_type": "code",
   "execution_count": 4,
   "id": "b05f76ab",
   "metadata": {},
   "outputs": [],
   "source": [
    "split_text = split_sentences(data2.loc[0,'A_content_1'])"
   ]
  },
  {
   "cell_type": "code",
   "execution_count": null,
   "id": "9b8ba4b1",
   "metadata": {},
   "outputs": [],
   "source": [
    "# 각 데이터마다 평균 문장 길이 분포 확인\n",
    "for col in data2.columns:\n",
    "    if col=='keyword':   # 키워드는 정제 안해도 됨\n",
    "        continue\n",
    "    try:\n",
    "        for i in range(len(data2[col])):\n",
    "            if data2[col].isnull()[i]:   # nan 값일 경우 pass\n",
    "                continue\n",
    "\n",
    "            split_text = split_sentences(data2.loc[i,col])  # 문장을 나누는 패키지\n",
    "            temp=0\n",
    "            for j in range(len(split_text)):\n",
    "                temp+=len(split_text[j])\n",
    "            data2.loc[i,col+'_len']=int(np.round(temp/len(split_text),0))\n",
    "    except:\n",
    "        print('error:',i, col)"
   ]
  },
  {
   "cell_type": "code",
   "execution_count": null,
   "id": "519806f2",
   "metadata": {
    "scrolled": true
   },
   "outputs": [],
   "source": [
    "sentence_len_df=data2.iloc[:,9:]"
   ]
  },
  {
   "cell_type": "code",
   "execution_count": 15,
   "id": "13216400",
   "metadata": {},
   "outputs": [
    {
     "data": {
      "text/html": [
       "<div>\n",
       "<style scoped>\n",
       "    .dataframe tbody tr th:only-of-type {\n",
       "        vertical-align: middle;\n",
       "    }\n",
       "\n",
       "    .dataframe tbody tr th {\n",
       "        vertical-align: top;\n",
       "    }\n",
       "\n",
       "    .dataframe thead th {\n",
       "        text-align: right;\n",
       "    }\n",
       "</style>\n",
       "<table border=\"1\" class=\"dataframe\">\n",
       "  <thead>\n",
       "    <tr style=\"text-align: right;\">\n",
       "      <th></th>\n",
       "      <th>Q_title_len</th>\n",
       "      <th>Q_content_len</th>\n",
       "      <th>A_content_1_len</th>\n",
       "      <th>A_content_2_len</th>\n",
       "      <th>A_content_3_len</th>\n",
       "      <th>A_content_4_len</th>\n",
       "      <th>A_content_5_len</th>\n",
       "      <th>A_content_6_len</th>\n",
       "    </tr>\n",
       "  </thead>\n",
       "  <tbody>\n",
       "    <tr>\n",
       "      <th>0</th>\n",
       "      <td>11.0</td>\n",
       "      <td>27.0</td>\n",
       "      <td>60.0</td>\n",
       "      <td>58.0</td>\n",
       "      <td>NaN</td>\n",
       "      <td>NaN</td>\n",
       "      <td>NaN</td>\n",
       "      <td>NaN</td>\n",
       "    </tr>\n",
       "    <tr>\n",
       "      <th>1</th>\n",
       "      <td>21.0</td>\n",
       "      <td>56.0</td>\n",
       "      <td>38.0</td>\n",
       "      <td>27.0</td>\n",
       "      <td>NaN</td>\n",
       "      <td>NaN</td>\n",
       "      <td>NaN</td>\n",
       "      <td>NaN</td>\n",
       "    </tr>\n",
       "    <tr>\n",
       "      <th>2</th>\n",
       "      <td>16.0</td>\n",
       "      <td>43.0</td>\n",
       "      <td>36.0</td>\n",
       "      <td>NaN</td>\n",
       "      <td>NaN</td>\n",
       "      <td>NaN</td>\n",
       "      <td>NaN</td>\n",
       "      <td>NaN</td>\n",
       "    </tr>\n",
       "    <tr>\n",
       "      <th>3</th>\n",
       "      <td>54.0</td>\n",
       "      <td>NaN</td>\n",
       "      <td>42.0</td>\n",
       "      <td>NaN</td>\n",
       "      <td>NaN</td>\n",
       "      <td>NaN</td>\n",
       "      <td>NaN</td>\n",
       "      <td>NaN</td>\n",
       "    </tr>\n",
       "    <tr>\n",
       "      <th>4</th>\n",
       "      <td>28.0</td>\n",
       "      <td>NaN</td>\n",
       "      <td>64.0</td>\n",
       "      <td>52.0</td>\n",
       "      <td>39.0</td>\n",
       "      <td>NaN</td>\n",
       "      <td>NaN</td>\n",
       "      <td>NaN</td>\n",
       "    </tr>\n",
       "  </tbody>\n",
       "</table>\n",
       "</div>"
      ],
      "text/plain": [
       "   Q_title_len  Q_content_len  A_content_1_len  A_content_2_len  \\\n",
       "0         11.0           27.0             60.0             58.0   \n",
       "1         21.0           56.0             38.0             27.0   \n",
       "2         16.0           43.0             36.0              NaN   \n",
       "3         54.0            NaN             42.0              NaN   \n",
       "4         28.0            NaN             64.0             52.0   \n",
       "\n",
       "   A_content_3_len  A_content_4_len  A_content_5_len  A_content_6_len  \n",
       "0              NaN              NaN              NaN              NaN  \n",
       "1              NaN              NaN              NaN              NaN  \n",
       "2              NaN              NaN              NaN              NaN  \n",
       "3              NaN              NaN              NaN              NaN  \n",
       "4             39.0              NaN              NaN              NaN  "
      ]
     },
     "execution_count": 15,
     "metadata": {},
     "output_type": "execute_result"
    }
   ],
   "source": [
    "sentence_len_df.head()"
   ]
  },
  {
   "cell_type": "code",
   "execution_count": 17,
   "id": "c75020b4",
   "metadata": {},
   "outputs": [
    {
     "data": {
      "text/plain": [
       "<BarContainer object of 135 artists>"
      ]
     },
     "execution_count": 17,
     "metadata": {},
     "output_type": "execute_result"
    },
    {
     "data": {
      "image/png": "[encoded data removed]",
      "text/plain": [
       "<Figure size 432x288 with 1 Axes>"
      ]
     },
     "metadata": {
      "needs_background": "light"
     },
     "output_type": "display_data"
    }
   ],
   "source": [
    "# Q_title 문장 길이 측정\n",
    "x=set(sentence_len_df['Q_title_len'])\n",
    "plot_dic_qt={}\n",
    "for key in x:\n",
    "    plot_dic_qt[key]=0\n",
    "for num in sentence_len_df['Q_title_len']:\n",
    "    plot_dic_qt[num]+=1\n",
    "\n",
    "\n",
    "plt.title('Q_title_length')\n",
    "plt.xlabel('length')\n",
    "plt.ylabel('Count')\n",
    "plt.bar(plot_dic_qt.keys(),plot_dic_qt.values())"
   ]
  },
  {
   "cell_type": "code",
   "execution_count": 18,
   "id": "7d03357a",
   "metadata": {},
   "outputs": [
    {
     "data": {
      "text/plain": [
       "<BarContainer object of 201 artists>"
      ]
     },
     "execution_count": 18,
     "metadata": {},
     "output_type": "execute_result"
    },
    {
     "data": {
      "image/png": "[encoded data removed]",
      "text/plain": [
       "<Figure size 432x288 with 1 Axes>"
      ]
     },
     "metadata": {
      "needs_background": "light"
     },
     "output_type": "display_data"
    }
   ],
   "source": [
    "# Q_content 문장 길이 측정\n",
    "plot_dic_qc={}\n",
    "col='Q_content_len'\n",
    "for i in range(len(sentence_len_df[col])):\n",
    "    if sentence_len_df[col].isnull()[i]:\n",
    "        continue\n",
    "    plot_dic_qc[sentence_len_df.loc[i,col]]=0\n",
    "    \n",
    "for i in range(len(sentence_len_df[col])):\n",
    "    if sentence_len_df[col].isnull()[i]:\n",
    "        continue\n",
    "    plot_dic_qc[sentence_len_df.loc[i,col]]+=1\n",
    "\n",
    "plt.title(col+'gth')\n",
    "plt.xlabel('length')\n",
    "plt.ylabel('Count')\n",
    "plt.bar(plot_dic_qc.keys(),plot_dic_qc.values())"
   ]
  },
  {
   "cell_type": "code",
   "execution_count": 19,
   "id": "9d6887f8",
   "metadata": {},
   "outputs": [
    {
     "data": {
      "text/plain": [
       "<BarContainer object of 232 artists>"
      ]
     },
     "execution_count": 19,
     "metadata": {},
     "output_type": "execute_result"
    },
    {
     "data": {
      "image/png": "[encoded data removed]",
      "text/plain": [
       "<Figure size 432x288 with 1 Axes>"
      ]
     },
     "metadata": {
      "needs_background": "light"
     },
     "output_type": "display_data"
    }
   ],
   "source": [
    "# A_content_1 문장 길이 측정\n",
    "plot_dic_ac1={}\n",
    "col='A_content_1_len'\n",
    "for i in range(len(sentence_len_df[col])):\n",
    "    if sentence_len_df[col].isnull()[i]:\n",
    "        continue\n",
    "    plot_dic_ac1[sentence_len_df.loc[i,col]]=0\n",
    "    \n",
    "for i in range(len(sentence_len_df[col])):\n",
    "    if sentence_len_df[col].isnull()[i]:\n",
    "        continue\n",
    "    plot_dic_ac1[sentence_len_df.loc[i,col]]+=1\n",
    "\n",
    "plt.title(col+'gth')\n",
    "plt.xlabel('length')\n",
    "plt.ylabel('Count')\n",
    "plt.bar(plot_dic_ac1.keys(),plot_dic_ac1.values())"
   ]
  },
  {
   "cell_type": "code",
   "execution_count": 20,
   "id": "b5eb9c6b",
   "metadata": {},
   "outputs": [
    {
     "data": {
      "text/plain": [
       "<BarContainer object of 188 artists>"
      ]
     },
     "execution_count": 20,
     "metadata": {},
     "output_type": "execute_result"
    },
    {
     "data": {
      "image/png": "[encoded data removed]",
      "text/plain": [
       "<Figure size 432x288 with 1 Axes>"
      ]
     },
     "metadata": {
      "needs_background": "light"
     },
     "output_type": "display_data"
    }
   ],
   "source": [
    "# A_content_2 문장 길이 측정\n",
    "plot_dic_ac2={}\n",
    "col='A_content_2_len'\n",
    "for i in range(len(sentence_len_df[col])):\n",
    "    if sentence_len_df[col].isnull()[i]:\n",
    "        continue\n",
    "    plot_dic_ac2[sentence_len_df.loc[i,col]]=0\n",
    "    \n",
    "for i in range(len(sentence_len_df[col])):\n",
    "    if sentence_len_df[col].isnull()[i]:\n",
    "        continue\n",
    "    plot_dic_ac2[sentence_len_df.loc[i,col]]+=1\n",
    "\n",
    "plt.title(col+'gth')\n",
    "plt.xlabel('length')\n",
    "plt.ylabel('Count')\n",
    "plt.bar(plot_dic_ac2.keys(),plot_dic_ac2.values())"
   ]
  },
  {
   "cell_type": "code",
   "execution_count": 21,
   "id": "17de8e9a",
   "metadata": {},
   "outputs": [
    {
     "data": {
      "text/plain": [
       "<BarContainer object of 161 artists>"
      ]
     },
     "execution_count": 21,
     "metadata": {},
     "output_type": "execute_result"
    },
    {
     "data": {
      "image/png": "[encoded data removed]",
      "text/plain": [
       "<Figure size 432x288 with 1 Axes>"
      ]
     },
     "metadata": {
      "needs_background": "light"
     },
     "output_type": "display_data"
    }
   ],
   "source": [
    "# A_content_3 문장 길이 측정\n",
    "plot_dic_ac3={}\n",
    "col='A_content_3_len'\n",
    "for i in range(len(sentence_len_df[col])):\n",
    "    if sentence_len_df[col].isnull()[i]:\n",
    "        continue\n",
    "    plot_dic_ac3[sentence_len_df.loc[i,col]]=0\n",
    "    \n",
    "for i in range(len(sentence_len_df[col])):\n",
    "    if sentence_len_df[col].isnull()[i]:\n",
    "        continue\n",
    "    plot_dic_ac3[sentence_len_df.loc[i,col]]+=1\n",
    "\n",
    "plt.title(col+'gth')\n",
    "plt.xlabel('length')\n",
    "plt.ylabel('Count')\n",
    "plt.bar(plot_dic_ac3.keys(),plot_dic_ac3.values())"
   ]
  },
  {
   "cell_type": "code",
   "execution_count": 22,
   "id": "8a6202d7",
   "metadata": {},
   "outputs": [
    {
     "data": {
      "text/plain": [
       "<BarContainer object of 148 artists>"
      ]
     },
     "execution_count": 22,
     "metadata": {},
     "output_type": "execute_result"
    },
    {
     "data": {
      "image/png": "[encoded data removed]",
      "text/plain": [
       "<Figure size 432x288 with 1 Axes>"
      ]
     },
     "metadata": {
      "needs_background": "light"
     },
     "output_type": "display_data"
    }
   ],
   "source": [
    "# A_content_4 문장 길이 측정\n",
    "plot_dic_ac4={}\n",
    "col='A_content_4_len'\n",
    "for i in range(len(sentence_len_df[col])):\n",
    "    if sentence_len_df[col].isnull()[i]:\n",
    "        continue\n",
    "    plot_dic_ac4[sentence_len_df.loc[i,col]]=0\n",
    "    \n",
    "for i in range(len(sentence_len_df[col])):\n",
    "    if sentence_len_df[col].isnull()[i]:\n",
    "        continue\n",
    "    plot_dic_ac4[sentence_len_df.loc[i,col]]+=1\n",
    "\n",
    "plt.title(col+'gth')\n",
    "plt.xlabel('length')\n",
    "plt.ylabel('Count')\n",
    "plt.bar(plot_dic_ac4.keys(),plot_dic_ac4.values())"
   ]
  },
  {
   "cell_type": "code",
   "execution_count": 23,
   "id": "c52161a0",
   "metadata": {},
   "outputs": [
    {
     "data": {
      "text/plain": [
       "<BarContainer object of 135 artists>"
      ]
     },
     "execution_count": 23,
     "metadata": {},
     "output_type": "execute_result"
    },
    {
     "data": {
      "image/png": "[encoded data removed]",
      "text/plain": [
       "<Figure size 432x288 with 1 Axes>"
      ]
     },
     "metadata": {
      "needs_background": "light"
     },
     "output_type": "display_data"
    }
   ],
   "source": [
    "# A_content_5 문장 길이 측정\n",
    "plot_dic_ac5={}\n",
    "col='A_content_5_len'\n",
    "for i in range(len(sentence_len_df[col])):\n",
    "    if sentence_len_df[col].isnull()[i]:\n",
    "        continue\n",
    "    plot_dic_ac5[sentence_len_df.loc[i,col]]=0\n",
    "    \n",
    "for i in range(len(sentence_len_df[col])):\n",
    "    if sentence_len_df[col].isnull()[i]:\n",
    "        continue\n",
    "    plot_dic_ac5[sentence_len_df.loc[i,col]]+=1\n",
    "\n",
    "plt.title(col+'gth')\n",
    "plt.xlabel('length')\n",
    "plt.ylabel('Count')\n",
    "plt.bar(plot_dic_ac5.keys(),plot_dic_ac5.values())"
   ]
  },
  {
   "cell_type": "code",
   "execution_count": null,
   "id": "b7100ce7",
   "metadata": {},
   "outputs": [],
   "source": [
    "import matplotlib as mpl\n",
    "mpl.rcParams[\"font.size\"] = 13\n",
    "sentence_len_df=data2.iloc[:,9:16]\n",
    "k=1\n",
    "for col in sentence_len_df.columns:\n",
    "    plot_dic={}\n",
    "    for i in range(len(sentence_len_df[col])):\n",
    "        if sentence_len_df[col].isnull()[i]:\n",
    "            continue\n",
    "        plot_dic[sentence_len_df.loc[i,col]]=0\n",
    "\n",
    "    for i in range(len(sentence_len_df[col])):\n",
    "        if sentence_len_df[col].isnull()[i]:\n",
    "            continue\n",
    "        plot_dic[sentence_len_df.loc[i,col]]+=1\n",
    "    plt.subplot(3,3,k)\n",
    "    k+=1\n",
    "    plt.tight_layout()\n",
    "    plt.title(col+'gth')\n",
    "    plt.bar(plot_dic.keys(),plot_dic.values())\n",
    "    plt.rcParams['figure.figsize'] = [15, 10]"
   ]
  },
  {
   "cell_type": "markdown",
   "id": "dc128d19",
   "metadata": {},
   "source": [
    "#### outlier 제거\n",
    " 1. Q_title 기준으로 제거 후 데이터 행 제거"
   ]
  },
  {
   "cell_type": "code",
   "execution_count": 24,
   "id": "dd220b4a",
   "metadata": {},
   "outputs": [
    {
     "name": "stdout",
     "output_type": "stream",
     "text": [
      "Q_title sentence Threshold: 42.0\n"
     ]
    }
   ],
   "source": [
    "# Q_title 상위 3% 제거\n",
    "ranked_qt=sorted(plot_dic_qt.items(),key=(lambda x:x[0]), reverse=True)\n",
    "total=0\n",
    "for num, cnt in ranked_qt:\n",
    "    total+=cnt\n",
    "threshold_qt=total*0.03\n",
    "i=0\n",
    "j=0\n",
    "while i<threshold_qt:\n",
    "    i+=ranked_qt[j][1]\n",
    "    j+=1\n",
    "    key=ranked_qt[j][0]\n",
    "print(f\"Q_title sentence Threshold: {key}\")             "
   ]
  },
  {
   "cell_type": "code",
   "execution_count": 25,
   "id": "bfeadf39",
   "metadata": {},
   "outputs": [
    {
     "name": "stdout",
     "output_type": "stream",
     "text": [
      "<class 'pandas.core.frame.DataFrame'>\n",
      "RangeIndex: 48947 entries, 0 to 48946\n",
      "Data columns (total 17 columns):\n",
      " #   Column           Non-Null Count  Dtype  \n",
      "---  ------           --------------  -----  \n",
      " 0   Q_title          48947 non-null  object \n",
      " 1   Q_content        39084 non-null  object \n",
      " 2   A_content_1      48947 non-null  object \n",
      " 3   A_content_2      24171 non-null  object \n",
      " 4   A_content_3      12554 non-null  object \n",
      " 5   A_content_4      6575 non-null   object \n",
      " 6   A_content_5      3498 non-null   object \n",
      " 7   keyword          48947 non-null  object \n",
      " 8   A_content_6      1 non-null      object \n",
      " 9   Q_title_len      48947 non-null  float64\n",
      " 10  Q_content_len    39084 non-null  float64\n",
      " 11  A_content_1_len  48947 non-null  float64\n",
      " 12  A_content_2_len  24171 non-null  float64\n",
      " 13  A_content_3_len  12554 non-null  float64\n",
      " 14  A_content_4_len  6575 non-null   float64\n",
      " 15  A_content_5_len  3498 non-null   float64\n",
      " 16  A_content_6_len  1 non-null      float64\n",
      "dtypes: float64(8), object(9)\n",
      "memory usage: 6.3+ MB\n"
     ]
    }
   ],
   "source": [
    "temp=[]\n",
    "for i in range(len(data2)):\n",
    "    if data2.loc[i,'Q_title_len']>42:\n",
    "        temp.append(i)\n",
    "        \n",
    "data3=data2.drop(temp,axis=0)        \n",
    "data3.reset_index(drop=True, inplace=True)\n",
    "data3.info()"
   ]
  },
  {
   "cell_type": "code",
   "execution_count": 26,
   "id": "30d08fce",
   "metadata": {},
   "outputs": [
    {
     "name": "stdout",
     "output_type": "stream",
     "text": [
      "Q_content sentence Threshold: 79.0\n"
     ]
    }
   ],
   "source": [
    "# Q_content 상위 3% 제거\n",
    "ranked_qc=sorted(plot_dic_qc.items(),key=(lambda x:x[0]), reverse=True)\n",
    "total=0\n",
    "for num, cnt in ranked_qc:\n",
    "    total+=cnt\n",
    "threshold_qc=total*0.03\n",
    "i=0\n",
    "j=0\n",
    "while i<threshold_qc:\n",
    "    i+=ranked_qc[j][1]\n",
    "    j+=1\n",
    "    key=ranked_qc[j][0]\n",
    "print(f\"Q_content sentence Threshold: {key}\")             "
   ]
  },
  {
   "cell_type": "code",
   "execution_count": 27,
   "id": "573bebaa",
   "metadata": {},
   "outputs": [
    {
     "name": "stdout",
     "output_type": "stream",
     "text": [
      "<class 'pandas.core.frame.DataFrame'>\n",
      "RangeIndex: 47771 entries, 0 to 47770\n",
      "Data columns (total 17 columns):\n",
      " #   Column           Non-Null Count  Dtype  \n",
      "---  ------           --------------  -----  \n",
      " 0   Q_title          47771 non-null  object \n",
      " 1   Q_content        37908 non-null  object \n",
      " 2   A_content_1      47771 non-null  object \n",
      " 3   A_content_2      23646 non-null  object \n",
      " 4   A_content_3      12299 non-null  object \n",
      " 5   A_content_4      6434 non-null   object \n",
      " 6   A_content_5      3440 non-null   object \n",
      " 7   keyword          47771 non-null  object \n",
      " 8   A_content_6      1 non-null      object \n",
      " 9   Q_title_len      47771 non-null  float64\n",
      " 10  Q_content_len    37908 non-null  float64\n",
      " 11  A_content_1_len  47771 non-null  float64\n",
      " 12  A_content_2_len  23646 non-null  float64\n",
      " 13  A_content_3_len  12299 non-null  float64\n",
      " 14  A_content_4_len  6434 non-null   float64\n",
      " 15  A_content_5_len  3440 non-null   float64\n",
      " 16  A_content_6_len  1 non-null      float64\n",
      "dtypes: float64(8), object(9)\n",
      "memory usage: 6.2+ MB\n"
     ]
    }
   ],
   "source": [
    "temp=[]\n",
    "for i in range(len(data3)):\n",
    "    if data3.loc[i,'Q_content_len']>79:\n",
    "        temp.append(i)\n",
    "        \n",
    "data3=data3.drop(temp,axis=0)        \n",
    "data3.reset_index(drop=True, inplace=True)\n",
    "data3.info()"
   ]
  },
  {
   "cell_type": "code",
   "execution_count": 28,
   "id": "63c8d5c3",
   "metadata": {},
   "outputs": [
    {
     "name": "stdout",
     "output_type": "stream",
     "text": [
      "A_content_1 sentence Threshold: 78.0\n"
     ]
    }
   ],
   "source": [
    "# A_content_1 상위 3% 제거\n",
    "ranked_ac1=sorted(plot_dic_ac1.items(),key=(lambda x:x[0]), reverse=True)\n",
    "total=0\n",
    "for num, cnt in ranked_ac1:\n",
    "    total+=cnt\n",
    "threshold_ac1=total*0.03\n",
    "i=0\n",
    "j=0\n",
    "while i<threshold_ac1:\n",
    "    i+=ranked_ac1[j][1]\n",
    "    j+=1\n",
    "    key=ranked_ac1[j][0]\n",
    "print(f\"A_content_1 sentence Threshold: {key}\")             "
   ]
  },
  {
   "cell_type": "code",
   "execution_count": 29,
   "id": "fd56b1a9",
   "metadata": {},
   "outputs": [
    {
     "name": "stdout",
     "output_type": "stream",
     "text": [
      "<class 'pandas.core.frame.DataFrame'>\n",
      "RangeIndex: 46320 entries, 0 to 46319\n",
      "Data columns (total 17 columns):\n",
      " #   Column           Non-Null Count  Dtype  \n",
      "---  ------           --------------  -----  \n",
      " 0   Q_title          46320 non-null  object \n",
      " 1   Q_content        36767 non-null  object \n",
      " 2   A_content_1      46320 non-null  object \n",
      " 3   A_content_2      22945 non-null  object \n",
      " 4   A_content_3      11949 non-null  object \n",
      " 5   A_content_4      6220 non-null   object \n",
      " 6   A_content_5      3305 non-null   object \n",
      " 7   keyword          46320 non-null  object \n",
      " 8   A_content_6      1 non-null      object \n",
      " 9   Q_title_len      46320 non-null  float64\n",
      " 10  Q_content_len    36767 non-null  float64\n",
      " 11  A_content_1_len  46320 non-null  float64\n",
      " 12  A_content_2_len  22945 non-null  float64\n",
      " 13  A_content_3_len  11949 non-null  float64\n",
      " 14  A_content_4_len  6220 non-null   float64\n",
      " 15  A_content_5_len  3305 non-null   float64\n",
      " 16  A_content_6_len  1 non-null      float64\n",
      "dtypes: float64(8), object(9)\n",
      "memory usage: 6.0+ MB\n"
     ]
    }
   ],
   "source": [
    "temp=[]\n",
    "for i in range(len(data3)):\n",
    "    if data3.loc[i,'A_content_1_len']>78:\n",
    "        temp.append(i)\n",
    "        \n",
    "data3=data3.drop(temp,axis=0)        \n",
    "data3.reset_index(drop=True, inplace=True)\n",
    "data3.info()"
   ]
  },
  {
   "cell_type": "code",
   "execution_count": 30,
   "id": "92d9595f",
   "metadata": {},
   "outputs": [
    {
     "name": "stdout",
     "output_type": "stream",
     "text": [
      "A_content_2 sentence Threshold: 76.0\n"
     ]
    }
   ],
   "source": [
    "# A_content_2 상위 3% 제거\n",
    "ranked_ac2=sorted(plot_dic_ac2.items(),key=(lambda x:x[0]), reverse=True)\n",
    "total=0\n",
    "for num, cnt in ranked_ac2:\n",
    "    total+=cnt\n",
    "threshold_ac2=total*0.03\n",
    "i=0\n",
    "j=0\n",
    "while i<threshold_ac2:\n",
    "    i+=ranked_ac2[j][1]\n",
    "    j+=1\n",
    "    key=ranked_ac2[j][0]\n",
    "print(f\"A_content_2 sentence Threshold: {key}\")             "
   ]
  },
  {
   "cell_type": "code",
   "execution_count": 31,
   "id": "1dd4c807",
   "metadata": {},
   "outputs": [
    {
     "name": "stdout",
     "output_type": "stream",
     "text": [
      "<class 'pandas.core.frame.DataFrame'>\n",
      "RangeIndex: 45634 entries, 0 to 45633\n",
      "Data columns (total 17 columns):\n",
      " #   Column           Non-Null Count  Dtype  \n",
      "---  ------           --------------  -----  \n",
      " 0   Q_title          45634 non-null  object \n",
      " 1   Q_content        36199 non-null  object \n",
      " 2   A_content_1      45634 non-null  object \n",
      " 3   A_content_2      22259 non-null  object \n",
      " 4   A_content_3      11662 non-null  object \n",
      " 5   A_content_4      6049 non-null   object \n",
      " 6   A_content_5      3218 non-null   object \n",
      " 7   keyword          45634 non-null  object \n",
      " 8   A_content_6      1 non-null      object \n",
      " 9   Q_title_len      45634 non-null  float64\n",
      " 10  Q_content_len    36199 non-null  float64\n",
      " 11  A_content_1_len  45634 non-null  float64\n",
      " 12  A_content_2_len  22259 non-null  float64\n",
      " 13  A_content_3_len  11662 non-null  float64\n",
      " 14  A_content_4_len  6049 non-null   float64\n",
      " 15  A_content_5_len  3218 non-null   float64\n",
      " 16  A_content_6_len  1 non-null      float64\n",
      "dtypes: float64(8), object(9)\n",
      "memory usage: 5.9+ MB\n"
     ]
    }
   ],
   "source": [
    "temp=[]\n",
    "for i in range(len(data3)):\n",
    "    if data3.loc[i,'A_content_2_len']>76:\n",
    "        temp.append(i)\n",
    "        \n",
    "data3=data3.drop(temp,axis=0)        \n",
    "data3.reset_index(drop=True, inplace=True)\n",
    "data3.info()"
   ]
  },
  {
   "cell_type": "code",
   "execution_count": 32,
   "id": "a2354355",
   "metadata": {},
   "outputs": [
    {
     "name": "stdout",
     "output_type": "stream",
     "text": [
      "A_content_3 sentence Threshold: 78.0\n"
     ]
    }
   ],
   "source": [
    "# A_content_3 상위 3% 제거\n",
    "ranked_ac3=sorted(plot_dic_ac3.items(),key=(lambda x:x[0]), reverse=True)\n",
    "total=0\n",
    "for num, cnt in ranked_ac3:\n",
    "    total+=cnt\n",
    "threshold_ac3=total*0.03\n",
    "i=0\n",
    "j=0\n",
    "while i<threshold_ac3:\n",
    "    i+=ranked_ac3[j][1]\n",
    "    j+=1\n",
    "    key=ranked_ac3[j][0]\n",
    "print(f\"A_content_3 sentence Threshold: {key}\")             "
   ]
  },
  {
   "cell_type": "code",
   "execution_count": 33,
   "id": "25b5971d",
   "metadata": {},
   "outputs": [
    {
     "name": "stdout",
     "output_type": "stream",
     "text": [
      "<class 'pandas.core.frame.DataFrame'>\n",
      "RangeIndex: 45299 entries, 0 to 45298\n",
      "Data columns (total 17 columns):\n",
      " #   Column           Non-Null Count  Dtype  \n",
      "---  ------           --------------  -----  \n",
      " 0   Q_title          45299 non-null  object \n",
      " 1   Q_content        35915 non-null  object \n",
      " 2   A_content_1      45299 non-null  object \n",
      " 3   A_content_2      21969 non-null  object \n",
      " 4   A_content_3      11327 non-null  object \n",
      " 5   A_content_4      5925 non-null   object \n",
      " 6   A_content_5      3141 non-null   object \n",
      " 7   keyword          45299 non-null  object \n",
      " 8   A_content_6      1 non-null      object \n",
      " 9   Q_title_len      45299 non-null  float64\n",
      " 10  Q_content_len    35915 non-null  float64\n",
      " 11  A_content_1_len  45299 non-null  float64\n",
      " 12  A_content_2_len  21969 non-null  float64\n",
      " 13  A_content_3_len  11327 non-null  float64\n",
      " 14  A_content_4_len  5925 non-null   float64\n",
      " 15  A_content_5_len  3141 non-null   float64\n",
      " 16  A_content_6_len  1 non-null      float64\n",
      "dtypes: float64(8), object(9)\n",
      "memory usage: 5.9+ MB\n"
     ]
    }
   ],
   "source": [
    "temp=[]\n",
    "for i in range(len(data3)):\n",
    "    if data3.loc[i,'A_content_3_len']>78:\n",
    "        temp.append(i)\n",
    "        \n",
    "data3=data3.drop(temp,axis=0)        \n",
    "data3.reset_index(drop=True, inplace=True)\n",
    "data3.info()"
   ]
  },
  {
   "cell_type": "code",
   "execution_count": 34,
   "id": "66b5babe",
   "metadata": {},
   "outputs": [
    {
     "name": "stdout",
     "output_type": "stream",
     "text": [
      "A_content_4 sentence Threshold: 79.0\n"
     ]
    }
   ],
   "source": [
    "# A_content_4 상위 3% 제거\n",
    "ranked_ac4=sorted(plot_dic_ac4.items(),key=(lambda x:x[0]), reverse=True)\n",
    "total=0\n",
    "for num, cnt in ranked_ac4:\n",
    "    total+=cnt\n",
    "threshold_ac4=total*0.03\n",
    "i=0\n",
    "j=0\n",
    "while i<threshold_ac4:\n",
    "    i+=ranked_ac4[j][1]\n",
    "    j+=1\n",
    "    key=ranked_ac4[j][0]\n",
    "print(f\"A_content_4 sentence Threshold: {key}\")             "
   ]
  },
  {
   "cell_type": "code",
   "execution_count": 35,
   "id": "eb8e2338",
   "metadata": {},
   "outputs": [
    {
     "name": "stdout",
     "output_type": "stream",
     "text": [
      "<class 'pandas.core.frame.DataFrame'>\n",
      "RangeIndex: 45140 entries, 0 to 45139\n",
      "Data columns (total 17 columns):\n",
      " #   Column           Non-Null Count  Dtype  \n",
      "---  ------           --------------  -----  \n",
      " 0   Q_title          45140 non-null  object \n",
      " 1   Q_content        35785 non-null  object \n",
      " 2   A_content_1      45140 non-null  object \n",
      " 3   A_content_2      21834 non-null  object \n",
      " 4   A_content_3      11208 non-null  object \n",
      " 5   A_content_4      5766 non-null   object \n",
      " 6   A_content_5      3073 non-null   object \n",
      " 7   keyword          45140 non-null  object \n",
      " 8   A_content_6      1 non-null      object \n",
      " 9   Q_title_len      45140 non-null  float64\n",
      " 10  Q_content_len    35785 non-null  float64\n",
      " 11  A_content_1_len  45140 non-null  float64\n",
      " 12  A_content_2_len  21834 non-null  float64\n",
      " 13  A_content_3_len  11208 non-null  float64\n",
      " 14  A_content_4_len  5766 non-null   float64\n",
      " 15  A_content_5_len  3073 non-null   float64\n",
      " 16  A_content_6_len  1 non-null      float64\n",
      "dtypes: float64(8), object(9)\n",
      "memory usage: 5.9+ MB\n"
     ]
    }
   ],
   "source": [
    "temp=[]\n",
    "for i in range(len(data3)):\n",
    "    if data3.loc[i,'A_content_4_len']>79:\n",
    "        temp.append(i)\n",
    "        \n",
    "data3=data3.drop(temp,axis=0)        \n",
    "data3.reset_index(drop=True, inplace=True)\n",
    "data3.info()"
   ]
  },
  {
   "cell_type": "code",
   "execution_count": 36,
   "id": "4becf526",
   "metadata": {},
   "outputs": [
    {
     "name": "stdout",
     "output_type": "stream",
     "text": [
      "A_content_5 sentence Threshold: 84.0\n"
     ]
    }
   ],
   "source": [
    "# A_content_5 상위 3% 제거\n",
    "ranked_ac5=sorted(plot_dic_ac5.items(),key=(lambda x:x[0]), reverse=True)\n",
    "total=0\n",
    "for num, cnt in ranked_ac5:\n",
    "    total+=cnt\n",
    "threshold_ac5=total*0.03\n",
    "i=0\n",
    "j=0\n",
    "while i<threshold_ac5:\n",
    "    i+=ranked_ac5[j][1]\n",
    "    j+=1\n",
    "    key=ranked_ac5[j][0]\n",
    "print(f\"A_content_5 sentence Threshold: {key}\")             "
   ]
  },
  {
   "cell_type": "code",
   "execution_count": 37,
   "id": "ad20679b",
   "metadata": {},
   "outputs": [
    {
     "name": "stdout",
     "output_type": "stream",
     "text": [
      "<class 'pandas.core.frame.DataFrame'>\n",
      "RangeIndex: 45072 entries, 0 to 45071\n",
      "Data columns (total 17 columns):\n",
      " #   Column           Non-Null Count  Dtype  \n",
      "---  ------           --------------  -----  \n",
      " 0   Q_title          45072 non-null  object \n",
      " 1   Q_content        35729 non-null  object \n",
      " 2   A_content_1      45072 non-null  object \n",
      " 3   A_content_2      21775 non-null  object \n",
      " 4   A_content_3      11155 non-null  object \n",
      " 5   A_content_4      5711 non-null   object \n",
      " 6   A_content_5      3005 non-null   object \n",
      " 7   keyword          45072 non-null  object \n",
      " 8   A_content_6      1 non-null      object \n",
      " 9   Q_title_len      45072 non-null  float64\n",
      " 10  Q_content_len    35729 non-null  float64\n",
      " 11  A_content_1_len  45072 non-null  float64\n",
      " 12  A_content_2_len  21775 non-null  float64\n",
      " 13  A_content_3_len  11155 non-null  float64\n",
      " 14  A_content_4_len  5711 non-null   float64\n",
      " 15  A_content_5_len  3005 non-null   float64\n",
      " 16  A_content_6_len  1 non-null      float64\n",
      "dtypes: float64(8), object(9)\n",
      "memory usage: 5.8+ MB\n"
     ]
    }
   ],
   "source": [
    "temp=[]\n",
    "for i in range(len(data3)):\n",
    "    if data3.loc[i,'A_content_5_len']>84:\n",
    "        temp.append(i)\n",
    "        \n",
    "data3=data3.drop(temp,axis=0)        \n",
    "data3.reset_index(drop=True, inplace=True)\n",
    "data3.info()"
   ]
  },
  {
   "cell_type": "code",
   "execution_count": 5,
   "id": "225bcc1c",
   "metadata": {},
   "outputs": [
    {
     "name": "stdout",
     "output_type": "stream",
     "text": [
      "\n"
     ]
    }
   ],
   "source": [
    "# threshold 바뀐 결과물 확인\n",
    "import matplotlib as mpl\n",
    "mpl.rcParams[\"font.size\"] = 13\n",
    "sentence_len_df=data2.iloc[:,9:16]\n",
    "k=1\n",
    "c= ['pink', 'tomato', 'aquamarine', 'royalblue', 'skyblue', 'mediumpurple','orange']\n",
    "for j in range(len(sentence_len_df.columns)):\n",
    "\n",
    "    plot_dic={}\n",
    "    for i in range(len(sentence_len_df[sentence_len_df.columns[j]])):\n",
    "        if sentence_len_df[sentence_len_df.columns[j]].isnull()[i]:\n",
    "            continue\n",
    "        plot_dic[sentence_len_df.loc[i,sentence_len_df.columns[j]]]=0\n",
    "\n",
    "    for i in range(len(sentence_len_df[sentence_len_df.columns[j]])):\n",
    "        if sentence_len_df[sentence_len_df.columns[j]].isnull()[i]:\n",
    "            continue\n",
    "        plot_dic[sentence_len_df.loc[i,sentence_len_df.columns[j]]]+=1\n",
    "    plt.subplot(3,3,k)\n",
    "    k+=1\n",
    "    plt.tight_layout()\n",
    "    plt.title(sentence_len_df.columns[j]+'gth')\n",
    "    plt.bar(plot_dic.keys(),plot_dic.values(), color= c[j])\n",
    "    plt.rcParams['figure.figsize'] = [15, 10]\n",
    "    # plt.color = var_color_dict[var]"
   ]
  },
  {
   "cell_type": "code",
   "execution_count": 43,
   "id": "e758d7fa",
   "metadata": {},
   "outputs": [],
   "source": [
    "data4=data3.iloc[:,:8]"
   ]
  },
  {
   "cell_type": "code",
   "execution_count": 44,
   "id": "32dbaa3a",
   "metadata": {
    "scrolled": true
   },
   "outputs": [
    {
     "data": {
      "text/html": [
       "<div>\n",
       "<style scoped>\n",
       "    .dataframe tbody tr th:only-of-type {\n",
       "        vertical-align: middle;\n",
       "    }\n",
       "\n",
       "    .dataframe tbody tr th {\n",
       "        vertical-align: top;\n",
       "    }\n",
       "\n",
       "    .dataframe thead th {\n",
       "        text-align: right;\n",
       "    }\n",
       "</style>\n",
       "<table border=\"1\" class=\"dataframe\">\n",
       "  <thead>\n",
       "    <tr style=\"text-align: right;\">\n",
       "      <th></th>\n",
       "      <th>Q_title</th>\n",
       "      <th>Q_content</th>\n",
       "      <th>A_content_1</th>\n",
       "      <th>A_content_2</th>\n",
       "      <th>A_content_3</th>\n",
       "      <th>A_content_4</th>\n",
       "      <th>A_content_5</th>\n",
       "      <th>keyword</th>\n",
       "    </tr>\n",
       "  </thead>\n",
       "  <tbody>\n",
       "    <tr>\n",
       "      <th>0</th>\n",
       "      <td>분리 불안장애 강아지</td>\n",
       "      <td>1. 분리 불안장애 심한 강아지 종류는 뭔가요?? 2. 분리 불안장애 강아지 종류...</td>\n",
       "      <td>불안장애 강아지 관계없이 타고난 성격과 주거 환경 견주나 가족들의 보육 습관으로 ...</td>\n",
       "      <td>우선 1 2번에 대해서 말씀드리자면 불안장애 강아지 종류가 아니라 강아지 한 마리...</td>\n",
       "      <td>NaN</td>\n",
       "      <td>NaN</td>\n",
       "      <td>NaN</td>\n",
       "      <td>강아지 장애</td>\n",
       "    </tr>\n",
       "    <tr>\n",
       "      <th>1</th>\n",
       "      <td>불안장애 강아지 잠자리 분리 질문 이용</td>\n",
       "      <td>진도 강아지 세 살 제가 외출 하울링 해서 불안장애 훈련 중인데 집 훈련이랑 잠자...</td>\n",
       "      <td>근데 잠자리 분리 훈련 시에 제 침대 올라오는 것을 아예 못하게 해야 하나요? 잘...</td>\n",
       "      <td>안녕하세요 천만 강아지 인과 함께하는 애견 동반 여행 플랫폼 하트 덕입니다. 강아...</td>\n",
       "      <td>NaN</td>\n",
       "      <td>NaN</td>\n",
       "      <td>NaN</td>\n",
       "      <td>강아지 장애</td>\n",
       "    </tr>\n",
       "    <tr>\n",
       "      <th>2</th>\n",
       "      <td>불안장애 강아지 새로운 강아지</td>\n",
       "      <td>4년 동안 고양이 같이 살았던 강아지 고양이 떨어지면서 불안장애 생긴 것 같아요 ...</td>\n",
       "      <td>이사하고 스트레스 보이는 강아지 지금 그 아이도 적응해야 하는데.. 새로운 아이를...</td>\n",
       "      <td>NaN</td>\n",
       "      <td>NaN</td>\n",
       "      <td>NaN</td>\n",
       "      <td>NaN</td>\n",
       "      <td>강아지 장애</td>\n",
       "    </tr>\n",
       "    <tr>\n",
       "      <th>3</th>\n",
       "      <td>불안장애 강아지 강아지 노즈 워크 워크 추천해주세요</td>\n",
       "      <td>NaN</td>\n",
       "      <td>산책 강아지 다리가 안 좋으면 강아지 유모차 조그이라도 자주 나가주시고요 노즈 워...</td>\n",
       "      <td>저런 여러 가지 증상이 한꺼번에 있네요 식탐은 많은가요? 노즈 워크 워크가 좋기는...</td>\n",
       "      <td>이걸로 하시면 되지 않을까 합니다 아무쪼록 건강하게 함께 오래 하시길 바라요. 펫...</td>\n",
       "      <td>NaN</td>\n",
       "      <td>NaN</td>\n",
       "      <td>강아지 장애</td>\n",
       "    </tr>\n",
       "    <tr>\n",
       "      <th>4</th>\n",
       "      <td>강아지 불안장애 대하여..</td>\n",
       "      <td>안녕하세요 5개월 차 미니 피숑과 함께하는 가족입니다. 저희 집식구는 5명인데 주...</td>\n",
       "      <td>안녕하세요 강아지 좋아 관련 사업을 하며 강아지 보호소 일도 도우며 후원하고 있는...</td>\n",
       "      <td>안녕하세요 강아지 강아지 대한 궁금증 해결해주는 하트 덕입니다. 강아지 훈련에는 ...</td>\n",
       "      <td>NaN</td>\n",
       "      <td>NaN</td>\n",
       "      <td>NaN</td>\n",
       "      <td>강아지 장애</td>\n",
       "    </tr>\n",
       "    <tr>\n",
       "      <th>...</th>\n",
       "      <td>...</td>\n",
       "      <td>...</td>\n",
       "      <td>...</td>\n",
       "      <td>...</td>\n",
       "      <td>...</td>\n",
       "      <td>...</td>\n",
       "      <td>...</td>\n",
       "      <td>...</td>\n",
       "    </tr>\n",
       "    <tr>\n",
       "      <th>45067</th>\n",
       "      <td>강아지 한 2달? 1달 동안 계속 습진이 안 없어져요 계속 발을 좀 심하게 핥다 ...</td>\n",
       "      <td>강아지 한 2달? 1달 동안 계속 습진이 안 없어져요 계속 발을 좀 심하게 핥다 ...</td>\n",
       "      <td>안녕하세요 지식 동물 의료 상담 활동 하고 있는 수의사 이 세원입니다. 우선 발을...</td>\n",
       "      <td>NaN</td>\n",
       "      <td>NaN</td>\n",
       "      <td>NaN</td>\n",
       "      <td>NaN</td>\n",
       "      <td>핥는 강아지</td>\n",
       "    </tr>\n",
       "    <tr>\n",
       "      <th>45068</th>\n",
       "      <td>강아지 얼굴 상처 저희 강아지 땅바닥이나 손 핥는 걸 좋아하는데 오늘 보니 얼굴 ...</td>\n",
       "      <td>NaN</td>\n",
       "      <td>안녕하세요 부천 하모니 동물병원 원장 하모니카입니다. 설명 내용과 사진만 보면서 ...</td>\n",
       "      <td>NaN</td>\n",
       "      <td>NaN</td>\n",
       "      <td>NaN</td>\n",
       "      <td>NaN</td>\n",
       "      <td>핥는 강아지</td>\n",
       "    </tr>\n",
       "    <tr>\n",
       "      <th>45069</th>\n",
       "      <td>새끼 강아지 자꾸 달려들어요.</td>\n",
       "      <td>2개월 강아지 키우고 있습니다. 가끔씩 제 다리 위에서 자기도 하고 제가 무릎 꿇...</td>\n",
       "      <td>안녕하세요 천만 강아지 인과 함께하는 애견 동반 여행 플랫폼 하트 덕입니다. 어린...</td>\n",
       "      <td>아기 강아지 들은 이갈이를 하기 때문에 그런 걸 수도 있습니다. 저도 정확한 시기...</td>\n",
       "      <td>NaN</td>\n",
       "      <td>NaN</td>\n",
       "      <td>NaN</td>\n",
       "      <td>핥는 강아지</td>\n",
       "    </tr>\n",
       "    <tr>\n",
       "      <th>45070</th>\n",
       "      <td>강아지 발바닥 뭔가요?</td>\n",
       "      <td>강아지 매일 발바닥 핥아요 5분 정도 계속 끊임없이 핥더라고요 그래서 발바닥 봤는...</td>\n",
       "      <td>상처가 있거나 할 수 있습니다. 자세히 살펴보시고요 혹 가시 같은 게 박혀있으면 ...</td>\n",
       "      <td>강아지 발을 핥거나 물어뜯어 면 뭐가 박혀 있거나 그게 아니면 습진 문제일 가능성...</td>\n",
       "      <td>불편 본데요? 계속 핥을 시 습진이 생길 수 있습니다.</td>\n",
       "      <td>NaN</td>\n",
       "      <td>NaN</td>\n",
       "      <td>핥는 강아지</td>\n",
       "    </tr>\n",
       "    <tr>\n",
       "      <th>45071</th>\n",
       "      <td>강아지 입술을 자꾸 핥아요</td>\n",
       "      <td>자는 엄마 입술을 맨날 핥습니다 맨날 혼내고 때려봐도 소용없습니다. 지가 잘못한 ...</td>\n",
       "      <td>강아지 핥는 것은 맛보는 것 그 이상의 의미도 있답니다. 호감이나 친밀함의 표현 ...</td>\n",
       "      <td>NaN</td>\n",
       "      <td>NaN</td>\n",
       "      <td>NaN</td>\n",
       "      <td>NaN</td>\n",
       "      <td>핥는 강아지</td>\n",
       "    </tr>\n",
       "  </tbody>\n",
       "</table>\n",
       "<p>45072 rows × 8 columns</p>\n",
       "</div>"
      ],
      "text/plain": [
       "                                                 Q_title  \\\n",
       "0                                            분리 불안장애 강아지   \n",
       "1                                  불안장애 강아지 잠자리 분리 질문 이용   \n",
       "2                                       불안장애 강아지 새로운 강아지   \n",
       "3                           불안장애 강아지 강아지 노즈 워크 워크 추천해주세요   \n",
       "4                                         강아지 불안장애 대하여..   \n",
       "...                                                  ...   \n",
       "45067   강아지 한 2달? 1달 동안 계속 습진이 안 없어져요 계속 발을 좀 심하게 핥다 ...   \n",
       "45068   강아지 얼굴 상처 저희 강아지 땅바닥이나 손 핥는 걸 좋아하는데 오늘 보니 얼굴 ...   \n",
       "45069                                   새끼 강아지 자꾸 달려들어요.   \n",
       "45070                                       강아지 발바닥 뭔가요?   \n",
       "45071                                     강아지 입술을 자꾸 핥아요   \n",
       "\n",
       "                                               Q_content  \\\n",
       "0       1. 분리 불안장애 심한 강아지 종류는 뭔가요?? 2. 분리 불안장애 강아지 종류...   \n",
       "1       진도 강아지 세 살 제가 외출 하울링 해서 불안장애 훈련 중인데 집 훈련이랑 잠자...   \n",
       "2       4년 동안 고양이 같이 살았던 강아지 고양이 떨어지면서 불안장애 생긴 것 같아요 ...   \n",
       "3                                                    NaN   \n",
       "4       안녕하세요 5개월 차 미니 피숑과 함께하는 가족입니다. 저희 집식구는 5명인데 주...   \n",
       "...                                                  ...   \n",
       "45067   강아지 한 2달? 1달 동안 계속 습진이 안 없어져요 계속 발을 좀 심하게 핥다 ...   \n",
       "45068                                                NaN   \n",
       "45069   2개월 강아지 키우고 있습니다. 가끔씩 제 다리 위에서 자기도 하고 제가 무릎 꿇...   \n",
       "45070   강아지 매일 발바닥 핥아요 5분 정도 계속 끊임없이 핥더라고요 그래서 발바닥 봤는...   \n",
       "45071   자는 엄마 입술을 맨날 핥습니다 맨날 혼내고 때려봐도 소용없습니다. 지가 잘못한 ...   \n",
       "\n",
       "                                             A_content_1  \\\n",
       "0       불안장애 강아지 관계없이 타고난 성격과 주거 환경 견주나 가족들의 보육 습관으로 ...   \n",
       "1       근데 잠자리 분리 훈련 시에 제 침대 올라오는 것을 아예 못하게 해야 하나요? 잘...   \n",
       "2       이사하고 스트레스 보이는 강아지 지금 그 아이도 적응해야 하는데.. 새로운 아이를...   \n",
       "3       산책 강아지 다리가 안 좋으면 강아지 유모차 조그이라도 자주 나가주시고요 노즈 워...   \n",
       "4       안녕하세요 강아지 좋아 관련 사업을 하며 강아지 보호소 일도 도우며 후원하고 있는...   \n",
       "...                                                  ...   \n",
       "45067   안녕하세요 지식 동물 의료 상담 활동 하고 있는 수의사 이 세원입니다. 우선 발을...   \n",
       "45068   안녕하세요 부천 하모니 동물병원 원장 하모니카입니다. 설명 내용과 사진만 보면서 ...   \n",
       "45069   안녕하세요 천만 강아지 인과 함께하는 애견 동반 여행 플랫폼 하트 덕입니다. 어린...   \n",
       "45070   상처가 있거나 할 수 있습니다. 자세히 살펴보시고요 혹 가시 같은 게 박혀있으면 ...   \n",
       "45071   강아지 핥는 것은 맛보는 것 그 이상의 의미도 있답니다. 호감이나 친밀함의 표현 ...   \n",
       "\n",
       "                                             A_content_2  \\\n",
       "0       우선 1 2번에 대해서 말씀드리자면 불안장애 강아지 종류가 아니라 강아지 한 마리...   \n",
       "1       안녕하세요 천만 강아지 인과 함께하는 애견 동반 여행 플랫폼 하트 덕입니다. 강아...   \n",
       "2                                                    NaN   \n",
       "3       저런 여러 가지 증상이 한꺼번에 있네요 식탐은 많은가요? 노즈 워크 워크가 좋기는...   \n",
       "4       안녕하세요 강아지 강아지 대한 궁금증 해결해주는 하트 덕입니다. 강아지 훈련에는 ...   \n",
       "...                                                  ...   \n",
       "45067                                                NaN   \n",
       "45068                                                NaN   \n",
       "45069   아기 강아지 들은 이갈이를 하기 때문에 그런 걸 수도 있습니다. 저도 정확한 시기...   \n",
       "45070   강아지 발을 핥거나 물어뜯어 면 뭐가 박혀 있거나 그게 아니면 습진 문제일 가능성...   \n",
       "45071                                                NaN   \n",
       "\n",
       "                                             A_content_3 A_content_4  \\\n",
       "0                                                    NaN         NaN   \n",
       "1                                                    NaN         NaN   \n",
       "2                                                    NaN         NaN   \n",
       "3       이걸로 하시면 되지 않을까 합니다 아무쪼록 건강하게 함께 오래 하시길 바라요. 펫...         NaN   \n",
       "4                                                    NaN         NaN   \n",
       "...                                                  ...         ...   \n",
       "45067                                                NaN         NaN   \n",
       "45068                                                NaN         NaN   \n",
       "45069                                                NaN         NaN   \n",
       "45070                     불편 본데요? 계속 핥을 시 습진이 생길 수 있습니다.         NaN   \n",
       "45071                                                NaN         NaN   \n",
       "\n",
       "      A_content_5 keyword  \n",
       "0             NaN  강아지 장애  \n",
       "1             NaN  강아지 장애  \n",
       "2             NaN  강아지 장애  \n",
       "3             NaN  강아지 장애  \n",
       "4             NaN  강아지 장애  \n",
       "...           ...     ...  \n",
       "45067         NaN  핥는 강아지  \n",
       "45068         NaN  핥는 강아지  \n",
       "45069         NaN  핥는 강아지  \n",
       "45070         NaN  핥는 강아지  \n",
       "45071         NaN  핥는 강아지  \n",
       "\n",
       "[45072 rows x 8 columns]"
      ]
     },
     "execution_count": 44,
     "metadata": {},
     "output_type": "execute_result"
    }
   ],
   "source": [
    "data4"
   ]
  },
  {
   "cell_type": "code",
   "execution_count": 45,
   "id": "8935a4c9",
   "metadata": {},
   "outputs": [],
   "source": [
    "data4.to_csv(\"dataset/final_data.csv\", encoding='utf-8-sig', index=False)"
   ]
  },
  {
   "cell_type": "code",
   "execution_count": null,
   "id": "119175cb",
   "metadata": {},
   "outputs": [],
   "source": []
  },
  {
   "cell_type": "markdown",
   "id": "d1c4b57e",
   "metadata": {},
   "source": [
    "### DATA mining Process"
   ]
  },
  {
   "cell_type": "code",
   "execution_count": 964,
   "id": "a6a5cac6",
   "metadata": {},
   "outputs": [],
   "source": [
    "total_df = pd.read_csv('dataset/강아지 가족.csv', encoding = 'utf-8-sig')"
   ]
  },
  {
   "cell_type": "code",
   "execution_count": 965,
   "id": "29ad732d",
   "metadata": {},
   "outputs": [
    {
     "name": "stdout",
     "output_type": "stream",
     "text": [
      "<class 'pandas.core.frame.DataFrame'>\n",
      "RangeIndex: 940 entries, 0 to 939\n",
      "Data columns (total 7 columns):\n",
      " #   Column       Non-Null Count  Dtype \n",
      "---  ------       --------------  ----- \n",
      " 0   Q_title      912 non-null    object\n",
      " 1   Q_content    757 non-null    object\n",
      " 2   A_content_1  912 non-null    object\n",
      " 3   A_content_2  612 non-null    object\n",
      " 4   A_content_3  367 non-null    object\n",
      " 5   A_content_4  183 non-null    object\n",
      " 6   A_content_5  83 non-null     object\n",
      "dtypes: object(7)\n",
      "memory usage: 51.5+ KB\n"
     ]
    }
   ],
   "source": [
    "total_df.info()"
   ]
  },
  {
   "cell_type": "code",
   "execution_count": 966,
   "id": "510bc256",
   "metadata": {},
   "outputs": [],
   "source": [
    "total_df=total_df[['Q_content']].dropna(axis=0)"
   ]
  },
  {
   "cell_type": "code",
   "execution_count": 967,
   "id": "a21e8b01",
   "metadata": {
    "scrolled": true
   },
   "outputs": [],
   "source": [
    "total_df.reset_index(drop=True, inplace=True)"
   ]
  },
  {
   "cell_type": "code",
   "execution_count": 968,
   "id": "86e288f9",
   "metadata": {},
   "outputs": [
    {
     "data": {
      "text/html": [
       "<div>\n",
       "<style scoped>\n",
       "    .dataframe tbody tr th:only-of-type {\n",
       "        vertical-align: middle;\n",
       "    }\n",
       "\n",
       "    .dataframe tbody tr th {\n",
       "        vertical-align: top;\n",
       "    }\n",
       "\n",
       "    .dataframe thead th {\n",
       "        text-align: right;\n",
       "    }\n",
       "</style>\n",
       "<table border=\"1\" class=\"dataframe\">\n",
       "  <thead>\n",
       "    <tr style=\"text-align: right;\">\n",
       "      <th></th>\n",
       "      <th>Q_content</th>\n",
       "    </tr>\n",
       "  </thead>\n",
       "  <tbody>\n",
       "    <tr>\n",
       "      <th>0</th>\n",
       "      <td>제가 너무 스트레스 받아서 제가 이상한건지 여쭤봅니다처음 강아지 입양 했을때 물론 ...</td>\n",
       "    </tr>\n",
       "    <tr>\n",
       "      <th>1</th>\n",
       "      <td>저는 8년동안 페키니즈를 키우고 있습니다.저희 페키는 배변훈련을 어렸을때부터 해서 ...</td>\n",
       "    </tr>\n",
       "    <tr>\n",
       "      <th>2</th>\n",
       "      <td>안녕하세요 강아지 1인 가족 일 시, 잘 키울 수 있는 방법? (강아지 훈련 이나 ...</td>\n",
       "    </tr>\n",
       "    <tr>\n",
       "      <th>3</th>\n",
       "      <td>어머니가 약 3달 전에 아기 강아지를 80만원 가량을 지불하고 데려오셨습니다. 저희...</td>\n",
       "    </tr>\n",
       "    <tr>\n",
       "      <th>4</th>\n",
       "      <td>안녕하세요 제가 진짜로 예전 부터 강아지를 엄청 좋아했는데요...그런데못 키우는 이...</td>\n",
       "    </tr>\n",
       "    <tr>\n",
       "      <th>...</th>\n",
       "      <td>...</td>\n",
       "    </tr>\n",
       "    <tr>\n",
       "      <th>752</th>\n",
       "      <td>안녕하세요 6개월된 남아 말티즈 키우는 대학생입니다. 이 아이를 데려온지 4개월이 ...</td>\n",
       "    </tr>\n",
       "    <tr>\n",
       "      <th>753</th>\n",
       "      <td>안녕하세요  저는 미니어쳐 푸들을 키우고 있는 고등학생입니다.  다름이 아니라 저희...</td>\n",
       "    </tr>\n",
       "    <tr>\n",
       "      <th>754</th>\n",
       "      <td>혹시 강아지 입양처 구하고 계시는 분 있으면 댓 달아주세요 저희는 4인가족이고 강아...</td>\n",
       "    </tr>\n",
       "    <tr>\n",
       "      <th>755</th>\n",
       "      <td>안녕하세요평범한 소녀입니다ㅋ강아지를 키우려는데 첨이거든요;;그래서 뭐를 사야할지 어...</td>\n",
       "    </tr>\n",
       "    <tr>\n",
       "      <th>756</th>\n",
       "      <td>딸아이 아들아이키우고 있는 사람이에요아이둘에 힘들어도 예쁜강아지가 가족으로 오니 사...</td>\n",
       "    </tr>\n",
       "  </tbody>\n",
       "</table>\n",
       "<p>757 rows × 1 columns</p>\n",
       "</div>"
      ],
      "text/plain": [
       "                                             Q_content\n",
       "0    제가 너무 스트레스 받아서 제가 이상한건지 여쭤봅니다처음 강아지 입양 했을때 물론 ...\n",
       "1    저는 8년동안 페키니즈를 키우고 있습니다.저희 페키는 배변훈련을 어렸을때부터 해서 ...\n",
       "2    안녕하세요 강아지 1인 가족 일 시, 잘 키울 수 있는 방법? (강아지 훈련 이나 ...\n",
       "3    어머니가 약 3달 전에 아기 강아지를 80만원 가량을 지불하고 데려오셨습니다. 저희...\n",
       "4    안녕하세요 제가 진짜로 예전 부터 강아지를 엄청 좋아했는데요...그런데못 키우는 이...\n",
       "..                                                 ...\n",
       "752  안녕하세요 6개월된 남아 말티즈 키우는 대학생입니다. 이 아이를 데려온지 4개월이 ...\n",
       "753  안녕하세요  저는 미니어쳐 푸들을 키우고 있는 고등학생입니다.  다름이 아니라 저희...\n",
       "754  혹시 강아지 입양처 구하고 계시는 분 있으면 댓 달아주세요 저희는 4인가족이고 강아...\n",
       "755  안녕하세요평범한 소녀입니다ㅋ강아지를 키우려는데 첨이거든요;;그래서 뭐를 사야할지 어...\n",
       "756  딸아이 아들아이키우고 있는 사람이에요아이둘에 힘들어도 예쁜강아지가 가족으로 오니 사...\n",
       "\n",
       "[757 rows x 1 columns]"
      ]
     },
     "execution_count": 968,
     "metadata": {},
     "output_type": "execute_result"
    }
   ],
   "source": [
    "total_df"
   ]
  },
  {
   "cell_type": "markdown",
   "id": "4c5ee053",
   "metadata": {},
   "source": [
    "### 데이터 품사 분류"
   ]
  },
  {
   "cell_type": "code",
   "execution_count": 969,
   "id": "903f61a3",
   "metadata": {
    "scrolled": true
   },
   "outputs": [],
   "source": [
    "for i in range(len(total_df['Q_content'])):\n",
    "    try:\n",
    "        norm = re.compile('[가-힣|0-9|.|?]+').findall(total_df.loc[i,'Q_content'])\n",
    "        st = ' '.join(norm)\n",
    "        st2 = spell_checker.check(st)\n",
    "        total_df.loc[i,'Q_content']=st2[2]\n",
    "    except:\n",
    "        print(i)"
   ]
  },
  {
   "cell_type": "code",
   "execution_count": 970,
   "id": "566ec73a",
   "metadata": {},
   "outputs": [],
   "source": [
    "komoran=Komoran()\n",
    "total_df['Q_title_pos']=total_df['Q_content'].map(lambda x: komoran.pos(x))"
   ]
  },
  {
   "cell_type": "code",
   "execution_count": 971,
   "id": "85515a57",
   "metadata": {},
   "outputs": [
    {
     "name": "stdout",
     "output_type": "stream",
     "text": [
      "[('저', 'NP'), ('는', 'JX'), ('8', 'SN'), ('년', 'NNB'), ('동안', 'NNG'), ('페키니즈', 'NNP'), ('를', 'JKO'), ('키우', 'VV'), ('고', 'EC'), ('있', 'VX'), ('습니다', 'EF'), ('.', 'SF'), ('저희', 'NP'), ('페리', 'NNP'), ('는', 'JX'), ('배변', 'NNP'), ('훈련', 'NNG'), ('을', 'JKO'), ('어리', 'VA'), ('었', 'EP'), ('을', 'ETM'), ('때', 'NNG'), ('부터', 'JX'), ('하', 'VV'), ('아서', 'EC'), ('애견', 'NNG'), ('카페나', 'NNP'), ('다른', 'MM'), ('곳', 'NNG'), ('을', 'JKO'), ('가도', 'NNP'), ('배변', 'NNP'), ('패드', 'NNP'), ('에', 'JKB'), ('잘', 'MAG'), ('볼일', 'NNG'), ('을', 'JKO'), ('보', 'VV'), ('았', 'EP'), ('는데', 'EC'), ('이사', 'NNG'), ('오', 'VV'), ('고', 'EC'), ('몇', 'MM'), ('달', 'NNG'), ('이', 'JKS'), ('지나', 'VV'), ('니까', 'EC'), ('애가', 'NNP'), ('계속', 'MAG'), ('자기', 'NP'), ('화장실', 'NNG'), ('에서', 'JKB'), ('변', 'NNG'), ('을', 'JKO'), ('보', 'VV'), ('지', 'EC'), ('않', 'VX'), ('습니다', 'EF'), ('.', 'SF'), ('저희', 'NP'), ('가족', 'NNG'), ('화장실', 'NNP'), ('바로', 'MAG'), ('옆', 'NNG'), ('에', 'JKB'), ('강아지', 'NNP'), ('화장실', 'NNG'), ('이', 'JKS'), ('있', 'VV'), ('는데', 'EC'), ('도', 'JX'), ('굳이', 'MAG'), ('가족', 'NNG'), ('화장실', 'NNG'), ('에', 'JKB'), ('들어가', 'VV'), ('ㅂ니다', 'EF'), ('.', 'SF'), ('그래서', 'MAJ'), ('문', 'NNG'), ('을', 'JKO'), ('열', 'VV'), ('어', 'EC'), ('놓', 'VX'), ('을', 'ETM'), ('수', 'NNB'), ('도', 'JX'), ('없', 'VA'), ('습니다', 'EF'), ('.', 'SF'), ('강아지', 'NNG'), ('를', 'JKO'), ('사랑', 'NNG'), ('하', 'XSV'), ('지만', 'EC'), ('강아지', 'NNP'), ('똥', 'NNG'), ('냄새', 'NNG'), ('까지', 'JX'), ('는', 'JX'), ('사랑', 'NNG'), ('하', 'XSV'), ('ㄹ', 'ETM'), ('수', 'NNB'), ('없', 'VA'), ('어서', 'EC'), ('페기가', 'NA'), ('변', 'NNG'), ('을', 'JKO'), ('보', 'VV'), ('고', 'EC'), ('나', 'VV'), ('면', 'EC'), ('그', 'MM'), ('화장실', 'NNG'), ('을', 'JKO'), ('가족', 'NNG'), ('모두', 'NNG'), ('가', 'JKS'), ('못', 'MAG'), ('가', 'VV'), ('아서', 'EC'), ('냄새', 'NNG'), ('가', 'JKS'), ('빠지', 'VV'), ('ㄹ', 'ETM'), ('때', 'NNG'), ('까지', 'JX'), ('환풍기', 'NNP'), ('를', 'JKO'), ('틀', 'VV'), ('어야', 'EC'), ('하', 'VV'), ('고', 'EC'), ('화장실', 'NNG'), ('에', 'JKB'), ('창문', 'NNP'), ('이', 'JKS'), ('없', 'VA'), ('습니다', 'EC'), ('너무', 'MAG'), ('괴롭', 'VA'), ('습니다', 'EF'), ('.', 'SF'), ('질문', 'NNG'), ('강아지', 'NNP'), ('가', 'JKS'), ('이렇', 'VA'), ('는', 'ETM'), ('이유', 'NNG'), ('는', 'JX'), ('?', 'SF'), ('이거', 'NP'), ('ㄹ', 'JKO'), ('고치', 'VV'), ('는', 'ETM'), ('방법', 'NNG'), ('은', 'JX'), ('?', 'SF')]\n"
     ]
    }
   ],
   "source": [
    "print(total_df['Q_title_pos'][1])"
   ]
  },
  {
   "cell_type": "code",
   "execution_count": null,
   "id": "e4c9da74",
   "metadata": {},
   "outputs": [],
   "source": []
  },
  {
   "cell_type": "markdown",
   "id": "fa41acd6",
   "metadata": {},
   "source": [
    "### 사전에 있는 단어 호출"
   ]
  },
  {
   "cell_type": "code",
   "execution_count": 972,
   "id": "97e068bc",
   "metadata": {},
   "outputs": [],
   "source": [
    "df_dictionary=pd.read_csv(\"voca_dictionary.csv\", encoding='utf-8-sig', index_col=0)"
   ]
  },
  {
   "cell_type": "code",
   "execution_count": 973,
   "id": "94142f36",
   "metadata": {},
   "outputs": [],
   "source": [
    "checking=''\n",
    "for st in df_dictionary.values:\n",
    "    checking+=' '+st[0]\n",
    "for st in df_dictionary.index:\n",
    "    checking+=' '+st"
   ]
  },
  {
   "cell_type": "markdown",
   "id": "8bf7ae1d",
   "metadata": {},
   "source": [
    "### 데이터 내 명사와 사전 내 명사 중 일치 하지 않은 것 추출"
   ]
  },
  {
   "cell_type": "code",
   "execution_count": 974,
   "id": "92ee2e96",
   "metadata": {},
   "outputs": [
    {
     "name": "stdout",
     "output_type": "stream",
     "text": [
      "저\n",
      "페리\n",
      "카페나\n",
      "안녕하세요\n",
      "바이러스\n",
      "낑낑거렸었고\n",
      "펫숍의였습니다.\n",
      "스테레스받을낀봐어쩌죠..어제\n",
      "그럼에도 불구하고\n",
      "옭...욹...짖어도\n",
      "보스턴 테리어\n"
     ]
    }
   ],
   "source": [
    "cnt_noum={}\n",
    "cnt_n_data={}\n",
    "for i in range(len(total_df['Q_title_pos'])):\n",
    "    for st, ty in total_df.loc[i,'Q_title_pos']:\n",
    "        if st in checking.split():\n",
    "            continue\n",
    "            \n",
    "        if ty[0]=='N':\n",
    "            \n",
    "            \n",
    "            if len(st) not in cnt_noum.keys():\n",
    "                print(st)\n",
    "                cnt_noum[len(st)]=0\n",
    "                cnt_n_data[len(st)]=[st]\n",
    "            else:\n",
    "                cnt_noum[len(st)]+=1\n",
    "                if st not in cnt_n_data[len(st)]: # 중복제거\n",
    "                    cnt_n_data[len(st)].append(st)\n",
    "cnt_noum=sorted(cnt_noum.items())\n",
    "cnt_n_data=sorted(cnt_n_data.items())"
   ]
  },
  {
   "cell_type": "code",
   "execution_count": 975,
   "id": "97911b1b",
   "metadata": {},
   "outputs": [
    {
     "data": {
      "text/plain": [
       "[(1, 5307),\n",
       " (2, 4721),\n",
       " (3, 854),\n",
       " (4, 217),\n",
       " (5, 173),\n",
       " (6, 36),\n",
       " (7, 4),\n",
       " (8, 3),\n",
       " (9, 1),\n",
       " (11, 2),\n",
       " (15, 0)]"
      ]
     },
     "execution_count": 975,
     "metadata": {},
     "output_type": "execute_result"
    }
   ],
   "source": [
    "cnt_noum"
   ]
  },
  {
   "cell_type": "code",
   "execution_count": 976,
   "id": "d790b215",
   "metadata": {},
   "outputs": [
    {
     "name": "stdout",
     "output_type": "stream",
     "text": [
      "(1, ['저', '년', '때', '곳', '달', '변', '옆', '문', '수', '시', '것', '점', '중', '밤', '잠', '게', '자', '건', '안', '강', '그', '뭐', '분', '땜', '글', '집', '거', '지', '번', '개', '살', '맘', '피', '날', '꿈', '견', '명', '둘', '미', '발', '이', '내', '공', '쯤', '일', '암', '예', '애', '밖', '포', '현', '경', '눈', '반', '록', '밥', '전', '앞', '말', '나', '물', '등', '텐', '털', '척', '러', '더', '적', '킥', '짓', '밑', '너', '면', '외', '형', '욕', '켄', '넬', '모', '뼈', '족', '놈', '쪽', '도', '몸', '돈', '머', '순', '화', '팔', '위', '귀', '못', '꽃', '약', '창', '열', '조', '듯', '복', '티', '요', '만', '주', '코', '절', '품', '얘', '션', '겁', '길', '펜', '독', '맛', '뒤', '처', '박', '숏', '껌', '즘', '뭄', '담', '한', '땅', '후', '당', '배', '식', '장', '어', '떡', '댐', '염', '음', '남', '상', '끝', '바', '간', '종', '대', '업', '아', '알', '하', '새', '첨', '사', '흥', '부', '비', '다', '동', '젤', '힘', '빡', '세', '감', '무', '닭', '원', '딸', '막', '둥', '파', '양', '속', '습', '법', '엽', '쥐', '찌', '책', '누', '뿐', '터', '차', '삼', '디', '신', '씨', '왕', '을', '란', '낮', '정', '겉', '유', '답', '옷', '입', '재', '질', '송', '편', '히', '병', '금', '셋', '판', '죽', '빵', '흑', '덕', '여', '꼴', '핀', '채', '필', '네', '넷', '느', '은', '토', '삽', '민', '교', '드', '곁', '뜻', '뉘', '가', '혀', '셈', '펫', '망', '휴', '해', '랑', '벽', '용', '빠', '르', '마', '검', '얌', '걸', '십', '낭', '목', '맒', '멋', '턱', '기', '과', '색', '회', '키', '쟤', '쌀', '짐', '치', '줄', '인', '빌', '톱', '꾀', '님', '득', '뱀', '탓', '깨', '갱', '술', '뻔', '임', '오', '칸', '짝', '평', '서', '래', '봄', '엿', '합', '움', '테', '백', '초', '컵', '껀', '우', '노', '풀', '층', '덤', '체', '소', '멍', '훔', '라', '운', '까', '진', '솜', '혹', '벌', '빗', '행', '매', '꺼', '쇼', '성', '산', '격', '콘', '표', '관', '숑', '낯', '젖', '측', '실', '값', '별', '으', '돌', '혼', '댓', '뻥'])\n"
     ]
    }
   ],
   "source": [
    "# 명사가 1개짜리는 의미 파악이 어려움\n",
    "print(cnt_n_data[0])"
   ]
  },
  {
   "cell_type": "code",
   "execution_count": 977,
   "id": "0cd57465",
   "metadata": {},
   "outputs": [
    {
     "name": "stdout",
     "output_type": "stream",
     "text": [
      "(2, ['페리', '가도', '볼일', '이사', '애가', '자기', '모두', '등등', '음식', '수면', '확진', '자와', '접촉', '격리', '기간', '전파', '전염', '감사', '공부', '허락', '설득', '적응', '지도', '평소', '출근', '분리', '주말', '평일', '저녁', '제가', '늑대', '순간', '오빠', '이해', '이것', '사회', '부족', '알파', '판단', '교정', '사인', '입양', '이서', '대우', '리다', '현관', '혼란', '질투', '인사', '두발', '대응', '이랑', '리제', '마린', '호텔', '숙박', '부탁', '가요', '올해', '학년', '제로', '기역', '가정', '부양', '해서', '제일', '그때', '이제', '아비', '신체', '해고', '마리', '학생', '데리', '펫숍', '추정', '크림', '시기', '성격', '고자', '생일', '고요', '자신', '메일', '확인', '본가', '환경', '필요', '각자', '이웃', '안방', '자리', '한곳', '새벽', '도어', '번호', '남이', '특정', '지금', '외출', '얼마', '동시', '대화', '앞발', '지혈', '재촉', '난리', '심해', '절대', '약주', '침대', '계단', '구역', '생명', '녀석', '주인', '싸움', '요한', '무리', '서열', '인지', '반대', '옛날', '눈병', '개요', '입장', '나이', '브리', '그쪽', '보드', '제품', '족발', '버릇', '친척', '방식', '화병', '나물', '주먹', '발각', '정상', '조치', '이브', '남편', '셀프', '지역', '강남', '강북', '무지', '규모', '거기', '설명', '사실', '보니', '안전', '자란', '농장', '형제', '하진', '종류', '숯불', '크기', '하나', '고민', '성별', '경로', '대구', '선배', '조언', '보라', '가지', '여중', '실패', '때문', '느낌', '날림', '용기', '공원', '운동', '어필', '가입', '가게', '사서', '교배', '집안', '회사', '눈곱', '청결', '표현', '짠맛', '시도', '상담', '아무', '과자', '서서', '수천', '수백', '짜증', '포기', '충격', '수명', '제소', '고집', '대전', '개인', '옥상', '신발', '부엌', '옆쪽', '고모', '언제', '믿음', '사절', '초등', '고생', '스파', '니엘', '라고', '효과', '대신', '테리', '진심', '개판', '아진', '주거', '터치', '퇴근', '반기', '오전', '자체', '인해', '예전', '진물', '요전', '교회', '학원', '종일', '아까', '실험', '언니', '때려', '안중', '애도', '주가', '누구', '침입', '6월', '계획', '바다', '어른', '대형', '가야', '채도', '인천', '서해', '가격', '관광', '군대', '형도', '남자', '발도', '니다', '제목', '계곡', '캠핑', '천안', '시골', '최대', '개설', '넓이', '군데', '숙소', '기존', '파이', '다롱', '모모', '마가', '딱지', '선택', '항문', '정이', '4월', '듯이', '이건', '아우', '부분', '언성', '세부', '애인', '저기', '출장', '자살', '진짜', '선박', '라면', '지방', '관련', '군기', '발라', '시위', '공주', '극도', '언가', '일종', '일월', '방안', '물론', '저번', '용지', '편지', '팔뚝', '막내', '여태', '적도', '5월', '선물', '서로', '통뼈', '드릴', '계시', '조카', '작정', '혈통', '똥개', '이번', '무사', '악질', '식구', '자구', '집착', '초도', '대면', '여아', '약간', '차별', '문의', '직장', '누나', '주니', '성질', '손님', '매형', '일부', '삼촌', '이모', '직전', '신고', '장면', '표정', '자매', '낯선', '애착', '나중', '이별', '방지', '지만', '시가', '갈색', '도리', '시경', '마트', '안고', '만약', '귀소', '본능', '여럿', '잡종', '리지', '정견', '결국', '갈등', '무료', '8월', '레트', '킬로', '센터', '자제', '설날', '거인', '장소', '아시', '있다', '아니', '소화', '기능', '한대', '배로', '장기', '단체', '푸름', '소녀', '미국', '한편', '성적', '사신', '카펫', '털이', '동네', '회의', '행운', '여름', '밥집', '주심', '우자', '인제', '비만', '견우', '바탕', '화면', '도배', '노래', '대하', '부신', '오래', '지인', '그물', '마루', '군가', '보호', '빈도', '소형', '유일', '작년', '도망', '얌전', '양인', '지나', '도다', '가가', '기만', '방문', '대체', '살수', '야자', '맹세', '암울', '방해', '요요', '목이', '시험', '평균', '성의', '수사', '벌금', '처리', '요크', '하지', '요청', '생리', '분이', '활동', '제외', '덩치', '손은', '중견', '시늉', '왕따', '9월', '예정', '커서', '자라', '형편', '말씀', '나름', '양이', '소파', '타월', '물기', '공격', '이틀', '전약', '환장', '돼지', '다툼', '사과', '간격', '잠도', '안자', '점심', '첫째', '구분', '욕설', '아홉', '구매', '이때', '대처', '문적', '합의', '충북', '청주', '인근', '구경', '내년', '이고', '동행', '의지', '도난', '고용', '질병', '의사', '자율', '배식', '욕심', '관찰', '주시', '전과', '추측', '옥이', '광주', '전남', '책임', '이신', '일전', '닥스', '고수', '자문', '완전', '인간', '불만', '지옥', '말순', '피해', '순종', '후에', '독립', '동의', '백수', '아리', '깽깽', '백단', '팔로', '원룸', '하구', '양해', '정관', '관심', '상의', '다만', '요번', '정서', '미혼', '호박', '소량', '이전', '야속', '그네', '골절', '타인', '보험', '청구', '소용', '미니', '온대', '미움', '점수', '철장', '계란', '전원', '7월', '중순', '북경', '유학', '진행', '평화', '수영', '완벽', '증세', '영상', '자야', '리플', '대답', '모드', '새해', '급여', '상추', '오이', '과일', '참외', '수박', '이하', '체중', '준비', '사교', '안산', '쿠퍼', '집힌', '기사', '대서', '병점', '동탄', '시로', '가출', '상식', '성자', '부근', '일생', '팔목', '아들', '매실', '눈앞', '차이', '밀어', '조건', '보통', '포맷', '시중', '사기', '세상', '도요', '시력', '이병', '치킨', '튀김', '닭살', '반찬', '송이', '나라', '일정', '하면', '오열', '책상', '현실', '꿈속', '결론', '안마', '하기', '노력', '척도', '해달', '목재', '근무', '목격', '공장', '지라', '트럭', '차량', '한텐', '3분', '불편', '이외', '오질', '영향', '합격', '연기', '해지', '기준', '진동', '심정', '실종', '흰색', '부산', '대문', '울상', '비교', '전날', '눈물', '주민', '사례', '부천', '양가', '부담', '유인', '이뻐', '성공', '만세', '그놈', '액자', '일반', '수원', '대도', '열쇠', '고리', '결정', '특징', '주무', '인걸', '한지', '감정', '극단', '일본', '학살', '마시', '이일', '가보', '용변', '산다', '안도', '강릉', '주방', '연구', '여유', '자식', '강조', '재학', '현재', '결핍', '객관', '본인', '유도', '벽지', '튜브', '짐승', '종보', '종두', '오시', '이혼', '방석', '용돈', '포도', '정말', '중종', '소장', '반면', '합류', '수업', '땡땡', '단점', '거주', '계세', '악화', '요양', '시설', '편애', '인식', '연륜', '짐작', '빌라', '할배', '발치', '스턴', '친절', '비닐', '갈이', '남아', '아랑', '와도', '중성', '기침', '마개', '이쪽', '네스', '호통', '배경', '직접', '반려', '성장', '일가', '태도', '예뻐', '분야', '외모', '애용', '사양', '쓰기', '공경', '숙제', '연결', '마을', '장례', '봉투', '다나', '그중', '촬영', '쪽지', '광고', '차도', '차주', '공감', '배상', '택시', '승차', '응급', '출동', '화가', '해당', '처벌', '규정', '소홀', '학업', '부재', '밑줄', '수목', '스타', '봉사', '비문', '노즈', '워크', '민원', '철창', '너머', '동족', '장이', '아산', '세균', '주신', '신중', '요일', '논리', '토끼', '종의', '만지', '희망', '초대', '장점', '야구', '정성', '자취', '배달', '시댁', '가슴', '안대', '유난', '화나', '따위', '상관', '실내', '안주', '애완', '화장', '한계', '강제', '생전', '생기', '소문', '그쯤', '화분', '식물', '뒤끝', '총알', '올림', '사촌', '바늘', '사지', '광양', '사면', '마라', '충성', '성심', '해주', '공간', '화도', '황경', '그전', '보로', '사분', '납치', '탈출', '과정', '경찰', '두기', '출입', '금지', '김포', '전화', '지경', '대로', '그곳', '급식', '지장', '가망', '치매', '보물', '네모', '배려', '도안', '꼰대', '최선', '나가', '일보', '입학', '살인', '외식', '주륵', '별짓', '지리', '안지', '요지', '대장', '존재', '올백', '학기', '제라', '주제', '비판', '신뢰', '만남', '50', '신문', '발로', '차기', '일로', '거먕', '돌변', '코코', '이내', '당부', '마디', '와중', '거미', '전환', '필사', '흉터', '호전', '한국', '운송', '실용', '용인', '여주', '근래', '잡기', '진정', '시장', '거지', '갈수', '순이', '사요', '성은', '몸짓', '필수', '성실', '효율', '게임', '계정', '삭제', '유골', '예비', '초딩', '도둑', '드림', '외동', '55', '선호', '산지', '양당', '체구', '휴가', '민박', '곳도', '예약', '추신', '길가', '이우', '상대', '흐엉', '저의', '연습', '당황', '미터', '그분', '묘지', '소식', '발생', '속도', '통합', '바지', '손길', '임시', '대상', '사당', '라나', '소름', '한방', '신청', '일명', '표시', '주기', '레몬', '결혼', '동전', '오버', '완료', '다구', '큰맘', '운영', '목적', '자금', '심술', '부리', '접수', '자택', '행인', '대책', '게시', '명절', '구박', '모집', '이종', '비난', '기회', '적극', '부덕', '모랑', '취미', '임비', '고소', '체온', '빈혈', '뱃속', '악성', '종양', '지원', '외박', '조심', '한참', '상업', '칫솔', '구입', '도서', '후회', '노망', '주지', '절망', '바우', '자격', '하늘', '차차', '재미', '이놈', '치실', '스샷', '우유', '1월', '시즌', '개학', '자게', '북구', '동이', '번식', '사시', '호소', '선산', '무당', '수맥', '모녀', '의존', '견해', '양치', '뒷산', '미만', '링거', '요도', '고통', '강도', '고치', '이민', '공항', '도착', '평생', '진도', '쌔게', '친숙', '복날', '망가', '구석', '새집', '열흘', '제의', '초기', '각오', '년대', '자극', '독감', '전쟁', '사온', '새침', '줄라', '고도', '성대', '자료', '간다', '수고', '일원', '약속', '실화', '초본', '경고', '시절', '6년', '정작', '시트', '사건', '포장', '한입', '리진', '펜스', '자세', '어이', '수저', '잡지', '정체', '코지', '완치', '살이', '평수', '충고', '전집', '본론', '양념', '유지', '니어', '거도', '별도', '추가', '오니', '발기', '저쪽', '당혹'])\n"
     ]
    }
   ],
   "source": [
    "# 명사가 2개짜리 부터 의미 파악이 용이\n",
    "print(cnt_n_data[1])"
   ]
  },
  {
   "cell_type": "code",
   "execution_count": 978,
   "id": "e995feae",
   "metadata": {},
   "outputs": [
    {
     "name": "stdout",
     "output_type": "stream",
     "text": [
      "(3, ['카페나', '화장실', '페기가', '환풍기', '유도제', '코로나', '매개체', '시간대', '아오이', '하울링', '피숑을', '증후군', '책임감', '불안증', '사진관', '해주시', '서울로', '구성원', '뒷다리', '고 온', '원숭이', '펫숍을', '살다가', '월요일', '할머니', '팔베개', '오른쪽', '이동하', '피부병', '사각형', '앞으로', '기생충', '맞벌이', '아무도', '해결책', '보호소', '뒷모습', '그리워', '수성구', '컨트롤', '인터넷', '신발장', '컴퓨터', '아토피', '목초액', '중학교', '제스처', '으르렁', '출퇴근', '발가락', '정도전', '지난주', '핸드폰', '강원도', '어르신', '분위기', '수영장', '캠핑장', '이무기', '귀여움', '문제점', '현관문', '기지개', '우울증', '장난감', '마스크', '괜스레', '기싸움', '여학생', '개새끼', '그런지', '언니네', '여주시', '지난번', '아이들', '어젯밤', '무작위', '대리석', '미끄럼', '이야기', '사하구', '코오롱', '다음날', '빠삐용', '대소변', '잠자리', '눈시울', '여행지', '수술비', '딴사람', '큰언니', '반대쪽', '바닷가', '마르고', '아무것', '남자들', '발소리', '발자국', '대부분', '한가지', '나머지', '세탁소', '똥오줌', '오랜만', '네이버', '상대방', '사이버', '방지기', '금요일', '경험자', '신경질', '아지만', '미성년', '초인종', '발바닥', '말싸움', '식분증', '파이팅', '평상시', '타당성', '중학생', '선생님', '축농증', '아무개', '제자리', '한자리', '사무실', '그 후', '이뻐요', '아랫집', '신문지', '안통핮', '아이와', '노른자', '아파서', '물놀이', '좋아서', '항생제', '플러그', '미용실', '어리광', '경선자', '파출소', '전단지', '자양동', '흰둥이', '몸무게', '하얀색', '팔꿈치', '외로움', '불안도', '한순간', '장조림', '이뻐해', '케이지', '가두리', '제조업', '떠돌이', '엊그제', '불합격', '포대기', '아줌마', '최대한', '수영구', '거주지', '온종일', '수도권', '이미지', '욤..', '음식점', '뽀미와', '뽀미가', '뽀미의', '뽀미를', '바르게', '돌고래', '티브이', '냉장고', '비비고', '궁금증', '한마음', '주니어', '온라인', '비속어', '경계심', '이웃집', '초보자', '장단점', '일기장', '아침밥', '무지개', '장례식', '종량제', '사랑해', '그동안', '응급실', '뺑소니', '냉동실', '손괴죄', '혐오감', '배설물', '불쾌감', '여렸을', '독립심', '목걸이', '베란다', '외동딸', '한마디', '주차장', '학원비', '우체부', '우편물', '임산부', '예정일', '검은색', '바구니', '초록색', '삼겹살', '기름기', '오징어', '피숑이', '하나라', '주 주', '호기심', '훈련소', '음식물', '노란색', '설탕물', '주사기', '로메로', '햄스터', '월 가', '보호자', '뮷하고', '이름표', '마인드', '최소한', '대학교', '기숙사', '이대로', '다시면', '무관심', '엉덩이', '코코아', '거미줄', '가운데', '폼피츠', '졸업식', '프메를', '캐나다', '주택가', '남학생', '그저께', '일반인', '했을댸', '우면산', '싱크대', '마리인', '종아리', '멍멍이', '괜찮아', '배신감', '꼬투리', '은행동', '영업장', '키우시', '놀이터', '탤런트', '큰누나', '머릿속', '선학역', '상태도', '하루만', '사기죄', '초음파', '관리도', '항공사', '소프트', '장거리', '사이즈', '하나로', '뒷마당', '시멘트', '장모종', '브러시', '나들이', '표지판', '방구석', '이방인', '비행기', '연락처', '산격동', '수의사', '신장염', '옥수수', '지난달', '난장판', '김정은', '질투심', '충성심', '해보면', '주둥이', '삼우제', '미역국', '재채기', '바 주', '이아이', '하나님', '대학생', '래트를', '사이트', '노하우', '딸아이'])\n"
     ]
    }
   ],
   "source": [
    "# 명사 3개짜리\n",
    "print(cnt_n_data[2])"
   ]
  },
  {
   "cell_type": "code",
   "execution_count": 979,
   "id": "370ec812",
   "metadata": {},
   "outputs": [
    {
     "name": "stdout",
     "output_type": "stream",
     "text": [
      "(4, ['바이러스', '가족사진', '메이크업', '앟했대요', '펫숍에서', '스테레스', '초등학교', '여기저기', '펫샵으로', '그 여자', '할아버지', '스튜디오', '펫샵에서', '학교 3', '스트레스', '어린아이', '다롱이만', '다롱이가', '다롱이는', '이뻐해요', '이뻐하고', '해외여행', '어버이날', '어린이날', '몰래뎃고', '블루베리', '아침저녁', '찝찝하고', '이뻐하면', '가족회의', '동물보호', '작은언니', '지하철역', '고등학교', '고등학생', '이만저만', '하루아침', '사랑으로', '남자친구', '먹을거리', '이뻐하죠', '얼마죠?', '이곳저곳', '아이디어', '마운팅?', '줄기세포', '좋은 날', '눴다는데', '애완동물', '마찬가지', '3개월령', '으르렁할', '어른돠면', '이뻐해서', '불량가족', '이 문자', '마음고생', '피숑으로', '애걸복걸', '사다 주', '에게 해', '프로그램', '빙글빙글', '펫샵이나', '갇어놔요', '학교 2', '말하자면', '울음소리', '교통사고', '하늘나라', '스프레이', '일상생활', '큰아버지', '페이스북', '눴었어요', '아주머니', '걱정거리', '컨테이너', '장래희망', '동고동락', '페트병에'])\n"
     ]
    }
   ],
   "source": [
    "# 명사 4개짜리\n",
    "print(cnt_n_data[3])"
   ]
  },
  {
   "cell_type": "code",
   "execution_count": 980,
   "id": "fbac6835",
   "metadata": {},
   "outputs": [
    {
     "name": "stdout",
     "output_type": "stream",
     "text": [
      "(5, ['안녕하세요', '어돟게하몬', '5월 1일', '낯선 사람', '크리스마스', '더 가까이', '아빠 언니', '부산광역시', '새벽 1시', '물어띁어서', '8월 4일', '신고합니다', '이뻐하시는', '5월 8일', '뼛조각이랑', '풀어줬늠데', '사랑합니다', '애굣덩이에', '처음이라서', '심슨 가족', '가스레인지', '폼피츠인데', '9월 5일', '하면 된다', '티웨이항공', '하즤만..', '에견샵에서'])\n",
      "(6, ['낑낑거렸었고', '돌아올뗴마다', '부담?스러울', '강아지 공장', '으르렁거려서', '으르렁합니다', '으르렁거려요', '던젔어요저두', '했슴다그런데', '눌린걱같구여', '으르렁댔는데', '엄마와 아빠', '으릉렁거리며', '싶으데...', '이뻐했었어요', '으르렁하거나', '알고 싶어요', '가족의 탄생', '1월 19일', '8월 10일', '1월 11일', '7월 28일', '우리 아버지', '프레젠테이션'])\n",
      "(7, ['보스턴 테리어', '썻죠..그런뎅', '대답해 주세요', '자꾸낑깅댄다고'])\n",
      "(8, ['펫숍의였습니다.', '잭 러셀 테리어', '2007년 6월', '질문드려요펫샵은'])\n",
      "(9, ['그럼에도 불구하고', '도와주셍됴지식인들'])\n",
      "(11, ['옭...욹...짖어도', '괜찮을까요??케어하는', '헀는데...어제밤에는'])\n",
      "(15, ['스테레스받을낀봐어쩌죠..어제'])\n",
      "없음\n"
     ]
    }
   ],
   "source": [
    "# 명사 5개 이상짜리\n",
    "for i in range(4,100):\n",
    "    try:\n",
    "        print(cnt_n_data[i])\n",
    "    except: \n",
    "        print(\"없음\")\n",
    "        break"
   ]
  },
  {
   "cell_type": "markdown",
   "id": "0a2d52da",
   "metadata": {},
   "source": [
    "### 이 키워드 내 데이터에서 명사 길이 확인 해보기"
   ]
  },
  {
   "cell_type": "code",
   "execution_count": 981,
   "id": "1797ac00",
   "metadata": {},
   "outputs": [],
   "source": [
    "cnt_noum={}\n",
    "cnt_n_data={}\n",
    "for i in range(len(total_df['Q_title_pos'])):\n",
    "    for st, ty in total_df.loc[i,'Q_title_pos']:\n",
    "        if ty[0]=='N':\n",
    "            if len(st) not in cnt_noum.keys():\n",
    "                cnt_noum[len(st)]=0\n",
    "                cnt_n_data[len(st)]=[st]\n",
    "            else:\n",
    "                cnt_noum[len(st)]+=1\n",
    "                if st not in cnt_n_data[len(st)]: # 중복제거\n",
    "                    cnt_n_data[len(st)].append(st)\n",
    "cnt_noum=sorted(cnt_noum.items())\n",
    "cnt_n_data=sorted(cnt_n_data.items())"
   ]
  },
  {
   "cell_type": "code",
   "execution_count": 982,
   "id": "5fbea4dc",
   "metadata": {},
   "outputs": [
    {
     "data": {
      "text/plain": [
       "[(1, 5497),\n",
       " (2, 10537),\n",
       " (3, 2881),\n",
       " (4, 278),\n",
       " (5, 187),\n",
       " (6, 36),\n",
       " (7, 4),\n",
       " (8, 3),\n",
       " (9, 1),\n",
       " (11, 2),\n",
       " (15, 0)]"
      ]
     },
     "execution_count": 982,
     "metadata": {},
     "output_type": "execute_result"
    }
   ],
   "source": [
    "cnt_noum"
   ]
  },
  {
   "cell_type": "code",
   "execution_count": 983,
   "id": "d6c90f6a",
   "metadata": {},
   "outputs": [
    {
     "name": "stdout",
     "output_type": "stream",
     "text": [
      "(1, ['저', '년', '때', '곳', '달', '변', '옆', '문', '수', '똥', '시', '것', '점', '중', '밤', '잠', '게', '자', '건', '안', '강', '그', '뭐', '분', '땜', '글', '집', '거', '지', '방', '번', '개', '살', '손', '데', '맘', '피', '날', '꿈', '견', '명', '둘', '미', '발', '이', '내', '공', '쯤', '일', '암', '예', '애', '밖', '포', '현', '경', '눈', '반', '록', '밥', '전', '앞', '말', '나', '물', '등', '텐', '털', '척', '러', '더', '적', '킥', '짓', '밑', '너', '면', '외', '형', '욕', '켄', '넬', '모', '뼈', '족', '놈', '쪽', '도', '몸', '돈', '머', '순', '화', '팔', '위', '귀', '못', '꽃', '약', '창', '열', '조', '듯', '복', '티', '요', '만', '주', '코', '절', '품', '얘', '션', '겁', '길', '펜', '독', '맛', '뒤', '처', '박', '숏', '껌', '즘', '뭄', '담', '한', '땅', '후', '당', '배', '식', '장', '어', '떡', '댐', '염', '음', '남', '상', '끝', '숍', '바', '간', '종', '대', '업', '아', '알', '하', '새', '첨', '사', '흥', '부', '비', '다', '동', '젤', '힘', '빡', '세', '감', '무', '닭', '원', '딸', '막', '둥', '파', '양', '속', '습', '법', '엽', '쥐', '찌', '책', '누', '뿐', '터', '차', '삼', '디', '신', '씨', '왕', '을', '란', '낮', '정', '겉', '유', '틱', '답', '옷', '입', '재', '질', '송', '편', '히', '병', '금', '셋', '판', '죽', '빵', '흑', '덕', '여', '꼴', '핀', '채', '필', '네', '넷', '느', '은', '토', '삽', '민', '교', '드', '곁', '뜻', '뉘', '가', '혀', '셈', '펫', '망', '휴', '해', '랑', '벽', '용', '빠', '르', '마', '검', '얌', '걸', '십', '낭', '목', '맒', '멋', '턱', '기', '과', '색', '회', '키', '쟤', '쌀', '짐', '치', '줄', '인', '빌', '톱', '꾀', '님', '득', '뱀', '탓', '깨', '갱', '술', '뻔', '임', '오', '칸', '짝', '평', '서', '래', '봄', '엿', '합', '움', '테', '백', '초', '컵', '껀', '우', '노', '풀', '층', '덤', '체', '소', '멍', '훔', '라', '운', '까', '진', '솜', '혹', '벌', '빗', '행', '매', '꺼', '쇼', '성', '산', '격', '콘', '표', '관', '숑', '낯', '젖', '측', '실', '값', '별', '으', '돌', '혼', '댓', '뻥'])\n"
     ]
    }
   ],
   "source": [
    "# 명사가 1개짜리는 의미 파악이 어려움\n",
    "print(cnt_n_data[0])"
   ]
  },
  {
   "cell_type": "code",
   "execution_count": 984,
   "id": "4db52a56",
   "metadata": {},
   "outputs": [
    {
     "name": "stdout",
     "output_type": "stream",
     "text": [
      "(2, ['동안', '저희', '페리', '배변', '훈련', '애견', '가도', '패드', '볼일', '이사', '애가', '자기', '가족', '사랑', '냄새', '모두', '창문', '질문', '이유', '이거', '방법', '영양', '도움', '사료', '간식', '추천', '등등', '주의', '암컷', '성화', '수술', '음식', '수면', '엄마', '확진', '자와', '접촉', '격리', '기간', '전파', '걱정', '전염', '감사', '공부', '허락', '설득', '원래', '적응', '아침', '오늘', '불안', '지도', '평소', '출근', '시간', '그것', '분리', '교육', '학교', '주말', '평일', '저녁', '제가', '늑대', '순간', '아빠', '오빠', '이해', '산책', '장난', '사람', '경우', '꼬리', '이것', '해결', '다리', '아이', '사회', '부족', '알파', '판단', '증상', '문제', '교정', '사인', '유기', '입양', '개월', '정도', '이서', '거리', '대우', '생각', '이름', '리다', '현관', '혼란', '질투', '인사', '두발', '대응', '이랑', '여행', '리제', '마린', '호텔', '동반', '숙박', '부탁', '가요', '올해', '학년', '방학', '제로', '동물', '기역', '그림', '푸들', '가정', '부양', '해서', '제일', '처음', '그때', '목줄', '이후', '동생', '이제', '아비', '신체', '해고', '마리', '소변', '대변', '예방', '접종', '학생', '데리', '펫숍', '분양', '당시', '추정', '크림', '시기', '성격', '고자', '근처', '생일', '고요', '자신', '메일', '답변', '확인', '사진', '본가', '부모', '행동', '환경', '병원', '필요', '여자', '무시', '혼자', '재롱', '각자', '소리', '이웃', '곤란', '상황', '안방', '자리', '한곳', '새벽', '이동', '도어', '번호', '시작', '남이', '잘못', '특정', '조금', '지금', '외출', '얼마', '동시', '대화', '해몽', '앞발', '발톱', '지혈', '재촉', '난리', '마음', '심해', '절대', '약주', '목욕', '침대', '계단', '요새', '구역', '수컷', '생명', '녀석', '주인', '아기', '싸움', '요한', '무리', '서열', '인지', '반대', '우리', '옛날', '눈병', '개요', '건강', '검진', '입장', '나이', '전문', '브리', '그쪽', '어제', '보드', '제품', '경계', '족발', '버릇', '친척', '무엇', '학대', '방식', '화병', '나물', '주먹', '얼굴', '발각', '정상', '조치', '이브', '남편', '셀프', '지역', '서울', '강남', '강북', '무지', '규모', '거기', '설명', '사실', '정보', '보니', '안전', '자란', '농장', '기억', '어미', '형제', '하진', '종류', '시추', '숯불', '봉지', '크기', '하나', '고민', '며칠', '검색', '초보', '성별', '경로', '대구', '내용', '선배', '조언', '어디', '보라', '가지', '여중', '실패', '때문', '심장', '느낌', '날림', '용기', '요즘', '공원', '운동', '얘기', '어필', '애정', '카페', '가입', '연락', '가게', '사서', '교배', '만큼', '복종', '집안', '회사', '성기', '눈곱', '청결', '관리', '포함', '새끼', '표현', '짠맛', '의미', '상상', '이상', '시도', '상담', '아무', '식탁', '과자', '의자', '서서', '수천', '수백', '짜증', '포기', '충격', '수명', '해외', '제소', '고집', '대전', '개인', '주택', '마당', '옥상', '신발', '거실', '왼쪽', '부엌', '옆쪽', '제방', '고모', '언제', '믿음', '사절', '초등', '고생', '코카', '스파', '니엘', '라고', '효과', '대신', '테리', '행복', '진심', '소개', '생활', '참고', '전체', '개판', '아진', '머리', '주거', '터치', '이불', '퇴근', '반기', '오전', '모습', '자체', '인해', '예전', '진물', '주사', '소독', '요전', '뽀뽀', '교회', '학원', '하루', '종일', '아까', '실험', '언니', '때려', '상처', '안중', '애도', '내공', '주가', '믹스', '소음', '누구', '침입', '6월', '계획', '바다', '어른', '대형', '가야', '채도', '위치', '인천', '서해', '가격', '주변', '관광', '군대', '형도', '남자', '발도', '니다', '제목', '계곡', '캠핑', '천안', '시골', '최대', '개설', '넓이', '군데', '숙소', '기존', '토이', '파이', '다롱', '모모', '마가', '고양', '딱지', '선택', '항문', '친구', '정이', '4월', '듯이', '주위', '이건', '아우', '부분', '물건', '언성', '세부', '애인', '이빨', '저기', '다행', '오후', '출장', '자살', '진짜', '인형', '선박', '라면', '애교', '지방', '관련', '군기', '발라', '시위', '공주', '극도', '거부', '언가', '일종', '일월', '무릎', '방안', '채택', '물론', '저번', '용지', '편지', '웰시', '코기', '최근', '팔뚝', '아래', '막내', '관계', '현상', '여태', '적도', '5월', '선물', '서로', '요키', '몸집', '통뼈', '드릴', '계시', '조카', '작정', '혈통', '똥개', '이번', '무사', '가방', '악질', '식구', '자구', '집착', '초도', '대면', '여아', '약간', '차별', '문의', '직장', '누나', '구토', '흥분', '주니', '성질', '중간', '손님', '매형', '눈치', '일부', '상태', '삼촌', '이모', '직전', '신고', '장면', '표정', '자매', '사정', '낯선', '애착', '비용', '바닥', '나중', '이별', '방지', '지만', '시가', '갈색', '도리', '시경', '마트', '안고', '방향', '만약', '귀소', '본능', '여럿', '잡종', '리지', '정견', '결국', '갈등', '무료', '8월', '레트', '리버', '킬로', '센터', '자제', '설날', '생후', '거인', '장소', '아시', '겨울', '있다', '아니', '소화', '기능', '한대', '배로', '장기', '단체', '푸름', '소녀', '미국', '한편', '성적', '사신', '여기', '오줌', '카펫', '털이', '찬성', '동네', '회의', '행운', '여름', '밥집', '주심', '우자', '인제', '비만', '견우', '바탕', '화면', '도배', '노래', '대하', '부신', '오래', '지인', '그물', '마루', '군가', '보호', '빈도', '놀이', '소형', '유일', '검사', '작년', '도망', '얌전', '양인', '지나', '도다', '가가', '기만', '방문', '대체', '살수', '야자', '맹세', '암울', '방해', '요요', '목이', '시험', '평균', '성의', '수사', '벌금', '처리', '요크', '하지', '요청', '장애', '확률', '생리', '분이', '활동', '제외', '덩치', '손은', '중견', '시늉', '왕따', '다음', '9월', '예정', '커서', '외면', '자라', '형편', '말씀', '나름', '양이', '소파', '타월', '물기', '공격', '이틀', '전약', '식욕', '환장', '근대', '돼지', '다툼', '사과', '간격', '잠도', '안자', '내일', '점심', '첫째', '구분', '용품', '욕설', '아홉', '구매', '비염', '이때', '대처', '문적', '합의', '충북', '청주', '인근', '구경', '내년', '이고', '동행', '의지', '의견', '도난', '기분', '고용', '자궁', '질병', '의사', '자율', '배식', '욕심', '관찰', '주시', '전과', '추측', '옥이', '변화', '광주', '전남', '책임', '이신', '일전', '닥스', '고수', '자문', '완전', '인간', '불만', '지옥', '칭찬', '말순', '피해', '순종', '후에', '우울', '독립', '동의', '백수', '종이', '아리', '깽깽', '백단', '팔로', '원룸', '옆집', '하구', '양해', '정관', '관심', '상의', '다만', '요번', '동거', '정서', '미혼', '호박', '소량', '이전', '야속', '그네', '골절', '타인', '재물', '보험', '청구', '소용', '미니', '사이', '온대', '미움', '점수', '사고', '철장', '계란', '지속', '전원', '7월', '중순', '북경', '유학', '진행', '평화', '둘째', '수영', '완벽', '증세', '영상', '자야', '리플', '대답', '모드', '새해', '피부', '급여', '상추', '오이', '과일', '참외', '수박', '이하', '체중', '준비', '사교', '안산', '아가', '쿠퍼', '집힌', '기사', '대서', '병점', '동탄', '시로', '가출', '지식', '상식', '성자', '부근', '일생', '길이', '팔목', '아들', '정리', '매실', '피숑', '눈앞', '차이', '밀어', '조건', '보통', '포맷', '시중', '사기', '세상', '도요', '시력', '이병', '치료', '치킨', '튀김', '안쪽', '닭살', '반찬', '송이', '나라', '일정', '하면', '오열', '책상', '설사', '현실', '꿈속', '쇼크', '결론', '안마', '하기', '노력', '척도', '해달', '목재', '근무', '목격', '공장', '지라', '트럭', '차량', '한텐', '3분', '불편', '이외', '오질', '영향', '합격', '반응', '연기', '해지', '기준', '진동', '바람', '심정', '실종', '흰색', '부산', '대문', '울상', '비교', '전날', '눈물', '주민', '사례', '부천', '양가', '부담', '유인', '이뻐', '성공', '만세', '그놈', '액자', '일반', '수원', '대도', '열쇠', '고리', '결정', '특징', '양파', '실수', '주무', '심리', '인걸', '한지', '감정', '극단', '일본', '학살', '마시', '이일', '가보', '용변', '산다', '기운', '안도', '강릉', '주방', '기본', '연구', '금전', '여유', '무게', '자식', '강조', '재학', '현재', '결핍', '신경', '말썽', '객관', '본인', '유도', '벽지', '튜브', '짐승', '종보', '종두', '오시', '주일', '이혼', '방석', '용돈', '포도', '정말', '중종', '소장', '반면', '합류', '수업', '땡땡', '단점', '1년', '거주', '계세', '악화', '요양', '시설', '경험', '편애', '인식', '연륜', '짐작', '빌라', '할배', '발치', '스턴', '친절', '비닐', '갈이', '남아', '아랑', '와도', '중성', '기침', '마개', '이쪽', '네스', '호통', '배경', '직접', '등장', '반려', '성장', '일가', '임신', '태도', '예뻐', '분야', '외모', '애용', '사양', '쓰기', '공경', '숙제', '연결', '마을', '정신', '장례', '봉투', '다나', '사주', '그중', '촬영', '쪽지', '광고', '도중', '차도', '차주', '공감', '배상', '택시', '승차', '응급', '출동', '화가', '해당', '처벌', '규정', '소홀', '학업', '부재', '밑줄', '수목', '스타', '봉사', '비문', '자유', '노즈', '워크', '민원', '철창', '너머', '동족', '만족', '장이', '결과', '아산', '개털', '세균', '주신', '신중', '요일', '논리', '토끼', '종의', '만지', '희망', '초대', '장점', '야구', '정성', '자취', '배달', '출산', '시댁', '가슴', '안대', '유난', '화나', '따위', '상관', '실내', '안주', '애완', '화장', '한계', '강제', '생전', '생기', '고기', '소문', '그쯤', '화분', '식물', '미용', '부위', '뒤끝', '고개', '총알', '올림', '사촌', '호감', '초코', '바늘', '사지', '광양', '사면', '마라', '충성', '성심', '해주', '공간', '화도', '황경', '그전', '보로', '사분', '프리', '납치', '탈출', '과정', '경찰', '연관', '두기', '출입', '금지', '김포', '전화', '지경', '대로', '그곳', '급식', '지장', '가망', '치매', '보물', '발견', '네모', '배려', '도안', '꼰대', '최선', '나가', '일보', '입학', '사용', '살인', '외식', '주륵', '별짓', '지리', '안지', '요지', '대장', '위로', '존재', '올백', '학기', '제라', '주제', '비판', '신뢰', '만남', '50', '신문', '발로', '차기', '일로', '거먕', '돌변', '습관', '코코', '이내', '당부', '마디', '와중', '거미', '전환', '필사', '흉터', '호전', '한국', '운송', '실용', '용인', '여주', '근래', '잡기', '진정', '시장', '거지', '갈수', '순이', '위기', '사요', '입질', '성은', '몸짓', '첨부', '필수', '성실', '효율', '게임', '계정', '삭제', '유골', '예비', '초딩', '도둑', '허리', '드림', '외동', '골든', '55', '전선', '식사', '선호', '산지', '양당', '체구', '휴가', '민박', '곳도', '예약', '추신', '길가', '이우', '상대', '흐엉', '저의', '연습', '당황', '미터', '그분', '묘지', '소식', '발생', '속도', '통합', '퍼그', '장염', '바지', '손길', '임시', '대상', '사당', '라나', '소름', '한방', '신청', '일명', '표시', '주기', '레몬', '결혼', '견인', '동전', '위험', '오버', '완료', '다구', '큰맘', '운영', '목적', '자금', '심술', '부리', '접수', '자택', '행인', '대책', '게시', '명절', '구박', '모집', '이종', '추석', '비난', '기회', '적극', '부덕', '모랑', '취미', '임비', '고소', '기력', '체온', '빈혈', '뱃속', '악성', '종양', '지원', '외박', '조심', '한참', '상업', '칫솔', '치약', '구입', '모종', '도서', '후회', '노망', '주지', '절망', '바우', '자격', '하늘', '천식', '차차', '재미', '이놈', '치실', '스샷', '우유', '먹이', '1월', '시즌', '개학', '자게', '북구', '동이', '번식', '사시', '호소', '선산', '무당', '수맥', '모녀', '의존', '반복', '견해', '감기', '계속', '양치', '뒷산', '미만', '링거', '요도', '고통', '강도', '고치', '이민', '공항', '도착', '평생', '진도', '쌔게', '반성', '친숙', '복날', '망가', '구석', '새집', '열흘', '제의', '초기', '각오', '년대', '교감', '자극', '독감', '전쟁', '사온', '새침', '줄라', '고도', '성대', '그릇', '자료', '간다', '수고', '일원', '약속', '실화', '초본', '경고', '시절', '6년', '정작', '시트', '사건', '포장', '한입', '리진', '펜스', '자세', '어이', '베개', '수저', '잡지', '정체', '투명', '콧물', '코지', '완치', '살이', '평수', '충고', '전집', '본론', '양념', '유지', '니어', '거도', '별도', '추가', '오니', '발기', '저쪽', '당혹'])\n"
     ]
    }
   ],
   "source": [
    "# 명사가 2개짜리 부터 의미 파악이 용이\n",
    "print(cnt_n_data[1])"
   ]
  },
  {
   "cell_type": "code",
   "execution_count": 985,
   "id": "3c31adbe",
   "metadata": {},
   "outputs": [
    {
     "name": "stdout",
     "output_type": "stream",
     "text": [
      "(3, ['카페나', '화장실', '강아지', '페기가', '환풍기', '마지막', '유도제', '코로나', '매개체', '시간대', '아오이', '하울링', '피숑을', '증후군', '책임감', '불안증', '사진관', '해주시', '서울로', '제주도', '구성원', '남동생', '뒷다리', '고양이', '고 온', '원숭이', '펫숍을', '지식인', '살다가', '월요일', '여러분', '할머니', '몰티즈', '팔베개', '밥그릇', '목소리', '오른쪽', '이동하', '피부병', '사각형', '앞으로', '진돗개', '기생충', '아파트', '맞벌이', '아무도', '해결책', '보호소', '뒷모습', '그리워', '수성구', '컨트롤', '아버지', '인터넷', '신발장', '컴퓨터', '아토피', '목초액', '중학교', '제스처', '으르렁', '어머니', '출퇴근', '발가락', '치와와', '정도전', '지난주', '핸드폰', '강원도', '어르신', '분위기', '수영장', '캠핑장', '스피츠', '이무기', '귀여움', '문제점', '공격성', '현관문', '기지개', '우울증', '장난감', '마스크', '괜스레', '아저씨', '기싸움', '훈련법', '여학생', '개새끼', '그런지', '일주일', '언니네', '여주시', '지난번', '여동생', '아이들', '어젯밤', '무작위', '대리석', '미끄럼', '이야기', '사하구', '코오롱', '다음날', '빠삐용', '대소변', '잠자리', '요크셔', '눈시울', '시바견', '여행지', '수술비', '딴사람', '큰언니', '반대쪽', '바닷가', '마르고', '아무것', '남자들', '발소리', '발자국', '대부분', '한가지', '나머지', '세탁소', '똥오줌', '오랜만', '네이버', '상대방', '사이버', '방지기', '금요일', '경험자', '신경질', '아지만', '미성년', '초인종', '발바닥', '말싸움', '식분증', '파이팅', '평상시', '울타리', '타당성', '중학생', '선생님', '축농증', '아무개', '움직임', '제자리', '한자리', '사무실', '그 후', '이뻐요', '아랫집', '고구마', '신문지', '안통핮', '허스키', '아이와', '노른자', '아파서', '물놀이', '좋아서', '항생제', '플러그', '미용실', '어리광', '경선자', '파출소', '전단지', '자양동', '흰둥이', '몸무게', '하얀색', '팔꿈치', '손가락', '외로움', '불안도', '사회화', '한순간', '장조림', '이뻐해', '케이지', '가두리', '제조업', '떠돌이', '엊그제', '불합격', '포대기', '아줌마', '최대한', '수영구', '거주지', '온종일', '수도권', '이미지', '경기도', '욤..', '음식점', '뽀미와', '뽀미가', '뽀미의', '뽀미를', '광견병', '바르게', '돌고래', '애완견', '티브이', '냉장고', '비비고', '궁금증', '한마음', '주니어', '온라인', '비속어', '경계심', '이웃집', '초보자', '장단점', '일기장', '아침밥', '무지개', '장례식', '종량제', '사랑해', '그동안', '응급실', '뺑소니', '냉동실', '손괴죄', '혐오감', '배설물', '불쾌감', '여렸을', '독립심', '목걸이', '베란다', '외동딸', '한마디', '주차장', '병원비', '학원비', '우체부', '우편물', '임산부', '예정일', '검은색', '바구니', '초록색', '삼겹살', '기름기', '오징어', '피숑이', '하나라', '주 주', '호기심', '훈련소', '음식물', '노란색', '설탕물', '주사기', '로메로', '전문가', '햄스터', '준비물', '월 가', '보호자', '뮷하고', '이름표', '치료법', '마인드', '최소한', '대학교', '기숙사', '이대로', '다시면', '무관심', '엉덩이', '코코아', '거미줄', '가운데', '폼피츠', '졸업식', '프메를', '캐나다', '주택가', '남학생', '그저께', '일반인', '했을댸', '우면산', '싱크대', '마리인', '종아리', '멍멍이', '괜찮아', '배신감', '초콜릿', '꼬투리', '은행동', '안락사', '영업장', '키우시', '놀이터', '탤런트', '큰누나', '머릿속', '선학역', '상태도', '하루만', '사기죄', '초음파', '관리도', '항공사', '소프트', '장거리', '사이즈', '하나로', '뒷마당', '시멘트', '장모종', '브러시', '나들이', '표지판', '풍산개', '영양제', '방구석', '이방인', '비행기', '연락처', '산격동', '수의사', '동영상', '신장염', '옥수수', '지난달', '난장판', '김정은', '질투심', '충성심', '해보면', '물그릇', '주둥이', '삼우제', '미역국', '재채기', '바 주', '이아이', '하나님', '큰소리', '대학생', '래트를', '사이트', '노하우', '딸아이'])\n"
     ]
    }
   ],
   "source": [
    "# 명사 3개짜리\n",
    "print(cnt_n_data[2])"
   ]
  },
  {
   "cell_type": "code",
   "execution_count": 986,
   "id": "8c4da38e",
   "metadata": {},
   "outputs": [
    {
     "name": "stdout",
     "output_type": "stream",
     "text": [
      "(4, ['페키니즈', '바이러스', '가족사진', '메이크업', '앟했대요', '펫숍에서', '스테레스', '초등학교', '여기저기', '펫샵으로', '초등학생', '그 여자', '할아버지', '스튜디오', '펫샵에서', '동물병원', '학교 3', '스트레스', '잉글리시', '어린아이', '다롱이만', '다롱이가', '다롱이는', '이뻐해요', '이뻐하고', '오랫동안', '해외여행', '어버이날', '어린이날', '몰래뎃고', '슈나우저', '닥스훈트', '블루베리', '아침저녁', '찝찝하고', '이뻐하면', '가족회의', '동물보호', '알레르기', '작은언니', '지하철역', '고등학교', '고등학생', '이만저만', '하루아침', '사랑으로', '남자친구', '먹을거리', '이뻐하죠', '얼마죠?', '이곳저곳', '아이디어', '마운팅?', '줄기세포', '좋은 날', '눴다는데', '애완동물', '마찬가지', '3개월령', '으르렁할', '어른돠면', '이뻐해서', '불량가족', '이 문자', '트라우마', '마음고생', '피숑으로', '애걸복걸', '사다 주', '에게 해', '프로그램', '빙글빙글', '펫샵이나', '갇어놔요', '학교 2', '말하자면', '사모예드', '울음소리', '교통사고', '하늘나라', '스프레이', '일상생활', '큰아버지', '페이스북', '눴었어요', '아주머니', '걱정거리', '컨테이너', '쓰레기통', '장래희망', '동고동락', '페트병에'])\n"
     ]
    }
   ],
   "source": [
    "# 명사 4개짜리\n",
    "print(cnt_n_data[3])"
   ]
  },
  {
   "cell_type": "code",
   "execution_count": 987,
   "id": "1597f96b",
   "metadata": {},
   "outputs": [
    {
     "name": "stdout",
     "output_type": "stream",
     "text": [
      "(5, ['안녕하세요', '포메라니안', '어돟게하몬', '5월 1일', '낯선 사람', '크리스마스', '더 가까이', '아빠 언니', '부산광역시', '새벽 1시', '물어띁어서', '8월 4일', '비숑프리제', '신고합니다', '이뻐하시는', '5월 8일', '뼛조각이랑', '풀어줬늠데', '사랑합니다', '애굣덩이에', '처음이라서', '심슨 가족', '가스레인지', '폼피츠인데', '9월 5일', '하면 된다', '티웨이항공', '하즤만..', '에견샵에서'])\n"
     ]
    }
   ],
   "source": [
    "# 명사 5개짜리\n",
    "print(cnt_n_data[4])"
   ]
  },
  {
   "cell_type": "code",
   "execution_count": 988,
   "id": "dfe3f6fc",
   "metadata": {},
   "outputs": [
    {
     "name": "stdout",
     "output_type": "stream",
     "text": [
      "(6, ['낑낑거렸었고', '돌아올뗴마다', '부담?스러울', '강아지 공장', '으르렁거려서', '으르렁합니다', '으르렁거려요', '던젔어요저두', '했슴다그런데', '눌린걱같구여', '으르렁댔는데', '엄마와 아빠', '으릉렁거리며', '싶으데...', '이뻐했었어요', '으르렁하거나', '알고 싶어요', '가족의 탄생', '1월 19일', '8월 10일', '1월 11일', '7월 28일', '우리 아버지', '프레젠테이션'])\n",
      "(7, ['보스턴 테리어', '썻죠..그런뎅', '대답해 주세요', '자꾸낑깅댄다고'])\n",
      "(8, ['펫숍의였습니다.', '잭 러셀 테리어', '2007년 6월', '질문드려요펫샵은'])\n",
      "(9, ['그럼에도 불구하고', '도와주셍됴지식인들'])\n",
      "(11, ['옭...욹...짖어도', '괜찮을까요??케어하는', '헀는데...어제밤에는'])\n",
      "(15, ['스테레스받을낀봐어쩌죠..어제'])\n",
      "없음\n"
     ]
    }
   ],
   "source": [
    "# 명사 6개 이상짜리\n",
    "for i in range(5,100):\n",
    "    try:\n",
    "        print(cnt_n_data[i])\n",
    "    except: \n",
    "        print(\"없음\")\n",
    "        break"
   ]
  },
  {
   "cell_type": "markdown",
   "id": "844f3edf",
   "metadata": {},
   "source": [
    "### 이 키워드 내 데이터에서 동사, 형용사 길이 확인 해보기"
   ]
  },
  {
   "cell_type": "code",
   "execution_count": 989,
   "id": "8ccc14a8",
   "metadata": {},
   "outputs": [],
   "source": [
    "cnt_v={}\n",
    "cnt_v_data={}\n",
    "for i in range(len(total_df['Q_title_pos'])):\n",
    "    for st, ty in total_df.loc[i,'Q_title_pos']:\n",
    "        if ty[0]=='V':\n",
    "            if len(st) not in cnt_v.keys():\n",
    "                cnt_v[len(st)]=0\n",
    "                cnt_v_data[len(st)]=[st]\n",
    "            else:\n",
    "                cnt_v[len(st)]+=1\n",
    "                if st not in cnt_v_data[len(st)]:  # 중복제거\n",
    "                    cnt_v_data[len(st)].append(st)\n",
    "cnt_v=sorted(cnt_v.items())\n",
    "cnt_v_data=sorted(cnt_v_data.items())"
   ]
  },
  {
   "cell_type": "code",
   "execution_count": 990,
   "id": "713882fb",
   "metadata": {},
   "outputs": [
    {
     "name": "stdout",
     "output_type": "stream",
     "text": [
      "(1, ['있', '하', '보', '오', '않', '열', '놓', '없', '나', '가', '틀', '이', '되', '같', '말', '알', '주', '지', '늦', '걸', '살', '짖', '치', '놀', '눕', '물', '뛰', '묻', '들', '씹', '세', '많', '싶', '좋', '막', '맞', '찍', '트', '집', '서', '접', '넘', '메', '떨', '잡', '먹', '받', '닫', '짓', '자', '작', '내', '대', '남', '듣', '뿜', '까', '적', '울', '풀', '뜯', '춥', '붙', '누', '찾', '타', '쪼', '맡', '씻', '밀', '크', '맵', '불', '낳', '쏟', '팔', '앉', '슬', '숨', '닦', '떼', '핥', '쌓', '달', '사', '쓰', '넓', '벗', '검', '덜', '갖', '잇', '덮', '두', '켜', '파', '싫', '멀', '좁', '싸', '죽', '읽', '쉬', '높', '펴', '쉽', '끼', '옮', '안', '낮', '믿', '긁', '비', '뺏', '길', '빼', '입', '빨', '돌', '꾸', '몰', '깔', '갈', '깨', '식', '삼', '시', '낫', '벌', '털', '깎', '돕', '굶', '밟', '웃', '줄', '꼬', '끄', '쫓', '줏', '걷', '얼', '넣', '뜨', '꽂', '늘', '담', '참', '짧', '뽑', '볶', '줍', '짜', '얻', '졸', '차', '묶', '짙', '잊', '피', '튀', '추', '째', '잃', '겪', '갉', '감', '데', '굳', '밝', '끊', '빗', '밉', '모', '절', '꼽', '패', '굴', '엎', '깊'])\n"
     ]
    }
   ],
   "source": [
    "# 동사도 마찬가지로 한글자는 의미가 없는거 같음\n",
    "print(cnt_v_data[0])"
   ]
  },
  {
   "cell_type": "code",
   "execution_count": 991,
   "id": "a36ec7c8",
   "metadata": {},
   "outputs": [
    {
     "name": "stdout",
     "output_type": "stream",
     "text": [
      "(2, ['키우', '어리', '지나', '빠지', '괴롭', '이렇', '고치', '잘나', '인하', '여쭈', '걸리', '알리', '어떻', '나가', '모르', '그렇', '시키', '심하', '보이', '나오', '친하', '물리', '만나', '흔들', '반기', '계시', '만지', '아니', '못하', '부르', '새롭', '데리', '싸우', '지내', '느끼', '밀치', '드리', '나서', '건지', '괜찮', '가리', '기르', '날뛰', '남기', '다치', '비치', '지키', '올리', '피우', '부리', '피하', '화내', '다니', '생기', '누르', '저렇', '멈추', '아프', '둥글', '힘들', '정하', '여기', '날리', '원하', '혼내', '어렵', '걸치', '안기', '향하', '슬프', '그립', '마르', '맛있', '놀라', '먹이', '토하', '만들', '때리', '던지', '이르', '대하', '통하', '귀하', '아끼', '삼키', '자라', '외롭', '택하', '조르', '약하', '구하', '따르', '박히', '병들', '무섭', '줄이', '취하', '어쩌', '돌보', '바쁘', '이쁘', '버리', '피나', '맡기', '비싸', '모시', '깨물', '강하', '바라', '보내', '미치', '사납', '거리', '순하', '씻기', '귀찮', '치우', '덤비', '비우', '내밀', '가지', '재밌', '옮기', '편하', '가시', '지르', '채우', '손대', '모이', '나쁘', '다르', '버티', '그러', '숨기', '낯설', '거들', '욕먹', '저러', '잡히', '딱하', '해보', '뒤돌', '똑같', '어둡', '가하', '급하', '찢기', '죽이', '살리', '귀엽', '마시', '상하', '지겹', '관하', '반갑', '들리', '잠들', '깨우', '달리', '빠르', '바뀌', '팔리', '재우', '모으', '끝나', '먹히', '깨지', '위하', '배우', '씌우', '아물', '섞이', '울리', '입히', '변하', '예쁘', '설치', '챙기', '굶기', '서럽', '닥치', '고르', '쳐들', '높이', '나누', '망치', '놓치', '권하', '살피', '즐겁', '번갈', '지리', '잠자', '사놓', '더럽', '합하', '할퀴', '서툴', '떠나', '쓰이', '독하', '비비', '빨갛', '기죽', '담그', '당하', '되찾', '붙이', '가두', '노랗', '맞추', '의하', '두렵', '청하', '빼내', '멋있', '아깝', '돌리', '들이', '치이', '뻔하', '하얗', '짜내', '꺼내', '내주', '빨리', '신나', '떠들', '구르', '푸르', '비꼬', '설레', '내리', '빼앗', '건들', '따지', '가볍', '건너', '풀리', '태우', '빗기', '부럽', '눈뜨', '넘치', '아쉽', '벌이', '말리', '화나', '해롭', '덜하', '달래', '즐기', '착하', '삐치', '숙이', '터지', '대들', '연하', '거치', '흘리', '마렵', '엄하', '묶이', '흐르', '개기', '다시', '밤새', '갇히', '앉히', '매기', '이기', '굴리', '쳐내', '살지', '다리', '뛰놀', '뿌리', '차리', '망하', '떨치', '겹치', '가깝', '닫히', '혼나', '사귀', '겁나', '끼치', '기울', '열리', '맴돌', '빌리', '넘기', '힘겹', '없애', '견디', '불리', '정들', '부수', '섬기', '햐얗', '굽히', '지치', '묻히', '못살', '뒤지', '뒤쫓', '이루', '고프', '뒤치', '스치', '꼬시', '점잖', '뒤집', '늦추', '밤늦', '내보', '누이', '트이'])\n"
     ]
    }
   ],
   "source": [
    "print(cnt_v_data[1])"
   ]
  },
  {
   "cell_type": "code",
   "execution_count": 992,
   "id": "2494db97",
   "metadata": {},
   "outputs": [
    {
     "name": "stdout",
     "output_type": "stream",
     "text": [
      "(3, ['들어가', '도와주', '달려들', '좋아하', '지나가', '일어나', '달려오', '싫어하', '돌아가', '안타깝', '다가오', '데려오', '뒤척이', '쫓아오', '들어오', '책임지', '놓아두', '가르치', '알아보', '내려가', '낑낑대', '달려가', '따라가', '돌아오', '속상하', '기다리', '떨어지', '태어나', '다가가', '주무시', '간지럽', '쓰다듬', '찢어지', '엄청나', '찡그리', '받아먹', '상관없', '망설이', '간추리', '오래되', '뛰어놀', '건드리', '덤벼들', '매달리', '어떡하', '장난치', '내버리', '욕심내', '가져오', '잡아먹', '물어보', '데려가', '기억나', '따돌리', '괴롭히', '사이좋', '넘어오', '늘어나', '사라지', '따라오', '헤어지', '붉어지', '구석지', '올라가', '날카롭', '보아주', '몰라주', '넘어가', '도망가', '다녀오', '냄새나', '주워듣', '머무르', '얻어맞', '주고받', '시끄럽', '나아지', '물어뜯', '움직이', '달라지', '어울리', '유별나', '눌러앉', '알아채', '떠나가', '찾아오', '올라오', '소용없', '가져가', '슬퍼하', '뛰어오', '일어서', '안쓰럽', '엎드리', '살아나', '징그럽', '흐느끼', '끙끙대', '내려놓', '한눈팔', '내보내', '쪼그맣', '조그맣', '기뻐하', '게으르', '찾아보', '나타나', '올려놓', '둘러보', '아무렇', '바라보', '가로막', '지나치', '길들이', '쳐다보', '마주치', '알아듣', '쪼끄맣', '돌아서', '보살피', '드러내', '끼어들', '날아가', '깨어나', '드나들', '어이없', '살아가', '풀어놓', '들어주', '오래가', '쫓겨나', '생각나', '문제없', '두드리', '쫓아가', '들어서', '부딪히', '뛰어들', '소리치', '싸지르', '미워하', '돌려받', '달라붙', '생겨나', '재미없', '동그랗', '처박히', '일으키', '살펴보', '들이대', '다그치', '걸어가', '줄어들'])\n"
     ]
    }
   ],
   "source": [
    "print(cnt_v_data[2])"
   ]
  },
  {
   "cell_type": "code",
   "execution_count": 993,
   "id": "4d1a0f40",
   "metadata": {},
   "outputs": [
    {
     "name": "stdout",
     "output_type": "stream",
     "text": [
      "(4, ['낑낑거리', '잡아당기', '반가워하', '으르렁대', '떨어뜨리', '돌아다니', '그리워하', '무서워하', '받아들이', '귀여워하', '뛰어나오', '미끄러지', '뛰쳐나가', '괴로워하', '갑작스럽', '쫓아다니', '알아차리', '잃어버리', '따라다니', '아른거리', '뛰어나가', '뛰어다니', '두려워하', '잊어버리', '끙끙거리', '칭얼거리', '끌어당기', '흘러나오'])\n"
     ]
    }
   ],
   "source": [
    "print(cnt_v_data[3])"
   ]
  },
  {
   "cell_type": "code",
   "execution_count": 994,
   "id": "4475a672",
   "metadata": {},
   "outputs": [
    {
     "name": "stdout",
     "output_type": "stream",
     "text": [
      "(5, ['으르렁거리'])\n",
      "(6, ['안절부절못하'])\n",
      "없음\n"
     ]
    }
   ],
   "source": [
    "# 5개 이상짜리\n",
    "for i in range(4,100):\n",
    "    try:\n",
    "        print(cnt_v_data[i])\n",
    "    except: \n",
    "        print(\"없음\")\n",
    "        break"
   ]
  }
 ],
 "metadata": {
  "kernelspec": {
   "display_name": "Python 3",
   "language": "python",
   "name": "python3"
  },
  "language_info": {
   "codemirror_mode": {
    "name": "ipython",
    "version": 3
   },
   "file_extension": ".py",
   "mimetype": "text/x-python",
   "name": "python",
   "nbconvert_exporter": "python",
   "pygments_lexer": "ipython3",
   "version": "3.8.10"
  }
 },
 "nbformat": 4,
 "nbformat_minor": 5
}
