{
 "cells": [
  {
   "cell_type": "code",
   "execution_count": 1,
   "id": "af0b2caf",
   "metadata": {},
   "outputs": [],
   "source": [
    "import pandas as pd\n",
    "import numpy as np\n",
    "from kss import split_sentences\n",
    "from pykospacing import Spacing\n",
    "from hanspell import spell_checker\n",
    "from konlpy.tag import Okt, Kkma, Hannanum, Komoran, Mecab\n",
    "import re\n",
    "from textrankr import TextRank\n",
    "from typing import List\n",
    "import matplotlib.pyplot as plt\n",
    "from tqdm import tqdm"
   ]
  },
  {
   "cell_type": "code",
   "execution_count": 2,
   "id": "c72fda06",
   "metadata": {},
   "outputs": [],
   "source": [
    "from konlpy.tag import Okt, Komoran\n",
    "from soylemma import Lemmatizer   # !pip install soylemma\n",
    "\n",
    "# 동사, 형용사별로 입력 받을 시 용언의 원형으로 리턴\n",
    "def Lemmatizer_NA(string):\n",
    "    \n",
    "    if len(string)!=1: # 1글자는 제외하기 (판단 결과)\n",
    "        lemmatizer = Lemmatizer(dictionary_name='default')   \n",
    "        list_st=lemmatizer.lemmatize(string)                       # 1번째 원형 복귀 방법\n",
    "        \n",
    "        if len(list_st)==1: #lemmatizer로 바로 인식 하면 리턴\n",
    "            return str(list_st[0][0])\n",
    "            \n",
    "        else:\n",
    "            komoran=Komoran()\n",
    "            morphtags = komoran.pos(string) \n",
    "            if morphtags[0][1] == 'VA' or morphtags[0][1] == 'VV':  # 2번째 원형 복귀 방법\n",
    "                return morphtags[0][0] + '다'  # 1번째 방법 틀릴 경우 VA+VV 작업을 거친다. \n",
    "\n",
    "            else:\n",
    "                temp=''\n",
    "                check=0\n",
    "                for i in range(1,len(morphtags)):                   \n",
    "                    if len(morphtags)==1:  # 하나로 나뉘는 것은 의미 없음.\n",
    "                        break\n",
    "\n",
    "                    if morphtags[i-1][1]=='XR' and morphtags[i][1]=='XSA': # 3번째 원형 복귀 방법\n",
    "                        temp=str(morphtags[i-1][0])+str(morphtags[i][0])\n",
    "                        break\n",
    "\n",
    "                    if morphtags[i-1][1]=='NNG' and morphtags[i][1]=='NNG':   # 4번째 원형 복귀 방법 \n",
    "                        temp=temp+str(morphtags[i-1][0])+str(morphtags[i][0])\n",
    "                        check+=1\n",
    "                    elif morphtags[i-1][1]=='NNG' and morphtags[i][1]=='XSV': # 4번째 원형 복귀 방법 (이어서)\n",
    "                        temp2=''\n",
    "                        for k in range(check):\n",
    "                            temp2+=morphtags[k][0]\n",
    "                        temp=temp2+str(morphtags[i-1][0])+str(morphtags[i][0])\n",
    "                        break\n",
    "\n",
    "                    if morphtags[i-1][1]=='NNG' and morphtags[i][1]=='XSA':    # 5번째 원형 복귀 방법\n",
    "                        temp=string[:i-1]+str(morphtags[i-1][0])+str(morphtags[i][0])\n",
    "                        break\n",
    "\n",
    "                    if morphtags[i-1][1]=='VX':                            # 6번째 원형 복귀 방법\n",
    "                        for k in range(i):\n",
    "                            temp+=morphtags[k][0]\n",
    "                        break\n",
    "\n",
    "                    if morphtags[i-1][1]=='MAG' and morphtags[i][1]=='VV':     # 7번째 원형 복귀 방법\n",
    "                        temp=string[:i-1]+str(morphtags[i-1][0])+str(morphtags[i][0])\n",
    "                        break\n",
    "\n",
    "                    if morphtags[i-1][1]=='MAG' and morphtags[i][1]=='XSV':    # 8번째 원형 복귀 방법\n",
    "                        temp=string[:i-1]+str(morphtags[i-1][0])+str(morphtags[i][0])\n",
    "                        break\n",
    "\n",
    "                    if morphtags[i-1][1]=='NNG' and morphtags[i][1]=='VV':     # 9번째 원형 복귀 방법\n",
    "                        temp=string[:i-1]+str(morphtags[i-1][0])+str(morphtags[i][0])\n",
    "                        break\n",
    "\n",
    "                if len(temp)!=0:\n",
    "                    temp+='다'\n",
    "                    return temp\n",
    "                \n",
    "                else:\n",
    "                    return str(string)   # 이래도 안될 경우.. 그대로 return\n",
    "    \n",
    "    else:\n",
    "        return str(string)"
   ]
  },
  {
   "cell_type": "code",
   "execution_count": 3,
   "id": "e567aa17",
   "metadata": {},
   "outputs": [],
   "source": [
    "data=pd.read_csv(\"dataset/Q&A_rank.csv\",encoding='utf-8-sig')"
   ]
  },
  {
   "cell_type": "code",
   "execution_count": 4,
   "id": "37e1cf5f",
   "metadata": {
    "scrolled": true
   },
   "outputs": [
    {
     "name": "stdout",
     "output_type": "stream",
     "text": [
      "<class 'pandas.core.frame.DataFrame'>\n",
      "RangeIndex: 45010 entries, 0 to 45009\n",
      "Data columns (total 2 columns):\n",
      " #   Column  Non-Null Count  Dtype \n",
      "---  ------  --------------  ----- \n",
      " 0   Q       44327 non-null  object\n",
      " 1   A       44474 non-null  object\n",
      "dtypes: object(2)\n",
      "memory usage: 703.4+ KB\n"
     ]
    }
   ],
   "source": [
    "data.info()"
   ]
  },
  {
   "cell_type": "code",
   "execution_count": 5,
   "id": "8ccfe819",
   "metadata": {},
   "outputs": [],
   "source": [
    "data=data.dropna(subset=['Q','A']).reset_index(drop=True)"
   ]
  },
  {
   "cell_type": "code",
   "execution_count": 6,
   "id": "1e8aa569",
   "metadata": {},
   "outputs": [],
   "source": [
    "col='Q'\n",
    "for i in range(len(data[col])):\n",
    "    data.loc[i,col+'_len']=int(len(data.loc[i,col]))"
   ]
  },
  {
   "cell_type": "code",
   "execution_count": 7,
   "id": "f725aa64",
   "metadata": {},
   "outputs": [],
   "source": [
    "col='A'\n",
    "for i in range(len(data[col])):\n",
    "    data.loc[i,col+'_len']=int(len(data.loc[i,col]))"
   ]
  },
  {
   "cell_type": "code",
   "execution_count": 8,
   "id": "bed28734",
   "metadata": {},
   "outputs": [],
   "source": [
    "sentence_len_df=data.iloc[:,2:]"
   ]
  },
  {
   "cell_type": "code",
   "execution_count": 9,
   "id": "89173088",
   "metadata": {},
   "outputs": [
    {
     "data": {
      "text/plain": [
       "<BarContainer object of 264 artists>"
      ]
     },
     "execution_count": 9,
     "metadata": {},
     "output_type": "execute_result"
    },
    {
     "data": {
      "image/png": "[encoded data removed]",
      "text/plain": [
       "<Figure size 432x288 with 1 Axes>"
      ]
     },
     "metadata": {
      "needs_background": "light"
     },
     "output_type": "display_data"
    }
   ],
   "source": [
    "# Q 문장 길이 측정\n",
    "x=set(sentence_len_df['Q_len'])\n",
    "plot_dic_q={}\n",
    "for key in x:\n",
    "    plot_dic_q[key]=0\n",
    "for num in sentence_len_df['Q_len']:\n",
    "    plot_dic_q[num]+=1\n",
    "\n",
    "\n",
    "plt.title('Q_length')\n",
    "plt.xlabel('length')\n",
    "plt.ylabel('Count')\n",
    "plt.bar(plot_dic_q.keys(),plot_dic_q.values())"
   ]
  },
  {
   "cell_type": "code",
   "execution_count": 10,
   "id": "3663b656",
   "metadata": {},
   "outputs": [
    {
     "data": {
      "text/plain": [
       "<BarContainer object of 259 artists>"
      ]
     },
     "execution_count": 10,
     "metadata": {},
     "output_type": "execute_result"
    },
    {
     "data": {
      "image/png": "[encoded data removed]",
      "text/plain": [
       "<Figure size 432x288 with 1 Axes>"
      ]
     },
     "metadata": {
      "needs_background": "light"
     },
     "output_type": "display_data"
    }
   ],
   "source": [
    "# A 문장 길이 측정\n",
    "x=set(sentence_len_df['A_len'])\n",
    "plot_dic_a={}\n",
    "for key in x:\n",
    "    plot_dic_a[key]=0\n",
    "for num in sentence_len_df['A_len']:\n",
    "    plot_dic_a[num]+=1\n",
    "\n",
    "\n",
    "plt.title('A_length')\n",
    "plt.xlabel('length')\n",
    "plt.ylabel('Count')\n",
    "plt.bar(plot_dic_a.keys(),plot_dic_a.values())"
   ]
  },
  {
   "cell_type": "code",
   "execution_count": 11,
   "id": "8cf56964",
   "metadata": {},
   "outputs": [
    {
     "name": "stdout",
     "output_type": "stream",
     "text": [
      "Q sentence Threshold: 123.0\n"
     ]
    }
   ],
   "source": [
    "# Q 상위 3% 제거\n",
    "ranked_q=sorted(plot_dic_q.items(),key=(lambda x:x[0]), reverse=True)\n",
    "total=0\n",
    "for num, cnt in ranked_q:\n",
    "    total+=cnt\n",
    "threshold_q=total*0.03\n",
    "i=0\n",
    "j=0\n",
    "while i<threshold_q:\n",
    "    i+=ranked_q[j][1]\n",
    "    j+=1\n",
    "    key=ranked_q[j][0]\n",
    "print(f\"Q sentence Threshold: {key}\")             "
   ]
  },
  {
   "cell_type": "code",
   "execution_count": 12,
   "id": "26b051ff",
   "metadata": {},
   "outputs": [
    {
     "name": "stdout",
     "output_type": "stream",
     "text": [
      "<class 'pandas.core.frame.DataFrame'>\n",
      "RangeIndex: 42458 entries, 0 to 42457\n",
      "Data columns (total 4 columns):\n",
      " #   Column  Non-Null Count  Dtype  \n",
      "---  ------  --------------  -----  \n",
      " 0   Q       42458 non-null  object \n",
      " 1   A       42458 non-null  object \n",
      " 2   Q_len   42458 non-null  float64\n",
      " 3   A_len   42458 non-null  float64\n",
      "dtypes: float64(2), object(2)\n",
      "memory usage: 1.3+ MB\n"
     ]
    }
   ],
   "source": [
    "temp=[]\n",
    "for i in range(len(data)):\n",
    "    if data.loc[i,'Q_len']>123:\n",
    "        temp.append(i)\n",
    "        \n",
    "data=data.drop(temp,axis=0)        \n",
    "data.reset_index(drop=True, inplace=True)\n",
    "data.info()"
   ]
  },
  {
   "cell_type": "code",
   "execution_count": 13,
   "id": "9e7da03a",
   "metadata": {},
   "outputs": [
    {
     "name": "stdout",
     "output_type": "stream",
     "text": [
      "A sentence Threshold: 112.0\n"
     ]
    }
   ],
   "source": [
    "# A 상위 3% 제거\n",
    "ranked_a=sorted(plot_dic_a.items(),key=(lambda x:x[0]), reverse=True)\n",
    "total=0\n",
    "for num, cnt in ranked_a:\n",
    "    total+=cnt\n",
    "threshold_a=total*0.03\n",
    "i=0\n",
    "j=0\n",
    "while i<threshold_a:\n",
    "    i+=ranked_a[j][1]\n",
    "    j+=1\n",
    "    key=ranked_a[j][0]\n",
    "print(f\"A sentence Threshold: {key}\")             "
   ]
  },
  {
   "cell_type": "code",
   "execution_count": 14,
   "id": "44a53382",
   "metadata": {},
   "outputs": [
    {
     "name": "stdout",
     "output_type": "stream",
     "text": [
      "<class 'pandas.core.frame.DataFrame'>\n",
      "RangeIndex: 41149 entries, 0 to 41148\n",
      "Data columns (total 4 columns):\n",
      " #   Column  Non-Null Count  Dtype  \n",
      "---  ------  --------------  -----  \n",
      " 0   Q       41149 non-null  object \n",
      " 1   A       41149 non-null  object \n",
      " 2   Q_len   41149 non-null  float64\n",
      " 3   A_len   41149 non-null  float64\n",
      "dtypes: float64(2), object(2)\n",
      "memory usage: 1.3+ MB\n"
     ]
    }
   ],
   "source": [
    "temp=[]\n",
    "for i in range(len(data)):\n",
    "    if data.loc[i,'A_len']>112:\n",
    "        temp.append(i)\n",
    "        \n",
    "data=data.drop(temp,axis=0)        \n",
    "data.reset_index(drop=True, inplace=True)\n",
    "data.info()"
   ]
  },
  {
   "cell_type": "code",
   "execution_count": 15,
   "id": "4f8fa933",
   "metadata": {},
   "outputs": [],
   "source": [
    "data=data.iloc[:,:2]"
   ]
  },
  {
   "cell_type": "code",
   "execution_count": 16,
   "id": "09a212eb",
   "metadata": {},
   "outputs": [],
   "source": [
    "data.to_csv(\"dataset/Q&A_com.csv\", encoding='utf-8-sig', index=False)"
   ]
  },
  {
   "cell_type": "markdown",
   "id": "a0a6fd4d",
   "metadata": {},
   "source": [
    "### Model Start "
   ]
  },
  {
   "cell_type": "code",
   "execution_count": 3,
   "id": "4894eddd",
   "metadata": {},
   "outputs": [],
   "source": [
    "data=pd.read_csv(\"dataset/Q&A_com.csv\",encoding='utf-8-sig')\n",
    "voca=pd.read_csv(\"model/voca_dictionary.csv\",encoding='utf-8-sig')"
   ]
  },
  {
   "cell_type": "code",
   "execution_count": 4,
   "id": "3b4e4779",
   "metadata": {},
   "outputs": [],
   "source": [
    "okt=Okt()\n",
    "komoran=Komoran()"
   ]
  },
  {
   "cell_type": "code",
   "execution_count": 5,
   "id": "47efc1a1",
   "metadata": {},
   "outputs": [],
   "source": [
    "#형태소 전처리 (용언 원형 복원 및 사전 검토)\n",
    "def process_morph(sentence, dictionary=True):\n",
    "    temp=[]\n",
    "    for st, ty in okt.pos(sentence, stem=True, norm=True):\n",
    "        if ty=='Verb' or ty=='Adjective':    # 용언 원형으로 변형\n",
    "            st=Lemmatizer_NA(st)\n",
    "        temp.append(st)\n",
    "        \n",
    "    if dictionary:   # 새로운 문장 받았을 경우\n",
    "        sentence=''.join(temp)\n",
    "        spacing=Spacing(rules=voca.index)\n",
    "        sentence=spacing(sentence)\n",
    "        temp=[]\n",
    "        for st, ty in komoran.pos(sentence):\n",
    "            if ty[0]=='N':\n",
    "                for key in voca.index:\n",
    "                    if st in voca.loc[key,'values'].split():\n",
    "                        st=key  # key로 변경하기\n",
    "                        break\n",
    "            temp.append(st)\n",
    "        sentence=' '.join(temp)\n",
    "        return sentence\n",
    "    else:\n",
    "        sentence=' '.join(temp)\n",
    "        return sentence"
   ]
  },
  {
   "cell_type": "code",
   "execution_count": 6,
   "id": "f9422c5e",
   "metadata": {},
   "outputs": [],
   "source": [
    "# START 토큰은 형태소 변환 후 decoder input에 END 토큰은 decoder output에 추가합니다.\n",
    "def sentence_add(sentence, is_question=True, morph=True):\n",
    "    if morph:\n",
    "        sentence = ' '.join(okt.morphs(sentence))\n",
    "    else:\n",
    "        sentence = process_morph(sentence, False)\n",
    "        \n",
    "    if is_question:\n",
    "        return sentence\n",
    "    else:\n",
    "        return ('<START> ' + sentence, sentence + ' <END>')"
   ]
  },
  {
   "cell_type": "code",
   "execution_count": 7,
   "id": "99ca3f45",
   "metadata": {},
   "outputs": [],
   "source": [
    "# list로 데이터 질의, 답변 전처리\n",
    "def preprocess(df, Q, A):\n",
    "    questions = []\n",
    "    answer_in = []\n",
    "    answer_out = []\n",
    "\n",
    "    for i in tqdm(range(len(df[Q]))):\n",
    "        \n",
    "        question = sentence_add(df.loc[i,Q], is_question=True, morph=False)\n",
    "        questions.append(question)\n",
    "        \n",
    "        in_, out_ = sentence_add(df.loc[i,A], is_question=False, morph=True)\n",
    "        answer_in.append(in_)\n",
    "        answer_out.append(out_)\n",
    "        if (i+1)%50==0:\n",
    "            np.save('model/questions1.npy', questions)\n",
    "            np.save('model/answer_in1.npy', answer_in)\n",
    "            np.save('model/answer_out1.npy', answer_out)\n",
    "    return questions, answer_in, answer_out"
   ]
  },
  {
   "cell_type": "code",
   "execution_count": 8,
   "id": "768143d5",
   "metadata": {},
   "outputs": [
    {
     "name": "stdout",
     "output_type": "stream",
     "text": [
      "<class 'pandas.core.frame.DataFrame'>\n",
      "RangeIndex: 41149 entries, 0 to 41148\n",
      "Data columns (total 2 columns):\n",
      " #   Column  Non-Null Count  Dtype \n",
      "---  ------  --------------  ----- \n",
      " 0   Q       41149 non-null  object\n",
      " 1   A       41149 non-null  object\n",
      "dtypes: object(2)\n",
      "memory usage: 643.1+ KB\n"
     ]
    }
   ],
   "source": [
    "data.info()"
   ]
  },
  {
   "cell_type": "code",
   "execution_count": 9,
   "id": "5f70f4fd",
   "metadata": {},
   "outputs": [
    {
     "data": {
      "text/html": [
       "<div>\n",
       "<style scoped>\n",
       "    .dataframe tbody tr th:only-of-type {\n",
       "        vertical-align: middle;\n",
       "    }\n",
       "\n",
       "    .dataframe tbody tr th {\n",
       "        vertical-align: top;\n",
       "    }\n",
       "\n",
       "    .dataframe thead th {\n",
       "        text-align: right;\n",
       "    }\n",
       "</style>\n",
       "<table border=\"1\" class=\"dataframe\">\n",
       "  <thead>\n",
       "    <tr style=\"text-align: right;\">\n",
       "      <th></th>\n",
       "      <th>Q</th>\n",
       "      <th>A</th>\n",
       "    </tr>\n",
       "  </thead>\n",
       "  <tbody>\n",
       "    <tr>\n",
       "      <th>0</th>\n",
       "      <td>분리 불안장애 심한 강아지 종류는 뭔가요 분리 불안장애 강아지 종류는 다 분리 불안...</td>\n",
       "      <td>우선 번에 대해서 말씀드리자면 불안장애 강아지 종류가 아니라 강아지 한 마리 한 마...</td>\n",
       "    </tr>\n",
       "    <tr>\n",
       "      <th>1</th>\n",
       "      <td>진도 강아지 세 살 제가 외출 하울링 해서 불안장애 훈련 중인데 집 훈련이랑 잠자리...</td>\n",
       "      <td>그리고 강아지 자기 자리라고 생각하는 자리에 앉아서 쉬고 있을 때는 쓰다듬으면 안 되나요</td>\n",
       "    </tr>\n",
       "    <tr>\n",
       "      <th>2</th>\n",
       "      <td>그래서 강아지 한 마리 데려오려고 했는데 괜찮을까요</td>\n",
       "      <td>이사하고 스트레스 보이는 강아지 지금 그 아이도 적응해야 하는데 좋아지지 않겠냐고 ...</td>\n",
       "    </tr>\n",
       "    <tr>\n",
       "      <th>3</th>\n",
       "      <td>불안장애 강아지 강아지 노즈 워크 워크 추천해주세요</td>\n",
       "      <td>노즈 워크 워크가 좋기는 한데 식탐이 없는 아이들 귀찮아하는 경우가 있어요</td>\n",
       "    </tr>\n",
       "    <tr>\n",
       "      <th>4</th>\n",
       "      <td>물론 다른 가족들은 다 자고 있고 엄마 야간근무라서 안 계시고요 불안장애 증상이라는...</td>\n",
       "      <td>강아지 강아지 등이 많이 보이는 불안장애 증세일 수 있는데 보호자 외출 것을 알기 ...</td>\n",
       "    </tr>\n",
       "  </tbody>\n",
       "</table>\n",
       "</div>"
      ],
      "text/plain": [
       "                                                   Q  \\\n",
       "0  분리 불안장애 심한 강아지 종류는 뭔가요 분리 불안장애 강아지 종류는 다 분리 불안...   \n",
       "1  진도 강아지 세 살 제가 외출 하울링 해서 불안장애 훈련 중인데 집 훈련이랑 잠자리...   \n",
       "2                       그래서 강아지 한 마리 데려오려고 했는데 괜찮을까요   \n",
       "3                       불안장애 강아지 강아지 노즈 워크 워크 추천해주세요   \n",
       "4  물론 다른 가족들은 다 자고 있고 엄마 야간근무라서 안 계시고요 불안장애 증상이라는...   \n",
       "\n",
       "                                                   A  \n",
       "0  우선 번에 대해서 말씀드리자면 불안장애 강아지 종류가 아니라 강아지 한 마리 한 마...  \n",
       "1  그리고 강아지 자기 자리라고 생각하는 자리에 앉아서 쉬고 있을 때는 쓰다듬으면 안 되나요  \n",
       "2  이사하고 스트레스 보이는 강아지 지금 그 아이도 적응해야 하는데 좋아지지 않겠냐고 ...  \n",
       "3          노즈 워크 워크가 좋기는 한데 식탐이 없는 아이들 귀찮아하는 경우가 있어요  \n",
       "4  강아지 강아지 등이 많이 보이는 불안장애 증세일 수 있는데 보호자 외출 것을 알기 ...  "
      ]
     },
     "execution_count": 9,
     "metadata": {},
     "output_type": "execute_result"
    }
   ],
   "source": [
    "data.head()"
   ]
  },
  {
   "cell_type": "code",
   "execution_count": 10,
   "id": "f2fbe6ed",
   "metadata": {
    "scrolled": true
   },
   "outputs": [
    {
     "name": "stderr",
     "output_type": "stream",
     "text": [
      "100%|████████████████████████████████████████████████████████████████████████████| 5566/5566 [4:55:07<00:00,  3.18s/it]\n"
     ]
    }
   ],
   "source": [
    "# dataframe을 전처리 한 후 리스트로 전환\n",
    "temp_df=data.iloc[15000:20566,:].reset_index(drop=True)\n",
    "questions, answer_in, answer_out = preprocess(temp_df, 'Q', 'A')"
   ]
  },
  {
   "cell_type": "code",
   "execution_count": 8,
   "id": "fb4a0fa6",
   "metadata": {},
   "outputs": [],
   "source": [
    "# 리스트 합치기\n",
    "questions=[]\n",
    "answer_in=[]\n",
    "answer_out=[]\n",
    "list_=[['questions_ms_1','questions_ms_2','questions','questions1','questions_hj','questions_hj_1','questions_my','questions_my1'],\n",
    "       ['answer_in_ms_1','answer_in_ms_2','answer_in','answer_in1','answer_in_hj','answer_in_hj_1','answer_in_my','answer_in_my1'],\n",
    "       ['answer_out_ms_1','answer_out_ms_2','answer_out','answer_out1','answer_out_hj','answer_out_hj_1','answer_out_my','answer_out_my1']]\n",
    "\n",
    "i=0\n",
    "for lst in list_:\n",
    "    for name in lst:\n",
    "        if i==0:\n",
    "            question=np.load('model/'+str(name)+'.npy', allow_pickle=True)\n",
    "            if len(questions)==0:\n",
    "                questions=list(question)\n",
    "            else:\n",
    "                questions+=list(question)\n",
    "        elif i==1:\n",
    "            answerin=np.load('model/'+str(name)+'.npy', allow_pickle=True)\n",
    "            if len(answerin)==0:\n",
    "                answer_in=list(answerin)\n",
    "            else:\n",
    "                answer_in.extend(list(answerin))\n",
    "        else:\n",
    "            answerout=np.load('model/'+str(name)+'.npy', allow_pickle=True)\n",
    "            if len(answerout)==0:\n",
    "                answer_out=list(answerout)\n",
    "            else:\n",
    "                answer_out.extend(list(answerout))\n",
    "    i+=1"
   ]
  },
  {
   "cell_type": "code",
   "execution_count": 9,
   "id": "66e0843c",
   "metadata": {},
   "outputs": [
    {
     "data": {
      "text/plain": [
       "41062"
      ]
     },
     "execution_count": 9,
     "metadata": {},
     "output_type": "execute_result"
    }
   ],
   "source": [
    "len(answer_out)"
   ]
  },
  {
   "cell_type": "code",
   "execution_count": 10,
   "id": "649aced7",
   "metadata": {},
   "outputs": [
    {
     "data": {
      "text/plain": [
       "41062"
      ]
     },
     "execution_count": 10,
     "metadata": {},
     "output_type": "execute_result"
    }
   ],
   "source": [
    "len(questions)"
   ]
  },
  {
   "cell_type": "code",
   "execution_count": 11,
   "id": "86094abc",
   "metadata": {},
   "outputs": [
    {
     "data": {
      "text/plain": [
       "['<START> 우선 번 에 대해 서 말씀드리자면 불안장애 강아지 종류 가 아니라 강아지 한 마리 한 마리 에 따라 달라 서 특별히 불안장애 심한 강아지 종류 가 있다고 꼬집어서 말 하기는 조금 그렇네요',\n",
       " '<START> 그리고 강아지 자기 자리 라고 생각 하는 자리 에 앉아서 쉬 고 있을 때 는 쓰다듬으면 안 되나요',\n",
       " '<START> 이사 하고 스트레스 보이는 강아지 지금 그 아이 도 적응해야 하는데 좋아지지 않겠냐고 하시겠지만 확률 로 따지면 좋아질 확률 나빠질 확률 입니다',\n",
       " '<START> 노 즈 워 크 워 크가 좋 기는 한데 식탐 이 없는 아이 들 귀찮아하는 경우 가 있어요',\n",
       " '<START> 강아지 강아지 등 이 많이 보이는 불안장애 증세 일 수 있는데 보호자 외출 것 을 알기 때문 에 불안장애 느끼는 것 입니다',\n",
       " '<START> 낑낑 거리 거나 주인 이 움직일 때 마다 불안장애 주인 이 외출 나서 집 에 오면 집 이 어질러 있거나 그럴 수도 있습니다',\n",
       " '<START> 강아지 분리 불안 증 같으니 인터넷 교육 방법 쳐 보세요',\n",
       " '<START> 제 가 겪어 봤지만 불안장애 심하면 강아지 보호자 년 일 붙어있어도 부족한 그런 감정 이 거든요',\n",
       " '<START> 한숨 을 쉬 면 강아지 불안장애 덜 수 있다고 하네요',\n",
       " '<START> 강아지 불안장애 고민 많으시겠어요']"
      ]
     },
     "execution_count": 11,
     "metadata": {},
     "output_type": "execute_result"
    }
   ],
   "source": [
    "answer_in[:10]"
   ]
  },
  {
   "cell_type": "code",
   "execution_count": 12,
   "id": "ec472e7e",
   "metadata": {},
   "outputs": [
    {
     "data": {
      "text/plain": [
       "['우선 번 에 대해 서 말씀드리자면 불안장애 강아지 종류 가 아니라 강아지 한 마리 한 마리 에 따라 달라 서 특별히 불안장애 심한 강아지 종류 가 있다고 꼬집어서 말 하기는 조금 그렇네요 <END>',\n",
       " '그리고 강아지 자기 자리 라고 생각 하는 자리 에 앉아서 쉬 고 있을 때 는 쓰다듬으면 안 되나요 <END>',\n",
       " '이사 하고 스트레스 보이는 강아지 지금 그 아이 도 적응해야 하는데 좋아지지 않겠냐고 하시겠지만 확률 로 따지면 좋아질 확률 나빠질 확률 입니다 <END>',\n",
       " '노 즈 워 크 워 크가 좋 기는 한데 식탐 이 없는 아이 들 귀찮아하는 경우 가 있어요 <END>',\n",
       " '강아지 강아지 등 이 많이 보이는 불안장애 증세 일 수 있는데 보호자 외출 것 을 알기 때문 에 불안장애 느끼는 것 입니다 <END>',\n",
       " '낑낑 거리 거나 주인 이 움직일 때 마다 불안장애 주인 이 외출 나서 집 에 오면 집 이 어질러 있거나 그럴 수도 있습니다 <END>',\n",
       " '강아지 분리 불안 증 같으니 인터넷 교육 방법 쳐 보세요 <END>',\n",
       " '제 가 겪어 봤지만 불안장애 심하면 강아지 보호자 년 일 붙어있어도 부족한 그런 감정 이 거든요 <END>',\n",
       " '한숨 을 쉬 면 강아지 불안장애 덜 수 있다고 하네요 <END>',\n",
       " '강아지 불안장애 고민 많으시겠어요 <END>']"
      ]
     },
     "execution_count": 12,
     "metadata": {},
     "output_type": "execute_result"
    }
   ],
   "source": [
    "answer_out[:10]"
   ]
  },
  {
   "cell_type": "code",
   "execution_count": 13,
   "id": "a75b6def",
   "metadata": {},
   "outputs": [],
   "source": [
    "all_sentences = questions + answer_in + answer_out"
   ]
  },
  {
   "cell_type": "code",
   "execution_count": 14,
   "id": "a4d9dcb8",
   "metadata": {},
   "outputs": [
    {
     "data": {
      "text/plain": [
       "40850"
      ]
     },
     "execution_count": 14,
     "metadata": {},
     "output_type": "execute_result"
    }
   ],
   "source": [
    "# 총 data 개수\n",
    "a = (' '.join(questions) + ' '.join(answer_out)).split()\n",
    "len(set(a))"
   ]
  },
  {
   "cell_type": "code",
   "execution_count": 15,
   "id": "6f66bf10",
   "metadata": {},
   "outputs": [],
   "source": [
    "np.save('model/questions_g.npy', questions)\n",
    "np.save('model/answer_in_g.npy', answer_in)\n",
    "np.save('model/answer_out_g.npy', answer_out)"
   ]
  },
  {
   "cell_type": "markdown",
   "id": "565edc47",
   "metadata": {},
   "source": [
    "### Word_index_Voca 제작하기\n",
    " 1. keras tokenizer로 Word_index 제작 \n",
    " 2. 원형 형태로 정제를 했기 때문에 Q 값은 원형 상태로 들어가게 됨\n",
    " 3. 패딩을 통해 길이 또한 맞추기"
   ]
  },
  {
   "cell_type": "code",
   "execution_count": 16,
   "id": "81156b9c",
   "metadata": {},
   "outputs": [],
   "source": [
    "from tensorflow.keras.preprocessing.text import Tokenizer\n",
    "from tensorflow.keras.preprocessing.sequence import pad_sequences"
   ]
  },
  {
   "cell_type": "code",
   "execution_count": 17,
   "id": "cd5260ee",
   "metadata": {},
   "outputs": [],
   "source": [
    "# Word_Index_Voca 작성\n",
    "tokenizer = Tokenizer(filters='', lower=False, oov_token='<OOV>')"
   ]
  },
  {
   "cell_type": "code",
   "execution_count": 18,
   "id": "c5820e6a",
   "metadata": {},
   "outputs": [],
   "source": [
    "tokenizer.fit_on_texts(all_sentences)"
   ]
  },
  {
   "cell_type": "code",
   "execution_count": 19,
   "id": "d6cf3347",
   "metadata": {},
   "outputs": [
    {
     "name": "stdout",
     "output_type": "stream",
     "text": [
      "<OOV>\t >>> \t1\n",
      "강아지\t >>> \t2\n",
      "이\t >>> \t3\n",
      "을\t >>> \t4\n",
      "<START>\t >>> \t5\n",
      "<END>\t >>> \t6\n",
      "에\t >>> \t7\n",
      "가\t >>> \t8\n",
      "하다\t >>> \t9\n",
      "를\t >>> \t10\n",
      "것\t >>> \t11\n"
     ]
    }
   ],
   "source": [
    "# word2index 호출\n",
    "for word, idx in tokenizer.word_index.items():\n",
    "    print(f'{word}\\t >>> \\t{idx}')\n",
    "    if idx > 10:\n",
    "        break"
   ]
  },
  {
   "cell_type": "code",
   "execution_count": 20,
   "id": "0b745657",
   "metadata": {},
   "outputs": [
    {
     "data": {
      "text/plain": [
       "40851"
      ]
     },
     "execution_count": 20,
     "metadata": {},
     "output_type": "execute_result"
    }
   ],
   "source": [
    "# 토크나이저 워드 길이\n",
    "len(tokenizer.word_index)"
   ]
  },
  {
   "cell_type": "code",
   "execution_count": 21,
   "id": "9439b263",
   "metadata": {},
   "outputs": [],
   "source": [
    "np.save('model/all_tokenizer.npy', tokenizer)"
   ]
  },
  {
   "cell_type": "code",
   "execution_count": 22,
   "id": "b23aba84",
   "metadata": {},
   "outputs": [],
   "source": [
    "question_sequence = tokenizer.texts_to_sequences(questions)\n",
    "answer_in_sequence = tokenizer.texts_to_sequences(answer_in)\n",
    "answer_out_sequence = tokenizer.texts_to_sequences(answer_out)"
   ]
  },
  {
   "cell_type": "code",
   "execution_count": 23,
   "id": "1dfdb37b",
   "metadata": {},
   "outputs": [],
   "source": [
    "question_padded = pad_sequences(question_sequence, truncating='post', padding='post')\n",
    "answer_in_padded = pad_sequences(answer_in_sequence, truncating='post', padding='post')\n",
    "answer_out_padded = pad_sequences(answer_out_sequence, truncating='post', padding='post')"
   ]
  },
  {
   "cell_type": "code",
   "execution_count": 24,
   "id": "dcf45f66",
   "metadata": {},
   "outputs": [
    {
     "data": {
      "text/plain": [
       "(41062, 58)"
      ]
     },
     "execution_count": 24,
     "metadata": {},
     "output_type": "execute_result"
    }
   ],
   "source": [
    "question_padded.shape"
   ]
  },
  {
   "cell_type": "code",
   "execution_count": 25,
   "id": "0e4808fb",
   "metadata": {},
   "outputs": [
    {
     "data": {
      "text/plain": [
       "(41062, 58)"
      ]
     },
     "execution_count": 25,
     "metadata": {},
     "output_type": "execute_result"
    }
   ],
   "source": [
    "question_padded.shape"
   ]
  },
  {
   "cell_type": "code",
   "execution_count": 26,
   "id": "aa2b59dd",
   "metadata": {},
   "outputs": [
    {
     "data": {
      "text/plain": [
       "((41062, 56), (41062, 56))"
      ]
     },
     "execution_count": 26,
     "metadata": {},
     "output_type": "execute_result"
    }
   ],
   "source": [
    "answer_in_padded.shape, answer_out_padded.shape"
   ]
  },
  {
   "cell_type": "code",
   "execution_count": 27,
   "id": "faa2561a",
   "metadata": {},
   "outputs": [
    {
     "data": {
      "text/plain": [
       "58"
      ]
     },
     "execution_count": 27,
     "metadata": {},
     "output_type": "execute_result"
    }
   ],
   "source": [
    "# 가장 긴 문장 찾기   ***** 상수 선언 *****\n",
    "MAX_LENGTH = max(question_padded.shape[1], answer_in_padded.shape[1])\n",
    "MAX_LENGTH"
   ]
  },
  {
   "cell_type": "markdown",
   "id": "b20c12e3",
   "metadata": {},
   "source": [
    "### 모델 작업\n",
    " 1. seq2seq 모델에서 RNN과 GRU를 이용하며, Attention 기법으로 작업\n",
    " 2. tf.data 형성\n",
    " 3. https://www.tensorflow.org/tutorials/text/nmt_with_attention?hl=ko (자세한 모델 설명)"
   ]
  },
  {
   "cell_type": "code",
   "execution_count": 28,
   "id": "8d054a09",
   "metadata": {},
   "outputs": [],
   "source": [
    "from tensorflow.keras.layers import Input, Embedding, GRU, Dense, Dropout, Attention\n",
    "from tensorflow.keras.models import Model\n",
    "from tensorflow.keras.models import load_model\n",
    "from tensorflow.keras.callbacks import ModelCheckpoint,EarlyStopping\n",
    "import os\n",
    "import tensorflow as tf\n",
    "import time\n",
    "import warnings\n",
    "warnings.simplefilter('ignore')"
   ]
  },
  {
   "cell_type": "code",
   "execution_count": 37,
   "id": "1dfa6d5a",
   "metadata": {},
   "outputs": [],
   "source": [
    "# tf.data 형성\n",
    "DATA_IN_PATH = './model/'\n",
    "DATA_OUT_PATH = './model/'\n",
    "TRAIN_INPUTS = './model/train_inputs.npy'\n",
    "TRAIN_OUTPUTS = './model/train_outputs.npy'\n",
    "TRAIN_TARGETS = './model/train_targets.npy'\n",
    "\n",
    "MODEL_NAME = 'seq2seq_kor'\n",
    "BATCH_SIZE = 1\n",
    "MAX_SEQUENCE = MAX_LENGTH\n",
    "EPOCH = 5\n",
    "UNITS = 256\n",
    "EMBEDDING_DIM = 256\n",
    "VALIDATION_SPLIT = 0.1\n",
    "\n",
    "char2idx = tokenizer.word_index\n",
    "idx2char = tokenizer.index_word\n",
    "std_index = '<START>'\n",
    "end_index = '<END>'\n",
    "vocab_size = len(tokenizer.word_index)"
   ]
  },
  {
   "cell_type": "code",
   "execution_count": 30,
   "id": "4b074ee5",
   "metadata": {},
   "outputs": [],
   "source": [
    "# 인코더\n",
    "class Encoder(tf.keras.layers.Layer):\n",
    "    def __init__(self, vocab_size, embedding_dim, enc_units, batch_sz):\n",
    "        super(Encoder, self).__init__()\n",
    "        self.batch_sz = batch_sz\n",
    "        self.enc_units = enc_units\n",
    "        self.vocab_size = vocab_size \n",
    "        self.embedding_dim = embedding_dim          \n",
    "        \n",
    "        self.embedding = tf.keras.layers.Embedding(self.vocab_size, self.embedding_dim)\n",
    "        self.gru = tf.keras.layers.GRU(self.enc_units,\n",
    "                                       return_sequences=True,\n",
    "                                       return_state=True,\n",
    "                                       recurrent_initializer='glorot_uniform')\n",
    "\n",
    "    def call(self, x, hidden):\n",
    "        x = self.embedding(x)\n",
    "        output, state = self.gru(x, initial_state = hidden)\n",
    "        return output, state\n",
    "\n",
    "    def initialize_hidden_state(self, inp):\n",
    "        return tf.zeros((tf.shape(inp)[0], self.enc_units))"
   ]
  },
  {
   "cell_type": "code",
   "execution_count": 31,
   "id": "7f564980",
   "metadata": {},
   "outputs": [],
   "source": [
    "# Attention\n",
    "class BahdanauAttention(tf.keras.layers.Layer):\n",
    "    def __init__(self, units):\n",
    "        super(BahdanauAttention, self).__init__()\n",
    "        self.W1 = tf.keras.layers.Dense(units)\n",
    "        self.W2 = tf.keras.layers.Dense(units)\n",
    "        self.V = tf.keras.layers.Dense(1)\n",
    "\n",
    "    def call(self, query, values):\n",
    "        hidden_with_time_axis = tf.expand_dims(query, 1)\n",
    "\n",
    "        score = self.V(tf.nn.tanh(\n",
    "            self.W1(values) + self.W2(hidden_with_time_axis)))\n",
    "\n",
    "        attention_weights = tf.nn.softmax(score, axis=1)\n",
    "\n",
    "        context_vector = attention_weights * values\n",
    "        context_vector = tf.reduce_sum(context_vector, axis=1)\n",
    "\n",
    "        return context_vector, attention_weights"
   ]
  },
  {
   "cell_type": "code",
   "execution_count": 32,
   "id": "37ee4954",
   "metadata": {},
   "outputs": [],
   "source": [
    "# 디코더\n",
    "class Decoder(tf.keras.layers.Layer):\n",
    "    def __init__(self, vocab_size, embedding_dim, dec_units, batch_sz):\n",
    "        super(Decoder, self).__init__()\n",
    "        \n",
    "        self.batch_sz = batch_sz\n",
    "        self.dec_units = dec_units\n",
    "        self.vocab_size = vocab_size \n",
    "        self.embedding_dim = embedding_dim  \n",
    "        \n",
    "        self.embedding = tf.keras.layers.Embedding(self.vocab_size, self.embedding_dim)\n",
    "        self.gru = tf.keras.layers.GRU(self.dec_units,\n",
    "                                       return_sequences=True,\n",
    "                                       return_state=True,\n",
    "                                       recurrent_initializer='glorot_uniform')\n",
    "        self.fc = tf.keras.layers.Dense(self.vocab_size)\n",
    "\n",
    "        self.attention = BahdanauAttention(self.dec_units)\n",
    "        \n",
    "    def call(self, x, hidden, enc_output):\n",
    "        context_vector, attention_weights = self.attention(hidden, enc_output)\n",
    "\n",
    "        x = self.embedding(x)\n",
    "\n",
    "        x = tf.concat([tf.expand_dims(context_vector, 1), x], axis=-1)\n",
    "\n",
    "        output, state = self.gru(x)\n",
    "        output = tf.reshape(output, (-1, output.shape[2]))\n",
    "            \n",
    "        x = self.fc(output)\n",
    "        \n",
    "        return x, state, attention_weights"
   ]
  },
  {
   "cell_type": "code",
   "execution_count": 33,
   "id": "2e58e701",
   "metadata": {},
   "outputs": [],
   "source": [
    "# 최적화 함수와 손실 함수 정의\n",
    "optimizer = tf.keras.optimizers.Adam()\n",
    "loss_object = tf.keras.losses.SparseCategoricalCrossentropy(from_logits=True, reduction='none')\n",
    "train_accuracy = tf.keras.metrics.SparseCategoricalAccuracy(name='accuracy')\n",
    "\n",
    "def loss(real, pred):\n",
    "    mask = tf.math.logical_not(tf.math.equal(real, 0))\n",
    "    loss_ = loss_object(real, pred)\n",
    "    mask = tf.cast(mask, dtype=loss_.dtype)\n",
    "    loss_ *= mask\n",
    "    return tf.reduce_mean(loss_)\n",
    "\n",
    "def accuracy(real, pred):\n",
    "    mask = tf.math.logical_not(tf.math.equal(real, 0))\n",
    "    mask = tf.expand_dims(tf.cast(mask, dtype=pred.dtype), axis=-1)\n",
    "    pred *= mask    \n",
    "    acc = train_accuracy(real, pred)\n",
    "\n",
    "    return tf.reduce_mean(acc)"
   ]
  },
  {
   "cell_type": "code",
   "execution_count": 34,
   "id": "d5bc5dd1",
   "metadata": {},
   "outputs": [],
   "source": [
    "# 언어 모델 훈련\n",
    "class seq2seq(tf.keras.Model):\n",
    "    def __init__(self, vocab_size, embedding_dim, enc_units, dec_units, batch_sz, end_token_idx):    \n",
    "        super(seq2seq, self).__init__()\n",
    "        self.end_token_idx = end_token_idx\n",
    "        self.encoder = Encoder(vocab_size, embedding_dim, enc_units, batch_sz) \n",
    "        self.decoder = Decoder(vocab_size, embedding_dim, dec_units, batch_sz) \n",
    "\n",
    "    def call(self, x):\n",
    "        inp, tar = x\n",
    "        \n",
    "        enc_hidden = self.encoder.initialize_hidden_state(inp)\n",
    "        enc_output, enc_hidden = self.encoder(inp, enc_hidden)\n",
    "\n",
    "        dec_hidden = enc_hidden\n",
    "\n",
    "        predict_tokens = list()\n",
    "        for t in range(0, tar.shape[1]):\n",
    "            dec_input = tf.dtypes.cast(tf.expand_dims(tar[:, t], 1), tf.float32) \n",
    "            predictions, dec_hidden, _ = self.decoder(dec_input, dec_hidden, enc_output)\n",
    "            predict_tokens.append(tf.dtypes.cast(predictions, tf.float32))   \n",
    "        return tf.stack(predict_tokens, axis=1)\n",
    "    \n",
    "    def inference(self, x):\n",
    "        inp  = x\n",
    "\n",
    "        enc_hidden = self.encoder.initialize_hidden_state(inp)\n",
    "        enc_output, enc_hidden = self.encoder(inp, enc_hidden)\n",
    "\n",
    "        dec_hidden = enc_hidden\n",
    "        \n",
    "        dec_input = tf.expand_dims([char2idx[std_index]], 1)\n",
    "        \n",
    "        predict_tokens = list()\n",
    "        for t in range(0, MAX_SEQUENCE):\n",
    "            predictions, dec_hidden, _ = self.decoder(dec_input, dec_hidden, enc_output)\n",
    "            predict_token = tf.argmax(predictions[0])\n",
    "            \n",
    "            if predict_token == self.end_token_idx:\n",
    "                break\n",
    "            \n",
    "            predict_tokens.append(predict_token)\n",
    "            dec_input = tf.dtypes.cast(tf.expand_dims([predict_token], 0), tf.float32)   \n",
    "            \n",
    "        return tf.stack(predict_tokens, axis=0).numpy()"
   ]
  },
  {
   "cell_type": "code",
   "execution_count": 38,
   "id": "a831d559",
   "metadata": {},
   "outputs": [],
   "source": [
    "model = seq2seq(vocab_size, EMBEDDING_DIM, UNITS, UNITS, BATCH_SIZE, char2idx[end_index])\n",
    "model.compile(loss=loss, optimizer=tf.keras.optimizers.Adam(1e-3), metrics=[accuracy])"
   ]
  },
  {
   "cell_type": "code",
   "execution_count": null,
   "id": "3a927e94",
   "metadata": {},
   "outputs": [
    {
     "name": "stdout",
     "output_type": "stream",
     "text": [
      "Epoch 1/5\n",
      "11759/36955 [========>.....................] - ETA: 14:56:44 - loss: 2.0608 - accuracy: 0.7336"
     ]
    }
   ],
   "source": [
    "# 학습 진행\n",
    "PATH = DATA_OUT_PATH + MODEL_NAME\n",
    "if not(os.path.isdir(PATH)):\n",
    "        os.makedirs(os.path.join(PATH))\n",
    "        \n",
    "checkpoint_path = DATA_OUT_PATH + MODEL_NAME + '/weights.h5'\n",
    "    \n",
    "cp_callback = ModelCheckpoint(\n",
    "    checkpoint_path, monitor='val_accuracy', verbose=1, save_best_only=True, save_weights_only=True)\n",
    "\n",
    "earlystop_callback = EarlyStopping(monitor='val_accuracy', min_delta=0.0001, patience=10)\n",
    "\n",
    "history = model.fit([question_padded, answer_in_padded], answer_out_padded,\n",
    "                    batch_size=BATCH_SIZE, epochs=EPOCH,\n",
    "                    validation_split=VALIDATION_SPLIT, callbacks=[earlystop_callback, cp_callback])"
   ]
  },
  {
   "cell_type": "markdown",
   "id": "498e7ef9",
   "metadata": {},
   "source": [
    "### 모델 평가"
   ]
  },
  {
   "cell_type": "code",
   "execution_count": 50,
   "id": "3b7dcae7",
   "metadata": {},
   "outputs": [
    {
     "data": {
      "text/plain": [
       "<tensorflow.python.training.tracking.util.InitializationOnlyStatus at 0x20d3705d250>"
      ]
     },
     "execution_count": 50,
     "metadata": {},
     "output_type": "execute_result"
    }
   ],
   "source": [
    "SAVE_FILE_NM = \"weights.h5\"\n",
    "model.load_weights(os.path.join(DATA_OUT_PATH, MODEL_NAME, SAVE_FILE_NM))\n",
    "tokenizer=np.load('model/all_tokenizer.npy', allow_pickle=True)\n",
    "tokenizer = tokenizer.item()\n",
    "voca=pd.read_csv(\"model/voca_dictionary.csv\",encoding='utf-8-sig', index_col=0)"
   ]
  },
  {
   "cell_type": "code",
   "execution_count": 58,
   "id": "5eec0417",
   "metadata": {},
   "outputs": [],
   "source": [
    "def process_morph(sentence, dictionary=True):\n",
    "    temp=[]\n",
    "    for st, ty in okt.pos(sentence, stem=True, norm=True):\n",
    "        if ty=='Verb' or ty=='Adjective':    # 용언 원형으로 변형\n",
    "            st=Lemmatizer_NA(st)\n",
    "        temp.append(st)\n",
    "        \n",
    "    if dictionary:   # 새로운 문장 받았을 경우\n",
    "        sentence=''.join(temp)\n",
    "        spacing=Spacing(rules=voca.index)\n",
    "        sentence=spacing(sentence)\n",
    "        temp=[]\n",
    "        for st, ty in komoran.pos(sentence):\n",
    "            if ty[0]=='N':\n",
    "                for key in voca.index:\n",
    "                    if st in voca.loc[key,'values'].split():\n",
    "                        st=key  # key로 변경하기\n",
    "                        break\n",
    "            temp.append(st)\n",
    "        sentence=''.join(temp)\n",
    "        sentence=spacing(sentence)\n",
    "        return sentence\n",
    "    else:\n",
    "        sentence=' '.join(temp)\n",
    "        return sentence"
   ]
  },
  {
   "cell_type": "code",
   "execution_count": null,
   "id": "b97c8f0c",
   "metadata": {},
   "outputs": [],
   "source": [
    "def run_chatbot(sentence):\n",
    "    sentence = process_morph(sentence, dictionary=True)\n",
    "    question_sequence = tokenizer.texts_to_sequences([sentence])\n",
    "    question_padded = pad_sequences(question_sequence, maxlen=MAX_LENGTH, truncating='post', padding='post')\n",
    "    \n",
    "    predict_tokens = model.inference(question_padded)\n",
    "    result=''.join([idx2char[str(t)] for t in predict_tokens]\n",
    "    spacing=Spacing(rules=voca.index)\n",
    "    result=spacing(result)\n",
    "    return result"
   ]
  },
  {
   "cell_type": "code",
   "execution_count": 1,
   "id": "8538b423",
   "metadata": {},
   "outputs": [
    {
     "ename": "KeyboardInterrupt",
     "evalue": "Interrupted by user",
     "output_type": "error",
     "traceback": [
      "\u001b[1;31m---------------------------------------------------------------------------\u001b[0m",
      "\u001b[1;31mKeyboardInterrupt\u001b[0m                         Traceback (most recent call last)",
      "\u001b[1;32m<ipython-input-1-0374dc658955>\u001b[0m in \u001b[0;36m<module>\u001b[1;34m\u001b[0m\n\u001b[1;32m----> 1\u001b[1;33m \u001b[0muser_input\u001b[0m \u001b[1;33m=\u001b[0m \u001b[0minput\u001b[0m\u001b[1;33m(\u001b[0m\u001b[1;34m'말을 입력하세요. >>'\u001b[0m\u001b[1;33m)\u001b[0m\u001b[1;33m\u001b[0m\u001b[1;33m\u001b[0m\u001b[0m\n\u001b[0m\u001b[0;32m      2\u001b[0m \u001b[0mprint\u001b[0m\u001b[1;33m(\u001b[0m\u001b[1;34m'>> 챗봇 응답: {}'\u001b[0m\u001b[1;33m.\u001b[0m\u001b[0mformat\u001b[0m\u001b[1;33m(\u001b[0m\u001b[0mrun_chatbot\u001b[0m\u001b[1;33m(\u001b[0m\u001b[0muser_input\u001b[0m\u001b[1;33m)\u001b[0m\u001b[1;33m)\u001b[0m\u001b[1;33m)\u001b[0m\u001b[1;33m\u001b[0m\u001b[1;33m\u001b[0m\u001b[0m\n",
      "\u001b[1;32m~\\anaconda3\\envs\\minipj\\lib\\site-packages\\ipykernel\\kernelbase.py\u001b[0m in \u001b[0;36mraw_input\u001b[1;34m(self, prompt)\u001b[0m\n\u001b[0;32m    858\u001b[0m                 \u001b[1;34m\"raw_input was called, but this frontend does not support input requests.\"\u001b[0m\u001b[1;33m\u001b[0m\u001b[1;33m\u001b[0m\u001b[0m\n\u001b[0;32m    859\u001b[0m             )\n\u001b[1;32m--> 860\u001b[1;33m         return self._input_request(str(prompt),\n\u001b[0m\u001b[0;32m    861\u001b[0m             \u001b[0mself\u001b[0m\u001b[1;33m.\u001b[0m\u001b[0m_parent_ident\u001b[0m\u001b[1;33m,\u001b[0m\u001b[1;33m\u001b[0m\u001b[1;33m\u001b[0m\u001b[0m\n\u001b[0;32m    862\u001b[0m             \u001b[0mself\u001b[0m\u001b[1;33m.\u001b[0m\u001b[0m_parent_header\u001b[0m\u001b[1;33m,\u001b[0m\u001b[1;33m\u001b[0m\u001b[1;33m\u001b[0m\u001b[0m\n",
      "\u001b[1;32m~\\anaconda3\\envs\\minipj\\lib\\site-packages\\ipykernel\\kernelbase.py\u001b[0m in \u001b[0;36m_input_request\u001b[1;34m(self, prompt, ident, parent, password)\u001b[0m\n\u001b[0;32m    902\u001b[0m             \u001b[1;32mexcept\u001b[0m \u001b[0mKeyboardInterrupt\u001b[0m\u001b[1;33m:\u001b[0m\u001b[1;33m\u001b[0m\u001b[1;33m\u001b[0m\u001b[0m\n\u001b[0;32m    903\u001b[0m                 \u001b[1;31m# re-raise KeyboardInterrupt, to truncate traceback\u001b[0m\u001b[1;33m\u001b[0m\u001b[1;33m\u001b[0m\u001b[1;33m\u001b[0m\u001b[0m\n\u001b[1;32m--> 904\u001b[1;33m                 \u001b[1;32mraise\u001b[0m \u001b[0mKeyboardInterrupt\u001b[0m\u001b[1;33m(\u001b[0m\u001b[1;34m\"Interrupted by user\"\u001b[0m\u001b[1;33m)\u001b[0m \u001b[1;32mfrom\u001b[0m \u001b[1;32mNone\u001b[0m\u001b[1;33m\u001b[0m\u001b[1;33m\u001b[0m\u001b[0m\n\u001b[0m\u001b[0;32m    905\u001b[0m             \u001b[1;32mexcept\u001b[0m \u001b[0mException\u001b[0m \u001b[1;32mas\u001b[0m \u001b[0me\u001b[0m\u001b[1;33m:\u001b[0m\u001b[1;33m\u001b[0m\u001b[1;33m\u001b[0m\u001b[0m\n\u001b[0;32m    906\u001b[0m                 \u001b[0mself\u001b[0m\u001b[1;33m.\u001b[0m\u001b[0mlog\u001b[0m\u001b[1;33m.\u001b[0m\u001b[0mwarning\u001b[0m\u001b[1;33m(\u001b[0m\u001b[1;34m\"Invalid Message:\"\u001b[0m\u001b[1;33m,\u001b[0m \u001b[0mexc_info\u001b[0m\u001b[1;33m=\u001b[0m\u001b[1;32mTrue\u001b[0m\u001b[1;33m)\u001b[0m\u001b[1;33m\u001b[0m\u001b[1;33m\u001b[0m\u001b[0m\n",
      "\u001b[1;31mKeyboardInterrupt\u001b[0m: Interrupted by user"
     ]
    }
   ],
   "source": [
    "user_input = input('말을 입력하세요. >>')\n",
    "print('>> 챗봇 응답: {}'.format(run_chatbot(user_input)))"
   ]
  },
  {
   "cell_type": "code",
   "execution_count": null,
   "id": "f824a22c",
   "metadata": {},
   "outputs": [],
   "source": []
  },
  {
   "cell_type": "code",
   "execution_count": null,
   "id": "567440e9",
   "metadata": {},
   "outputs": [],
   "source": []
  },
  {
   "cell_type": "code",
   "execution_count": null,
   "id": "31b240f8",
   "metadata": {},
   "outputs": [],
   "source": []
  },
  {
   "cell_type": "code",
   "execution_count": null,
   "id": "3b260bb5",
   "metadata": {},
   "outputs": [],
   "source": []
  },
  {
   "cell_type": "code",
   "execution_count": null,
   "id": "58ae3328",
   "metadata": {},
   "outputs": [],
   "source": []
  },
  {
   "cell_type": "code",
   "execution_count": null,
   "id": "a9dc9dc4",
   "metadata": {},
   "outputs": [],
   "source": []
  }
 ],
 "metadata": {
  "kernelspec": {
   "display_name": "Python 3",
   "language": "python",
   "name": "python3"
  },
  "language_info": {
   "codemirror_mode": {
    "name": "ipython",
    "version": 3
   },
   "file_extension": ".py",
   "mimetype": "text/x-python",
   "name": "python",
   "nbconvert_exporter": "python",
   "pygments_lexer": "ipython3",
   "version": "3.8.10"
  }
 },
 "nbformat": 4,
 "nbformat_minor": 5
}
