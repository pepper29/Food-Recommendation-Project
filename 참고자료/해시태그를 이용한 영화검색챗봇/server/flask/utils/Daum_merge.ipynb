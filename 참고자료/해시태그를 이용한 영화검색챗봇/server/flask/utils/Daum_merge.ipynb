{
 "cells": [
  {
   "cell_type": "code",
   "execution_count": 68,
   "id": "7b74ec10",
   "metadata": {
    "ExecuteTime": {
     "end_time": "2021-10-13T02:29:44.666812Z",
     "start_time": "2021-10-13T02:29:40.388341Z"
    },
    "scrolled": true
   },
   "outputs": [
    {
     "ename": "AttributeError",
     "evalue": "module 'tweepy' has no attribute 'StreamListener'",
     "output_type": "error",
     "traceback": [
      "\u001b[0;31m---------------------------------------------------------------------------\u001b[0m",
      "\u001b[0;31mAttributeError\u001b[0m                            Traceback (most recent call last)",
      "\u001b[0;32m/tmp/ipykernel_16192/1714982640.py\u001b[0m in \u001b[0;36m<module>\u001b[0;34m\u001b[0m\n\u001b[1;32m      1\u001b[0m \u001b[0;32mimport\u001b[0m \u001b[0mjson\u001b[0m\u001b[0;34m\u001b[0m\u001b[0;34m\u001b[0m\u001b[0m\n\u001b[1;32m      2\u001b[0m \u001b[0;32mimport\u001b[0m \u001b[0mre\u001b[0m\u001b[0;34m\u001b[0m\u001b[0;34m\u001b[0m\u001b[0m\n\u001b[0;32m----> 3\u001b[0;31m \u001b[0;32mfrom\u001b[0m \u001b[0mkonlpy\u001b[0m\u001b[0;34m.\u001b[0m\u001b[0mtag\u001b[0m \u001b[0;32mimport\u001b[0m \u001b[0mOkt\u001b[0m\u001b[0;34m\u001b[0m\u001b[0;34m\u001b[0m\u001b[0m\n\u001b[0m\u001b[1;32m      4\u001b[0m \u001b[0;32mfrom\u001b[0m \u001b[0mcollections\u001b[0m \u001b[0;32mimport\u001b[0m \u001b[0mCounter\u001b[0m\u001b[0;34m\u001b[0m\u001b[0;34m\u001b[0m\u001b[0m\n\u001b[1;32m      5\u001b[0m \u001b[0;32mimport\u001b[0m \u001b[0mmatplotlib\u001b[0m\u001b[0;34m\u001b[0m\u001b[0;34m\u001b[0m\u001b[0m\n",
      "\u001b[0;32m~/.local/lib/python3.8/site-packages/konlpy/__init__.py\u001b[0m in \u001b[0;36m<module>\u001b[0;34m\u001b[0m\n\u001b[1;32m     10\u001b[0m \u001b[0;34m\u001b[0m\u001b[0m\n\u001b[1;32m     11\u001b[0m \u001b[0;32mfrom\u001b[0m \u001b[0mkonlpy\u001b[0m\u001b[0;34m.\u001b[0m\u001b[0mjvm\u001b[0m \u001b[0;32mimport\u001b[0m \u001b[0minit_jvm\u001b[0m\u001b[0;34m\u001b[0m\u001b[0;34m\u001b[0m\u001b[0m\n\u001b[0;32m---> 12\u001b[0;31m from konlpy import (\n\u001b[0m\u001b[1;32m     13\u001b[0m     \u001b[0mcorpus\u001b[0m\u001b[0;34m,\u001b[0m\u001b[0;34m\u001b[0m\u001b[0;34m\u001b[0m\u001b[0m\n\u001b[1;32m     14\u001b[0m     \u001b[0mdata\u001b[0m\u001b[0;34m,\u001b[0m\u001b[0;34m\u001b[0m\u001b[0;34m\u001b[0m\u001b[0m\n",
      "\u001b[0;32m~/.local/lib/python3.8/site-packages/konlpy/stream/__init__.py\u001b[0m in \u001b[0;36m<module>\u001b[0;34m\u001b[0m\n\u001b[1;32m      6\u001b[0m \u001b[0;34m\u001b[0m\u001b[0m\n\u001b[1;32m      7\u001b[0m \u001b[0;32mfrom\u001b[0m \u001b[0mkonlpy\u001b[0m\u001b[0;34m.\u001b[0m\u001b[0mstream\u001b[0m\u001b[0;34m.\u001b[0m\u001b[0mbase\u001b[0m \u001b[0;32mimport\u001b[0m \u001b[0mBaseStreamer\u001b[0m\u001b[0;34m,\u001b[0m \u001b[0mKonlpyStreamerError\u001b[0m\u001b[0;34m\u001b[0m\u001b[0;34m\u001b[0m\u001b[0m\n\u001b[0;32m----> 8\u001b[0;31m \u001b[0;32mfrom\u001b[0m \u001b[0mkonlpy\u001b[0m\u001b[0;34m.\u001b[0m\u001b[0mstream\u001b[0m\u001b[0;34m.\u001b[0m\u001b[0mtwitter\u001b[0m \u001b[0;32mimport\u001b[0m \u001b[0mTwitterStreamer\u001b[0m\u001b[0;34m\u001b[0m\u001b[0;34m\u001b[0m\u001b[0m\n\u001b[0m\u001b[1;32m      9\u001b[0m \u001b[0;32mfrom\u001b[0m \u001b[0mkonlpy\u001b[0m\u001b[0;34m.\u001b[0m\u001b[0mstream\u001b[0m\u001b[0;34m.\u001b[0m\u001b[0mnaver\u001b[0m \u001b[0;32mimport\u001b[0m \u001b[0mNaverStreamer\u001b[0m\u001b[0;34m\u001b[0m\u001b[0;34m\u001b[0m\u001b[0m\n\u001b[1;32m     10\u001b[0m \u001b[0;32mfrom\u001b[0m \u001b[0mkonlpy\u001b[0m\u001b[0;34m.\u001b[0m\u001b[0mstream\u001b[0m\u001b[0;34m.\u001b[0m\u001b[0mdcinside\u001b[0m \u001b[0;32mimport\u001b[0m \u001b[0mDCInsideStreamer\u001b[0m\u001b[0;34m\u001b[0m\u001b[0;34m\u001b[0m\u001b[0m\n",
      "\u001b[0;32m~/.local/lib/python3.8/site-packages/konlpy/stream/twitter.py\u001b[0m in \u001b[0;36m<module>\u001b[0;34m\u001b[0m\n\u001b[1;32m     15\u001b[0m \u001b[0;34m\u001b[0m\u001b[0m\n\u001b[1;32m     16\u001b[0m \u001b[0;34m\u001b[0m\u001b[0m\n\u001b[0;32m---> 17\u001b[0;31m \u001b[0;32mclass\u001b[0m \u001b[0mCorpusListener\u001b[0m\u001b[0;34m(\u001b[0m\u001b[0mtweepy\u001b[0m\u001b[0;34m.\u001b[0m\u001b[0mStreamListener\u001b[0m\u001b[0;34m)\u001b[0m\u001b[0;34m:\u001b[0m\u001b[0;34m\u001b[0m\u001b[0;34m\u001b[0m\u001b[0m\n\u001b[0m\u001b[1;32m     18\u001b[0m     \u001b[0;32mdef\u001b[0m \u001b[0m__init__\u001b[0m\u001b[0;34m(\u001b[0m\u001b[0mself\u001b[0m\u001b[0;34m,\u001b[0m \u001b[0moptions\u001b[0m\u001b[0;34m,\u001b[0m \u001b[0mdirname\u001b[0m\u001b[0;34m,\u001b[0m \u001b[0mword_list\u001b[0m\u001b[0;34m)\u001b[0m\u001b[0;34m:\u001b[0m\u001b[0;34m\u001b[0m\u001b[0;34m\u001b[0m\u001b[0m\n\u001b[1;32m     19\u001b[0m         \"\"\"CorpusListener is a tweepy listener to listen on filtered list of words.\n",
      "\u001b[0;31mAttributeError\u001b[0m: module 'tweepy' has no attribute 'StreamListener'"
     ]
    }
   ],
   "source": [
    "import json\n",
    "import re\n",
    "from konlpy.tag import Okt\n",
    "from collections import Counter\n",
    "import matplotlib\n",
    "import matplotlib.pyplot as plt\n",
    "from matplotlib import font_manager, rc\n",
    "from wordcloud import WordCloud\n",
    "import pandas as pd\n",
    "\n",
    "import glob\n",
    "from functools import reduce\n",
    "from nltk.tokenize import word_tokenize\n",
    "from nltk.corpus import stopwords\n",
    "from nltk.stem import WordNetLemmatizer\n",
    "\n",
    "from wordcloud import WordCloud, STOPWORDS\n",
    "\n",
    "import numpy as np\n",
    "from sklearn.feature_extraction.text import TfidfVectorizer\n",
    "import gensim \n",
    "import warnings\n",
    "warnings.filterwarnings('ignore')"
   ]
  },
  {
   "cell_type": "code",
   "execution_count": null,
   "metadata": {},
   "outputs": [],
   "source": [
    "import pandas as pd"
   ]
  },
  {
   "cell_type": "markdown",
   "id": "69c755e3",
   "metadata": {},
   "source": [
    "# 데이터 정리\n",
    "### 영화정보\n",
    "> meta19 meta20 meta21\n",
    "\n",
    "### 리뷰\n",
    "> 다음 : d19 | d20 | d21<br>"
   ]
  },
  {
   "cell_type": "markdown",
   "id": "23b3af3b",
   "metadata": {},
   "source": [
    "# 데이터 병합"
   ]
  },
  {
   "cell_type": "code",
   "execution_count": 89,
   "id": "566fd2c7",
   "metadata": {
    "ExecuteTime": {
     "end_time": "2021-10-13T02:38:24.901059Z",
     "start_time": "2021-10-13T02:38:24.780938Z"
    }
   },
   "outputs": [],
   "source": [
    "d19 = pd.read_csv('./data/review/daum_review2019_last.csv')"
   ]
  },
  {
   "cell_type": "code",
   "execution_count": 90,
   "id": "861f460b",
   "metadata": {
    "ExecuteTime": {
     "end_time": "2021-10-13T02:38:25.838618Z",
     "start_time": "2021-10-13T02:38:25.748484Z"
    }
   },
   "outputs": [],
   "source": [
    "d20 = pd.read_csv('./data/review/daum_review2020_last.csv')"
   ]
  },
  {
   "cell_type": "code",
   "execution_count": 91,
   "id": "a9d08e37",
   "metadata": {
    "ExecuteTime": {
     "end_time": "2021-10-13T02:41:08.874273Z",
     "start_time": "2021-10-13T02:41:08.772079Z"
    }
   },
   "outputs": [],
   "source": [
    "d21 = pd.read_csv('./data/review/daum_review2021_last.csv')"
   ]
  },
  {
   "cell_type": "code",
   "execution_count": 92,
   "id": "87c5c4cb",
   "metadata": {
    "ExecuteTime": {
     "end_time": "2021-10-13T02:44:26.272156Z",
     "start_time": "2021-10-13T02:44:26.247189Z"
    }
   },
   "outputs": [],
   "source": [
    "d21['release_date']='null'\n",
    "d21 = d21[['title','score','content','write_date','release_date','source_site']]"
   ]
  },
  {
   "cell_type": "code",
   "execution_count": 93,
   "id": "006e91ba",
   "metadata": {
    "ExecuteTime": {
     "end_time": "2021-10-13T02:43:51.946961Z",
     "start_time": "2021-10-13T02:43:51.931960Z"
    }
   },
   "outputs": [
    {
     "name": "stdout",
     "output_type": "stream",
     "text": [
      "Index(['title', 'score', 'content', 'write_date', 'release_date',\n",
      "       'source_site'],\n",
      "      dtype='object')\n",
      "Index(['title', 'score', 'content', 'write_date', 'release_date',\n",
      "       'source_site'],\n",
      "      dtype='object')\n",
      "Index(['title', 'score', 'content', 'write_date', 'release_date',\n",
      "       'source_site'],\n",
      "      dtype='object')\n"
     ]
    },
    {
     "data": {
      "text/html": [
       "<div>\n",
       "<style scoped>\n",
       "    .dataframe tbody tr th:only-of-type {\n",
       "        vertical-align: middle;\n",
       "    }\n",
       "\n",
       "    .dataframe tbody tr th {\n",
       "        vertical-align: top;\n",
       "    }\n",
       "\n",
       "    .dataframe thead th {\n",
       "        text-align: right;\n",
       "    }\n",
       "</style>\n",
       "<table border=\"1\" class=\"dataframe\">\n",
       "  <thead>\n",
       "    <tr style=\"text-align: right;\">\n",
       "      <th></th>\n",
       "      <th>title</th>\n",
       "      <th>score</th>\n",
       "      <th>content</th>\n",
       "      <th>write_date</th>\n",
       "      <th>release_date</th>\n",
       "      <th>source_site</th>\n",
       "    </tr>\n",
       "  </thead>\n",
       "  <tbody>\n",
       "    <tr>\n",
       "      <th>0</th>\n",
       "      <td>루카</td>\n",
       "      <td>10</td>\n",
       "      <td>싱그러운 바닷가 코로나시국에 맑은 자연이 그립다.</td>\n",
       "      <td>2021. 01. 07. 02:40</td>\n",
       "      <td>null</td>\n",
       "      <td>daum</td>\n",
       "    </tr>\n",
       "    <tr>\n",
       "      <th>1</th>\n",
       "      <td>루카</td>\n",
       "      <td>10</td>\n",
       "      <td>랜선 이탈리아 바다 여행 느낌....힐링힐링 빨리 개봉했으면</td>\n",
       "      <td>2021. 06. 15. 11:03</td>\n",
       "      <td>null</td>\n",
       "      <td>daum</td>\n",
       "    </tr>\n",
       "    <tr>\n",
       "      <th>2</th>\n",
       "      <td>루카</td>\n",
       "      <td>9</td>\n",
       "      <td>뻔한 스토리 같지만 뻔하지 않은 감동이 있었슴.마지막엔 눈가를 적실만한 감동도......</td>\n",
       "      <td>2021. 06. 21. 10:12</td>\n",
       "      <td>null</td>\n",
       "      <td>daum</td>\n",
       "    </tr>\n",
       "    <tr>\n",
       "      <th>3</th>\n",
       "      <td>루카</td>\n",
       "      <td>9</td>\n",
       "      <td>아들들이랑 정말 잼있게 봤네요  재미도 있고 감동도 있고 아름다운 영상미에 시원한 ...</td>\n",
       "      <td>2021. 06. 20. 23:38</td>\n",
       "      <td>null</td>\n",
       "      <td>daum</td>\n",
       "    </tr>\n",
       "    <tr>\n",
       "      <th>4</th>\n",
       "      <td>루카</td>\n",
       "      <td>10</td>\n",
       "      <td>픽사는사람을 울게 만든다니깐~</td>\n",
       "      <td>2021. 06. 21. 22:46</td>\n",
       "      <td>null</td>\n",
       "      <td>daum</td>\n",
       "    </tr>\n",
       "  </tbody>\n",
       "</table>\n",
       "</div>"
      ],
      "text/plain": [
       "  title  score                                            content  \\\n",
       "0    루카     10                        싱그러운 바닷가 코로나시국에 맑은 자연이 그립다.   \n",
       "1    루카     10                  랜선 이탈리아 바다 여행 느낌....힐링힐링 빨리 개봉했으면   \n",
       "2    루카      9  뻔한 스토리 같지만 뻔하지 않은 감동이 있었슴.마지막엔 눈가를 적실만한 감동도......   \n",
       "3    루카      9  아들들이랑 정말 잼있게 봤네요  재미도 있고 감동도 있고 아름다운 영상미에 시원한 ...   \n",
       "4    루카     10                                   픽사는사람을 울게 만든다니깐~   \n",
       "\n",
       "            write_date release_date source_site  \n",
       "0  2021. 01. 07. 02:40         null        daum  \n",
       "1  2021. 06. 15. 11:03         null        daum  \n",
       "2  2021. 06. 21. 10:12         null        daum  \n",
       "3  2021. 06. 20. 23:38         null        daum  \n",
       "4  2021. 06. 21. 22:46         null        daum  "
      ]
     },
     "execution_count": 93,
     "metadata": {},
     "output_type": "execute_result"
    }
   ],
   "source": [
    "print(d19.columns)\n",
    "print(d20.columns)\n",
    "print(d21.columns)\n",
    "\n",
    "d21.head()"
   ]
  },
  {
   "cell_type": "code",
   "execution_count": 94,
   "id": "ce6a51ac",
   "metadata": {
    "ExecuteTime": {
     "end_time": "2021-10-13T02:44:29.226294Z",
     "start_time": "2021-10-13T02:44:29.203663Z"
    }
   },
   "outputs": [
    {
     "data": {
      "text/html": [
       "<div>\n",
       "<style scoped>\n",
       "    .dataframe tbody tr th:only-of-type {\n",
       "        vertical-align: middle;\n",
       "    }\n",
       "\n",
       "    .dataframe tbody tr th {\n",
       "        vertical-align: top;\n",
       "    }\n",
       "\n",
       "    .dataframe thead th {\n",
       "        text-align: right;\n",
       "    }\n",
       "</style>\n",
       "<table border=\"1\" class=\"dataframe\">\n",
       "  <thead>\n",
       "    <tr style=\"text-align: right;\">\n",
       "      <th></th>\n",
       "      <th>title</th>\n",
       "      <th>score</th>\n",
       "      <th>content</th>\n",
       "      <th>write_date</th>\n",
       "      <th>release_date</th>\n",
       "      <th>source_site</th>\n",
       "    </tr>\n",
       "  </thead>\n",
       "  <tbody>\n",
       "    <tr>\n",
       "      <th>0</th>\n",
       "      <td>루카</td>\n",
       "      <td>10</td>\n",
       "      <td>싱그러운 바닷가 코로나시국에 맑은 자연이 그립다.</td>\n",
       "      <td>2021. 01. 07. 02:40</td>\n",
       "      <td>null</td>\n",
       "      <td>daum</td>\n",
       "    </tr>\n",
       "  </tbody>\n",
       "</table>\n",
       "</div>"
      ],
      "text/plain": [
       "  title  score                      content           write_date release_date  \\\n",
       "0    루카     10  싱그러운 바닷가 코로나시국에 맑은 자연이 그립다.  2021. 01. 07. 02:40         null   \n",
       "\n",
       "  source_site  \n",
       "0        daum  "
      ]
     },
     "execution_count": 94,
     "metadata": {},
     "output_type": "execute_result"
    }
   ],
   "source": [
    "d21.head(1)"
   ]
  },
  {
   "cell_type": "code",
   "execution_count": 114,
   "id": "1cd97e9a",
   "metadata": {
    "ExecuteTime": {
     "end_time": "2021-10-13T02:40:25.881649Z",
     "start_time": "2021-10-13T02:40:25.785595Z"
    }
   },
   "outputs": [],
   "source": [
    "d1920 = pd.merge(d19, d20, on=('title','score','content','write_date','release_date','source_site'),how='outer')"
   ]
  },
  {
   "cell_type": "code",
   "execution_count": 115,
   "id": "5752128d",
   "metadata": {
    "ExecuteTime": {
     "end_time": "2021-10-13T02:45:25.407110Z",
     "start_time": "2021-10-13T02:45:25.326862Z"
    }
   },
   "outputs": [],
   "source": [
    "d192021 = pd.merge(d1920, d21, on=('title','score','content','write_date','release_date', 'source_site'),how='outer')"
   ]
  },
  {
   "cell_type": "code",
   "execution_count": 116,
   "id": "d456a217",
   "metadata": {
    "ExecuteTime": {
     "end_time": "2021-10-13T02:39:37.686538Z",
     "start_time": "2021-10-13T02:39:37.628365Z"
    }
   },
   "outputs": [],
   "source": [
    "meta192021 = pd.read_csv('./data/review/meta192021.csv')"
   ]
  },
  {
   "cell_type": "code",
   "execution_count": 117,
   "id": "d68fb1a1",
   "metadata": {
    "ExecuteTime": {
     "end_time": "2021-10-13T02:45:31.515725Z",
     "start_time": "2021-10-13T02:45:31.491772Z"
    }
   },
   "outputs": [],
   "source": [
    "d192021 = d192021.reset_index(drop=True)"
   ]
  },
  {
   "cell_type": "code",
   "execution_count": 118,
   "id": "2f640aa2",
   "metadata": {
    "ExecuteTime": {
     "end_time": "2021-10-13T02:45:44.247733Z",
     "start_time": "2021-10-13T02:45:44.205707Z"
    }
   },
   "outputs": [
    {
     "name": "stdout",
     "output_type": "stream",
     "text": [
      "<class 'pandas.core.frame.DataFrame'>\n",
      "RangeIndex: 51773 entries, 0 to 51772\n",
      "Data columns (total 6 columns):\n",
      " #   Column        Non-Null Count  Dtype \n",
      "---  ------        --------------  ----- \n",
      " 0   title         51773 non-null  object\n",
      " 1   score         51773 non-null  int64 \n",
      " 2   content       49126 non-null  object\n",
      " 3   write_date    51773 non-null  object\n",
      " 4   release_date  23249 non-null  object\n",
      " 5   source_site   51773 non-null  object\n",
      "dtypes: int64(1), object(5)\n",
      "memory usage: 2.4+ MB\n"
     ]
    }
   ],
   "source": [
    "d192021.info()"
   ]
  },
  {
   "cell_type": "markdown",
   "id": "78386d26",
   "metadata": {
    "ExecuteTime": {
     "end_time": "2021-10-13T02:52:14.378289Z",
     "start_time": "2021-10-13T02:52:14.367323Z"
    }
   },
   "source": [
    "# 리뷰 결측치 제거"
   ]
  },
  {
   "cell_type": "code",
   "execution_count": 119,
   "id": "94e501cb",
   "metadata": {
    "ExecuteTime": {
     "end_time": "2021-10-13T02:49:41.398230Z",
     "start_time": "2021-10-13T02:49:41.370183Z"
    }
   },
   "outputs": [],
   "source": [
    "d192021 = d192021[d192021['content'].isnull() == 0]"
   ]
  },
  {
   "cell_type": "markdown",
   "id": "6b102892",
   "metadata": {},
   "source": [
    "# 개봉일 결측치 채우기 "
   ]
  },
  {
   "cell_type": "code",
   "execution_count": 120,
   "id": "84fe2597",
   "metadata": {
    "ExecuteTime": {
     "end_time": "2021-10-13T02:51:24.680684Z",
     "start_time": "2021-10-13T02:51:24.637677Z"
    }
   },
   "outputs": [],
   "source": [
    "d192021 = d192021.fillna('null')"
   ]
  },
  {
   "cell_type": "code",
   "execution_count": 121,
   "id": "35fa2cb2",
   "metadata": {
    "ExecuteTime": {
     "end_time": "2021-10-13T02:52:00.571476Z",
     "start_time": "2021-10-13T02:52:00.554476Z"
    }
   },
   "outputs": [
    {
     "name": "stdout",
     "output_type": "stream",
     "text": [
      "49126\n",
      "27399\n"
     ]
    }
   ],
   "source": [
    "print(len(d192021))\n",
    "d192021 = d192021.drop_duplicates(subset='content').reset_index(drop=True)\n",
    "print(len(d192021))"
   ]
  },
  {
   "cell_type": "markdown",
   "id": "855f9158",
   "metadata": {},
   "source": [
    "### csv 생성"
   ]
  },
  {
   "cell_type": "code",
   "execution_count": 84,
   "id": "d4d47715",
   "metadata": {
    "ExecuteTime": {
     "end_time": "2021-10-13T02:53:16.712599Z",
     "start_time": "2021-10-13T02:53:16.477020Z"
    }
   },
   "outputs": [],
   "source": [
    "# d192021.to_csv('./data/total/Daum_review_192021.csv',index=False)"
   ]
  },
  {
   "cell_type": "code",
   "execution_count": 132,
   "metadata": {},
   "outputs": [
    {
     "name": "stderr",
     "output_type": "stream",
     "text": [
      "/tmp/ipykernel_16192/615102753.py:1: FutureWarning: In a future version of pandas all arguments of DataFrame.drop except for the argument 'labels' will be keyword-only\n",
      "  d192021 = d192021.drop('release_date',1)\n"
     ]
    }
   ],
   "source": [
    "d192021 = d192021.drop('release_date',1)"
   ]
  },
  {
   "cell_type": "code",
   "execution_count": 138,
   "metadata": {},
   "outputs": [],
   "source": [
    "movie_all = pd.merge(meta192021, d192021\n",
    "    , how = 'inner'\n",
    "    , on = \"title\")"
   ]
  },
  {
   "cell_type": "code",
   "execution_count": 139,
   "metadata": {},
   "outputs": [],
   "source": [
    "movie_all = movie_all.drop_duplicates(subset='content').reset_index(drop=True)\n",
    "movie_all.to_csv('./data/total/Daum_review_192021.csv',index=False)"
   ]
  },
  {
   "cell_type": "code",
   "execution_count": 79,
   "id": "71bf075c",
   "metadata": {
    "ExecuteTime": {
     "end_time": "2021-10-13T03:14:45.829039Z",
     "start_time": "2021-10-13T03:14:45.335623Z"
    }
   },
   "outputs": [],
   "source": [
    "movie_all = d192021.drop_duplicates(subset='content').reset_index(drop=True)"
   ]
  },
  {
   "cell_type": "markdown",
   "id": "b78ffb51",
   "metadata": {},
   "source": [
    "---"
   ]
  },
  {
   "cell_type": "code",
   "execution_count": 58,
   "id": "677c3fd7",
   "metadata": {
    "ExecuteTime": {
     "end_time": "2021-10-13T03:03:43.338730Z",
     "start_time": "2021-10-13T03:03:43.319732Z"
    }
   },
   "outputs": [],
   "source": [
    "movie_all = movie_all.drop('release_date_y',axis=1)"
   ]
  },
  {
   "cell_type": "code",
   "execution_count": 59,
   "id": "165e3563",
   "metadata": {
    "ExecuteTime": {
     "end_time": "2021-10-13T03:04:04.106457Z",
     "start_time": "2021-10-13T03:04:04.050935Z"
    }
   },
   "outputs": [
    {
     "name": "stdout",
     "output_type": "stream",
     "text": [
      "<class 'pandas.core.frame.DataFrame'>\n",
      "Int64Index: 48919 entries, 0 to 48918\n",
      "Data columns (total 14 columns):\n",
      " #   Column          Non-Null Count  Dtype \n",
      "---  ------          --------------  ----- \n",
      " 0   title           48919 non-null  object\n",
      " 1   genre           48919 non-null  object\n",
      " 2   nation          48919 non-null  object\n",
      " 3   running_time    48919 non-null  object\n",
      " 4   release_date_x  48919 non-null  object\n",
      " 5   director        48919 non-null  object\n",
      " 6   actor           48919 non-null  object\n",
      " 7   grade           48919 non-null  object\n",
      " 8   summary         48919 non-null  object\n",
      " 9   poster          48919 non-null  object\n",
      " 10  score           48919 non-null  int64 \n",
      " 11  content         48919 non-null  object\n",
      " 12  write_date      48919 non-null  object\n",
      " 13  source_site     48919 non-null  object\n",
      "dtypes: int64(1), object(13)\n",
      "memory usage: 6.6+ MB\n"
     ]
    }
   ],
   "source": [
    "movie_all.info()"
   ]
  },
  {
   "cell_type": "code",
   "execution_count": 76,
   "id": "4c55ef14",
   "metadata": {
    "ExecuteTime": {
     "end_time": "2021-10-13T03:12:04.586238Z",
     "start_time": "2021-10-13T03:12:04.570241Z"
    }
   },
   "outputs": [
    {
     "data": {
      "text/plain": [
       "92"
      ]
     },
     "execution_count": 76,
     "metadata": {},
     "output_type": "execute_result"
    }
   ],
   "source": [
    "movie_all.title.nunique()"
   ]
  },
  {
   "cell_type": "code",
   "execution_count": 64,
   "id": "84ce9951",
   "metadata": {
    "ExecuteTime": {
     "end_time": "2021-10-13T03:06:53.996217Z",
     "start_time": "2021-10-13T03:06:53.970237Z"
    }
   },
   "outputs": [
    {
     "data": {
      "text/html": [
       "<div>\n",
       "<style scoped>\n",
       "    .dataframe tbody tr th:only-of-type {\n",
       "        vertical-align: middle;\n",
       "    }\n",
       "\n",
       "    .dataframe tbody tr th {\n",
       "        vertical-align: top;\n",
       "    }\n",
       "\n",
       "    .dataframe thead th {\n",
       "        text-align: right;\n",
       "    }\n",
       "</style>\n",
       "<table border=\"1\" class=\"dataframe\">\n",
       "  <thead>\n",
       "    <tr style=\"text-align: right;\">\n",
       "      <th></th>\n",
       "      <th>title</th>\n",
       "      <th>genre</th>\n",
       "      <th>nation</th>\n",
       "      <th>running_time</th>\n",
       "      <th>release_date_x</th>\n",
       "      <th>director</th>\n",
       "      <th>actor</th>\n",
       "      <th>grade</th>\n",
       "      <th>summary</th>\n",
       "      <th>poster</th>\n",
       "      <th>score</th>\n",
       "      <th>content</th>\n",
       "      <th>write_date</th>\n",
       "      <th>source_site</th>\n",
       "    </tr>\n",
       "  </thead>\n",
       "  <tbody>\n",
       "    <tr>\n",
       "      <th>0</th>\n",
       "      <td>드래곤 길들이기 3</td>\n",
       "      <td>애니메이션, 모험</td>\n",
       "      <td>미국</td>\n",
       "      <td>104분</td>\n",
       "      <td>2019 .01.30 개봉</td>\n",
       "      <td>딘 데블로이스</td>\n",
       "      <td>제이 바루첼(히컵 목소리), 아메리카 페레라(아스트리드 목소리), 케이트 블란쳇(발...</td>\n",
       "      <td>전체 관람가</td>\n",
       "      <td>영원한 친구 히컵과 투슬리스의 활약으로\\n 사람과 드래곤이 공존하며 평화롭게 살아가...</td>\n",
       "      <td>https://movie-phinf.pstatic.net/20190131_168/1...</td>\n",
       "      <td>10</td>\n",
       "      <td>재밌음</td>\n",
       "      <td>2020. 11. 26. 15:35</td>\n",
       "      <td>daum</td>\n",
       "    </tr>\n",
       "    <tr>\n",
       "      <th>1</th>\n",
       "      <td>드래곤 길들이기 3</td>\n",
       "      <td>애니메이션, 모험</td>\n",
       "      <td>미국</td>\n",
       "      <td>104분</td>\n",
       "      <td>2019 .01.30 개봉</td>\n",
       "      <td>딘 데블로이스</td>\n",
       "      <td>제이 바루첼(히컵 목소리), 아메리카 페레라(아스트리드 목소리), 케이트 블란쳇(발...</td>\n",
       "      <td>전체 관람가</td>\n",
       "      <td>영원한 친구 히컵과 투슬리스의 활약으로\\n 사람과 드래곤이 공존하며 평화롭게 살아가...</td>\n",
       "      <td>https://movie-phinf.pstatic.net/20190131_168/1...</td>\n",
       "      <td>8</td>\n",
       "      <td>인간과 드래곤의 공생, 진정한 유토피아를 찾아서. 마지막 장면은 토이스토리4를 연상...</td>\n",
       "      <td>2020. 09. 27. 23:39</td>\n",
       "      <td>daum</td>\n",
       "    </tr>\n",
       "    <tr>\n",
       "      <th>2</th>\n",
       "      <td>드래곤 길들이기 3</td>\n",
       "      <td>애니메이션, 모험</td>\n",
       "      <td>미국</td>\n",
       "      <td>104분</td>\n",
       "      <td>2019 .01.30 개봉</td>\n",
       "      <td>딘 데블로이스</td>\n",
       "      <td>제이 바루첼(히컵 목소리), 아메리카 페레라(아스트리드 목소리), 케이트 블란쳇(발...</td>\n",
       "      <td>전체 관람가</td>\n",
       "      <td>영원한 친구 히컵과 투슬리스의 활약으로\\n 사람과 드래곤이 공존하며 평화롭게 살아가...</td>\n",
       "      <td>https://movie-phinf.pstatic.net/20190131_168/1...</td>\n",
       "      <td>10</td>\n",
       "      <td>엄청 재밌고 라이트 퓨리 너무 귀여워요</td>\n",
       "      <td>2020. 09. 10. 16:39</td>\n",
       "      <td>daum</td>\n",
       "    </tr>\n",
       "    <tr>\n",
       "      <th>3</th>\n",
       "      <td>드래곤 길들이기 3</td>\n",
       "      <td>애니메이션, 모험</td>\n",
       "      <td>미국</td>\n",
       "      <td>104분</td>\n",
       "      <td>2019 .01.30 개봉</td>\n",
       "      <td>딘 데블로이스</td>\n",
       "      <td>제이 바루첼(히컵 목소리), 아메리카 페레라(아스트리드 목소리), 케이트 블란쳇(발...</td>\n",
       "      <td>전체 관람가</td>\n",
       "      <td>영원한 친구 히컵과 투슬리스의 활약으로\\n 사람과 드래곤이 공존하며 평화롭게 살아가...</td>\n",
       "      <td>https://movie-phinf.pstatic.net/20190131_168/1...</td>\n",
       "      <td>9</td>\n",
       "      <td>보고또봐도 재밌고 뭉클</td>\n",
       "      <td>2020. 11. 28. 14:21</td>\n",
       "      <td>daum</td>\n",
       "    </tr>\n",
       "    <tr>\n",
       "      <th>4</th>\n",
       "      <td>드래곤 길들이기 3</td>\n",
       "      <td>애니메이션, 모험</td>\n",
       "      <td>미국</td>\n",
       "      <td>104분</td>\n",
       "      <td>2019 .01.30 개봉</td>\n",
       "      <td>딘 데블로이스</td>\n",
       "      <td>제이 바루첼(히컵 목소리), 아메리카 페레라(아스트리드 목소리), 케이트 블란쳇(발...</td>\n",
       "      <td>전체 관람가</td>\n",
       "      <td>영원한 친구 히컵과 투슬리스의 활약으로\\n 사람과 드래곤이 공존하며 평화롭게 살아가...</td>\n",
       "      <td>https://movie-phinf.pstatic.net/20190131_168/1...</td>\n",
       "      <td>10</td>\n",
       "      <td>재밌어요!</td>\n",
       "      <td>2020. 05. 07. 10:52</td>\n",
       "      <td>daum</td>\n",
       "    </tr>\n",
       "    <tr>\n",
       "      <th>...</th>\n",
       "      <td>...</td>\n",
       "      <td>...</td>\n",
       "      <td>...</td>\n",
       "      <td>...</td>\n",
       "      <td>...</td>\n",
       "      <td>...</td>\n",
       "      <td>...</td>\n",
       "      <td>...</td>\n",
       "      <td>...</td>\n",
       "      <td>...</td>\n",
       "      <td>...</td>\n",
       "      <td>...</td>\n",
       "      <td>...</td>\n",
       "      <td>...</td>\n",
       "    </tr>\n",
       "    <tr>\n",
       "      <th>48914</th>\n",
       "      <td>프리 가이</td>\n",
       "      <td>액션, 모험</td>\n",
       "      <td>미국</td>\n",
       "      <td>115분</td>\n",
       "      <td>2021 .08.11 개봉</td>\n",
       "      <td>숀 레비</td>\n",
       "      <td>라이언 레이놀즈(가이)</td>\n",
       "      <td>12세 관람가</td>\n",
       "      <td>평범한 직장, 절친 그리고 한 잔의 커피.\\n  평화로운 일상 속 때론 총격전과 날...</td>\n",
       "      <td>https://movie-phinf.pstatic.net/20210721_243/1...</td>\n",
       "      <td>9</td>\n",
       "      <td>2주전에 벌써 p2p사이트에 많이 떠돌고 있던데...</td>\n",
       "      <td>2020. 02. 26. 02:04</td>\n",
       "      <td>daum</td>\n",
       "    </tr>\n",
       "    <tr>\n",
       "      <th>48915</th>\n",
       "      <td>프리 가이</td>\n",
       "      <td>액션, 모험</td>\n",
       "      <td>미국</td>\n",
       "      <td>115분</td>\n",
       "      <td>2021 .08.11 개봉</td>\n",
       "      <td>숀 레비</td>\n",
       "      <td>라이언 레이놀즈(가이)</td>\n",
       "      <td>12세 관람가</td>\n",
       "      <td>평범한 직장, 절친 그리고 한 잔의 커피.\\n  평화로운 일상 속 때론 총격전과 날...</td>\n",
       "      <td>https://movie-phinf.pstatic.net/20210721_243/1...</td>\n",
       "      <td>10</td>\n",
       "      <td>평점이 왜 다들 높은지....트루먼쇼를 게임화? 그래픽은 나름 괘안치만 다른건 그닥</td>\n",
       "      <td>2021. 08. 24. 13:20</td>\n",
       "      <td>daum</td>\n",
       "    </tr>\n",
       "    <tr>\n",
       "      <th>48916</th>\n",
       "      <td>프리 가이</td>\n",
       "      <td>액션, 모험</td>\n",
       "      <td>미국</td>\n",
       "      <td>115분</td>\n",
       "      <td>2021 .08.11 개봉</td>\n",
       "      <td>숀 레비</td>\n",
       "      <td>라이언 레이놀즈(가이)</td>\n",
       "      <td>12세 관람가</td>\n",
       "      <td>평범한 직장, 절친 그리고 한 잔의 커피.\\n  평화로운 일상 속 때론 총격전과 날...</td>\n",
       "      <td>https://movie-phinf.pstatic.net/20210721_243/1...</td>\n",
       "      <td>5</td>\n",
       "      <td>잤다. 현실과 게임사이를 왔다갔다하는 데에 이입이 힘들었다.</td>\n",
       "      <td>2021. 08. 16. 18:31</td>\n",
       "      <td>daum</td>\n",
       "    </tr>\n",
       "    <tr>\n",
       "      <th>48917</th>\n",
       "      <td>프리 가이</td>\n",
       "      <td>액션, 모험</td>\n",
       "      <td>미국</td>\n",
       "      <td>115분</td>\n",
       "      <td>2021 .08.11 개봉</td>\n",
       "      <td>숀 레비</td>\n",
       "      <td>라이언 레이놀즈(가이)</td>\n",
       "      <td>12세 관람가</td>\n",
       "      <td>평범한 직장, 절친 그리고 한 잔의 커피.\\n  평화로운 일상 속 때론 총격전과 날...</td>\n",
       "      <td>https://movie-phinf.pstatic.net/20210721_243/1...</td>\n",
       "      <td>1</td>\n",
       "      <td>뭔가 기발한 것 같은데 재미는 없고 역시나 난 미쿡식 유머는 진짜 안 맞는 것 같음...</td>\n",
       "      <td>2021. 08. 14. 18:41</td>\n",
       "      <td>daum</td>\n",
       "    </tr>\n",
       "    <tr>\n",
       "      <th>48918</th>\n",
       "      <td>프리 가이</td>\n",
       "      <td>액션, 모험</td>\n",
       "      <td>미국</td>\n",
       "      <td>115분</td>\n",
       "      <td>2021 .08.11 개봉</td>\n",
       "      <td>숀 레비</td>\n",
       "      <td>라이언 레이놀즈(가이)</td>\n",
       "      <td>12세 관람가</td>\n",
       "      <td>평범한 직장, 절친 그리고 한 잔의 커피.\\n  평화로운 일상 속 때론 총격전과 날...</td>\n",
       "      <td>https://movie-phinf.pstatic.net/20210721_243/1...</td>\n",
       "      <td>4</td>\n",
       "      <td>오픈월드게임에서 NPC의 활약이라니! 주제나 소재는 정말 좋은데 좀 개유치...</td>\n",
       "      <td>2021. 08. 17. 19:12</td>\n",
       "      <td>daum</td>\n",
       "    </tr>\n",
       "  </tbody>\n",
       "</table>\n",
       "<p>48919 rows × 14 columns</p>\n",
       "</div>"
      ],
      "text/plain": [
       "            title      genre nation running_time  release_date_x director  \\\n",
       "0      드래곤 길들이기 3  애니메이션, 모험     미국         104분  2019 .01.30 개봉  딘 데블로이스   \n",
       "1      드래곤 길들이기 3  애니메이션, 모험     미국         104분  2019 .01.30 개봉  딘 데블로이스   \n",
       "2      드래곤 길들이기 3  애니메이션, 모험     미국         104분  2019 .01.30 개봉  딘 데블로이스   \n",
       "3      드래곤 길들이기 3  애니메이션, 모험     미국         104분  2019 .01.30 개봉  딘 데블로이스   \n",
       "4      드래곤 길들이기 3  애니메이션, 모험     미국         104분  2019 .01.30 개봉  딘 데블로이스   \n",
       "...           ...        ...    ...          ...             ...      ...   \n",
       "48914       프리 가이     액션, 모험     미국         115분  2021 .08.11 개봉     숀 레비   \n",
       "48915       프리 가이     액션, 모험     미국         115분  2021 .08.11 개봉     숀 레비   \n",
       "48916       프리 가이     액션, 모험     미국         115분  2021 .08.11 개봉     숀 레비   \n",
       "48917       프리 가이     액션, 모험     미국         115분  2021 .08.11 개봉     숀 레비   \n",
       "48918       프리 가이     액션, 모험     미국         115분  2021 .08.11 개봉     숀 레비   \n",
       "\n",
       "                                                   actor    grade  \\\n",
       "0      제이 바루첼(히컵 목소리), 아메리카 페레라(아스트리드 목소리), 케이트 블란쳇(발...   전체 관람가   \n",
       "1      제이 바루첼(히컵 목소리), 아메리카 페레라(아스트리드 목소리), 케이트 블란쳇(발...   전체 관람가   \n",
       "2      제이 바루첼(히컵 목소리), 아메리카 페레라(아스트리드 목소리), 케이트 블란쳇(발...   전체 관람가   \n",
       "3      제이 바루첼(히컵 목소리), 아메리카 페레라(아스트리드 목소리), 케이트 블란쳇(발...   전체 관람가   \n",
       "4      제이 바루첼(히컵 목소리), 아메리카 페레라(아스트리드 목소리), 케이트 블란쳇(발...   전체 관람가   \n",
       "...                                                  ...      ...   \n",
       "48914                                       라이언 레이놀즈(가이)  12세 관람가   \n",
       "48915                                       라이언 레이놀즈(가이)  12세 관람가   \n",
       "48916                                       라이언 레이놀즈(가이)  12세 관람가   \n",
       "48917                                       라이언 레이놀즈(가이)  12세 관람가   \n",
       "48918                                       라이언 레이놀즈(가이)  12세 관람가   \n",
       "\n",
       "                                                 summary  \\\n",
       "0      영원한 친구 히컵과 투슬리스의 활약으로\\n 사람과 드래곤이 공존하며 평화롭게 살아가...   \n",
       "1      영원한 친구 히컵과 투슬리스의 활약으로\\n 사람과 드래곤이 공존하며 평화롭게 살아가...   \n",
       "2      영원한 친구 히컵과 투슬리스의 활약으로\\n 사람과 드래곤이 공존하며 평화롭게 살아가...   \n",
       "3      영원한 친구 히컵과 투슬리스의 활약으로\\n 사람과 드래곤이 공존하며 평화롭게 살아가...   \n",
       "4      영원한 친구 히컵과 투슬리스의 활약으로\\n 사람과 드래곤이 공존하며 평화롭게 살아가...   \n",
       "...                                                  ...   \n",
       "48914  평범한 직장, 절친 그리고 한 잔의 커피.\\n  평화로운 일상 속 때론 총격전과 날...   \n",
       "48915  평범한 직장, 절친 그리고 한 잔의 커피.\\n  평화로운 일상 속 때론 총격전과 날...   \n",
       "48916  평범한 직장, 절친 그리고 한 잔의 커피.\\n  평화로운 일상 속 때론 총격전과 날...   \n",
       "48917  평범한 직장, 절친 그리고 한 잔의 커피.\\n  평화로운 일상 속 때론 총격전과 날...   \n",
       "48918  평범한 직장, 절친 그리고 한 잔의 커피.\\n  평화로운 일상 속 때론 총격전과 날...   \n",
       "\n",
       "                                                  poster  score  \\\n",
       "0      https://movie-phinf.pstatic.net/20190131_168/1...     10   \n",
       "1      https://movie-phinf.pstatic.net/20190131_168/1...      8   \n",
       "2      https://movie-phinf.pstatic.net/20190131_168/1...     10   \n",
       "3      https://movie-phinf.pstatic.net/20190131_168/1...      9   \n",
       "4      https://movie-phinf.pstatic.net/20190131_168/1...     10   \n",
       "...                                                  ...    ...   \n",
       "48914  https://movie-phinf.pstatic.net/20210721_243/1...      9   \n",
       "48915  https://movie-phinf.pstatic.net/20210721_243/1...     10   \n",
       "48916  https://movie-phinf.pstatic.net/20210721_243/1...      5   \n",
       "48917  https://movie-phinf.pstatic.net/20210721_243/1...      1   \n",
       "48918  https://movie-phinf.pstatic.net/20210721_243/1...      4   \n",
       "\n",
       "                                                 content           write_date  \\\n",
       "0                                                    재밌음  2020. 11. 26. 15:35   \n",
       "1      인간과 드래곤의 공생, 진정한 유토피아를 찾아서. 마지막 장면은 토이스토리4를 연상...  2020. 09. 27. 23:39   \n",
       "2                                  엄청 재밌고 라이트 퓨리 너무 귀여워요  2020. 09. 10. 16:39   \n",
       "3                                           보고또봐도 재밌고 뭉클  2020. 11. 28. 14:21   \n",
       "4                                                  재밌어요!  2020. 05. 07. 10:52   \n",
       "...                                                  ...                  ...   \n",
       "48914                      2주전에 벌써 p2p사이트에 많이 떠돌고 있던데...  2020. 02. 26. 02:04   \n",
       "48915     평점이 왜 다들 높은지....트루먼쇼를 게임화? 그래픽은 나름 괘안치만 다른건 그닥  2021. 08. 24. 13:20   \n",
       "48916                  잤다. 현실과 게임사이를 왔다갔다하는 데에 이입이 힘들었다.  2021. 08. 16. 18:31   \n",
       "48917  뭔가 기발한 것 같은데 재미는 없고 역시나 난 미쿡식 유머는 진짜 안 맞는 것 같음...  2021. 08. 14. 18:41   \n",
       "48918       오픈월드게임에서 NPC의 활약이라니! 주제나 소재는 정말 좋은데 좀 개유치...  2021. 08. 17. 19:12   \n",
       "\n",
       "      source_site  \n",
       "0            daum  \n",
       "1            daum  \n",
       "2            daum  \n",
       "3            daum  \n",
       "4            daum  \n",
       "...           ...  \n",
       "48914        daum  \n",
       "48915        daum  \n",
       "48916        daum  \n",
       "48917        daum  \n",
       "48918        daum  \n",
       "\n",
       "[48919 rows x 14 columns]"
      ]
     },
     "execution_count": 64,
     "metadata": {},
     "output_type": "execute_result"
    }
   ],
   "source": [
    "movie_all"
   ]
  },
  {
   "cell_type": "markdown",
   "id": "6ac9af9b",
   "metadata": {},
   "source": [
    "# 리뷰 중복값 제거 \n",
    "* 22,171\n"
   ]
  },
  {
   "cell_type": "code",
   "execution_count": 73,
   "id": "9f6b47c1",
   "metadata": {
    "ExecuteTime": {
     "end_time": "2021-10-13T03:11:27.456657Z",
     "start_time": "2021-10-13T03:11:27.404332Z"
    },
    "scrolled": true
   },
   "outputs": [],
   "source": [
    "movie_all = movie_all.drop_duplicates(subset='content').reset_index(drop=True)"
   ]
  },
  {
   "cell_type": "code",
   "execution_count": 77,
   "id": "843ca59e",
   "metadata": {
    "ExecuteTime": {
     "end_time": "2021-10-13T03:13:29.174850Z",
     "start_time": "2021-10-13T03:13:29.142271Z"
    },
    "scrolled": true
   },
   "outputs": [
    {
     "data": {
      "text/html": [
       "<div>\n",
       "<style scoped>\n",
       "    .dataframe tbody tr th:only-of-type {\n",
       "        vertical-align: middle;\n",
       "    }\n",
       "\n",
       "    .dataframe tbody tr th {\n",
       "        vertical-align: top;\n",
       "    }\n",
       "\n",
       "    .dataframe thead th {\n",
       "        text-align: right;\n",
       "    }\n",
       "</style>\n",
       "<table border=\"1\" class=\"dataframe\">\n",
       "  <thead>\n",
       "    <tr style=\"text-align: right;\">\n",
       "      <th></th>\n",
       "      <th>title</th>\n",
       "      <th>genre</th>\n",
       "      <th>nation</th>\n",
       "      <th>running_time</th>\n",
       "      <th>release_date_x</th>\n",
       "      <th>director</th>\n",
       "      <th>actor</th>\n",
       "      <th>grade</th>\n",
       "      <th>summary</th>\n",
       "      <th>poster</th>\n",
       "      <th>score</th>\n",
       "      <th>content</th>\n",
       "      <th>write_date</th>\n",
       "      <th>source_site</th>\n",
       "    </tr>\n",
       "  </thead>\n",
       "  <tbody>\n",
       "    <tr>\n",
       "      <th>0</th>\n",
       "      <td>드래곤 길들이기 3</td>\n",
       "      <td>애니메이션, 모험</td>\n",
       "      <td>미국</td>\n",
       "      <td>104분</td>\n",
       "      <td>2019 .01.30 개봉</td>\n",
       "      <td>딘 데블로이스</td>\n",
       "      <td>제이 바루첼(히컵 목소리), 아메리카 페레라(아스트리드 목소리), 케이트 블란쳇(발...</td>\n",
       "      <td>전체 관람가</td>\n",
       "      <td>영원한 친구 히컵과 투슬리스의 활약으로\\n 사람과 드래곤이 공존하며 평화롭게 살아가...</td>\n",
       "      <td>https://movie-phinf.pstatic.net/20190131_168/1...</td>\n",
       "      <td>10</td>\n",
       "      <td>재밌음</td>\n",
       "      <td>2020. 11. 26. 15:35</td>\n",
       "      <td>daum</td>\n",
       "    </tr>\n",
       "  </tbody>\n",
       "</table>\n",
       "</div>"
      ],
      "text/plain": [
       "        title      genre nation running_time  release_date_x director  \\\n",
       "0  드래곤 길들이기 3  애니메이션, 모험     미국         104분  2019 .01.30 개봉  딘 데블로이스   \n",
       "\n",
       "                                               actor   grade  \\\n",
       "0  제이 바루첼(히컵 목소리), 아메리카 페레라(아스트리드 목소리), 케이트 블란쳇(발...  전체 관람가   \n",
       "\n",
       "                                             summary  \\\n",
       "0  영원한 친구 히컵과 투슬리스의 활약으로\\n 사람과 드래곤이 공존하며 평화롭게 살아가...   \n",
       "\n",
       "                                              poster  score content  \\\n",
       "0  https://movie-phinf.pstatic.net/20190131_168/1...     10     재밌음   \n",
       "\n",
       "            write_date source_site  \n",
       "0  2020. 11. 26. 15:35        daum  "
      ]
     },
     "execution_count": 77,
     "metadata": {},
     "output_type": "execute_result"
    }
   ],
   "source": [
    "movie_all.head(1)"
   ]
  },
  {
   "cell_type": "code",
   "execution_count": 78,
   "id": "d64ba2c8",
   "metadata": {
    "ExecuteTime": {
     "end_time": "2021-10-13T03:14:17.149067Z",
     "start_time": "2021-10-13T03:14:17.124994Z"
    }
   },
   "outputs": [],
   "source": [
    "movie_all = movie_all.reset_index(drop=True)"
   ]
  },
  {
   "cell_type": "code",
   "execution_count": 80,
   "id": "c216cc96",
   "metadata": {
    "ExecuteTime": {
     "end_time": "2021-10-13T03:15:01.632750Z",
     "start_time": "2021-10-13T03:15:01.600751Z"
    }
   },
   "outputs": [
    {
     "name": "stdout",
     "output_type": "stream",
     "text": [
      "<class 'pandas.core.frame.DataFrame'>\n",
      "RangeIndex: 26748 entries, 0 to 26747\n",
      "Data columns (total 14 columns):\n",
      " #   Column          Non-Null Count  Dtype \n",
      "---  ------          --------------  ----- \n",
      " 0   title           26748 non-null  object\n",
      " 1   genre           26748 non-null  object\n",
      " 2   nation          26748 non-null  object\n",
      " 3   running_time    26748 non-null  object\n",
      " 4   release_date_x  26748 non-null  object\n",
      " 5   director        26748 non-null  object\n",
      " 6   actor           26748 non-null  object\n",
      " 7   grade           26748 non-null  object\n",
      " 8   summary         26748 non-null  object\n",
      " 9   poster          26748 non-null  object\n",
      " 10  score           26748 non-null  int64 \n",
      " 11  content         26748 non-null  object\n",
      " 12  write_date      26748 non-null  object\n",
      " 13  source_site     26748 non-null  object\n",
      "dtypes: int64(1), object(13)\n",
      "memory usage: 2.9+ MB\n"
     ]
    }
   ],
   "source": [
    "movie_all.info()"
   ]
  },
  {
   "cell_type": "code",
   "execution_count": 81,
   "id": "a04b1ba8",
   "metadata": {
    "ExecuteTime": {
     "end_time": "2021-10-13T03:15:51.097507Z",
     "start_time": "2021-10-13T03:15:51.060508Z"
    }
   },
   "outputs": [],
   "source": [
    "movie_all = movie_all.rename(columns={'release_date_x ':'release_date'})"
   ]
  }
 ],
 "metadata": {
  "hide_input": false,
  "interpreter": {
   "hash": "31f2aee4e71d21fbe5cf8b01ff0e069b9275f58929596ceb00d14d90e3e16cd6"
  },
  "kernelspec": {
   "display_name": "Python 3.8.10 64-bit",
   "name": "python3"
  },
  "language_info": {
   "codemirror_mode": {
    "name": "ipython",
    "version": 3
   },
   "file_extension": ".py",
   "mimetype": "text/x-python",
   "name": "python",
   "nbconvert_exporter": "python",
   "pygments_lexer": "ipython3",
   "version": "3.8.10"
  },
  "toc": {
   "base_numbering": 1,
   "nav_menu": {},
   "number_sections": true,
   "sideBar": true,
   "skip_h1_title": false,
   "title_cell": "Table of Contents",
   "title_sidebar": "Contents",
   "toc_cell": false,
   "toc_position": {},
   "toc_section_display": true,
   "toc_window_display": false
  },
  "varInspector": {
   "cols": {
    "lenName": 16,
    "lenType": 16,
    "lenVar": 40
   },
   "kernels_config": {
    "python": {
     "delete_cmd_postfix": "",
     "delete_cmd_prefix": "del ",
     "library": "var_list.py",
     "varRefreshCmd": "print(var_dic_list())"
    },
    "r": {
     "delete_cmd_postfix": ") ",
     "delete_cmd_prefix": "rm(",
     "library": "var_list.r",
     "varRefreshCmd": "cat(var_dic_list()) "
    }
   },
   "types_to_exclude": [
    "module",
    "function",
    "builtin_function_or_method",
    "instance",
    "_Feature"
   ],
   "window_display": false
  }
 },
 "nbformat": 4,
 "nbformat_minor": 5
}
