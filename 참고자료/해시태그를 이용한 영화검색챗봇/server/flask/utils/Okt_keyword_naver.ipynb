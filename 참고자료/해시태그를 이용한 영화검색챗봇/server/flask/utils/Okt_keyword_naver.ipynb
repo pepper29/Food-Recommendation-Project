{
 "cells": [
  {
   "cell_type": "code",
   "execution_count": 2,
   "id": "6c767bfa",
   "metadata": {
    "ExecuteTime": {
     "end_time": "2021-10-13T18:56:19.739495Z",
     "start_time": "2021-10-13T18:56:16.030575Z"
    },
    "scrolled": false
   },
   "outputs": [
    {
     "name": "stderr",
     "output_type": "stream",
     "text": [
      "C:\\ProgramData\\Anaconda3\\lib\\site-packages\\gensim\\similarities\\__init__.py:15: UserWarning: The gensim.similarities.levenshtein submodule is disabled, because the optional Levenshtein package <https://pypi.org/project/python-Levenshtein/> is unavailable. Install Levenhstein (e.g. `pip install python-Levenshtein`) to suppress this warning.\n",
      "  warnings.warn(msg)\n"
     ]
    }
   ],
   "source": [
    "import sys\n",
    "import pandas as pd\n",
    "from konlpy.tag import Okt\n",
    "from collections import Counter\n",
    "from wordcloud import WordCloud\n",
    "import nltk\n",
    "import matplotlib.pyplot as plt\n",
    "from matplotlib import font_manager, rc\n",
    "import gensim \n",
    "import warnings\n",
    "warnings.filterwarnings('ignore')"
   ]
  },
  {
   "cell_type": "markdown",
   "id": "a18f53f6",
   "metadata": {},
   "source": [
    "#### 네이버 영화 불러오기"
   ]
  },
  {
   "cell_type": "code",
   "execution_count": 3,
   "id": "ff6052ea",
   "metadata": {
    "ExecuteTime": {
     "end_time": "2021-10-13T18:56:25.734300Z",
     "start_time": "2021-10-13T18:56:22.246181Z"
    }
   },
   "outputs": [],
   "source": [
    "movie_n = pd.read_csv('naver_movie_192021.csv')"
   ]
  },
  {
   "cell_type": "code",
   "execution_count": 4,
   "id": "0877ce8c",
   "metadata": {
    "ExecuteTime": {
     "end_time": "2021-10-13T18:56:32.706739Z",
     "start_time": "2021-10-13T18:56:32.546740Z"
    }
   },
   "outputs": [
    {
     "name": "stdout",
     "output_type": "stream",
     "text": [
      "<class 'pandas.core.frame.DataFrame'>\n",
      "RangeIndex: 235785 entries, 0 to 235784\n",
      "Data columns (total 14 columns):\n",
      " #   Column        Non-Null Count   Dtype \n",
      "---  ------        --------------   ----- \n",
      " 0   title         235785 non-null  object\n",
      " 1   genre         235785 non-null  object\n",
      " 2   nation        235785 non-null  object\n",
      " 3   running_time  235785 non-null  object\n",
      " 4   release_date  235785 non-null  object\n",
      " 5   director      235785 non-null  object\n",
      " 6   actor         235785 non-null  object\n",
      " 7   grade         235785 non-null  object\n",
      " 8   summary       235785 non-null  object\n",
      " 9   poster        235785 non-null  object\n",
      " 10  score         235785 non-null  int64 \n",
      " 11  content       235785 non-null  object\n",
      " 12  write_date    235785 non-null  object\n",
      " 13  source_site   235785 non-null  object\n",
      "dtypes: int64(1), object(13)\n",
      "memory usage: 25.2+ MB\n"
     ]
    }
   ],
   "source": [
    "movie_n.info()"
   ]
  },
  {
   "cell_type": "markdown",
   "id": "19d69b93",
   "metadata": {},
   "source": [
    "## 데이터 정보\n",
    "* title : 영화 제목\n",
    "* genre : 장르\n",
    "* nation : 국가\n",
    "* running_time : 러닝타임\n",
    "* release_date : 개봉일\n",
    "* director : 감독\n",
    "* actor : 출연진\n",
    "* grade : 관람가 등급\n",
    "* summary : 줄거리\n",
    "* poster : 포스터 url\n",
    "* score : 평점\n",
    "* content : 리뷰 내용\n",
    "* write_date : 리뷰 작성일\n",
    "* source_site : 플랫폼"
   ]
  },
  {
   "cell_type": "code",
   "execution_count": null,
   "id": "7e7a989b",
   "metadata": {},
   "outputs": [],
   "source": [
    "# Test 데이터 구조 탐색 및 출력 결과 확인"
   ]
  },
  {
   "cell_type": "code",
   "execution_count": 28,
   "id": "7ce23a93",
   "metadata": {
    "ExecuteTime": {
     "end_time": "2021-10-13T13:26:46.079727Z",
     "start_time": "2021-10-13T13:26:46.041703Z"
    }
   },
   "outputs": [],
   "source": [
    "a = movie_n[movie_n['title']=='기생충']['content']"
   ]
  },
  {
   "cell_type": "code",
   "execution_count": 30,
   "id": "6836983d",
   "metadata": {
    "ExecuteTime": {
     "end_time": "2021-10-13T13:27:48.065771Z",
     "start_time": "2021-10-13T13:27:48.054582Z"
    }
   },
   "outputs": [],
   "source": [
    "a = a.tolist()"
   ]
  },
  {
   "cell_type": "code",
   "execution_count": 32,
   "id": "284a9be2",
   "metadata": {
    "ExecuteTime": {
     "end_time": "2021-10-13T13:27:58.691682Z",
     "start_time": "2021-10-13T13:27:58.679560Z"
    }
   },
   "outputs": [
    {
     "data": {
      "text/plain": [
       "'비에 젖지 않는 고급 장난감 텐트와, 비에 젖다 못해 잠겨버리는 반지하 가구'"
      ]
     },
     "execution_count": 32,
     "metadata": {},
     "output_type": "execute_result"
    }
   ],
   "source": [
    "a[0]"
   ]
  },
  {
   "cell_type": "code",
   "execution_count": 33,
   "id": "6e0117f7",
   "metadata": {
    "ExecuteTime": {
     "end_time": "2021-10-13T13:29:32.968811Z",
     "start_time": "2021-10-13T13:29:32.948617Z"
    }
   },
   "outputs": [],
   "source": [
    "nounss = okt.nouns(a[0])"
   ]
  },
  {
   "cell_type": "code",
   "execution_count": 34,
   "id": "33643f21",
   "metadata": {
    "ExecuteTime": {
     "end_time": "2021-10-13T13:29:38.850820Z",
     "start_time": "2021-10-13T13:29:38.842822Z"
    }
   },
   "outputs": [
    {
     "data": {
      "text/plain": [
       "['비', '고급', '장난감', '텐트', '비', '반지하', '가구']"
      ]
     },
     "execution_count": 34,
     "metadata": {},
     "output_type": "execute_result"
    }
   ],
   "source": [
    "nounsss"
   ]
  },
  {
   "cell_type": "code",
   "execution_count": null,
   "id": "32dbe518",
   "metadata": {},
   "outputs": [],
   "source": [
    "### 장르가 애니메이션인 영화만 변수에 담기"
   ]
  },
  {
   "cell_type": "code",
   "execution_count": 4,
   "id": "bde1c5f5",
   "metadata": {
    "ExecuteTime": {
     "end_time": "2021-10-13T12:46:13.299595Z",
     "start_time": "2021-10-13T12:46:13.190422Z"
    }
   },
   "outputs": [],
   "source": [
    "ani = movie_n[movie_n['genre'].str.contains('애니메이션')]"
   ]
  },
  {
   "cell_type": "code",
   "execution_count": null,
   "id": "b0a651a1",
   "metadata": {},
   "outputs": [],
   "source": [
    "### 장르가 애니메이션인 리뷰만 변수에 담기"
   ]
  },
  {
   "cell_type": "code",
   "execution_count": 5,
   "id": "f4cac242",
   "metadata": {
    "ExecuteTime": {
     "end_time": "2021-10-13T12:46:14.086885Z",
     "start_time": "2021-10-13T12:46:14.074325Z"
    }
   },
   "outputs": [],
   "source": [
    "anicontent = ani['content']"
   ]
  },
  {
   "cell_type": "code",
   "execution_count": null,
   "id": "38c51798",
   "metadata": {},
   "outputs": [],
   "source": [
    "### txt 파일로 저장 "
   ]
  },
  {
   "cell_type": "code",
   "execution_count": 6,
   "id": "2353c00a",
   "metadata": {
    "ExecuteTime": {
     "end_time": "2021-10-13T12:46:14.888592Z",
     "start_time": "2021-10-13T12:46:14.797885Z"
    }
   },
   "outputs": [],
   "source": [
    "anicontent.to_csv('test_a.txt',index=False)"
   ]
  },
  {
   "cell_type": "code",
   "execution_count": null,
   "id": "eebabda2",
   "metadata": {},
   "outputs": [],
   "source": [
    "### 불러오기"
   ]
  },
  {
   "cell_type": "code",
   "execution_count": 7,
   "id": "a57bcb98",
   "metadata": {
    "ExecuteTime": {
     "end_time": "2021-10-13T12:46:15.615375Z",
     "start_time": "2021-10-13T12:46:15.575779Z"
    }
   },
   "outputs": [],
   "source": [
    "f = open('test_a.txt','r',encoding='utf-8')\n",
    "rev = f.read()"
   ]
  },
  {
   "cell_type": "markdown",
   "id": "05cb3151",
   "metadata": {},
   "source": [
    "## 불용어 처리\n",
    "* `영화` 단어까지 포함 (자주 언급)"
   ]
  },
  {
   "cell_type": "code",
   "execution_count": 16,
   "id": "bbc07569",
   "metadata": {
    "ExecuteTime": {
     "end_time": "2021-10-13T12:57:59.089669Z",
     "start_time": "2021-10-13T12:57:59.078669Z"
    }
   },
   "outputs": [],
   "source": [
    "stop_words = list(set(stop_words))"
   ]
  },
  {
   "cell_type": "markdown",
   "id": "f62c4afc",
   "metadata": {},
   "source": [
    "## wordcloud 시각화해서 단어 확인하기\n",
    "* Konlpy의 Okt로 형태소 분석 분류, `명사`만 추출\n",
    "* 단어의 길이가 하나인 경우 제외\n",
    "* `빈도 수` 세기"
   ]
  },
  {
   "cell_type": "code",
   "execution_count": 17,
   "id": "3c91cac1",
   "metadata": {
    "ExecuteTime": {
     "end_time": "2021-10-13T12:58:49.671585Z",
     "start_time": "2021-10-13T12:58:03.669340Z"
    }
   },
   "outputs": [
    {
     "data": {
      "image/png": "[encoded data removed]",
      "text/plain": [
       "<Figure size 1728x576 with 1 Axes>"
      ]
     },
     "metadata": {
      "needs_background": "light"
     },
     "output_type": "display_data"
    }
   ],
   "source": [
    "def get_noun(filename):\n",
    "    f = open(filename,'r',encoding='utf-8')\n",
    "    rev = f.read()\n",
    "    # okt\n",
    "    okt = Okt()\n",
    "    noun = okt.nouns(rev)\n",
    "    for i,v in enumerate(noun):\n",
    "        if len(v)<2:\n",
    "            noun.pop(i)\n",
    "\n",
    "    count = Counter(noun)\n",
    "\n",
    "    # 명사 빈도 카운트\n",
    "    noun_list = count.most_common(100)\n",
    "    return noun_list\n",
    "\n",
    "def wordCloud(noun_list):\n",
    "    wc = WordCloud(font_path='NanumBarunGothic.ttf',\n",
    "                    width=1000,\n",
    "                    height=1000,\n",
    "                    max_words=100,\n",
    "                    max_font_size=200,\n",
    "                    background_color='white',\n",
    "                    stopwords=stop_words)#.generate_from_frequencies(dict(data))\n",
    "    wc.generate(rev)\n",
    "    plt.figure(figsize=(24, 8))\n",
    "    plt.imshow(wc)\n",
    "    plt.axis('off')\n",
    "    plt.show()\n",
    "\n",
    "if __name__==\"__main__\":\n",
    "    filename= 'test_a.txt'\n",
    "    wordCloud(get_noun(filename))"
   ]
  },
  {
   "cell_type": "code",
   "execution_count": null,
   "id": "b0c294f7",
   "metadata": {},
   "outputs": [],
   "source": [
    "wc.generate_from_frequencies(dict(noun_list))\n",
    "wc.to_file('wordcloud_rev.png')"
   ]
  },
  {
   "cell_type": "markdown",
   "id": "4bbb84f1",
   "metadata": {},
   "source": [
    "---"
   ]
  },
  {
   "cell_type": "markdown",
   "id": "ede1b908",
   "metadata": {},
   "source": [
    "## 한글자인 명사 제외\n",
    "* 결과 출력해보기"
   ]
  },
  {
   "cell_type": "code",
   "execution_count": 21,
   "id": "03dee7f3",
   "metadata": {
    "ExecuteTime": {
     "end_time": "2021-10-13T13:09:03.072293Z",
     "start_time": "2021-10-13T13:08:21.644395Z"
    }
   },
   "outputs": [
    {
     "name": "stdout",
     "output_type": "stream",
     "text": [
      "('아이', 4875)\n",
      "('스토리', 2510)\n",
      "('감동', 2384)\n",
      "('보고', 1491)\n",
      "('어른', 1298)\n",
      "('최고', 1191)\n",
      "('애니메이션', 1091)\n",
      "('보기', 1049)\n",
      "('애니', 1043)\n",
      "('극장판', 992)\n",
      "('노래', 987)\n",
      "('캐릭터', 948)\n",
      "('재미', 912)\n",
      "('아들', 879)\n",
      "('영상', 771)\n",
      "('역시', 731)\n",
      "('마지막', 721)\n",
      "('더빙', 706)\n",
      "('느낌', 669)\n",
      "('추천', 656)\n",
      "('작품', 641)\n",
      "('기대', 639)\n",
      "('장면', 637)\n",
      "('이야기', 572)\n",
      "('일본', 572)\n",
      "('처음', 571)\n",
      "('눈물', 560)\n",
      "('연출', 519)\n",
      "('가족', 500)\n",
      "('작화', 492)\n",
      "('집중', 483)\n",
      "('디즈니', 477)\n",
      "('평점', 458)\n",
      "('극장', 456)\n",
      "('마음', 451)\n",
      "('인생', 444)\n",
      "('부분', 431)\n",
      "('이번', 423)\n",
      "('영화관', 422)\n",
      "('사랑', 421)\n",
      "('조금', 417)\n",
      "('한번', 416)\n",
      "('음악', 408)\n",
      "('별로', 404)\n",
      "('상영', 402)\n",
      "('한국', 396)\n",
      "('시리즈', 373)\n",
      "('이해', 370)\n",
      "('친구', 367)\n",
      "('액션', 362)\n",
      "('성우', 342)\n",
      "('목소리', 340)\n",
      "('개봉', 339)\n",
      "('짱구', 329)\n",
      "('엄마', 320)\n",
      "('개연', 318)\n",
      "('전개', 309)\n",
      "('관람', 309)\n",
      "('원작', 308)\n",
      "('추억', 308)\n",
      "('코난', 298)\n",
      "('엔딩', 290)\n",
      "('이상', 289)\n",
      "('이건', 286)\n",
      "('만화', 273)\n",
      "('감독', 270)\n",
      "('불매', 269)\n",
      "('그림', 267)\n",
      "('주인공', 266)\n",
      "('강추', 264)\n",
      "('내내', 258)\n",
      "('연기', 256)\n",
      "('역대', 245)\n",
      "('기분', 244)\n",
      "('표현', 238)\n"
     ]
    }
   ],
   "source": [
    "f = open('test_a.txt','r',encoding='utf-8')\n",
    "rev = f.read()\n",
    "\n",
    "# okt\n",
    "okt = Okt()\n",
    "noun = okt.nouns(rev)\n",
    "for i,v in enumerate(noun):\n",
    "    if len(v)<2:\n",
    "        noun.pop(i)\n",
    "        \n",
    "count = Counter(noun)\n",
    "\n",
    "# 명사 빈도 카운트\n",
    "noun_list = count.most_common(100)\n",
    "for v in noun_list:\n",
    "    if v[0] not in stop_words:\n",
    "        print(v)"
   ]
  },
  {
   "cell_type": "code",
   "execution_count": null,
   "id": "af01e247",
   "metadata": {},
   "outputs": [],
   "source": [
    "### 구조 확인"
   ]
  },
  {
   "cell_type": "code",
   "execution_count": 22,
   "id": "239eb04e",
   "metadata": {
    "ExecuteTime": {
     "end_time": "2021-10-13T13:09:11.927682Z",
     "start_time": "2021-10-13T13:09:11.919684Z"
    }
   },
   "outputs": [
    {
     "data": {
      "text/plain": [
       "('표현', 238)"
      ]
     },
     "metadata": {},
     "output_type": "display_data"
    },
    {
     "data": {
      "text/plain": [
       "'표현'"
      ]
     },
     "metadata": {},
     "output_type": "display_data"
    }
   ],
   "source": [
    "display(v, v[0])"
   ]
  },
  {
   "cell_type": "markdown",
   "id": "b5081b5f",
   "metadata": {},
   "source": [
    "### 함수를 위한 코드 정리"
   ]
  },
  {
   "cell_type": "code",
   "execution_count": 23,
   "id": "77e53247",
   "metadata": {
    "ExecuteTime": {
     "end_time": "2021-10-13T13:10:04.916592Z",
     "start_time": "2021-10-13T13:09:20.016199Z"
    }
   },
   "outputs": [],
   "source": [
    "sw_list=[]\n",
    "f = open('test_a.txt','r',encoding='utf-8')\n",
    "rev = f.read()\n",
    "\n",
    "# okt\n",
    "okt = Okt()\n",
    "noun = okt.nouns(rev)\n",
    "for i,v in enumerate(noun):\n",
    "    if len(v)<2:\n",
    "        noun.pop(i)\n",
    "        \n",
    "count = Counter(noun)\n",
    "\n",
    "# 명사 빈도 카운트\n",
    "noun_list = count.most_common(100)\n",
    "for v in noun_list:\n",
    "    if v[0] not in stop_words:\n",
    "        sw_list.append(v)"
   ]
  },
  {
   "cell_type": "code",
   "execution_count": 24,
   "id": "390702d5",
   "metadata": {
    "ExecuteTime": {
     "end_time": "2021-10-13T13:10:21.104138Z",
     "start_time": "2021-10-13T13:10:21.071381Z"
    }
   },
   "outputs": [
    {
     "data": {
      "text/html": [
       "<div>\n",
       "<style scoped>\n",
       "    .dataframe tbody tr th:only-of-type {\n",
       "        vertical-align: middle;\n",
       "    }\n",
       "\n",
       "    .dataframe tbody tr th {\n",
       "        vertical-align: top;\n",
       "    }\n",
       "\n",
       "    .dataframe thead th {\n",
       "        text-align: right;\n",
       "    }\n",
       "</style>\n",
       "<table border=\"1\" class=\"dataframe\">\n",
       "  <thead>\n",
       "    <tr style=\"text-align: right;\">\n",
       "      <th></th>\n",
       "      <th>noun</th>\n",
       "      <th>count</th>\n",
       "    </tr>\n",
       "  </thead>\n",
       "  <tbody>\n",
       "    <tr>\n",
       "      <th>0</th>\n",
       "      <td>아이</td>\n",
       "      <td>4875</td>\n",
       "    </tr>\n",
       "    <tr>\n",
       "      <th>1</th>\n",
       "      <td>스토리</td>\n",
       "      <td>2510</td>\n",
       "    </tr>\n",
       "    <tr>\n",
       "      <th>2</th>\n",
       "      <td>감동</td>\n",
       "      <td>2384</td>\n",
       "    </tr>\n",
       "    <tr>\n",
       "      <th>3</th>\n",
       "      <td>보고</td>\n",
       "      <td>1491</td>\n",
       "    </tr>\n",
       "    <tr>\n",
       "      <th>4</th>\n",
       "      <td>어른</td>\n",
       "      <td>1298</td>\n",
       "    </tr>\n",
       "    <tr>\n",
       "      <th>5</th>\n",
       "      <td>최고</td>\n",
       "      <td>1191</td>\n",
       "    </tr>\n",
       "    <tr>\n",
       "      <th>6</th>\n",
       "      <td>애니메이션</td>\n",
       "      <td>1091</td>\n",
       "    </tr>\n",
       "    <tr>\n",
       "      <th>7</th>\n",
       "      <td>보기</td>\n",
       "      <td>1049</td>\n",
       "    </tr>\n",
       "    <tr>\n",
       "      <th>8</th>\n",
       "      <td>애니</td>\n",
       "      <td>1043</td>\n",
       "    </tr>\n",
       "    <tr>\n",
       "      <th>9</th>\n",
       "      <td>극장판</td>\n",
       "      <td>992</td>\n",
       "    </tr>\n",
       "    <tr>\n",
       "      <th>10</th>\n",
       "      <td>노래</td>\n",
       "      <td>987</td>\n",
       "    </tr>\n",
       "    <tr>\n",
       "      <th>11</th>\n",
       "      <td>캐릭터</td>\n",
       "      <td>948</td>\n",
       "    </tr>\n",
       "    <tr>\n",
       "      <th>12</th>\n",
       "      <td>재미</td>\n",
       "      <td>912</td>\n",
       "    </tr>\n",
       "    <tr>\n",
       "      <th>13</th>\n",
       "      <td>아들</td>\n",
       "      <td>879</td>\n",
       "    </tr>\n",
       "    <tr>\n",
       "      <th>14</th>\n",
       "      <td>영상</td>\n",
       "      <td>771</td>\n",
       "    </tr>\n",
       "    <tr>\n",
       "      <th>15</th>\n",
       "      <td>역시</td>\n",
       "      <td>731</td>\n",
       "    </tr>\n",
       "    <tr>\n",
       "      <th>16</th>\n",
       "      <td>마지막</td>\n",
       "      <td>721</td>\n",
       "    </tr>\n",
       "    <tr>\n",
       "      <th>17</th>\n",
       "      <td>더빙</td>\n",
       "      <td>706</td>\n",
       "    </tr>\n",
       "    <tr>\n",
       "      <th>18</th>\n",
       "      <td>느낌</td>\n",
       "      <td>669</td>\n",
       "    </tr>\n",
       "    <tr>\n",
       "      <th>19</th>\n",
       "      <td>추천</td>\n",
       "      <td>656</td>\n",
       "    </tr>\n",
       "  </tbody>\n",
       "</table>\n",
       "</div>"
      ],
      "text/plain": [
       "     noun  count\n",
       "0      아이   4875\n",
       "1     스토리   2510\n",
       "2      감동   2384\n",
       "3      보고   1491\n",
       "4      어른   1298\n",
       "5      최고   1191\n",
       "6   애니메이션   1091\n",
       "7      보기   1049\n",
       "8      애니   1043\n",
       "9     극장판    992\n",
       "10     노래    987\n",
       "11    캐릭터    948\n",
       "12     재미    912\n",
       "13     아들    879\n",
       "14     영상    771\n",
       "15     역시    731\n",
       "16    마지막    721\n",
       "17     더빙    706\n",
       "18     느낌    669\n",
       "19     추천    656"
      ]
     },
     "execution_count": 24,
     "metadata": {},
     "output_type": "execute_result"
    }
   ],
   "source": [
    "# 데이터 프레임 생성\n",
    "df = pd.DataFrame(sw_list, columns =['noun', 'count'])\n",
    "  \n",
    "df.head(20)"
   ]
  },
  {
   "cell_type": "code",
   "execution_count": null,
   "id": "b31100db",
   "metadata": {},
   "outputs": [],
   "source": [
    "filename = ''\n",
    "f = open(filename,'r',encoding='utf-8')"
   ]
  },
  {
   "cell_type": "code",
   "execution_count": null,
   "id": "86de637d",
   "metadata": {},
   "outputs": [],
   "source": [
    "# 애니메이션 영화 목록"
   ]
  },
  {
   "cell_type": "code",
   "execution_count": 46,
   "id": "1ba2d8ef",
   "metadata": {
    "ExecuteTime": {
     "end_time": "2021-10-13T13:44:10.233226Z",
     "start_time": "2021-10-13T13:44:10.213228Z"
    },
    "scrolled": false
   },
   "outputs": [
    {
     "data": {
      "text/plain": [
       "title\n",
       "드래곤 길들이기 3                        490\n",
       "언더독                               490\n",
       "극장판 공룡메카드: 타이니소어의 섬               490\n",
       "드래곤볼 슈퍼: 브로리                      490\n",
       "레드슈즈                              489\n",
       "천로역정: 천국을 찾아서                     488\n",
       "주먹왕 랄프 2: 인터넷 속으로                 487\n",
       "페이트 스테이 나이트 헤븐즈필 제2장 로스트 버터플라이    487\n",
       "뽀로로 극장판 보물섬 대모험                   487\n",
       "미래의 미라이                           486\n",
       "Name: title, dtype: int64"
      ]
     },
     "execution_count": 46,
     "metadata": {},
     "output_type": "execute_result"
    }
   ],
   "source": [
    "ani.groupby('title')['title'].count().sort_values(ascending=False)[:10]"
   ]
  },
  {
   "cell_type": "markdown",
   "id": "eb628ca4",
   "metadata": {},
   "source": [
    "## def get_noun\n",
    "* name : 영화의 제목을 입력 \n",
    "* 애니메이션에 해당하는 목록 중 입력된 영화 제목과 일치하는 리뷰의 단어 빈도 수를 데이터 프레임으로 생성\n",
    "* noun : 명사\n",
    "* count : 빈도 수"
   ]
  },
  {
   "cell_type": "code",
   "execution_count": 51,
   "id": "ad221f3e",
   "metadata": {
    "ExecuteTime": {
     "end_time": "2021-10-13T13:46:22.011759Z",
     "start_time": "2021-10-13T13:46:22.001234Z"
    }
   },
   "outputs": [],
   "source": [
    "def get_noun(name):\n",
    "    s_list = []\n",
    "    s = ani[ani['title']==name]['content'] # input의 name과 같은 영화의 리뷰들만 추출 \n",
    "    s = s.tolist() # 리뷰들을 리스트화 \n",
    "    mid = []\n",
    "    for i in range(0,len(s)): # 리뷰들의 형태소 분류 및 최소 길이 미만 제거 \n",
    "        noun = okt.nouns(s[i])\n",
    "        for i,v in enumerate(noun):\n",
    "            if len(v)<2:\n",
    "                noun.pop(i)\n",
    "        mid+=noun\n",
    "        \n",
    "        count = Counter(noun) # 단어별 개수\n",
    "        noun_list = count.most_common(100)  # (리뷰 하나의)최빈 단어\n",
    "        for v in noun_list: # (리뷰 하나의) 단어 list에서 불용어 제거 \n",
    "            if v[0] not in stop_words:\n",
    "                s_list.append(v) # 유효단어 추출후 append \n",
    "                \n",
    "    # 리뷰별로 반복\n",
    "    df= pd.DataFrame(s_list, columns =['noun', 'count'])\n",
    "    df['title']= name # 영화 제목 추가\n",
    "    return df"
   ]
  },
  {
   "cell_type": "code",
   "execution_count": null,
   "id": "9d8e2716",
   "metadata": {},
   "outputs": [],
   "source": [
    "# 뽀로로 극장판 보물섬 대모험에 해당하는 리뷰에서 (불용어를 제거한) 가장 많이 쓰인 단어 "
   ]
  },
  {
   "cell_type": "code",
   "execution_count": 74,
   "id": "a3f9b961",
   "metadata": {
    "ExecuteTime": {
     "end_time": "2021-10-13T14:59:40.957197Z",
     "start_time": "2021-10-13T14:59:40.162204Z"
    }
   },
   "outputs": [
    {
     "data": {
      "text/html": [
       "<div>\n",
       "<style scoped>\n",
       "    .dataframe tbody tr th:only-of-type {\n",
       "        vertical-align: middle;\n",
       "    }\n",
       "\n",
       "    .dataframe tbody tr th {\n",
       "        vertical-align: top;\n",
       "    }\n",
       "\n",
       "    .dataframe thead th {\n",
       "        text-align: right;\n",
       "    }\n",
       "</style>\n",
       "<table border=\"1\" class=\"dataframe\">\n",
       "  <thead>\n",
       "    <tr style=\"text-align: right;\">\n",
       "      <th></th>\n",
       "      <th>noun</th>\n",
       "      <th>count</th>\n",
       "      <th>title</th>\n",
       "    </tr>\n",
       "  </thead>\n",
       "  <tbody>\n",
       "    <tr>\n",
       "      <th>0</th>\n",
       "      <td>아이</td>\n",
       "      <td>144</td>\n",
       "      <td>뽀로로 극장판 보물섬 대모험</td>\n",
       "    </tr>\n",
       "    <tr>\n",
       "      <th>1</th>\n",
       "      <td>뽀로로</td>\n",
       "      <td>108</td>\n",
       "      <td>뽀로로 극장판 보물섬 대모험</td>\n",
       "    </tr>\n",
       "    <tr>\n",
       "      <th>2</th>\n",
       "      <td>역시</td>\n",
       "      <td>40</td>\n",
       "      <td>뽀로로 극장판 보물섬 대모험</td>\n",
       "    </tr>\n",
       "    <tr>\n",
       "      <th>3</th>\n",
       "      <td>집중</td>\n",
       "      <td>36</td>\n",
       "      <td>뽀로로 극장판 보물섬 대모험</td>\n",
       "    </tr>\n",
       "    <tr>\n",
       "      <th>4</th>\n",
       "      <td>아들</td>\n",
       "      <td>36</td>\n",
       "      <td>뽀로로 극장판 보물섬 대모험</td>\n",
       "    </tr>\n",
       "    <tr>\n",
       "      <th>...</th>\n",
       "      <td>...</td>\n",
       "      <td>...</td>\n",
       "      <td>...</td>\n",
       "    </tr>\n",
       "    <tr>\n",
       "      <th>74</th>\n",
       "      <td>예매</td>\n",
       "      <td>4</td>\n",
       "      <td>뽀로로 극장판 보물섬 대모험</td>\n",
       "    </tr>\n",
       "    <tr>\n",
       "      <th>73</th>\n",
       "      <td>대통령</td>\n",
       "      <td>4</td>\n",
       "      <td>뽀로로 극장판 보물섬 대모험</td>\n",
       "    </tr>\n",
       "    <tr>\n",
       "      <th>72</th>\n",
       "      <td>감상</td>\n",
       "      <td>4</td>\n",
       "      <td>뽀로로 극장판 보물섬 대모험</td>\n",
       "    </tr>\n",
       "    <tr>\n",
       "      <th>71</th>\n",
       "      <td>시작</td>\n",
       "      <td>4</td>\n",
       "      <td>뽀로로 극장판 보물섬 대모험</td>\n",
       "    </tr>\n",
       "    <tr>\n",
       "      <th>86</th>\n",
       "      <td>어린이날</td>\n",
       "      <td>4</td>\n",
       "      <td>뽀로로 극장판 보물섬 대모험</td>\n",
       "    </tr>\n",
       "  </tbody>\n",
       "</table>\n",
       "<p>87 rows × 3 columns</p>\n",
       "</div>"
      ],
      "text/plain": [
       "    noun  count            title\n",
       "0     아이    144  뽀로로 극장판 보물섬 대모험\n",
       "1    뽀로로    108  뽀로로 극장판 보물섬 대모험\n",
       "2     역시     40  뽀로로 극장판 보물섬 대모험\n",
       "3     집중     36  뽀로로 극장판 보물섬 대모험\n",
       "4     아들     36  뽀로로 극장판 보물섬 대모험\n",
       "..   ...    ...              ...\n",
       "74    예매      4  뽀로로 극장판 보물섬 대모험\n",
       "73   대통령      4  뽀로로 극장판 보물섬 대모험\n",
       "72    감상      4  뽀로로 극장판 보물섬 대모험\n",
       "71    시작      4  뽀로로 극장판 보물섬 대모험\n",
       "86  어린이날      4  뽀로로 극장판 보물섬 대모험\n",
       "\n",
       "[87 rows x 3 columns]"
      ]
     },
     "execution_count": 74,
     "metadata": {},
     "output_type": "execute_result"
    }
   ],
   "source": [
    "get_noun('뽀로로 극장판 보물섬 대모험').sort_values(by='count',ascending=False)"
   ]
  },
  {
   "cell_type": "markdown",
   "id": "28cdbd87",
   "metadata": {},
   "source": [
    "---"
   ]
  },
  {
   "cell_type": "code",
   "execution_count": null,
   "id": "06c20a7a",
   "metadata": {},
   "outputs": [],
   "source": [
    "# 겨울왕국 2 에 해당하는 리뷰에서 (불용어를 제거한) 가장 많이 쓰인 단어 "
   ]
  },
  {
   "cell_type": "code",
   "execution_count": 75,
   "id": "447c105c",
   "metadata": {
    "ExecuteTime": {
     "end_time": "2021-10-13T15:00:18.868401Z",
     "start_time": "2021-10-13T15:00:18.075400Z"
    }
   },
   "outputs": [
    {
     "data": {
      "text/html": [
       "<div>\n",
       "<style scoped>\n",
       "    .dataframe tbody tr th:only-of-type {\n",
       "        vertical-align: middle;\n",
       "    }\n",
       "\n",
       "    .dataframe tbody tr th {\n",
       "        vertical-align: top;\n",
       "    }\n",
       "\n",
       "    .dataframe thead th {\n",
       "        text-align: right;\n",
       "    }\n",
       "</style>\n",
       "<table border=\"1\" class=\"dataframe\">\n",
       "  <thead>\n",
       "    <tr style=\"text-align: right;\">\n",
       "      <th></th>\n",
       "      <th>noun</th>\n",
       "      <th>count</th>\n",
       "      <th>title</th>\n",
       "    </tr>\n",
       "  </thead>\n",
       "  <tbody>\n",
       "    <tr>\n",
       "      <th>0</th>\n",
       "      <td>스토리</td>\n",
       "      <td>104</td>\n",
       "      <td>겨울왕국 2</td>\n",
       "    </tr>\n",
       "    <tr>\n",
       "      <th>1</th>\n",
       "      <td>노래</td>\n",
       "      <td>81</td>\n",
       "      <td>겨울왕국 2</td>\n",
       "    </tr>\n",
       "    <tr>\n",
       "      <th>2</th>\n",
       "      <td>엘사</td>\n",
       "      <td>71</td>\n",
       "      <td>겨울왕국 2</td>\n",
       "    </tr>\n",
       "    <tr>\n",
       "      <th>3</th>\n",
       "      <td>겨울왕국</td>\n",
       "      <td>43</td>\n",
       "      <td>겨울왕국 2</td>\n",
       "    </tr>\n",
       "    <tr>\n",
       "      <th>4</th>\n",
       "      <td>느낌</td>\n",
       "      <td>32</td>\n",
       "      <td>겨울왕국 2</td>\n",
       "    </tr>\n",
       "    <tr>\n",
       "      <th>5</th>\n",
       "      <td>아이</td>\n",
       "      <td>32</td>\n",
       "      <td>겨울왕국 2</td>\n",
       "    </tr>\n",
       "    <tr>\n",
       "      <th>6</th>\n",
       "      <td>영상</td>\n",
       "      <td>30</td>\n",
       "      <td>겨울왕국 2</td>\n",
       "    </tr>\n",
       "    <tr>\n",
       "      <th>7</th>\n",
       "      <td>역시</td>\n",
       "      <td>29</td>\n",
       "      <td>겨울왕국 2</td>\n",
       "    </tr>\n",
       "    <tr>\n",
       "      <th>8</th>\n",
       "      <td>디즈니</td>\n",
       "      <td>28</td>\n",
       "      <td>겨울왕국 2</td>\n",
       "    </tr>\n",
       "    <tr>\n",
       "      <th>10</th>\n",
       "      <td>감동</td>\n",
       "      <td>27</td>\n",
       "      <td>겨울왕국 2</td>\n",
       "    </tr>\n",
       "    <tr>\n",
       "      <th>9</th>\n",
       "      <td>보고</td>\n",
       "      <td>27</td>\n",
       "      <td>겨울왕국 2</td>\n",
       "    </tr>\n",
       "    <tr>\n",
       "      <th>11</th>\n",
       "      <td>개연</td>\n",
       "      <td>24</td>\n",
       "      <td>겨울왕국 2</td>\n",
       "    </tr>\n",
       "    <tr>\n",
       "      <th>12</th>\n",
       "      <td>기대</td>\n",
       "      <td>22</td>\n",
       "      <td>겨울왕국 2</td>\n",
       "    </tr>\n",
       "    <tr>\n",
       "      <th>13</th>\n",
       "      <td>별로</td>\n",
       "      <td>20</td>\n",
       "      <td>겨울왕국 2</td>\n",
       "    </tr>\n",
       "    <tr>\n",
       "      <th>14</th>\n",
       "      <td>편이</td>\n",
       "      <td>19</td>\n",
       "      <td>겨울왕국 2</td>\n",
       "    </tr>\n",
       "    <tr>\n",
       "      <th>15</th>\n",
       "      <td>올라프</td>\n",
       "      <td>18</td>\n",
       "      <td>겨울왕국 2</td>\n",
       "    </tr>\n",
       "    <tr>\n",
       "      <th>16</th>\n",
       "      <td>최고</td>\n",
       "      <td>18</td>\n",
       "      <td>겨울왕국 2</td>\n",
       "    </tr>\n",
       "    <tr>\n",
       "      <th>18</th>\n",
       "      <td>음악</td>\n",
       "      <td>17</td>\n",
       "      <td>겨울왕국 2</td>\n",
       "    </tr>\n",
       "    <tr>\n",
       "      <th>19</th>\n",
       "      <td>안나</td>\n",
       "      <td>17</td>\n",
       "      <td>겨울왕국 2</td>\n",
       "    </tr>\n",
       "    <tr>\n",
       "      <th>17</th>\n",
       "      <td>재미</td>\n",
       "      <td>17</td>\n",
       "      <td>겨울왕국 2</td>\n",
       "    </tr>\n",
       "    <tr>\n",
       "      <th>20</th>\n",
       "      <td>부분</td>\n",
       "      <td>16</td>\n",
       "      <td>겨울왕국 2</td>\n",
       "    </tr>\n",
       "    <tr>\n",
       "      <th>21</th>\n",
       "      <td>전편</td>\n",
       "      <td>16</td>\n",
       "      <td>겨울왕국 2</td>\n",
       "    </tr>\n",
       "    <tr>\n",
       "      <th>22</th>\n",
       "      <td>장면</td>\n",
       "      <td>15</td>\n",
       "      <td>겨울왕국 2</td>\n",
       "    </tr>\n",
       "    <tr>\n",
       "      <th>23</th>\n",
       "      <td>렛잇고</td>\n",
       "      <td>15</td>\n",
       "      <td>겨울왕국 2</td>\n",
       "    </tr>\n",
       "    <tr>\n",
       "      <th>24</th>\n",
       "      <td>전작</td>\n",
       "      <td>15</td>\n",
       "      <td>겨울왕국 2</td>\n",
       "    </tr>\n",
       "    <tr>\n",
       "      <th>25</th>\n",
       "      <td>캐릭터</td>\n",
       "      <td>15</td>\n",
       "      <td>겨울왕국 2</td>\n",
       "    </tr>\n",
       "    <tr>\n",
       "      <th>26</th>\n",
       "      <td>이번</td>\n",
       "      <td>14</td>\n",
       "      <td>겨울왕국 2</td>\n",
       "    </tr>\n",
       "    <tr>\n",
       "      <th>27</th>\n",
       "      <td>노잼</td>\n",
       "      <td>13</td>\n",
       "      <td>겨울왕국 2</td>\n",
       "    </tr>\n",
       "    <tr>\n",
       "      <th>28</th>\n",
       "      <td>어른</td>\n",
       "      <td>12</td>\n",
       "      <td>겨울왕국 2</td>\n",
       "    </tr>\n",
       "    <tr>\n",
       "      <th>29</th>\n",
       "      <td>전개</td>\n",
       "      <td>12</td>\n",
       "      <td>겨울왕국 2</td>\n",
       "    </tr>\n",
       "    <tr>\n",
       "      <th>30</th>\n",
       "      <td>연출</td>\n",
       "      <td>11</td>\n",
       "      <td>겨울왕국 2</td>\n",
       "    </tr>\n",
       "    <tr>\n",
       "      <th>31</th>\n",
       "      <td>이해</td>\n",
       "      <td>11</td>\n",
       "      <td>겨울왕국 2</td>\n",
       "    </tr>\n",
       "    <tr>\n",
       "      <th>32</th>\n",
       "      <td>실망</td>\n",
       "      <td>11</td>\n",
       "      <td>겨울왕국 2</td>\n",
       "    </tr>\n",
       "    <tr>\n",
       "      <th>33</th>\n",
       "      <td>개인</td>\n",
       "      <td>10</td>\n",
       "      <td>겨울왕국 2</td>\n",
       "    </tr>\n",
       "    <tr>\n",
       "      <th>34</th>\n",
       "      <td>속편</td>\n",
       "      <td>10</td>\n",
       "      <td>겨울왕국 2</td>\n",
       "    </tr>\n",
       "    <tr>\n",
       "      <th>42</th>\n",
       "      <td>기억</td>\n",
       "      <td>9</td>\n",
       "      <td>겨울왕국 2</td>\n",
       "    </tr>\n",
       "    <tr>\n",
       "      <th>40</th>\n",
       "      <td>조금</td>\n",
       "      <td>9</td>\n",
       "      <td>겨울왕국 2</td>\n",
       "    </tr>\n",
       "    <tr>\n",
       "      <th>43</th>\n",
       "      <td>이야기</td>\n",
       "      <td>9</td>\n",
       "      <td>겨울왕국 2</td>\n",
       "    </tr>\n",
       "    <tr>\n",
       "      <th>41</th>\n",
       "      <td>미가</td>\n",
       "      <td>9</td>\n",
       "      <td>겨울왕국 2</td>\n",
       "    </tr>\n",
       "    <tr>\n",
       "      <th>37</th>\n",
       "      <td>크리스토프</td>\n",
       "      <td>9</td>\n",
       "      <td>겨울왕국 2</td>\n",
       "    </tr>\n",
       "    <tr>\n",
       "      <th>39</th>\n",
       "      <td>눈물</td>\n",
       "      <td>9</td>\n",
       "      <td>겨울왕국 2</td>\n",
       "    </tr>\n",
       "    <tr>\n",
       "      <th>36</th>\n",
       "      <td>마법</td>\n",
       "      <td>9</td>\n",
       "      <td>겨울왕국 2</td>\n",
       "    </tr>\n",
       "    <tr>\n",
       "      <th>35</th>\n",
       "      <td>한번</td>\n",
       "      <td>9</td>\n",
       "      <td>겨울왕국 2</td>\n",
       "    </tr>\n",
       "    <tr>\n",
       "      <th>38</th>\n",
       "      <td>평점</td>\n",
       "      <td>9</td>\n",
       "      <td>겨울왕국 2</td>\n",
       "    </tr>\n",
       "    <tr>\n",
       "      <th>44</th>\n",
       "      <td>크리스토퍼</td>\n",
       "      <td>8</td>\n",
       "      <td>겨울왕국 2</td>\n",
       "    </tr>\n",
       "    <tr>\n",
       "      <th>45</th>\n",
       "      <td>쿠키</td>\n",
       "      <td>8</td>\n",
       "      <td>겨울왕국 2</td>\n",
       "    </tr>\n",
       "    <tr>\n",
       "      <th>46</th>\n",
       "      <td>뭔가</td>\n",
       "      <td>8</td>\n",
       "      <td>겨울왕국 2</td>\n",
       "    </tr>\n",
       "    <tr>\n",
       "      <th>47</th>\n",
       "      <td>애니메이션</td>\n",
       "      <td>8</td>\n",
       "      <td>겨울왕국 2</td>\n",
       "    </tr>\n",
       "    <tr>\n",
       "      <th>50</th>\n",
       "      <td>억지로</td>\n",
       "      <td>7</td>\n",
       "      <td>겨울왕국 2</td>\n",
       "    </tr>\n",
       "    <tr>\n",
       "      <th>51</th>\n",
       "      <td>임팩트</td>\n",
       "      <td>7</td>\n",
       "      <td>겨울왕국 2</td>\n",
       "    </tr>\n",
       "  </tbody>\n",
       "</table>\n",
       "</div>"
      ],
      "text/plain": [
       "     noun  count   title\n",
       "0     스토리    104  겨울왕국 2\n",
       "1      노래     81  겨울왕국 2\n",
       "2      엘사     71  겨울왕국 2\n",
       "3    겨울왕국     43  겨울왕국 2\n",
       "4      느낌     32  겨울왕국 2\n",
       "5      아이     32  겨울왕국 2\n",
       "6      영상     30  겨울왕국 2\n",
       "7      역시     29  겨울왕국 2\n",
       "8     디즈니     28  겨울왕국 2\n",
       "10     감동     27  겨울왕국 2\n",
       "9      보고     27  겨울왕국 2\n",
       "11     개연     24  겨울왕국 2\n",
       "12     기대     22  겨울왕국 2\n",
       "13     별로     20  겨울왕국 2\n",
       "14     편이     19  겨울왕국 2\n",
       "15    올라프     18  겨울왕국 2\n",
       "16     최고     18  겨울왕국 2\n",
       "18     음악     17  겨울왕국 2\n",
       "19     안나     17  겨울왕국 2\n",
       "17     재미     17  겨울왕국 2\n",
       "20     부분     16  겨울왕국 2\n",
       "21     전편     16  겨울왕국 2\n",
       "22     장면     15  겨울왕국 2\n",
       "23    렛잇고     15  겨울왕국 2\n",
       "24     전작     15  겨울왕국 2\n",
       "25    캐릭터     15  겨울왕국 2\n",
       "26     이번     14  겨울왕국 2\n",
       "27     노잼     13  겨울왕국 2\n",
       "28     어른     12  겨울왕국 2\n",
       "29     전개     12  겨울왕국 2\n",
       "30     연출     11  겨울왕국 2\n",
       "31     이해     11  겨울왕국 2\n",
       "32     실망     11  겨울왕국 2\n",
       "33     개인     10  겨울왕국 2\n",
       "34     속편     10  겨울왕국 2\n",
       "42     기억      9  겨울왕국 2\n",
       "40     조금      9  겨울왕국 2\n",
       "43    이야기      9  겨울왕국 2\n",
       "41     미가      9  겨울왕국 2\n",
       "37  크리스토프      9  겨울왕국 2\n",
       "39     눈물      9  겨울왕국 2\n",
       "36     마법      9  겨울왕국 2\n",
       "35     한번      9  겨울왕국 2\n",
       "38     평점      9  겨울왕국 2\n",
       "44  크리스토퍼      8  겨울왕국 2\n",
       "45     쿠키      8  겨울왕국 2\n",
       "46     뭔가      8  겨울왕국 2\n",
       "47  애니메이션      8  겨울왕국 2\n",
       "50    억지로      7  겨울왕국 2\n",
       "51    임팩트      7  겨울왕국 2"
      ]
     },
     "execution_count": 75,
     "metadata": {},
     "output_type": "execute_result"
    }
   ],
   "source": [
    "get_noun('겨울왕국 2').sort_values(by='count',ascending=False).head(50)"
   ]
  },
  {
   "cell_type": "markdown",
   "id": "f7e256c3",
   "metadata": {},
   "source": [
    "# 전체 영화\n",
    "> 전체 영화 목록에 해당하는 영화 제목을 전부 검색한 뒤 <br>\n",
    "> 해당 영화의 리뷰에서 등장하는 단어들의 빈도 수를 확인"
   ]
  },
  {
   "cell_type": "markdown",
   "id": "6854f2b1",
   "metadata": {},
   "source": [
    "### 전체 영화 목록 데이터 프레임 구조"
   ]
  },
  {
   "cell_type": "code",
   "execution_count": 76,
   "id": "6f9fc964",
   "metadata": {
    "ExecuteTime": {
     "end_time": "2021-10-13T15:33:37.215169Z",
     "start_time": "2021-10-13T15:33:37.191650Z"
    },
    "scrolled": true
   },
   "outputs": [
    {
     "data": {
      "text/html": [
       "<div>\n",
       "<style scoped>\n",
       "    .dataframe tbody tr th:only-of-type {\n",
       "        vertical-align: middle;\n",
       "    }\n",
       "\n",
       "    .dataframe tbody tr th {\n",
       "        vertical-align: top;\n",
       "    }\n",
       "\n",
       "    .dataframe thead th {\n",
       "        text-align: right;\n",
       "    }\n",
       "</style>\n",
       "<table border=\"1\" class=\"dataframe\">\n",
       "  <thead>\n",
       "    <tr style=\"text-align: right;\">\n",
       "      <th></th>\n",
       "      <th>title</th>\n",
       "      <th>genre</th>\n",
       "      <th>nation</th>\n",
       "      <th>running_time</th>\n",
       "      <th>release_date</th>\n",
       "      <th>director</th>\n",
       "      <th>actor</th>\n",
       "      <th>grade</th>\n",
       "      <th>summary</th>\n",
       "      <th>poster</th>\n",
       "      <th>score</th>\n",
       "      <th>content</th>\n",
       "      <th>write_date</th>\n",
       "      <th>source_site</th>\n",
       "    </tr>\n",
       "  </thead>\n",
       "  <tbody>\n",
       "    <tr>\n",
       "      <th>0</th>\n",
       "      <td>0.0MHz</td>\n",
       "      <td>공포</td>\n",
       "      <td>한국</td>\n",
       "      <td>102분</td>\n",
       "      <td>2019 .05.29 개봉</td>\n",
       "      <td>유선동</td>\n",
       "      <td>정은지(소희), 이성열(상엽), 최윤영(윤정)</td>\n",
       "      <td>15세 관람가</td>\n",
       "      <td>에디슨의 마지막 발명품, 유령 탐지기?\\n “증명할 수 없는 미스터리란 없다”\\n ...</td>\n",
       "      <td>https://movie-phinf.pstatic.net/20190517_285/1...</td>\n",
       "      <td>1</td>\n",
       "      <td>와 정말 무서운집 수준의 공포영화가 한국에 다시 나왔네요. 꼭 보러 가세요.착석하신...</td>\n",
       "      <td>2019.05.29 13:30</td>\n",
       "      <td>naver</td>\n",
       "    </tr>\n",
       "  </tbody>\n",
       "</table>\n",
       "</div>"
      ],
      "text/plain": [
       "    title genre nation running_time    release_date director  \\\n",
       "0  0.0MHz    공포     한국         102분  2019 .05.29 개봉      유선동   \n",
       "\n",
       "                       actor    grade  \\\n",
       "0  정은지(소희), 이성열(상엽), 최윤영(윤정)  15세 관람가   \n",
       "\n",
       "                                             summary  \\\n",
       "0  에디슨의 마지막 발명품, 유령 탐지기?\\n “증명할 수 없는 미스터리란 없다”\\n ...   \n",
       "\n",
       "                                              poster  score  \\\n",
       "0  https://movie-phinf.pstatic.net/20190517_285/1...      1   \n",
       "\n",
       "                                             content        write_date  \\\n",
       "0  와 정말 무서운집 수준의 공포영화가 한국에 다시 나왔네요. 꼭 보러 가세요.착석하신...  2019.05.29 13:30   \n",
       "\n",
       "  source_site  \n",
       "0       naver  "
      ]
     },
     "execution_count": 76,
     "metadata": {},
     "output_type": "execute_result"
    }
   ],
   "source": [
    "movie_n.head(1)"
   ]
  },
  {
   "cell_type": "markdown",
   "id": "4b1c7054",
   "metadata": {},
   "source": [
    "### a = 전체 영화의 제목을 리스트로 저장"
   ]
  },
  {
   "cell_type": "code",
   "execution_count": 83,
   "id": "36a16163",
   "metadata": {
    "ExecuteTime": {
     "end_time": "2021-10-13T15:34:47.394809Z",
     "start_time": "2021-10-13T15:34:47.361627Z"
    }
   },
   "outputs": [],
   "source": [
    "a = movie_n.title.unique().tolist()"
   ]
  },
  {
   "cell_type": "code",
   "execution_count": 84,
   "id": "fee52364",
   "metadata": {
    "ExecuteTime": {
     "end_time": "2021-10-13T15:35:46.022664Z",
     "start_time": "2021-10-13T15:35:46.014634Z"
    }
   },
   "outputs": [
    {
     "data": {
      "text/plain": [
       "'0.0MHz'"
      ]
     },
     "execution_count": 84,
     "metadata": {},
     "output_type": "execute_result"
    }
   ],
   "source": [
    "a[0]"
   ]
  },
  {
   "cell_type": "markdown",
   "id": "82e76d46",
   "metadata": {},
   "source": [
    "#### name → a "
   ]
  },
  {
   "cell_type": "code",
   "execution_count": 106,
   "id": "60163759",
   "metadata": {
    "ExecuteTime": {
     "end_time": "2021-10-13T18:35:09.286572Z",
     "start_time": "2021-10-13T18:35:09.268574Z"
    }
   },
   "outputs": [],
   "source": [
    "def get_noun(name):\n",
    "    s_list = []\n",
    "    s = movie_n[movie_n['title']==name]['content'] # input의 name과 같은 영화의 리뷰들만 추출 \n",
    "    s = s.tolist() # 리뷰들을 리스트화 \n",
    "    mid = []\n",
    "    for i in range(0,len(s)): # 리뷰들의 형태소 분류 및 최소 길이 미만 제거 \n",
    "        noun = okt.nouns(s[i])\n",
    "        for i,v in enumerate(noun):\n",
    "            if len(v)<2:\n",
    "                noun.pop(i)\n",
    "        mid+=noun\n",
    "\n",
    "    count = Counter(mid) # 단어별 개수\n",
    "    noun_list = count.most_common(100) # (리뷰 하나의)최빈 단어\n",
    "    for v in noun_list: # (리뷰 하나의) 단어 list에서 불용어 제거 \n",
    "        if v[0] not in stop_words:\n",
    "            s_list.append(v) # 유효단어 추출후 append \n",
    "    # 리뷰별로 반복\n",
    "\n",
    "    df= pd.DataFrame(s_list, columns =['noun', 'count'])\n",
    "    df['title']=name\n",
    "    return df"
   ]
  },
  {
   "cell_type": "markdown",
   "id": "04745129",
   "metadata": {},
   "source": [
    "> 반복문을 돌며 영화를 검색하고 해당하는 단어의 빈도수를 상위 50개까지만 담는다."
   ]
  },
  {
   "cell_type": "code",
   "execution_count": 107,
   "id": "aa007a03",
   "metadata": {
    "ExecuteTime": {
     "end_time": "2021-10-13T18:45:45.377605Z",
     "start_time": "2021-10-13T18:35:13.499572Z"
    }
   },
   "outputs": [],
   "source": [
    "results = []\n",
    "for i in range(0,len(a)):\n",
    "    results.append(get_noun(a[i]).sort_values(by='count',ascending=False).head(50))    "
   ]
  },
  {
   "cell_type": "markdown",
   "id": "ea6ff23e",
   "metadata": {},
   "source": [
    "#### 데이터프레임 생성"
   ]
  },
  {
   "cell_type": "code",
   "execution_count": 93,
   "id": "82574b8f",
   "metadata": {
    "ExecuteTime": {
     "end_time": "2021-10-13T15:48:05.848012Z",
     "start_time": "2021-10-13T15:48:05.633909Z"
    }
   },
   "outputs": [
    {
     "data": {
      "text/html": [
       "<div>\n",
       "<style scoped>\n",
       "    .dataframe tbody tr th:only-of-type {\n",
       "        vertical-align: middle;\n",
       "    }\n",
       "\n",
       "    .dataframe tbody tr th {\n",
       "        vertical-align: top;\n",
       "    }\n",
       "\n",
       "    .dataframe thead th {\n",
       "        text-align: right;\n",
       "    }\n",
       "</style>\n",
       "<table border=\"1\" class=\"dataframe\">\n",
       "  <thead>\n",
       "    <tr style=\"text-align: right;\">\n",
       "      <th></th>\n",
       "      <th>noun</th>\n",
       "      <th>count</th>\n",
       "      <th>title</th>\n",
       "    </tr>\n",
       "  </thead>\n",
       "  <tbody>\n",
       "    <tr>\n",
       "      <th>0</th>\n",
       "      <td>스토리</td>\n",
       "      <td>104</td>\n",
       "      <td>겨울왕국 2</td>\n",
       "    </tr>\n",
       "    <tr>\n",
       "      <th>1</th>\n",
       "      <td>노래</td>\n",
       "      <td>81</td>\n",
       "      <td>겨울왕국 2</td>\n",
       "    </tr>\n",
       "    <tr>\n",
       "      <th>2</th>\n",
       "      <td>엘사</td>\n",
       "      <td>71</td>\n",
       "      <td>겨울왕국 2</td>\n",
       "    </tr>\n",
       "    <tr>\n",
       "      <th>3</th>\n",
       "      <td>겨울왕국</td>\n",
       "      <td>43</td>\n",
       "      <td>겨울왕국 2</td>\n",
       "    </tr>\n",
       "    <tr>\n",
       "      <th>4</th>\n",
       "      <td>느낌</td>\n",
       "      <td>32</td>\n",
       "      <td>겨울왕국 2</td>\n",
       "    </tr>\n",
       "    <tr>\n",
       "      <th>...</th>\n",
       "      <td>...</td>\n",
       "      <td>...</td>\n",
       "      <td>...</td>\n",
       "    </tr>\n",
       "    <tr>\n",
       "      <th>8165</th>\n",
       "      <td>소년</td>\n",
       "      <td>3</td>\n",
       "      <td>해변의 에트랑제</td>\n",
       "    </tr>\n",
       "    <tr>\n",
       "      <th>8166</th>\n",
       "      <td>배경</td>\n",
       "      <td>3</td>\n",
       "      <td>해변의 에트랑제</td>\n",
       "    </tr>\n",
       "    <tr>\n",
       "      <th>8167</th>\n",
       "      <td>대사</td>\n",
       "      <td>3</td>\n",
       "      <td>해변의 에트랑제</td>\n",
       "    </tr>\n",
       "    <tr>\n",
       "      <th>8168</th>\n",
       "      <td>취향</td>\n",
       "      <td>3</td>\n",
       "      <td>해변의 에트랑제</td>\n",
       "    </tr>\n",
       "    <tr>\n",
       "      <th>8169</th>\n",
       "      <td>금</td>\n",
       "      <td>3</td>\n",
       "      <td>해변의 에트랑제</td>\n",
       "    </tr>\n",
       "  </tbody>\n",
       "</table>\n",
       "<p>8170 rows × 3 columns</p>\n",
       "</div>"
      ],
      "text/plain": [
       "      noun count     title\n",
       "0      스토리   104    겨울왕국 2\n",
       "1       노래    81    겨울왕국 2\n",
       "2       엘사    71    겨울왕국 2\n",
       "3     겨울왕국    43    겨울왕국 2\n",
       "4       느낌    32    겨울왕국 2\n",
       "...    ...   ...       ...\n",
       "8165    소년     3  해변의 에트랑제\n",
       "8166    배경     3  해변의 에트랑제\n",
       "8167    대사     3  해변의 에트랑제\n",
       "8168    취향     3  해변의 에트랑제\n",
       "8169     금     3  해변의 에트랑제\n",
       "\n",
       "[8170 rows x 3 columns]"
      ]
     },
     "execution_count": 93,
     "metadata": {},
     "output_type": "execute_result"
    }
   ],
   "source": [
    "pd.concat(results).reset_index(drop=True)"
   ]
  },
  {
   "cell_type": "code",
   "execution_count": null,
   "id": "8d588c34",
   "metadata": {},
   "outputs": [],
   "source": [
    "### 변수담기"
   ]
  },
  {
   "cell_type": "code",
   "execution_count": 108,
   "id": "69710e8b",
   "metadata": {
    "ExecuteTime": {
     "end_time": "2021-10-13T18:47:16.354797Z",
     "start_time": "2021-10-13T18:47:15.739756Z"
    }
   },
   "outputs": [],
   "source": [
    "keyword = pd.concat(results).reset_index(drop=True)"
   ]
  },
  {
   "cell_type": "code",
   "execution_count": null,
   "id": "c9810283",
   "metadata": {},
   "outputs": [],
   "source": [
    "#### 데이터 columns 순서 변경"
   ]
  },
  {
   "cell_type": "code",
   "execution_count": 111,
   "id": "a4bf62e8",
   "metadata": {
    "ExecuteTime": {
     "end_time": "2021-10-13T18:48:23.854800Z",
     "start_time": "2021-10-13T18:48:23.825802Z"
    }
   },
   "outputs": [],
   "source": [
    "keyword = keyword[['title','noun','count']]"
   ]
  },
  {
   "cell_type": "markdown",
   "id": "cd3b329a",
   "metadata": {},
   "source": [
    "#### csv 파일 저장"
   ]
  },
  {
   "cell_type": "code",
   "execution_count": 112,
   "id": "a54b5d8d",
   "metadata": {
    "ExecuteTime": {
     "end_time": "2021-10-13T18:48:40.772137Z",
     "start_time": "2021-10-13T18:48:40.411136Z"
    }
   },
   "outputs": [],
   "source": [
    "keyword.to_csv('word_count.csv',index=False)"
   ]
  },
  {
   "cell_type": "markdown",
   "id": "caa10bb9",
   "metadata": {},
   "source": [
    "---"
   ]
  },
  {
   "cell_type": "code",
   "execution_count": null,
   "id": "c9109cad",
   "metadata": {},
   "outputs": [],
   "source": []
  }
 ],
 "metadata": {
  "hide_input": false,
  "kernelspec": {
   "display_name": "Python 3",
   "language": "python",
   "name": "python3"
  },
  "language_info": {
   "codemirror_mode": {
    "name": "ipython",
    "version": 3
   },
   "file_extension": ".py",
   "mimetype": "text/x-python",
   "name": "python",
   "nbconvert_exporter": "python",
   "pygments_lexer": "ipython3",
   "version": "3.8.8"
  },
  "toc": {
   "base_numbering": 1,
   "nav_menu": {},
   "number_sections": true,
   "sideBar": true,
   "skip_h1_title": false,
   "title_cell": "Table of Contents",
   "title_sidebar": "Contents",
   "toc_cell": false,
   "toc_position": {},
   "toc_section_display": true,
   "toc_window_display": false
  },
  "varInspector": {
   "cols": {
    "lenName": 16,
    "lenType": 16,
    "lenVar": 40
   },
   "kernels_config": {
    "python": {
     "delete_cmd_postfix": "",
     "delete_cmd_prefix": "del ",
     "library": "var_list.py",
     "varRefreshCmd": "print(var_dic_list())"
    },
    "r": {
     "delete_cmd_postfix": ") ",
     "delete_cmd_prefix": "rm(",
     "library": "var_list.r",
     "varRefreshCmd": "cat(var_dic_list()) "
    }
   },
   "types_to_exclude": [
    "module",
    "function",
    "builtin_function_or_method",
    "instance",
    "_Feature"
   ],
   "window_display": false
  }
 },
 "nbformat": 4,
 "nbformat_minor": 5
}
