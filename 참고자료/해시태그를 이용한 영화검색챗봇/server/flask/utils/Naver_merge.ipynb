{
 "cells": [
  {
   "cell_type": "code",
   "execution_count": 2,
   "id": "84fd7cb0",
   "metadata": {
    "ExecuteTime": {
     "end_time": "2021-10-12T16:30:59.328409Z",
     "start_time": "2021-10-12T16:30:59.320374Z"
    }
   },
   "outputs": [],
   "source": [
    "import json\n",
    "import re\n",
    "from konlpy.tag import Okt\n",
    "from collections import Counter\n",
    "import matplotlib\n",
    "import matplotlib.pyplot as plt\n",
    "from matplotlib import font_manager, rc\n",
    "from wordcloud import WordCloud\n",
    "import pandas as pd\n",
    "\n",
    "import glob\n",
    "from functools import reduce\n",
    "from nltk.tokenize import word_tokenize\n",
    "from nltk.corpus import stopwords\n",
    "from nltk.stem import WordNetLemmatizer\n",
    "\n",
    "from wordcloud import WordCloud, STOPWORDS\n",
    "\n",
    "import numpy as np\n",
    "from sklearn.feature_extraction.text import TfidfVectorizer\n",
    "import gensim \n",
    "import warnings\n",
    "warnings.filterwarnings('ignore')"
   ]
  },
  {
   "cell_type": "markdown",
   "id": "73f89953",
   "metadata": {},
   "source": [
    "# 데이터 정리\n",
    "### 영화정보\n",
    "> meta19 meta20 meta21\n",
    "\n",
    "### 리뷰\n",
    "> 네이버 : n19 | n20 | n21<br>\n",
    "> 다음 : d19 | d20 | d21<br>\n",
    "> 왓챠피디아 : w19 | w20 | w21"
   ]
  },
  {
   "cell_type": "markdown",
   "id": "348a4171",
   "metadata": {},
   "source": [
    "# 데이터 병합"
   ]
  },
  {
   "cell_type": "code",
   "execution_count": 1,
   "metadata": {},
   "outputs": [],
   "source": [
    "import pandas as pd"
   ]
  },
  {
   "cell_type": "code",
   "execution_count": 10,
   "id": "580ba3a1",
   "metadata": {
    "ExecuteTime": {
     "end_time": "2021-10-12T16:43:02.352620Z",
     "start_time": "2021-10-12T16:43:02.246587Z"
    }
   },
   "outputs": [],
   "source": [
    "meta19 = pd.read_csv('./data/movie/movie2019_last_of_last.csv')\n",
    "meta20 = pd.read_csv('./data/movie/movie2020_last_of_last.csv')\n",
    "meta21 = pd.read_csv('./data/movie/movie2021_last_of_last.csv')"
   ]
  },
  {
   "cell_type": "code",
   "execution_count": 18,
   "metadata": {},
   "outputs": [],
   "source": [
    "meta192021 = pd.concat([meta19,meta20,meta21],axis=0)\n",
    "meta192021.to_csv('./data/review/meta192021.csv', index=False)"
   ]
  },
  {
   "cell_type": "code",
   "execution_count": 5,
   "id": "8b35af51",
   "metadata": {
    "ExecuteTime": {
     "end_time": "2021-10-12T16:43:05.589486Z",
     "start_time": "2021-10-12T16:43:05.054534Z"
    }
   },
   "outputs": [],
   "source": [
    "n19 = pd.read_csv('./data/review/naver_review2019.csv')\n",
    "n20 = pd.read_csv('./data/review/naver_review2020.csv')\n",
    "n21 = pd.read_csv('./data/review/naver_review2021.csv')"
   ]
  },
  {
   "cell_type": "code",
   "execution_count": 27,
   "metadata": {},
   "outputs": [],
   "source": [
    "n19.head()\n",
    "n192021 = pd.concat([n19,n20,n21], axis=0)"
   ]
  },
  {
   "cell_type": "code",
   "execution_count": 28,
   "id": "d079023b",
   "metadata": {
    "ExecuteTime": {
     "end_time": "2021-10-12T17:04:39.620009Z",
     "start_time": "2021-10-12T17:04:39.559995Z"
    }
   },
   "outputs": [],
   "source": [
    "n192021 = n192021.reset_index(drop=True)"
   ]
  },
  {
   "cell_type": "markdown",
   "id": "ac02ea11",
   "metadata": {},
   "source": [
    "# 전처리\n",
    "* dropna (10,843개)\n",
    "* 스포일러 리뷰 삭제 (9,599개)"
   ]
  },
  {
   "cell_type": "code",
   "execution_count": 30,
   "id": "b865cd7a",
   "metadata": {
    "ExecuteTime": {
     "end_time": "2021-10-12T17:07:51.246171Z",
     "start_time": "2021-10-12T17:07:50.995729Z"
    }
   },
   "outputs": [],
   "source": [
    "n192021 = n192021.dropna()"
   ]
  },
  {
   "cell_type": "code",
   "execution_count": 31,
   "id": "d0cf7306",
   "metadata": {
    "ExecuteTime": {
     "end_time": "2021-10-12T17:10:10.204357Z",
     "start_time": "2021-10-12T17:10:10.055234Z"
    }
   },
   "outputs": [],
   "source": [
    "n192021 = n192021[~n192021['content'].str.contains('스포일러가')]"
   ]
  },
  {
   "cell_type": "markdown",
   "id": "b1f3b2c8",
   "metadata": {},
   "source": [
    "#### csv 저장"
   ]
  },
  {
   "cell_type": "code",
   "execution_count": 32,
   "id": "54c3c10b",
   "metadata": {
    "ExecuteTime": {
     "end_time": "2021-10-12T17:11:48.635059Z",
     "start_time": "2021-10-12T17:11:47.388191Z"
    }
   },
   "outputs": [],
   "source": [
    "n192021.to_csv('./data/total/Naver_review_192021.csv',index=False)"
   ]
  },
  {
   "cell_type": "code",
   "execution_count": 32,
   "id": "a9593362",
   "metadata": {
    "ExecuteTime": {
     "end_time": "2021-10-12T17:13:50.380212Z",
     "start_time": "2021-10-12T17:13:50.319186Z"
    }
   },
   "outputs": [],
   "source": [
    "meta192021.to_csv('meta192021.csv',index=False)"
   ]
  },
  {
   "cell_type": "code",
   "execution_count": 33,
   "metadata": {},
   "outputs": [
    {
     "data": {
      "text/plain": [
       "258405"
      ]
     },
     "execution_count": 33,
     "metadata": {},
     "output_type": "execute_result"
    }
   ],
   "source": [
    "len(n192021)"
   ]
  },
  {
   "cell_type": "code",
   "execution_count": 34,
   "id": "b0a91059",
   "metadata": {
    "ExecuteTime": {
     "end_time": "2021-10-12T17:16:05.157605Z",
     "start_time": "2021-10-12T17:16:04.933439Z"
    }
   },
   "outputs": [],
   "source": [
    "movie_all = pd.merge(meta192021, n192021\n",
    "    , how = 'inner'\n",
    "    , on = (\"title\",\"release_date\"))"
   ]
  },
  {
   "cell_type": "code",
   "execution_count": 35,
   "metadata": {},
   "outputs": [
    {
     "data": {
      "text/plain": [
       "258405"
      ]
     },
     "execution_count": 35,
     "metadata": {},
     "output_type": "execute_result"
    }
   ],
   "source": [
    "len(n192021)"
   ]
  },
  {
   "cell_type": "code",
   "execution_count": 36,
   "id": "1b70a4ad",
   "metadata": {
    "ExecuteTime": {
     "end_time": "2021-10-12T17:41:37.202356Z",
     "start_time": "2021-10-12T17:41:33.353824Z"
    }
   },
   "outputs": [],
   "source": [
    "movie_all = movie_all.drop_duplicates().reset_index(drop=True)\n",
    "movie_all.to_csv('./data/total/Naver_review_192021.csv', index=False)"
   ]
  },
  {
   "cell_type": "markdown",
   "id": "331f7667",
   "metadata": {},
   "source": [
    "---"
   ]
  },
  {
   "cell_type": "markdown",
   "id": "76726905",
   "metadata": {},
   "source": [
    "## 중복값 제거\n",
    "* 중복된 리뷰가 수집된 경우 drop"
   ]
  },
  {
   "cell_type": "code",
   "execution_count": 46,
   "id": "e9fa4a68",
   "metadata": {
    "ExecuteTime": {
     "end_time": "2021-10-12T17:41:08.439690Z",
     "start_time": "2021-10-12T17:41:07.269197Z"
    }
   },
   "outputs": [],
   "source": [
    "movie_alldrop = movie_all.drop_duplicates().reset_index(drop=True)"
   ]
  },
  {
   "cell_type": "code",
   "execution_count": 49,
   "id": "bd06ee92",
   "metadata": {
    "ExecuteTime": {
     "end_time": "2021-10-12T17:41:44.225479Z",
     "start_time": "2021-10-12T17:41:44.057486Z"
    }
   },
   "outputs": [
    {
     "name": "stdout",
     "output_type": "stream",
     "text": [
      "<class 'pandas.core.frame.DataFrame'>\n",
      "RangeIndex: 235785 entries, 0 to 235784\n",
      "Data columns (total 14 columns):\n",
      " #   Column        Non-Null Count   Dtype \n",
      "---  ------        --------------   ----- \n",
      " 0   title         235785 non-null  object\n",
      " 1   genre         235785 non-null  object\n",
      " 2   nation        235785 non-null  object\n",
      " 3   running_time  235785 non-null  object\n",
      " 4   release_date  235785 non-null  object\n",
      " 5   director      235785 non-null  object\n",
      " 6   actor         235785 non-null  object\n",
      " 7   grade         235785 non-null  object\n",
      " 8   summary       235785 non-null  object\n",
      " 9   poster        235785 non-null  object\n",
      " 10  score         235785 non-null  int64 \n",
      " 11  content       235785 non-null  object\n",
      " 12  write_date    235785 non-null  object\n",
      " 13  source_site   235785 non-null  object\n",
      "dtypes: int64(1), object(13)\n",
      "memory usage: 25.2+ MB\n"
     ]
    }
   ],
   "source": [
    "movie_alldrop.info()"
   ]
  },
  {
   "cell_type": "markdown",
   "id": "fdab0c84",
   "metadata": {
    "ExecuteTime": {
     "end_time": "2021-10-12T17:19:55.732411Z",
     "start_time": "2021-10-12T17:19:55.720412Z"
    }
   },
   "source": [
    "#### 리뷰 X 영화정보 merge : \n",
    "데이터 총 `234785개`\n"
   ]
  },
  {
   "cell_type": "code",
   "execution_count": 111,
   "id": "18f02b58",
   "metadata": {
    "ExecuteTime": {
     "end_time": "2021-10-13T01:40:27.312668Z",
     "start_time": "2021-10-13T01:40:27.219468Z"
    },
    "scrolled": false
   },
   "outputs": [
    {
     "data": {
      "text/html": [
       "<div>\n",
       "<style scoped>\n",
       "    .dataframe tbody tr th:only-of-type {\n",
       "        vertical-align: middle;\n",
       "    }\n",
       "\n",
       "    .dataframe tbody tr th {\n",
       "        vertical-align: top;\n",
       "    }\n",
       "\n",
       "    .dataframe thead th {\n",
       "        text-align: right;\n",
       "    }\n",
       "</style>\n",
       "<table border=\"1\" class=\"dataframe\">\n",
       "  <thead>\n",
       "    <tr style=\"text-align: right;\">\n",
       "      <th></th>\n",
       "      <th>title</th>\n",
       "      <th>genre</th>\n",
       "      <th>nation</th>\n",
       "      <th>running_time</th>\n",
       "      <th>release_date</th>\n",
       "      <th>director</th>\n",
       "      <th>actor</th>\n",
       "      <th>grade</th>\n",
       "      <th>summary</th>\n",
       "      <th>poster</th>\n",
       "      <th>score</th>\n",
       "      <th>content</th>\n",
       "      <th>write_date</th>\n",
       "      <th>source_site</th>\n",
       "      <th>pre_content</th>\n",
       "    </tr>\n",
       "  </thead>\n",
       "  <tbody>\n",
       "    <tr>\n",
       "      <th>14556</th>\n",
       "      <td>기생충</td>\n",
       "      <td>드라마</td>\n",
       "      <td>한국</td>\n",
       "      <td>131분</td>\n",
       "      <td>2019 .05.30 개봉</td>\n",
       "      <td>봉준호</td>\n",
       "      <td>송강호(기택), 이선균(동익), 조여정(연교)</td>\n",
       "      <td>15세 관람가</td>\n",
       "      <td>전원백수로 살 길 막막하지만 사이는 좋은 기택(송강호) 가족.\\n 장남 기우(최우식...</td>\n",
       "      <td>https://movie-phinf.pstatic.net/20190528_36/15...</td>\n",
       "      <td>10</td>\n",
       "      <td>비에 젖지 않는 고급 장난감 텐트와, 비에 젖다 못해 잠겨버리는 반지하 가구</td>\n",
       "      <td>2019.05.30 15:58</td>\n",
       "      <td>naver</td>\n",
       "      <td></td>\n",
       "    </tr>\n",
       "    <tr>\n",
       "      <th>14557</th>\n",
       "      <td>기생충</td>\n",
       "      <td>드라마</td>\n",
       "      <td>한국</td>\n",
       "      <td>131분</td>\n",
       "      <td>2019 .05.30 개봉</td>\n",
       "      <td>봉준호</td>\n",
       "      <td>송강호(기택), 이선균(동익), 조여정(연교)</td>\n",
       "      <td>15세 관람가</td>\n",
       "      <td>전원백수로 살 길 막막하지만 사이는 좋은 기택(송강호) 가족.\\n 장남 기우(최우식...</td>\n",
       "      <td>https://movie-phinf.pstatic.net/20190528_36/15...</td>\n",
       "      <td>10</td>\n",
       "      <td>최근 본 영화중 가장 충격적이었음... 근데 보니까 15세말고 19세 걸어야될것같던데..</td>\n",
       "      <td>2019.05.30 12:25</td>\n",
       "      <td>naver</td>\n",
       "      <td>15 19</td>\n",
       "    </tr>\n",
       "    <tr>\n",
       "      <th>14558</th>\n",
       "      <td>기생충</td>\n",
       "      <td>드라마</td>\n",
       "      <td>한국</td>\n",
       "      <td>131분</td>\n",
       "      <td>2019 .05.30 개봉</td>\n",
       "      <td>봉준호</td>\n",
       "      <td>송강호(기택), 이선균(동익), 조여정(연교)</td>\n",
       "      <td>15세 관람가</td>\n",
       "      <td>전원백수로 살 길 막막하지만 사이는 좋은 기택(송강호) 가족.\\n 장남 기우(최우식...</td>\n",
       "      <td>https://movie-phinf.pstatic.net/20190528_36/15...</td>\n",
       "      <td>10</td>\n",
       "      <td>지하철이라는 단어가 언급되는 순간, 대다수의 관객은 자신이 어디에 이입할 지를 안다.</td>\n",
       "      <td>2019.05.30 14:41</td>\n",
       "      <td>naver</td>\n",
       "      <td></td>\n",
       "    </tr>\n",
       "    <tr>\n",
       "      <th>14559</th>\n",
       "      <td>기생충</td>\n",
       "      <td>드라마</td>\n",
       "      <td>한국</td>\n",
       "      <td>131분</td>\n",
       "      <td>2019 .05.30 개봉</td>\n",
       "      <td>봉준호</td>\n",
       "      <td>송강호(기택), 이선균(동익), 조여정(연교)</td>\n",
       "      <td>15세 관람가</td>\n",
       "      <td>전원백수로 살 길 막막하지만 사이는 좋은 기택(송강호) 가족.\\n 장남 기우(최우식...</td>\n",
       "      <td>https://movie-phinf.pstatic.net/20190528_36/15...</td>\n",
       "      <td>10</td>\n",
       "      <td>전 가정부가 집 벨 누를 때 부터 이 영화는 장르가 바뀐다... 역대급 꿀잼영화</td>\n",
       "      <td>2019.05.30 16:28</td>\n",
       "      <td>naver</td>\n",
       "      <td></td>\n",
       "    </tr>\n",
       "    <tr>\n",
       "      <th>14560</th>\n",
       "      <td>기생충</td>\n",
       "      <td>드라마</td>\n",
       "      <td>한국</td>\n",
       "      <td>131분</td>\n",
       "      <td>2019 .05.30 개봉</td>\n",
       "      <td>봉준호</td>\n",
       "      <td>송강호(기택), 이선균(동익), 조여정(연교)</td>\n",
       "      <td>15세 관람가</td>\n",
       "      <td>전원백수로 살 길 막막하지만 사이는 좋은 기택(송강호) 가족.\\n 장남 기우(최우식...</td>\n",
       "      <td>https://movie-phinf.pstatic.net/20190528_36/15...</td>\n",
       "      <td>10</td>\n",
       "      <td>황금종려상 수상작을 자막 없이 볼 수 있다는 것 자체로 좋다.</td>\n",
       "      <td>2019.05.30 15:13</td>\n",
       "      <td>naver</td>\n",
       "      <td></td>\n",
       "    </tr>\n",
       "    <tr>\n",
       "      <th>14561</th>\n",
       "      <td>기생충</td>\n",
       "      <td>드라마</td>\n",
       "      <td>한국</td>\n",
       "      <td>131분</td>\n",
       "      <td>2019 .05.30 개봉</td>\n",
       "      <td>봉준호</td>\n",
       "      <td>송강호(기택), 이선균(동익), 조여정(연교)</td>\n",
       "      <td>15세 관람가</td>\n",
       "      <td>전원백수로 살 길 막막하지만 사이는 좋은 기택(송강호) 가족.\\n 장남 기우(최우식...</td>\n",
       "      <td>https://movie-phinf.pstatic.net/20190528_36/15...</td>\n",
       "      <td>9</td>\n",
       "      <td>반지하가 제일 아래인줄 알았다. 내려가보니 지하도 있었다.</td>\n",
       "      <td>2019.05.31 01:41</td>\n",
       "      <td>naver</td>\n",
       "      <td></td>\n",
       "    </tr>\n",
       "    <tr>\n",
       "      <th>14562</th>\n",
       "      <td>기생충</td>\n",
       "      <td>드라마</td>\n",
       "      <td>한국</td>\n",
       "      <td>131분</td>\n",
       "      <td>2019 .05.30 개봉</td>\n",
       "      <td>봉준호</td>\n",
       "      <td>송강호(기택), 이선균(동익), 조여정(연교)</td>\n",
       "      <td>15세 관람가</td>\n",
       "      <td>전원백수로 살 길 막막하지만 사이는 좋은 기택(송강호) 가족.\\n 장남 기우(최우식...</td>\n",
       "      <td>https://movie-phinf.pstatic.net/20190528_36/15...</td>\n",
       "      <td>8</td>\n",
       "      <td>뭔가 모를 불쾌한 영화였다. 영화가 불쾌하다는게 아니라 보는 내내 가슴에 뭔가 영화...</td>\n",
       "      <td>2019.05.30 10:50</td>\n",
       "      <td>naver</td>\n",
       "      <td></td>\n",
       "    </tr>\n",
       "    <tr>\n",
       "      <th>14563</th>\n",
       "      <td>기생충</td>\n",
       "      <td>드라마</td>\n",
       "      <td>한국</td>\n",
       "      <td>131분</td>\n",
       "      <td>2019 .05.30 개봉</td>\n",
       "      <td>봉준호</td>\n",
       "      <td>송강호(기택), 이선균(동익), 조여정(연교)</td>\n",
       "      <td>15세 관람가</td>\n",
       "      <td>전원백수로 살 길 막막하지만 사이는 좋은 기택(송강호) 가족.\\n 장남 기우(최우식...</td>\n",
       "      <td>https://movie-phinf.pstatic.net/20190528_36/15...</td>\n",
       "      <td>8</td>\n",
       "      <td>나 또한 누군가의 사람 사는 냄새에 얼굴 찌푸리진 않았었나..</td>\n",
       "      <td>2019.05.30 15:11</td>\n",
       "      <td>naver</td>\n",
       "      <td></td>\n",
       "    </tr>\n",
       "    <tr>\n",
       "      <th>14564</th>\n",
       "      <td>기생충</td>\n",
       "      <td>드라마</td>\n",
       "      <td>한국</td>\n",
       "      <td>131분</td>\n",
       "      <td>2019 .05.30 개봉</td>\n",
       "      <td>봉준호</td>\n",
       "      <td>송강호(기택), 이선균(동익), 조여정(연교)</td>\n",
       "      <td>15세 관람가</td>\n",
       "      <td>전원백수로 살 길 막막하지만 사이는 좋은 기택(송강호) 가족.\\n 장남 기우(최우식...</td>\n",
       "      <td>https://movie-phinf.pstatic.net/20190528_36/15...</td>\n",
       "      <td>10</td>\n",
       "      <td>누군가의 냄새를 맡고, 평가하고, 묘사할 수 있는 것 또한 권력. 냄새로 서로를 알...</td>\n",
       "      <td>2019.05.30 12:05</td>\n",
       "      <td>naver</td>\n",
       "      <td></td>\n",
       "    </tr>\n",
       "    <tr>\n",
       "      <th>14565</th>\n",
       "      <td>기생충</td>\n",
       "      <td>드라마</td>\n",
       "      <td>한국</td>\n",
       "      <td>131분</td>\n",
       "      <td>2019 .05.30 개봉</td>\n",
       "      <td>봉준호</td>\n",
       "      <td>송강호(기택), 이선균(동익), 조여정(연교)</td>\n",
       "      <td>15세 관람가</td>\n",
       "      <td>전원백수로 살 길 막막하지만 사이는 좋은 기택(송강호) 가족.\\n 장남 기우(최우식...</td>\n",
       "      <td>https://movie-phinf.pstatic.net/20190528_36/15...</td>\n",
       "      <td>10</td>\n",
       "      <td>박서준이 잘못했네ㅋㅋㅋㅋ</td>\n",
       "      <td>2019.05.30 15:01</td>\n",
       "      <td>naver</td>\n",
       "      <td></td>\n",
       "    </tr>\n",
       "    <tr>\n",
       "      <th>14566</th>\n",
       "      <td>기생충</td>\n",
       "      <td>드라마</td>\n",
       "      <td>한국</td>\n",
       "      <td>131분</td>\n",
       "      <td>2019 .05.30 개봉</td>\n",
       "      <td>봉준호</td>\n",
       "      <td>송강호(기택), 이선균(동익), 조여정(연교)</td>\n",
       "      <td>15세 관람가</td>\n",
       "      <td>전원백수로 살 길 막막하지만 사이는 좋은 기택(송강호) 가족.\\n 장남 기우(최우식...</td>\n",
       "      <td>https://movie-phinf.pstatic.net/20190528_36/15...</td>\n",
       "      <td>10</td>\n",
       "      <td>봉테일이 간과한 것 - 납골당은 눈높이에 있는 곳이 가장 비쌉니다. 죽음에도 빈부격...</td>\n",
       "      <td>2019.06.01 00:59</td>\n",
       "      <td>naver</td>\n",
       "      <td></td>\n",
       "    </tr>\n",
       "    <tr>\n",
       "      <th>14567</th>\n",
       "      <td>기생충</td>\n",
       "      <td>드라마</td>\n",
       "      <td>한국</td>\n",
       "      <td>131분</td>\n",
       "      <td>2019 .05.30 개봉</td>\n",
       "      <td>봉준호</td>\n",
       "      <td>송강호(기택), 이선균(동익), 조여정(연교)</td>\n",
       "      <td>15세 관람가</td>\n",
       "      <td>전원백수로 살 길 막막하지만 사이는 좋은 기택(송강호) 가족.\\n 장남 기우(최우식...</td>\n",
       "      <td>https://movie-phinf.pstatic.net/20190528_36/15...</td>\n",
       "      <td>8</td>\n",
       "      <td>등급조정이 필요해보입니다. 청소년들은 감당하기 버거운 내용이에요.</td>\n",
       "      <td>2019.05.30 17:47</td>\n",
       "      <td>naver</td>\n",
       "      <td></td>\n",
       "    </tr>\n",
       "    <tr>\n",
       "      <th>14568</th>\n",
       "      <td>기생충</td>\n",
       "      <td>드라마</td>\n",
       "      <td>한국</td>\n",
       "      <td>131분</td>\n",
       "      <td>2019 .05.30 개봉</td>\n",
       "      <td>봉준호</td>\n",
       "      <td>송강호(기택), 이선균(동익), 조여정(연교)</td>\n",
       "      <td>15세 관람가</td>\n",
       "      <td>전원백수로 살 길 막막하지만 사이는 좋은 기택(송강호) 가족.\\n 장남 기우(최우식...</td>\n",
       "      <td>https://movie-phinf.pstatic.net/20190528_36/15...</td>\n",
       "      <td>10</td>\n",
       "      <td>막판에 나오는 기우의 바램은 이루어지지 않겠지.. 계획하면 계획대로 안되니까</td>\n",
       "      <td>2019.05.30 19:26</td>\n",
       "      <td>naver</td>\n",
       "      <td></td>\n",
       "    </tr>\n",
       "    <tr>\n",
       "      <th>14569</th>\n",
       "      <td>기생충</td>\n",
       "      <td>드라마</td>\n",
       "      <td>한국</td>\n",
       "      <td>131분</td>\n",
       "      <td>2019 .05.30 개봉</td>\n",
       "      <td>봉준호</td>\n",
       "      <td>송강호(기택), 이선균(동익), 조여정(연교)</td>\n",
       "      <td>15세 관람가</td>\n",
       "      <td>전원백수로 살 길 막막하지만 사이는 좋은 기택(송강호) 가족.\\n 장남 기우(최우식...</td>\n",
       "      <td>https://movie-phinf.pstatic.net/20190528_36/15...</td>\n",
       "      <td>10</td>\n",
       "      <td>누군가는 쏟아져 내리는 빗물을 장난감 텐트로도 막을 수 있지만 다른 누군가에게는 똥...</td>\n",
       "      <td>2019.05.30 16:11</td>\n",
       "      <td>naver</td>\n",
       "      <td></td>\n",
       "    </tr>\n",
       "    <tr>\n",
       "      <th>14570</th>\n",
       "      <td>기생충</td>\n",
       "      <td>드라마</td>\n",
       "      <td>한국</td>\n",
       "      <td>131분</td>\n",
       "      <td>2019 .05.30 개봉</td>\n",
       "      <td>봉준호</td>\n",
       "      <td>송강호(기택), 이선균(동익), 조여정(연교)</td>\n",
       "      <td>15세 관람가</td>\n",
       "      <td>전원백수로 살 길 막막하지만 사이는 좋은 기택(송강호) 가족.\\n 장남 기우(최우식...</td>\n",
       "      <td>https://movie-phinf.pstatic.net/20190528_36/15...</td>\n",
       "      <td>10</td>\n",
       "      <td>갑에게 감사하며 을들끼리 싸웁니다. 우리사회의 축소판</td>\n",
       "      <td>2019.05.30 15:58</td>\n",
       "      <td>naver</td>\n",
       "      <td></td>\n",
       "    </tr>\n",
       "    <tr>\n",
       "      <th>14571</th>\n",
       "      <td>기생충</td>\n",
       "      <td>드라마</td>\n",
       "      <td>한국</td>\n",
       "      <td>131분</td>\n",
       "      <td>2019 .05.30 개봉</td>\n",
       "      <td>봉준호</td>\n",
       "      <td>송강호(기택), 이선균(동익), 조여정(연교)</td>\n",
       "      <td>15세 관람가</td>\n",
       "      <td>전원백수로 살 길 막막하지만 사이는 좋은 기택(송강호) 가족.\\n 장남 기우(최우식...</td>\n",
       "      <td>https://movie-phinf.pstatic.net/20190528_36/15...</td>\n",
       "      <td>10</td>\n",
       "      <td>박사장은 기택의 냄새에 대해서는 언급하지만 기우와 기정과의 냄새에 대해 언급하지 않...</td>\n",
       "      <td>2019.06.02 02:22</td>\n",
       "      <td>naver</td>\n",
       "      <td></td>\n",
       "    </tr>\n",
       "    <tr>\n",
       "      <th>14572</th>\n",
       "      <td>기생충</td>\n",
       "      <td>드라마</td>\n",
       "      <td>한국</td>\n",
       "      <td>131분</td>\n",
       "      <td>2019 .05.30 개봉</td>\n",
       "      <td>봉준호</td>\n",
       "      <td>송강호(기택), 이선균(동익), 조여정(연교)</td>\n",
       "      <td>15세 관람가</td>\n",
       "      <td>전원백수로 살 길 막막하지만 사이는 좋은 기택(송강호) 가족.\\n 장남 기우(최우식...</td>\n",
       "      <td>https://movie-phinf.pstatic.net/20190528_36/15...</td>\n",
       "      <td>10</td>\n",
       "      <td>사이다를 기대했는데 소주 세 잔을 얻어마신 기분이다. 첫번째 잔은 즐겁고, 두번째 ...</td>\n",
       "      <td>2019.05.30 16:47</td>\n",
       "      <td>naver</td>\n",
       "      <td></td>\n",
       "    </tr>\n",
       "    <tr>\n",
       "      <th>14573</th>\n",
       "      <td>기생충</td>\n",
       "      <td>드라마</td>\n",
       "      <td>한국</td>\n",
       "      <td>131분</td>\n",
       "      <td>2019 .05.30 개봉</td>\n",
       "      <td>봉준호</td>\n",
       "      <td>송강호(기택), 이선균(동익), 조여정(연교)</td>\n",
       "      <td>15세 관람가</td>\n",
       "      <td>전원백수로 살 길 막막하지만 사이는 좋은 기택(송강호) 가족.\\n 장남 기우(최우식...</td>\n",
       "      <td>https://movie-phinf.pstatic.net/20190528_36/15...</td>\n",
       "      <td>9</td>\n",
       "      <td>인디언 추장 모자쓴 송강호의 표정이 이영화 모두를 담아낸다</td>\n",
       "      <td>2019.05.30 12:44</td>\n",
       "      <td>naver</td>\n",
       "      <td></td>\n",
       "    </tr>\n",
       "    <tr>\n",
       "      <th>14574</th>\n",
       "      <td>기생충</td>\n",
       "      <td>드라마</td>\n",
       "      <td>한국</td>\n",
       "      <td>131분</td>\n",
       "      <td>2019 .05.30 개봉</td>\n",
       "      <td>봉준호</td>\n",
       "      <td>송강호(기택), 이선균(동익), 조여정(연교)</td>\n",
       "      <td>15세 관람가</td>\n",
       "      <td>전원백수로 살 길 막막하지만 사이는 좋은 기택(송강호) 가족.\\n 장남 기우(최우식...</td>\n",
       "      <td>https://movie-phinf.pstatic.net/20190528_36/15...</td>\n",
       "      <td>10</td>\n",
       "      <td>누군가는 집을 잃고 모든 재산을 잃는 어마어마한 홍수가,누구에게는 그저 그 다음날...</td>\n",
       "      <td>2019.05.30 21:57</td>\n",
       "      <td>naver</td>\n",
       "      <td></td>\n",
       "    </tr>\n",
       "    <tr>\n",
       "      <th>14575</th>\n",
       "      <td>기생충</td>\n",
       "      <td>드라마</td>\n",
       "      <td>한국</td>\n",
       "      <td>131분</td>\n",
       "      <td>2019 .05.30 개봉</td>\n",
       "      <td>봉준호</td>\n",
       "      <td>송강호(기택), 이선균(동익), 조여정(연교)</td>\n",
       "      <td>15세 관람가</td>\n",
       "      <td>전원백수로 살 길 막막하지만 사이는 좋은 기택(송강호) 가족.\\n 장남 기우(최우식...</td>\n",
       "      <td>https://movie-phinf.pstatic.net/20190528_36/15...</td>\n",
       "      <td>10</td>\n",
       "      <td>변기위에서 담배피는 장면이 되게 강렬했음</td>\n",
       "      <td>2019.05.30 16:51</td>\n",
       "      <td>naver</td>\n",
       "      <td></td>\n",
       "    </tr>\n",
       "  </tbody>\n",
       "</table>\n",
       "</div>"
      ],
      "text/plain": [
       "      title genre nation running_time    release_date director  \\\n",
       "14556   기생충   드라마     한국         131분  2019 .05.30 개봉      봉준호   \n",
       "14557   기생충   드라마     한국         131분  2019 .05.30 개봉      봉준호   \n",
       "14558   기생충   드라마     한국         131분  2019 .05.30 개봉      봉준호   \n",
       "14559   기생충   드라마     한국         131분  2019 .05.30 개봉      봉준호   \n",
       "14560   기생충   드라마     한국         131분  2019 .05.30 개봉      봉준호   \n",
       "14561   기생충   드라마     한국         131분  2019 .05.30 개봉      봉준호   \n",
       "14562   기생충   드라마     한국         131분  2019 .05.30 개봉      봉준호   \n",
       "14563   기생충   드라마     한국         131분  2019 .05.30 개봉      봉준호   \n",
       "14564   기생충   드라마     한국         131분  2019 .05.30 개봉      봉준호   \n",
       "14565   기생충   드라마     한국         131분  2019 .05.30 개봉      봉준호   \n",
       "14566   기생충   드라마     한국         131분  2019 .05.30 개봉      봉준호   \n",
       "14567   기생충   드라마     한국         131분  2019 .05.30 개봉      봉준호   \n",
       "14568   기생충   드라마     한국         131분  2019 .05.30 개봉      봉준호   \n",
       "14569   기생충   드라마     한국         131분  2019 .05.30 개봉      봉준호   \n",
       "14570   기생충   드라마     한국         131분  2019 .05.30 개봉      봉준호   \n",
       "14571   기생충   드라마     한국         131분  2019 .05.30 개봉      봉준호   \n",
       "14572   기생충   드라마     한국         131분  2019 .05.30 개봉      봉준호   \n",
       "14573   기생충   드라마     한국         131분  2019 .05.30 개봉      봉준호   \n",
       "14574   기생충   드라마     한국         131분  2019 .05.30 개봉      봉준호   \n",
       "14575   기생충   드라마     한국         131분  2019 .05.30 개봉      봉준호   \n",
       "\n",
       "                           actor    grade  \\\n",
       "14556  송강호(기택), 이선균(동익), 조여정(연교)  15세 관람가   \n",
       "14557  송강호(기택), 이선균(동익), 조여정(연교)  15세 관람가   \n",
       "14558  송강호(기택), 이선균(동익), 조여정(연교)  15세 관람가   \n",
       "14559  송강호(기택), 이선균(동익), 조여정(연교)  15세 관람가   \n",
       "14560  송강호(기택), 이선균(동익), 조여정(연교)  15세 관람가   \n",
       "14561  송강호(기택), 이선균(동익), 조여정(연교)  15세 관람가   \n",
       "14562  송강호(기택), 이선균(동익), 조여정(연교)  15세 관람가   \n",
       "14563  송강호(기택), 이선균(동익), 조여정(연교)  15세 관람가   \n",
       "14564  송강호(기택), 이선균(동익), 조여정(연교)  15세 관람가   \n",
       "14565  송강호(기택), 이선균(동익), 조여정(연교)  15세 관람가   \n",
       "14566  송강호(기택), 이선균(동익), 조여정(연교)  15세 관람가   \n",
       "14567  송강호(기택), 이선균(동익), 조여정(연교)  15세 관람가   \n",
       "14568  송강호(기택), 이선균(동익), 조여정(연교)  15세 관람가   \n",
       "14569  송강호(기택), 이선균(동익), 조여정(연교)  15세 관람가   \n",
       "14570  송강호(기택), 이선균(동익), 조여정(연교)  15세 관람가   \n",
       "14571  송강호(기택), 이선균(동익), 조여정(연교)  15세 관람가   \n",
       "14572  송강호(기택), 이선균(동익), 조여정(연교)  15세 관람가   \n",
       "14573  송강호(기택), 이선균(동익), 조여정(연교)  15세 관람가   \n",
       "14574  송강호(기택), 이선균(동익), 조여정(연교)  15세 관람가   \n",
       "14575  송강호(기택), 이선균(동익), 조여정(연교)  15세 관람가   \n",
       "\n",
       "                                                 summary  \\\n",
       "14556  전원백수로 살 길 막막하지만 사이는 좋은 기택(송강호) 가족.\\n 장남 기우(최우식...   \n",
       "14557  전원백수로 살 길 막막하지만 사이는 좋은 기택(송강호) 가족.\\n 장남 기우(최우식...   \n",
       "14558  전원백수로 살 길 막막하지만 사이는 좋은 기택(송강호) 가족.\\n 장남 기우(최우식...   \n",
       "14559  전원백수로 살 길 막막하지만 사이는 좋은 기택(송강호) 가족.\\n 장남 기우(최우식...   \n",
       "14560  전원백수로 살 길 막막하지만 사이는 좋은 기택(송강호) 가족.\\n 장남 기우(최우식...   \n",
       "14561  전원백수로 살 길 막막하지만 사이는 좋은 기택(송강호) 가족.\\n 장남 기우(최우식...   \n",
       "14562  전원백수로 살 길 막막하지만 사이는 좋은 기택(송강호) 가족.\\n 장남 기우(최우식...   \n",
       "14563  전원백수로 살 길 막막하지만 사이는 좋은 기택(송강호) 가족.\\n 장남 기우(최우식...   \n",
       "14564  전원백수로 살 길 막막하지만 사이는 좋은 기택(송강호) 가족.\\n 장남 기우(최우식...   \n",
       "14565  전원백수로 살 길 막막하지만 사이는 좋은 기택(송강호) 가족.\\n 장남 기우(최우식...   \n",
       "14566  전원백수로 살 길 막막하지만 사이는 좋은 기택(송강호) 가족.\\n 장남 기우(최우식...   \n",
       "14567  전원백수로 살 길 막막하지만 사이는 좋은 기택(송강호) 가족.\\n 장남 기우(최우식...   \n",
       "14568  전원백수로 살 길 막막하지만 사이는 좋은 기택(송강호) 가족.\\n 장남 기우(최우식...   \n",
       "14569  전원백수로 살 길 막막하지만 사이는 좋은 기택(송강호) 가족.\\n 장남 기우(최우식...   \n",
       "14570  전원백수로 살 길 막막하지만 사이는 좋은 기택(송강호) 가족.\\n 장남 기우(최우식...   \n",
       "14571  전원백수로 살 길 막막하지만 사이는 좋은 기택(송강호) 가족.\\n 장남 기우(최우식...   \n",
       "14572  전원백수로 살 길 막막하지만 사이는 좋은 기택(송강호) 가족.\\n 장남 기우(최우식...   \n",
       "14573  전원백수로 살 길 막막하지만 사이는 좋은 기택(송강호) 가족.\\n 장남 기우(최우식...   \n",
       "14574  전원백수로 살 길 막막하지만 사이는 좋은 기택(송강호) 가족.\\n 장남 기우(최우식...   \n",
       "14575  전원백수로 살 길 막막하지만 사이는 좋은 기택(송강호) 가족.\\n 장남 기우(최우식...   \n",
       "\n",
       "                                                  poster  score  \\\n",
       "14556  https://movie-phinf.pstatic.net/20190528_36/15...     10   \n",
       "14557  https://movie-phinf.pstatic.net/20190528_36/15...     10   \n",
       "14558  https://movie-phinf.pstatic.net/20190528_36/15...     10   \n",
       "14559  https://movie-phinf.pstatic.net/20190528_36/15...     10   \n",
       "14560  https://movie-phinf.pstatic.net/20190528_36/15...     10   \n",
       "14561  https://movie-phinf.pstatic.net/20190528_36/15...      9   \n",
       "14562  https://movie-phinf.pstatic.net/20190528_36/15...      8   \n",
       "14563  https://movie-phinf.pstatic.net/20190528_36/15...      8   \n",
       "14564  https://movie-phinf.pstatic.net/20190528_36/15...     10   \n",
       "14565  https://movie-phinf.pstatic.net/20190528_36/15...     10   \n",
       "14566  https://movie-phinf.pstatic.net/20190528_36/15...     10   \n",
       "14567  https://movie-phinf.pstatic.net/20190528_36/15...      8   \n",
       "14568  https://movie-phinf.pstatic.net/20190528_36/15...     10   \n",
       "14569  https://movie-phinf.pstatic.net/20190528_36/15...     10   \n",
       "14570  https://movie-phinf.pstatic.net/20190528_36/15...     10   \n",
       "14571  https://movie-phinf.pstatic.net/20190528_36/15...     10   \n",
       "14572  https://movie-phinf.pstatic.net/20190528_36/15...     10   \n",
       "14573  https://movie-phinf.pstatic.net/20190528_36/15...      9   \n",
       "14574  https://movie-phinf.pstatic.net/20190528_36/15...     10   \n",
       "14575  https://movie-phinf.pstatic.net/20190528_36/15...     10   \n",
       "\n",
       "                                                 content        write_date  \\\n",
       "14556         비에 젖지 않는 고급 장난감 텐트와, 비에 젖다 못해 잠겨버리는 반지하 가구  2019.05.30 15:58   \n",
       "14557  최근 본 영화중 가장 충격적이었음... 근데 보니까 15세말고 19세 걸어야될것같던데..  2019.05.30 12:25   \n",
       "14558    지하철이라는 단어가 언급되는 순간, 대다수의 관객은 자신이 어디에 이입할 지를 안다.  2019.05.30 14:41   \n",
       "14559       전 가정부가 집 벨 누를 때 부터 이 영화는 장르가 바뀐다... 역대급 꿀잼영화  2019.05.30 16:28   \n",
       "14560                 황금종려상 수상작을 자막 없이 볼 수 있다는 것 자체로 좋다.  2019.05.30 15:13   \n",
       "14561                   반지하가 제일 아래인줄 알았다. 내려가보니 지하도 있었다.  2019.05.31 01:41   \n",
       "14562  뭔가 모를 불쾌한 영화였다. 영화가 불쾌하다는게 아니라 보는 내내 가슴에 뭔가 영화...  2019.05.30 10:50   \n",
       "14563                 나 또한 누군가의 사람 사는 냄새에 얼굴 찌푸리진 않았었나..  2019.05.30 15:11   \n",
       "14564  누군가의 냄새를 맡고, 평가하고, 묘사할 수 있는 것 또한 권력. 냄새로 서로를 알...  2019.05.30 12:05   \n",
       "14565                                      박서준이 잘못했네ㅋㅋㅋㅋ  2019.05.30 15:01   \n",
       "14566  봉테일이 간과한 것 - 납골당은 눈높이에 있는 곳이 가장 비쌉니다. 죽음에도 빈부격...  2019.06.01 00:59   \n",
       "14567               등급조정이 필요해보입니다. 청소년들은 감당하기 버거운 내용이에요.  2019.05.30 17:47   \n",
       "14568         막판에 나오는 기우의 바램은 이루어지지 않겠지.. 계획하면 계획대로 안되니까  2019.05.30 19:26   \n",
       "14569  누군가는 쏟아져 내리는 빗물을 장난감 텐트로도 막을 수 있지만 다른 누군가에게는 똥...  2019.05.30 16:11   \n",
       "14570                      갑에게 감사하며 을들끼리 싸웁니다. 우리사회의 축소판  2019.05.30 15:58   \n",
       "14571  박사장은 기택의 냄새에 대해서는 언급하지만 기우와 기정과의 냄새에 대해 언급하지 않...  2019.06.02 02:22   \n",
       "14572  사이다를 기대했는데 소주 세 잔을 얻어마신 기분이다. 첫번째 잔은 즐겁고, 두번째 ...  2019.05.30 16:47   \n",
       "14573                   인디언 추장 모자쓴 송강호의 표정이 이영화 모두를 담아낸다  2019.05.30 12:44   \n",
       "14574   누군가는 집을 잃고 모든 재산을 잃는 어마어마한 홍수가,누구에게는 그저 그 다음날...  2019.05.30 21:57   \n",
       "14575                             변기위에서 담배피는 장면이 되게 강렬했음  2019.05.30 16:51   \n",
       "\n",
       "      source_site pre_content  \n",
       "14556       naver              \n",
       "14557       naver       15 19  \n",
       "14558       naver              \n",
       "14559       naver              \n",
       "14560       naver              \n",
       "14561       naver              \n",
       "14562       naver              \n",
       "14563       naver              \n",
       "14564       naver              \n",
       "14565       naver              \n",
       "14566       naver              \n",
       "14567       naver              \n",
       "14568       naver              \n",
       "14569       naver              \n",
       "14570       naver              \n",
       "14571       naver              \n",
       "14572       naver              \n",
       "14573       naver              \n",
       "14574       naver              \n",
       "14575       naver              "
      ]
     },
     "execution_count": 111,
     "metadata": {},
     "output_type": "execute_result"
    }
   ],
   "source": [
    "movie_alldrop[movie_alldrop['title']=='기생충'].head(20)"
   ]
  },
  {
   "cell_type": "code",
   "execution_count": 110,
   "id": "c401e338",
   "metadata": {
    "ExecuteTime": {
     "end_time": "2021-10-13T01:40:13.937121Z",
     "start_time": "2021-10-13T01:40:13.839095Z"
    }
   },
   "outputs": [
    {
     "data": {
      "text/html": [
       "<div>\n",
       "<style scoped>\n",
       "    .dataframe tbody tr th:only-of-type {\n",
       "        vertical-align: middle;\n",
       "    }\n",
       "\n",
       "    .dataframe tbody tr th {\n",
       "        vertical-align: top;\n",
       "    }\n",
       "\n",
       "    .dataframe thead th {\n",
       "        text-align: right;\n",
       "    }\n",
       "</style>\n",
       "<table border=\"1\" class=\"dataframe\">\n",
       "  <thead>\n",
       "    <tr style=\"text-align: right;\">\n",
       "      <th></th>\n",
       "      <th>title</th>\n",
       "      <th>genre</th>\n",
       "      <th>nation</th>\n",
       "      <th>running_time</th>\n",
       "      <th>release_date</th>\n",
       "      <th>director</th>\n",
       "      <th>actor</th>\n",
       "      <th>grade</th>\n",
       "      <th>summary</th>\n",
       "      <th>poster</th>\n",
       "      <th>score</th>\n",
       "      <th>content</th>\n",
       "      <th>write_date</th>\n",
       "      <th>source_site</th>\n",
       "      <th>pre_content</th>\n",
       "    </tr>\n",
       "  </thead>\n",
       "  <tbody>\n",
       "    <tr>\n",
       "      <th>15018</th>\n",
       "      <td>기생충</td>\n",
       "      <td>드라마</td>\n",
       "      <td>한국</td>\n",
       "      <td>131분</td>\n",
       "      <td>2019 .05.30 개봉</td>\n",
       "      <td>봉준호</td>\n",
       "      <td>송강호(기택), 이선균(동익), 조여정(연교)</td>\n",
       "      <td>15세 관람가</td>\n",
       "      <td>전원백수로 살 길 막막하지만 사이는 좋은 기택(송강호) 가족.\\n 장남 기우(최우식...</td>\n",
       "      <td>https://movie-phinf.pstatic.net/20190528_36/15...</td>\n",
       "      <td>10</td>\n",
       "      <td>다른 어떤배우보다가정부 이정은씨 연기가 최고인듯</td>\n",
       "      <td>2019.05.31 08:38</td>\n",
       "      <td>naver</td>\n",
       "      <td></td>\n",
       "    </tr>\n",
       "    <tr>\n",
       "      <th>15019</th>\n",
       "      <td>기생충</td>\n",
       "      <td>드라마</td>\n",
       "      <td>한국</td>\n",
       "      <td>131분</td>\n",
       "      <td>2019 .05.30 개봉</td>\n",
       "      <td>봉준호</td>\n",
       "      <td>송강호(기택), 이선균(동익), 조여정(연교)</td>\n",
       "      <td>15세 관람가</td>\n",
       "      <td>전원백수로 살 길 막막하지만 사이는 좋은 기택(송강호) 가족.\\n 장남 기우(최우식...</td>\n",
       "      <td>https://movie-phinf.pstatic.net/20190528_36/15...</td>\n",
       "      <td>6</td>\n",
       "      <td>기분나쁜 영화 인듯하네요</td>\n",
       "      <td>2019.06.06 20:32</td>\n",
       "      <td>naver</td>\n",
       "      <td></td>\n",
       "    </tr>\n",
       "    <tr>\n",
       "      <th>15020</th>\n",
       "      <td>기생충</td>\n",
       "      <td>드라마</td>\n",
       "      <td>한국</td>\n",
       "      <td>131분</td>\n",
       "      <td>2019 .05.30 개봉</td>\n",
       "      <td>봉준호</td>\n",
       "      <td>송강호(기택), 이선균(동익), 조여정(연교)</td>\n",
       "      <td>15세 관람가</td>\n",
       "      <td>전원백수로 살 길 막막하지만 사이는 좋은 기택(송강호) 가족.\\n 장남 기우(최우식...</td>\n",
       "      <td>https://movie-phinf.pstatic.net/20190528_36/15...</td>\n",
       "      <td>10</td>\n",
       "      <td>무슨 말이 필요한가요. 명작!</td>\n",
       "      <td>2021.05.11 21:57</td>\n",
       "      <td>naver</td>\n",
       "      <td></td>\n",
       "    </tr>\n",
       "    <tr>\n",
       "      <th>15021</th>\n",
       "      <td>기생충</td>\n",
       "      <td>드라마</td>\n",
       "      <td>한국</td>\n",
       "      <td>131분</td>\n",
       "      <td>2019 .05.30 개봉</td>\n",
       "      <td>봉준호</td>\n",
       "      <td>송강호(기택), 이선균(동익), 조여정(연교)</td>\n",
       "      <td>15세 관람가</td>\n",
       "      <td>전원백수로 살 길 막막하지만 사이는 좋은 기택(송강호) 가족.\\n 장남 기우(최우식...</td>\n",
       "      <td>https://movie-phinf.pstatic.net/20190528_36/15...</td>\n",
       "      <td>10</td>\n",
       "      <td>간간히 웃으면서 봤지만 영화가 계속 될수록 마음이 무거워졌다. 반지하, 지하로 표...</td>\n",
       "      <td>2019.06.15 16:03</td>\n",
       "      <td>naver</td>\n",
       "      <td></td>\n",
       "    </tr>\n",
       "    <tr>\n",
       "      <th>15022</th>\n",
       "      <td>기생충</td>\n",
       "      <td>드라마</td>\n",
       "      <td>한국</td>\n",
       "      <td>131분</td>\n",
       "      <td>2019 .05.30 개봉</td>\n",
       "      <td>봉준호</td>\n",
       "      <td>송강호(기택), 이선균(동익), 조여정(연교)</td>\n",
       "      <td>15세 관람가</td>\n",
       "      <td>전원백수로 살 길 막막하지만 사이는 좋은 기택(송강호) 가족.\\n 장남 기우(최우식...</td>\n",
       "      <td>https://movie-phinf.pstatic.net/20190528_36/15...</td>\n",
       "      <td>10</td>\n",
       "      <td>으잉?!했던. 지하에 사시는 아저씨가 너무 무서워요.</td>\n",
       "      <td>2019.06.10 17:39</td>\n",
       "      <td>naver</td>\n",
       "      <td></td>\n",
       "    </tr>\n",
       "    <tr>\n",
       "      <th>15023</th>\n",
       "      <td>기생충</td>\n",
       "      <td>드라마</td>\n",
       "      <td>한국</td>\n",
       "      <td>131분</td>\n",
       "      <td>2019 .05.30 개봉</td>\n",
       "      <td>봉준호</td>\n",
       "      <td>송강호(기택), 이선균(동익), 조여정(연교)</td>\n",
       "      <td>15세 관람가</td>\n",
       "      <td>전원백수로 살 길 막막하지만 사이는 좋은 기택(송강호) 가족.\\n 장남 기우(최우식...</td>\n",
       "      <td>https://movie-phinf.pstatic.net/20190528_36/15...</td>\n",
       "      <td>5</td>\n",
       "      <td>다들 있어보이게 말들 써놨는데 걍 막장영화인듯</td>\n",
       "      <td>2019.06.07 14:42</td>\n",
       "      <td>naver</td>\n",
       "      <td></td>\n",
       "    </tr>\n",
       "    <tr>\n",
       "      <th>15024</th>\n",
       "      <td>기생충</td>\n",
       "      <td>드라마</td>\n",
       "      <td>한국</td>\n",
       "      <td>131분</td>\n",
       "      <td>2019 .05.30 개봉</td>\n",
       "      <td>봉준호</td>\n",
       "      <td>송강호(기택), 이선균(동익), 조여정(연교)</td>\n",
       "      <td>15세 관람가</td>\n",
       "      <td>전원백수로 살 길 막막하지만 사이는 좋은 기택(송강호) 가족.\\n 장남 기우(최우식...</td>\n",
       "      <td>https://movie-phinf.pstatic.net/20190528_36/15...</td>\n",
       "      <td>1</td>\n",
       "      <td>대만 카스테라라는 소재를 사용함으로써 아팠던 기억을 다시 떠올리는 것만 해도 힘들 ...</td>\n",
       "      <td>2019.06.14 03:10</td>\n",
       "      <td>naver</td>\n",
       "      <td></td>\n",
       "    </tr>\n",
       "    <tr>\n",
       "      <th>15025</th>\n",
       "      <td>기생충</td>\n",
       "      <td>드라마</td>\n",
       "      <td>한국</td>\n",
       "      <td>131분</td>\n",
       "      <td>2019 .05.30 개봉</td>\n",
       "      <td>봉준호</td>\n",
       "      <td>송강호(기택), 이선균(동익), 조여정(연교)</td>\n",
       "      <td>15세 관람가</td>\n",
       "      <td>전원백수로 살 길 막막하지만 사이는 좋은 기택(송강호) 가족.\\n 장남 기우(최우식...</td>\n",
       "      <td>https://movie-phinf.pstatic.net/20190528_36/15...</td>\n",
       "      <td>1</td>\n",
       "      <td>가난해본적 없는 사람이 그린 가난의 초상화. 기대에 차 보고나면 모두의 머리속에 드...</td>\n",
       "      <td>2019.06.05 12:48</td>\n",
       "      <td>naver</td>\n",
       "      <td></td>\n",
       "    </tr>\n",
       "    <tr>\n",
       "      <th>15026</th>\n",
       "      <td>기생충</td>\n",
       "      <td>드라마</td>\n",
       "      <td>한국</td>\n",
       "      <td>131분</td>\n",
       "      <td>2019 .05.30 개봉</td>\n",
       "      <td>봉준호</td>\n",
       "      <td>송강호(기택), 이선균(동익), 조여정(연교)</td>\n",
       "      <td>15세 관람가</td>\n",
       "      <td>전원백수로 살 길 막막하지만 사이는 좋은 기택(송강호) 가족.\\n 장남 기우(최우식...</td>\n",
       "      <td>https://movie-phinf.pstatic.net/20190528_36/15...</td>\n",
       "      <td>1</td>\n",
       "      <td>영화저널리스트들과 세계각국의 영화관계자들께 말하고 싶네요 재미없고 감동없고 내용없고~~</td>\n",
       "      <td>2019.06.03 19:03</td>\n",
       "      <td>naver</td>\n",
       "      <td></td>\n",
       "    </tr>\n",
       "    <tr>\n",
       "      <th>15027</th>\n",
       "      <td>기생충</td>\n",
       "      <td>드라마</td>\n",
       "      <td>한국</td>\n",
       "      <td>131분</td>\n",
       "      <td>2019 .05.30 개봉</td>\n",
       "      <td>봉준호</td>\n",
       "      <td>송강호(기택), 이선균(동익), 조여정(연교)</td>\n",
       "      <td>15세 관람가</td>\n",
       "      <td>전원백수로 살 길 막막하지만 사이는 좋은 기택(송강호) 가족.\\n 장남 기우(최우식...</td>\n",
       "      <td>https://movie-phinf.pstatic.net/20190528_36/15...</td>\n",
       "      <td>1</td>\n",
       "      <td>사람 가치는 고귀하고 무한합니다. ㅠㅠ 영화 보면서 사람이 너무 이상하게 묘사되네요</td>\n",
       "      <td>2019.06.03 12:16</td>\n",
       "      <td>naver</td>\n",
       "      <td></td>\n",
       "    </tr>\n",
       "    <tr>\n",
       "      <th>15028</th>\n",
       "      <td>기생충</td>\n",
       "      <td>드라마</td>\n",
       "      <td>한국</td>\n",
       "      <td>131분</td>\n",
       "      <td>2019 .05.30 개봉</td>\n",
       "      <td>봉준호</td>\n",
       "      <td>송강호(기택), 이선균(동익), 조여정(연교)</td>\n",
       "      <td>15세 관람가</td>\n",
       "      <td>전원백수로 살 길 막막하지만 사이는 좋은 기택(송강호) 가족.\\n 장남 기우(최우식...</td>\n",
       "      <td>https://movie-phinf.pstatic.net/20190528_36/15...</td>\n",
       "      <td>1</td>\n",
       "      <td>현재 스크린 도배된 상업영화 자본으로 독립영화 만든 웃긴 영화</td>\n",
       "      <td>2019.06.11 20:42</td>\n",
       "      <td>naver</td>\n",
       "      <td></td>\n",
       "    </tr>\n",
       "    <tr>\n",
       "      <th>15029</th>\n",
       "      <td>기생충</td>\n",
       "      <td>드라마</td>\n",
       "      <td>한국</td>\n",
       "      <td>131분</td>\n",
       "      <td>2019 .05.30 개봉</td>\n",
       "      <td>봉준호</td>\n",
       "      <td>송강호(기택), 이선균(동익), 조여정(연교)</td>\n",
       "      <td>15세 관람가</td>\n",
       "      <td>전원백수로 살 길 막막하지만 사이는 좋은 기택(송강호) 가족.\\n 장남 기우(최우식...</td>\n",
       "      <td>https://movie-phinf.pstatic.net/20190528_36/15...</td>\n",
       "      <td>1</td>\n",
       "      <td>단란한 가정이 가족사기단에 의해 철저히 파괴되고 가장이 죽고 아이들이 평생 씻지 못...</td>\n",
       "      <td>2019.06.02 15:09</td>\n",
       "      <td>naver</td>\n",
       "      <td>the good</td>\n",
       "    </tr>\n",
       "    <tr>\n",
       "      <th>15030</th>\n",
       "      <td>기생충</td>\n",
       "      <td>드라마</td>\n",
       "      <td>한국</td>\n",
       "      <td>131분</td>\n",
       "      <td>2019 .05.30 개봉</td>\n",
       "      <td>봉준호</td>\n",
       "      <td>송강호(기택), 이선균(동익), 조여정(연교)</td>\n",
       "      <td>15세 관람가</td>\n",
       "      <td>전원백수로 살 길 막막하지만 사이는 좋은 기택(송강호) 가족.\\n 장남 기우(최우식...</td>\n",
       "      <td>https://movie-phinf.pstatic.net/20190528_36/15...</td>\n",
       "      <td>1</td>\n",
       "      <td>기생충가족들 동정이 전혀 안간다. 사지 멀쩡하면서 노력은 안하고 사기만 치고 다니고...</td>\n",
       "      <td>2019.06.02 15:00</td>\n",
       "      <td>naver</td>\n",
       "      <td></td>\n",
       "    </tr>\n",
       "    <tr>\n",
       "      <th>15031</th>\n",
       "      <td>기생충</td>\n",
       "      <td>드라마</td>\n",
       "      <td>한국</td>\n",
       "      <td>131분</td>\n",
       "      <td>2019 .05.30 개봉</td>\n",
       "      <td>봉준호</td>\n",
       "      <td>송강호(기택), 이선균(동익), 조여정(연교)</td>\n",
       "      <td>15세 관람가</td>\n",
       "      <td>전원백수로 살 길 막막하지만 사이는 좋은 기택(송강호) 가족.\\n 장남 기우(최우식...</td>\n",
       "      <td>https://movie-phinf.pstatic.net/20190528_36/15...</td>\n",
       "      <td>1</td>\n",
       "      <td>19금 걸어라 천만관객 만들려고 15금해놨나ㅡㅡ</td>\n",
       "      <td>2019.06.05 10:11</td>\n",
       "      <td>naver</td>\n",
       "      <td>19 15</td>\n",
       "    </tr>\n",
       "    <tr>\n",
       "      <th>15032</th>\n",
       "      <td>기생충</td>\n",
       "      <td>드라마</td>\n",
       "      <td>한국</td>\n",
       "      <td>131분</td>\n",
       "      <td>2019 .05.30 개봉</td>\n",
       "      <td>봉준호</td>\n",
       "      <td>송강호(기택), 이선균(동익), 조여정(연교)</td>\n",
       "      <td>15세 관람가</td>\n",
       "      <td>전원백수로 살 길 막막하지만 사이는 좋은 기택(송강호) 가족.\\n 장남 기우(최우식...</td>\n",
       "      <td>https://movie-phinf.pstatic.net/20190528_36/15...</td>\n",
       "      <td>6</td>\n",
       "      <td>봉준호 감독 영화들의 결말들이 너무 싫다. 영화 자체로서는 재밌거나 작품성이 있을...</td>\n",
       "      <td>2019.06.04 23:35</td>\n",
       "      <td>naver</td>\n",
       "      <td></td>\n",
       "    </tr>\n",
       "    <tr>\n",
       "      <th>15033</th>\n",
       "      <td>기생충</td>\n",
       "      <td>드라마</td>\n",
       "      <td>한국</td>\n",
       "      <td>131분</td>\n",
       "      <td>2019 .05.30 개봉</td>\n",
       "      <td>봉준호</td>\n",
       "      <td>송강호(기택), 이선균(동익), 조여정(연교)</td>\n",
       "      <td>15세 관람가</td>\n",
       "      <td>전원백수로 살 길 막막하지만 사이는 좋은 기택(송강호) 가족.\\n 장남 기우(최우식...</td>\n",
       "      <td>https://movie-phinf.pstatic.net/20190528_36/15...</td>\n",
       "      <td>1</td>\n",
       "      <td>국민들은 코로라19 땡시 불한해하는데 오찬을 할때인가 생각이 없는건가 아니면 내려 ...</td>\n",
       "      <td>2020.02.23 01:35</td>\n",
       "      <td>naver</td>\n",
       "      <td>19</td>\n",
       "    </tr>\n",
       "    <tr>\n",
       "      <th>15034</th>\n",
       "      <td>기생충</td>\n",
       "      <td>드라마</td>\n",
       "      <td>한국</td>\n",
       "      <td>131분</td>\n",
       "      <td>2019 .05.30 개봉</td>\n",
       "      <td>봉준호</td>\n",
       "      <td>송강호(기택), 이선균(동익), 조여정(연교)</td>\n",
       "      <td>15세 관람가</td>\n",
       "      <td>전원백수로 살 길 막막하지만 사이는 좋은 기택(송강호) 가족.\\n 장남 기우(최우식...</td>\n",
       "      <td>https://movie-phinf.pstatic.net/20190528_36/15...</td>\n",
       "      <td>1</td>\n",
       "      <td>이시국에 문쩝쩝이랑 짜파구리쳐먹는 기생충 봉준호 및 좌빨 쁘락치배우들</td>\n",
       "      <td>2020.02.21 14:07</td>\n",
       "      <td>naver</td>\n",
       "      <td></td>\n",
       "    </tr>\n",
       "    <tr>\n",
       "      <th>15035</th>\n",
       "      <td>기생충</td>\n",
       "      <td>드라마</td>\n",
       "      <td>한국</td>\n",
       "      <td>131분</td>\n",
       "      <td>2019 .05.30 개봉</td>\n",
       "      <td>봉준호</td>\n",
       "      <td>송강호(기택), 이선균(동익), 조여정(연교)</td>\n",
       "      <td>15세 관람가</td>\n",
       "      <td>전원백수로 살 길 막막하지만 사이는 좋은 기택(송강호) 가족.\\n 장남 기우(최우식...</td>\n",
       "      <td>https://movie-phinf.pstatic.net/20190528_36/15...</td>\n",
       "      <td>1</td>\n",
       "      <td>지금 대한민국 현실이 영화 기생충 그 자체 이선균:문재앙 결말도 영화처럼 현실 이루어지길</td>\n",
       "      <td>2020.02.20 20:11</td>\n",
       "      <td>naver</td>\n",
       "      <td></td>\n",
       "    </tr>\n",
       "    <tr>\n",
       "      <th>15036</th>\n",
       "      <td>기생충</td>\n",
       "      <td>드라마</td>\n",
       "      <td>한국</td>\n",
       "      <td>131분</td>\n",
       "      <td>2019 .05.30 개봉</td>\n",
       "      <td>봉준호</td>\n",
       "      <td>송강호(기택), 이선균(동익), 조여정(연교)</td>\n",
       "      <td>15세 관람가</td>\n",
       "      <td>전원백수로 살 길 막막하지만 사이는 좋은 기택(송강호) 가족.\\n 장남 기우(최우식...</td>\n",
       "      <td>https://movie-phinf.pstatic.net/20190528_36/15...</td>\n",
       "      <td>1</td>\n",
       "      <td>정말 재미없다. 이게 영화인가?</td>\n",
       "      <td>2019.06.04 11:51</td>\n",
       "      <td>naver</td>\n",
       "      <td></td>\n",
       "    </tr>\n",
       "    <tr>\n",
       "      <th>15037</th>\n",
       "      <td>기생충</td>\n",
       "      <td>드라마</td>\n",
       "      <td>한국</td>\n",
       "      <td>131분</td>\n",
       "      <td>2019 .05.30 개봉</td>\n",
       "      <td>봉준호</td>\n",
       "      <td>송강호(기택), 이선균(동익), 조여정(연교)</td>\n",
       "      <td>15세 관람가</td>\n",
       "      <td>전원백수로 살 길 막막하지만 사이는 좋은 기택(송강호) 가족.\\n 장남 기우(최우식...</td>\n",
       "      <td>https://movie-phinf.pstatic.net/20190528_36/15...</td>\n",
       "      <td>1</td>\n",
       "      <td>으.. 으.. 으.. 으.. 으.. 으.. 으.. 으.. 으.. 으.. 으.. 으....</td>\n",
       "      <td>2019.06.02 14:20</td>\n",
       "      <td>naver</td>\n",
       "      <td></td>\n",
       "    </tr>\n",
       "  </tbody>\n",
       "</table>\n",
       "</div>"
      ],
      "text/plain": [
       "      title genre nation running_time    release_date director  \\\n",
       "15018   기생충   드라마     한국         131분  2019 .05.30 개봉      봉준호   \n",
       "15019   기생충   드라마     한국         131분  2019 .05.30 개봉      봉준호   \n",
       "15020   기생충   드라마     한국         131분  2019 .05.30 개봉      봉준호   \n",
       "15021   기생충   드라마     한국         131분  2019 .05.30 개봉      봉준호   \n",
       "15022   기생충   드라마     한국         131분  2019 .05.30 개봉      봉준호   \n",
       "15023   기생충   드라마     한국         131분  2019 .05.30 개봉      봉준호   \n",
       "15024   기생충   드라마     한국         131분  2019 .05.30 개봉      봉준호   \n",
       "15025   기생충   드라마     한국         131분  2019 .05.30 개봉      봉준호   \n",
       "15026   기생충   드라마     한국         131분  2019 .05.30 개봉      봉준호   \n",
       "15027   기생충   드라마     한국         131분  2019 .05.30 개봉      봉준호   \n",
       "15028   기생충   드라마     한국         131분  2019 .05.30 개봉      봉준호   \n",
       "15029   기생충   드라마     한국         131분  2019 .05.30 개봉      봉준호   \n",
       "15030   기생충   드라마     한국         131분  2019 .05.30 개봉      봉준호   \n",
       "15031   기생충   드라마     한국         131분  2019 .05.30 개봉      봉준호   \n",
       "15032   기생충   드라마     한국         131분  2019 .05.30 개봉      봉준호   \n",
       "15033   기생충   드라마     한국         131분  2019 .05.30 개봉      봉준호   \n",
       "15034   기생충   드라마     한국         131분  2019 .05.30 개봉      봉준호   \n",
       "15035   기생충   드라마     한국         131분  2019 .05.30 개봉      봉준호   \n",
       "15036   기생충   드라마     한국         131분  2019 .05.30 개봉      봉준호   \n",
       "15037   기생충   드라마     한국         131분  2019 .05.30 개봉      봉준호   \n",
       "\n",
       "                           actor    grade  \\\n",
       "15018  송강호(기택), 이선균(동익), 조여정(연교)  15세 관람가   \n",
       "15019  송강호(기택), 이선균(동익), 조여정(연교)  15세 관람가   \n",
       "15020  송강호(기택), 이선균(동익), 조여정(연교)  15세 관람가   \n",
       "15021  송강호(기택), 이선균(동익), 조여정(연교)  15세 관람가   \n",
       "15022  송강호(기택), 이선균(동익), 조여정(연교)  15세 관람가   \n",
       "15023  송강호(기택), 이선균(동익), 조여정(연교)  15세 관람가   \n",
       "15024  송강호(기택), 이선균(동익), 조여정(연교)  15세 관람가   \n",
       "15025  송강호(기택), 이선균(동익), 조여정(연교)  15세 관람가   \n",
       "15026  송강호(기택), 이선균(동익), 조여정(연교)  15세 관람가   \n",
       "15027  송강호(기택), 이선균(동익), 조여정(연교)  15세 관람가   \n",
       "15028  송강호(기택), 이선균(동익), 조여정(연교)  15세 관람가   \n",
       "15029  송강호(기택), 이선균(동익), 조여정(연교)  15세 관람가   \n",
       "15030  송강호(기택), 이선균(동익), 조여정(연교)  15세 관람가   \n",
       "15031  송강호(기택), 이선균(동익), 조여정(연교)  15세 관람가   \n",
       "15032  송강호(기택), 이선균(동익), 조여정(연교)  15세 관람가   \n",
       "15033  송강호(기택), 이선균(동익), 조여정(연교)  15세 관람가   \n",
       "15034  송강호(기택), 이선균(동익), 조여정(연교)  15세 관람가   \n",
       "15035  송강호(기택), 이선균(동익), 조여정(연교)  15세 관람가   \n",
       "15036  송강호(기택), 이선균(동익), 조여정(연교)  15세 관람가   \n",
       "15037  송강호(기택), 이선균(동익), 조여정(연교)  15세 관람가   \n",
       "\n",
       "                                                 summary  \\\n",
       "15018  전원백수로 살 길 막막하지만 사이는 좋은 기택(송강호) 가족.\\n 장남 기우(최우식...   \n",
       "15019  전원백수로 살 길 막막하지만 사이는 좋은 기택(송강호) 가족.\\n 장남 기우(최우식...   \n",
       "15020  전원백수로 살 길 막막하지만 사이는 좋은 기택(송강호) 가족.\\n 장남 기우(최우식...   \n",
       "15021  전원백수로 살 길 막막하지만 사이는 좋은 기택(송강호) 가족.\\n 장남 기우(최우식...   \n",
       "15022  전원백수로 살 길 막막하지만 사이는 좋은 기택(송강호) 가족.\\n 장남 기우(최우식...   \n",
       "15023  전원백수로 살 길 막막하지만 사이는 좋은 기택(송강호) 가족.\\n 장남 기우(최우식...   \n",
       "15024  전원백수로 살 길 막막하지만 사이는 좋은 기택(송강호) 가족.\\n 장남 기우(최우식...   \n",
       "15025  전원백수로 살 길 막막하지만 사이는 좋은 기택(송강호) 가족.\\n 장남 기우(최우식...   \n",
       "15026  전원백수로 살 길 막막하지만 사이는 좋은 기택(송강호) 가족.\\n 장남 기우(최우식...   \n",
       "15027  전원백수로 살 길 막막하지만 사이는 좋은 기택(송강호) 가족.\\n 장남 기우(최우식...   \n",
       "15028  전원백수로 살 길 막막하지만 사이는 좋은 기택(송강호) 가족.\\n 장남 기우(최우식...   \n",
       "15029  전원백수로 살 길 막막하지만 사이는 좋은 기택(송강호) 가족.\\n 장남 기우(최우식...   \n",
       "15030  전원백수로 살 길 막막하지만 사이는 좋은 기택(송강호) 가족.\\n 장남 기우(최우식...   \n",
       "15031  전원백수로 살 길 막막하지만 사이는 좋은 기택(송강호) 가족.\\n 장남 기우(최우식...   \n",
       "15032  전원백수로 살 길 막막하지만 사이는 좋은 기택(송강호) 가족.\\n 장남 기우(최우식...   \n",
       "15033  전원백수로 살 길 막막하지만 사이는 좋은 기택(송강호) 가족.\\n 장남 기우(최우식...   \n",
       "15034  전원백수로 살 길 막막하지만 사이는 좋은 기택(송강호) 가족.\\n 장남 기우(최우식...   \n",
       "15035  전원백수로 살 길 막막하지만 사이는 좋은 기택(송강호) 가족.\\n 장남 기우(최우식...   \n",
       "15036  전원백수로 살 길 막막하지만 사이는 좋은 기택(송강호) 가족.\\n 장남 기우(최우식...   \n",
       "15037  전원백수로 살 길 막막하지만 사이는 좋은 기택(송강호) 가족.\\n 장남 기우(최우식...   \n",
       "\n",
       "                                                  poster  score  \\\n",
       "15018  https://movie-phinf.pstatic.net/20190528_36/15...     10   \n",
       "15019  https://movie-phinf.pstatic.net/20190528_36/15...      6   \n",
       "15020  https://movie-phinf.pstatic.net/20190528_36/15...     10   \n",
       "15021  https://movie-phinf.pstatic.net/20190528_36/15...     10   \n",
       "15022  https://movie-phinf.pstatic.net/20190528_36/15...     10   \n",
       "15023  https://movie-phinf.pstatic.net/20190528_36/15...      5   \n",
       "15024  https://movie-phinf.pstatic.net/20190528_36/15...      1   \n",
       "15025  https://movie-phinf.pstatic.net/20190528_36/15...      1   \n",
       "15026  https://movie-phinf.pstatic.net/20190528_36/15...      1   \n",
       "15027  https://movie-phinf.pstatic.net/20190528_36/15...      1   \n",
       "15028  https://movie-phinf.pstatic.net/20190528_36/15...      1   \n",
       "15029  https://movie-phinf.pstatic.net/20190528_36/15...      1   \n",
       "15030  https://movie-phinf.pstatic.net/20190528_36/15...      1   \n",
       "15031  https://movie-phinf.pstatic.net/20190528_36/15...      1   \n",
       "15032  https://movie-phinf.pstatic.net/20190528_36/15...      6   \n",
       "15033  https://movie-phinf.pstatic.net/20190528_36/15...      1   \n",
       "15034  https://movie-phinf.pstatic.net/20190528_36/15...      1   \n",
       "15035  https://movie-phinf.pstatic.net/20190528_36/15...      1   \n",
       "15036  https://movie-phinf.pstatic.net/20190528_36/15...      1   \n",
       "15037  https://movie-phinf.pstatic.net/20190528_36/15...      1   \n",
       "\n",
       "                                                 content        write_date  \\\n",
       "15018                         다른 어떤배우보다가정부 이정은씨 연기가 최고인듯  2019.05.31 08:38   \n",
       "15019                                      기분나쁜 영화 인듯하네요  2019.06.06 20:32   \n",
       "15020                                   무슨 말이 필요한가요. 명작!  2021.05.11 21:57   \n",
       "15021   간간히 웃으면서 봤지만 영화가 계속 될수록 마음이 무거워졌다. 반지하, 지하로 표...  2019.06.15 16:03   \n",
       "15022                      으잉?!했던. 지하에 사시는 아저씨가 너무 무서워요.  2019.06.10 17:39   \n",
       "15023                          다들 있어보이게 말들 써놨는데 걍 막장영화인듯  2019.06.07 14:42   \n",
       "15024  대만 카스테라라는 소재를 사용함으로써 아팠던 기억을 다시 떠올리는 것만 해도 힘들 ...  2019.06.14 03:10   \n",
       "15025  가난해본적 없는 사람이 그린 가난의 초상화. 기대에 차 보고나면 모두의 머리속에 드...  2019.06.05 12:48   \n",
       "15026   영화저널리스트들과 세계각국의 영화관계자들께 말하고 싶네요 재미없고 감동없고 내용없고~~  2019.06.03 19:03   \n",
       "15027     사람 가치는 고귀하고 무한합니다. ㅠㅠ 영화 보면서 사람이 너무 이상하게 묘사되네요  2019.06.03 12:16   \n",
       "15028                 현재 스크린 도배된 상업영화 자본으로 독립영화 만든 웃긴 영화  2019.06.11 20:42   \n",
       "15029  단란한 가정이 가족사기단에 의해 철저히 파괴되고 가장이 죽고 아이들이 평생 씻지 못...  2019.06.02 15:09   \n",
       "15030  기생충가족들 동정이 전혀 안간다. 사지 멀쩡하면서 노력은 안하고 사기만 치고 다니고...  2019.06.02 15:00   \n",
       "15031                         19금 걸어라 천만관객 만들려고 15금해놨나ㅡㅡ  2019.06.05 10:11   \n",
       "15032   봉준호 감독 영화들의 결말들이 너무 싫다. 영화 자체로서는 재밌거나 작품성이 있을...  2019.06.04 23:35   \n",
       "15033  국민들은 코로라19 땡시 불한해하는데 오찬을 할때인가 생각이 없는건가 아니면 내려 ...  2020.02.23 01:35   \n",
       "15034             이시국에 문쩝쩝이랑 짜파구리쳐먹는 기생충 봉준호 및 좌빨 쁘락치배우들  2020.02.21 14:07   \n",
       "15035  지금 대한민국 현실이 영화 기생충 그 자체 이선균:문재앙 결말도 영화처럼 현실 이루어지길  2020.02.20 20:11   \n",
       "15036                                  정말 재미없다. 이게 영화인가?  2019.06.04 11:51   \n",
       "15037  으.. 으.. 으.. 으.. 으.. 으.. 으.. 으.. 으.. 으.. 으.. 으....  2019.06.02 14:20   \n",
       "\n",
       "      source_site pre_content  \n",
       "15018       naver              \n",
       "15019       naver              \n",
       "15020       naver              \n",
       "15021       naver              \n",
       "15022       naver              \n",
       "15023       naver              \n",
       "15024       naver              \n",
       "15025       naver              \n",
       "15026       naver              \n",
       "15027       naver              \n",
       "15028       naver              \n",
       "15029       naver    the good  \n",
       "15030       naver              \n",
       "15031       naver       19 15  \n",
       "15032       naver              \n",
       "15033       naver          19  \n",
       "15034       naver              \n",
       "15035       naver              \n",
       "15036       naver              \n",
       "15037       naver              "
      ]
     },
     "execution_count": 110,
     "metadata": {},
     "output_type": "execute_result"
    }
   ],
   "source": [
    "movie_alldrop[movie_alldrop['title']=='기생충'].tail(20)"
   ]
  },
  {
   "cell_type": "code",
   "execution_count": 50,
   "id": "ba40f18d",
   "metadata": {
    "ExecuteTime": {
     "end_time": "2021-10-12T17:41:55.053144Z",
     "start_time": "2021-10-12T17:41:55.018158Z"
    },
    "scrolled": true
   },
   "outputs": [
    {
     "data": {
      "text/html": [
       "<div>\n",
       "<style scoped>\n",
       "    .dataframe tbody tr th:only-of-type {\n",
       "        vertical-align: middle;\n",
       "    }\n",
       "\n",
       "    .dataframe tbody tr th {\n",
       "        vertical-align: top;\n",
       "    }\n",
       "\n",
       "    .dataframe thead th {\n",
       "        text-align: right;\n",
       "    }\n",
       "</style>\n",
       "<table border=\"1\" class=\"dataframe\">\n",
       "  <thead>\n",
       "    <tr style=\"text-align: right;\">\n",
       "      <th></th>\n",
       "      <th>title</th>\n",
       "      <th>genre</th>\n",
       "      <th>nation</th>\n",
       "      <th>running_time</th>\n",
       "      <th>release_date</th>\n",
       "      <th>director</th>\n",
       "      <th>actor</th>\n",
       "      <th>grade</th>\n",
       "      <th>summary</th>\n",
       "      <th>poster</th>\n",
       "      <th>score</th>\n",
       "      <th>content</th>\n",
       "      <th>write_date</th>\n",
       "      <th>source_site</th>\n",
       "    </tr>\n",
       "  </thead>\n",
       "  <tbody>\n",
       "    <tr>\n",
       "      <th>0</th>\n",
       "      <td>0.0MHz</td>\n",
       "      <td>공포</td>\n",
       "      <td>한국</td>\n",
       "      <td>102분</td>\n",
       "      <td>2019 .05.29 개봉</td>\n",
       "      <td>유선동</td>\n",
       "      <td>정은지(소희), 이성열(상엽), 최윤영(윤정)</td>\n",
       "      <td>15세 관람가</td>\n",
       "      <td>에디슨의 마지막 발명품, 유령 탐지기?\\n “증명할 수 없는 미스터리란 없다”\\n ...</td>\n",
       "      <td>https://movie-phinf.pstatic.net/20190517_285/1...</td>\n",
       "      <td>1</td>\n",
       "      <td>와 정말 무서운집 수준의 공포영화가 한국에 다시 나왔네요. 꼭 보러 가세요.착석하신...</td>\n",
       "      <td>2019.05.29 13:30</td>\n",
       "      <td>naver</td>\n",
       "    </tr>\n",
       "    <tr>\n",
       "      <th>1</th>\n",
       "      <td>0.0MHz</td>\n",
       "      <td>공포</td>\n",
       "      <td>한국</td>\n",
       "      <td>102분</td>\n",
       "      <td>2019 .05.29 개봉</td>\n",
       "      <td>유선동</td>\n",
       "      <td>정은지(소희), 이성열(상엽), 최윤영(윤정)</td>\n",
       "      <td>15세 관람가</td>\n",
       "      <td>에디슨의 마지막 발명품, 유령 탐지기?\\n “증명할 수 없는 미스터리란 없다”\\n ...</td>\n",
       "      <td>https://movie-phinf.pstatic.net/20190517_285/1...</td>\n",
       "      <td>10</td>\n",
       "      <td>내용 구성이나 연출, cg는 저예산 영화 정도의 수준이었지만 정은지가 연기를 잘한다</td>\n",
       "      <td>2019.05.29 10:58</td>\n",
       "      <td>naver</td>\n",
       "    </tr>\n",
       "    <tr>\n",
       "      <th>2</th>\n",
       "      <td>0.0MHz</td>\n",
       "      <td>공포</td>\n",
       "      <td>한국</td>\n",
       "      <td>102분</td>\n",
       "      <td>2019 .05.29 개봉</td>\n",
       "      <td>유선동</td>\n",
       "      <td>정은지(소희), 이성열(상엽), 최윤영(윤정)</td>\n",
       "      <td>15세 관람가</td>\n",
       "      <td>에디슨의 마지막 발명품, 유령 탐지기?\\n “증명할 수 없는 미스터리란 없다”\\n ...</td>\n",
       "      <td>https://movie-phinf.pstatic.net/20190517_285/1...</td>\n",
       "      <td>2</td>\n",
       "      <td>상엽이 형은 어쩌다가 어릴때 죽었는지 다리 피흘리는 여고생 연관있을줄 알았는데 연관...</td>\n",
       "      <td>2019.05.29 20:15</td>\n",
       "      <td>naver</td>\n",
       "    </tr>\n",
       "    <tr>\n",
       "      <th>3</th>\n",
       "      <td>0.0MHz</td>\n",
       "      <td>공포</td>\n",
       "      <td>한국</td>\n",
       "      <td>102분</td>\n",
       "      <td>2019 .05.29 개봉</td>\n",
       "      <td>유선동</td>\n",
       "      <td>정은지(소희), 이성열(상엽), 최윤영(윤정)</td>\n",
       "      <td>15세 관람가</td>\n",
       "      <td>에디슨의 마지막 발명품, 유령 탐지기?\\n “증명할 수 없는 미스터리란 없다”\\n ...</td>\n",
       "      <td>https://movie-phinf.pstatic.net/20190517_285/1...</td>\n",
       "      <td>10</td>\n",
       "      <td>정은지 연기 소름...</td>\n",
       "      <td>2019.05.29 12:21</td>\n",
       "      <td>naver</td>\n",
       "    </tr>\n",
       "    <tr>\n",
       "      <th>4</th>\n",
       "      <td>0.0MHz</td>\n",
       "      <td>공포</td>\n",
       "      <td>한국</td>\n",
       "      <td>102분</td>\n",
       "      <td>2019 .05.29 개봉</td>\n",
       "      <td>유선동</td>\n",
       "      <td>정은지(소희), 이성열(상엽), 최윤영(윤정)</td>\n",
       "      <td>15세 관람가</td>\n",
       "      <td>에디슨의 마지막 발명품, 유령 탐지기?\\n “증명할 수 없는 미스터리란 없다”\\n ...</td>\n",
       "      <td>https://movie-phinf.pstatic.net/20190517_285/1...</td>\n",
       "      <td>6</td>\n",
       "      <td>일단 정은지는 완전 합격점. 최윤영도 좋았다. 여배우 둘 빼면 에휴...게다가 초반...</td>\n",
       "      <td>2019.05.29 11:34</td>\n",
       "      <td>naver</td>\n",
       "    </tr>\n",
       "    <tr>\n",
       "      <th>...</th>\n",
       "      <td>...</td>\n",
       "      <td>...</td>\n",
       "      <td>...</td>\n",
       "      <td>...</td>\n",
       "      <td>...</td>\n",
       "      <td>...</td>\n",
       "      <td>...</td>\n",
       "      <td>...</td>\n",
       "      <td>...</td>\n",
       "      <td>...</td>\n",
       "      <td>...</td>\n",
       "      <td>...</td>\n",
       "      <td>...</td>\n",
       "      <td>...</td>\n",
       "    </tr>\n",
       "    <tr>\n",
       "      <th>235780</th>\n",
       "      <td>혼자 사는 사람들</td>\n",
       "      <td>드라마</td>\n",
       "      <td>한국</td>\n",
       "      <td>90분</td>\n",
       "      <td>2021 .05.19 개봉</td>\n",
       "      <td>홍성은</td>\n",
       "      <td>공승연(진아), 정다은(수진)</td>\n",
       "      <td>12세 관람가</td>\n",
       "      <td>집에서도 밖에서도 늘 혼자가 편한 진아.\\n 사람들은 자꾸 말을 걸어오지만, 진아는...</td>\n",
       "      <td>https://movie-phinf.pstatic.net/20210506_173/1...</td>\n",
       "      <td>10</td>\n",
       "      <td>ㅅㅂ 돈도 ㅈ도 안주는데 ㅈ같ㅇ 영화다. 참는것도 한계가있지 갑질하는새끼들은 지출신...</td>\n",
       "      <td>2021.08.22 04:37</td>\n",
       "      <td>naver</td>\n",
       "    </tr>\n",
       "    <tr>\n",
       "      <th>235781</th>\n",
       "      <td>혼자 사는 사람들</td>\n",
       "      <td>드라마</td>\n",
       "      <td>한국</td>\n",
       "      <td>90분</td>\n",
       "      <td>2021 .05.19 개봉</td>\n",
       "      <td>홍성은</td>\n",
       "      <td>공승연(진아), 정다은(수진)</td>\n",
       "      <td>12세 관람가</td>\n",
       "      <td>집에서도 밖에서도 늘 혼자가 편한 진아.\\n 사람들은 자꾸 말을 걸어오지만, 진아는...</td>\n",
       "      <td>https://movie-phinf.pstatic.net/20210506_173/1...</td>\n",
       "      <td>10</td>\n",
       "      <td>바쁜 현대인들 삶과 , 삶에 대해 전하고자 하시는 내용이 너무 잘 표현된거 같다는 ...</td>\n",
       "      <td>2021.08.22 03:30</td>\n",
       "      <td>naver</td>\n",
       "    </tr>\n",
       "    <tr>\n",
       "      <th>235782</th>\n",
       "      <td>혼자 사는 사람들</td>\n",
       "      <td>드라마</td>\n",
       "      <td>한국</td>\n",
       "      <td>90분</td>\n",
       "      <td>2021 .05.19 개봉</td>\n",
       "      <td>홍성은</td>\n",
       "      <td>공승연(진아), 정다은(수진)</td>\n",
       "      <td>12세 관람가</td>\n",
       "      <td>집에서도 밖에서도 늘 혼자가 편한 진아.\\n 사람들은 자꾸 말을 걸어오지만, 진아는...</td>\n",
       "      <td>https://movie-phinf.pstatic.net/20210506_173/1...</td>\n",
       "      <td>7</td>\n",
       "      <td>지독하게 현실감이 넘쳐서 영화 같지가 않았다.그리고 진아가 누굴까 하고 검색했는데 ...</td>\n",
       "      <td>2021.08.22 02:51</td>\n",
       "      <td>naver</td>\n",
       "    </tr>\n",
       "    <tr>\n",
       "      <th>235783</th>\n",
       "      <td>혼자 사는 사람들</td>\n",
       "      <td>드라마</td>\n",
       "      <td>한국</td>\n",
       "      <td>90분</td>\n",
       "      <td>2021 .05.19 개봉</td>\n",
       "      <td>홍성은</td>\n",
       "      <td>공승연(진아), 정다은(수진)</td>\n",
       "      <td>12세 관람가</td>\n",
       "      <td>집에서도 밖에서도 늘 혼자가 편한 진아.\\n 사람들은 자꾸 말을 걸어오지만, 진아는...</td>\n",
       "      <td>https://movie-phinf.pstatic.net/20210506_173/1...</td>\n",
       "      <td>10</td>\n",
       "      <td>두렵고 무서운 영화에요</td>\n",
       "      <td>2021.08.22 02:41</td>\n",
       "      <td>naver</td>\n",
       "    </tr>\n",
       "    <tr>\n",
       "      <th>235784</th>\n",
       "      <td>혼자 사는 사람들</td>\n",
       "      <td>드라마</td>\n",
       "      <td>한국</td>\n",
       "      <td>90분</td>\n",
       "      <td>2021 .05.19 개봉</td>\n",
       "      <td>홍성은</td>\n",
       "      <td>공승연(진아), 정다은(수진)</td>\n",
       "      <td>12세 관람가</td>\n",
       "      <td>집에서도 밖에서도 늘 혼자가 편한 진아.\\n 사람들은 자꾸 말을 걸어오지만, 진아는...</td>\n",
       "      <td>https://movie-phinf.pstatic.net/20210506_173/1...</td>\n",
       "      <td>10</td>\n",
       "      <td>혼자이지만 혼자일수 없는 사람들</td>\n",
       "      <td>2021.08.22 02:16</td>\n",
       "      <td>naver</td>\n",
       "    </tr>\n",
       "  </tbody>\n",
       "</table>\n",
       "<p>235785 rows × 14 columns</p>\n",
       "</div>"
      ],
      "text/plain": [
       "            title genre nation running_time    release_date director  \\\n",
       "0          0.0MHz    공포     한국         102분  2019 .05.29 개봉      유선동   \n",
       "1          0.0MHz    공포     한국         102분  2019 .05.29 개봉      유선동   \n",
       "2          0.0MHz    공포     한국         102분  2019 .05.29 개봉      유선동   \n",
       "3          0.0MHz    공포     한국         102분  2019 .05.29 개봉      유선동   \n",
       "4          0.0MHz    공포     한국         102분  2019 .05.29 개봉      유선동   \n",
       "...           ...   ...    ...          ...             ...      ...   \n",
       "235780  혼자 사는 사람들   드라마     한국          90분  2021 .05.19 개봉      홍성은   \n",
       "235781  혼자 사는 사람들   드라마     한국          90분  2021 .05.19 개봉      홍성은   \n",
       "235782  혼자 사는 사람들   드라마     한국          90분  2021 .05.19 개봉      홍성은   \n",
       "235783  혼자 사는 사람들   드라마     한국          90분  2021 .05.19 개봉      홍성은   \n",
       "235784  혼자 사는 사람들   드라마     한국          90분  2021 .05.19 개봉      홍성은   \n",
       "\n",
       "                            actor    grade  \\\n",
       "0       정은지(소희), 이성열(상엽), 최윤영(윤정)  15세 관람가   \n",
       "1       정은지(소희), 이성열(상엽), 최윤영(윤정)  15세 관람가   \n",
       "2       정은지(소희), 이성열(상엽), 최윤영(윤정)  15세 관람가   \n",
       "3       정은지(소희), 이성열(상엽), 최윤영(윤정)  15세 관람가   \n",
       "4       정은지(소희), 이성열(상엽), 최윤영(윤정)  15세 관람가   \n",
       "...                           ...      ...   \n",
       "235780           공승연(진아), 정다은(수진)  12세 관람가   \n",
       "235781           공승연(진아), 정다은(수진)  12세 관람가   \n",
       "235782           공승연(진아), 정다은(수진)  12세 관람가   \n",
       "235783           공승연(진아), 정다은(수진)  12세 관람가   \n",
       "235784           공승연(진아), 정다은(수진)  12세 관람가   \n",
       "\n",
       "                                                  summary  \\\n",
       "0       에디슨의 마지막 발명품, 유령 탐지기?\\n “증명할 수 없는 미스터리란 없다”\\n ...   \n",
       "1       에디슨의 마지막 발명품, 유령 탐지기?\\n “증명할 수 없는 미스터리란 없다”\\n ...   \n",
       "2       에디슨의 마지막 발명품, 유령 탐지기?\\n “증명할 수 없는 미스터리란 없다”\\n ...   \n",
       "3       에디슨의 마지막 발명품, 유령 탐지기?\\n “증명할 수 없는 미스터리란 없다”\\n ...   \n",
       "4       에디슨의 마지막 발명품, 유령 탐지기?\\n “증명할 수 없는 미스터리란 없다”\\n ...   \n",
       "...                                                   ...   \n",
       "235780  집에서도 밖에서도 늘 혼자가 편한 진아.\\n 사람들은 자꾸 말을 걸어오지만, 진아는...   \n",
       "235781  집에서도 밖에서도 늘 혼자가 편한 진아.\\n 사람들은 자꾸 말을 걸어오지만, 진아는...   \n",
       "235782  집에서도 밖에서도 늘 혼자가 편한 진아.\\n 사람들은 자꾸 말을 걸어오지만, 진아는...   \n",
       "235783  집에서도 밖에서도 늘 혼자가 편한 진아.\\n 사람들은 자꾸 말을 걸어오지만, 진아는...   \n",
       "235784  집에서도 밖에서도 늘 혼자가 편한 진아.\\n 사람들은 자꾸 말을 걸어오지만, 진아는...   \n",
       "\n",
       "                                                   poster  score  \\\n",
       "0       https://movie-phinf.pstatic.net/20190517_285/1...      1   \n",
       "1       https://movie-phinf.pstatic.net/20190517_285/1...     10   \n",
       "2       https://movie-phinf.pstatic.net/20190517_285/1...      2   \n",
       "3       https://movie-phinf.pstatic.net/20190517_285/1...     10   \n",
       "4       https://movie-phinf.pstatic.net/20190517_285/1...      6   \n",
       "...                                                   ...    ...   \n",
       "235780  https://movie-phinf.pstatic.net/20210506_173/1...     10   \n",
       "235781  https://movie-phinf.pstatic.net/20210506_173/1...     10   \n",
       "235782  https://movie-phinf.pstatic.net/20210506_173/1...      7   \n",
       "235783  https://movie-phinf.pstatic.net/20210506_173/1...     10   \n",
       "235784  https://movie-phinf.pstatic.net/20210506_173/1...     10   \n",
       "\n",
       "                                                  content        write_date  \\\n",
       "0       와 정말 무서운집 수준의 공포영화가 한국에 다시 나왔네요. 꼭 보러 가세요.착석하신...  2019.05.29 13:30   \n",
       "1          내용 구성이나 연출, cg는 저예산 영화 정도의 수준이었지만 정은지가 연기를 잘한다  2019.05.29 10:58   \n",
       "2       상엽이 형은 어쩌다가 어릴때 죽었는지 다리 피흘리는 여고생 연관있을줄 알았는데 연관...  2019.05.29 20:15   \n",
       "3                                            정은지 연기 소름...  2019.05.29 12:21   \n",
       "4       일단 정은지는 완전 합격점. 최윤영도 좋았다. 여배우 둘 빼면 에휴...게다가 초반...  2019.05.29 11:34   \n",
       "...                                                   ...               ...   \n",
       "235780  ㅅㅂ 돈도 ㅈ도 안주는데 ㅈ같ㅇ 영화다. 참는것도 한계가있지 갑질하는새끼들은 지출신...  2021.08.22 04:37   \n",
       "235781  바쁜 현대인들 삶과 , 삶에 대해 전하고자 하시는 내용이 너무 잘 표현된거 같다는 ...  2021.08.22 03:30   \n",
       "235782  지독하게 현실감이 넘쳐서 영화 같지가 않았다.그리고 진아가 누굴까 하고 검색했는데 ...  2021.08.22 02:51   \n",
       "235783                                       두렵고 무서운 영화에요  2021.08.22 02:41   \n",
       "235784                                  혼자이지만 혼자일수 없는 사람들  2021.08.22 02:16   \n",
       "\n",
       "       source_site  \n",
       "0            naver  \n",
       "1            naver  \n",
       "2            naver  \n",
       "3            naver  \n",
       "4            naver  \n",
       "...            ...  \n",
       "235780       naver  \n",
       "235781       naver  \n",
       "235782       naver  \n",
       "235783       naver  \n",
       "235784       naver  \n",
       "\n",
       "[235785 rows x 14 columns]"
      ]
     },
     "execution_count": 50,
     "metadata": {},
     "output_type": "execute_result"
    }
   ],
   "source": [
    "movie_alldrop"
   ]
  },
  {
   "cell_type": "markdown",
   "id": "9667dfd6",
   "metadata": {
    "ExecuteTime": {
     "end_time": "2021-10-12T17:21:59.894705Z",
     "start_time": "2021-10-12T17:21:56.323192Z"
    }
   },
   "source": [
    "# 영화 장르 정리\n",
    "movie['genre'].unique()\n",
    "* 공포\n",
    "* 멜로/로맨스\n",
    "* 드라마\n",
    "* 범죄\n",
    "* 가족\n",
    "* 코미디\n",
    "* 액션\n",
    "* 스릴러\n",
    "* 애니메이션\n",
    "* 모험\n",
    "* 미스터리\n",
    "* SF\n",
    "* 전쟁\n",
    "* 판타지\n",
    "* 서스펜스\n",
    "* 뮤지컬\n",
    "* 블랙코미디"
   ]
  },
  {
   "cell_type": "code",
   "execution_count": null,
   "id": "03a05653",
   "metadata": {},
   "outputs": [],
   "source": []
  },
  {
   "cell_type": "markdown",
   "id": "3ba3e261",
   "metadata": {},
   "source": [
    "# 불용어 설정"
   ]
  },
  {
   "cell_type": "markdown",
   "id": "08b55af2",
   "metadata": {},
   "source": [
    "* 한국불용어 100 + 영화, '진짜', '많이', '정말', '그냥', '그', '애', '생각', '완전', '편','내용','중간', '꼭','편','상미', '모두' , '거', \n",
    "https://bab2min.tistory.com/544#google_vignette"
   ]
  },
  {
   "cell_type": "code",
   "execution_count": 61,
   "id": "f40c436b",
   "metadata": {
    "ExecuteTime": {
     "end_time": "2021-10-12T18:02:19.009731Z",
     "start_time": "2021-10-12T18:02:18.989738Z"
    }
   },
   "outputs": [
    {
     "data": {
      "text/plain": [
       "124"
      ]
     },
     "execution_count": 61,
     "metadata": {},
     "output_type": "execute_result"
    }
   ],
   "source": [
    "len(stop_words)"
   ]
  },
  {
   "cell_type": "code",
   "execution_count": 60,
   "id": "4f1398fb",
   "metadata": {
    "ExecuteTime": {
     "end_time": "2021-10-12T18:02:05.218399Z",
     "start_time": "2021-10-12T18:02:05.214400Z"
    }
   },
   "outputs": [],
   "source": [
    "stop_words = list(set(stop_words))"
   ]
  },
  {
   "cell_type": "code",
   "execution_count": 57,
   "id": "62a98dea",
   "metadata": {
    "ExecuteTime": {
     "end_time": "2021-10-12T18:00:41.913473Z",
     "start_time": "2021-10-12T18:00:41.900473Z"
    }
   },
   "outputs": [],
   "source": [
    "stop_words= ['또','영화','분','꼭', '하', '받', '않', '말', '알','진짜', '많이', '정말', '그냥', '그', '애', '생각', '완전', '편','내용',\n",
    "             '중간', '꼭','편','상미', '모두' , '거', \n",
    " '더', '가', '뭐', '그렇', '말하', '중', '때', '되', '암', '보', '있', '개', '볼','일',\n",
    "             '안','진짜', '듯', '위하', '대하', '년', '쫌', '위', '없', '주', '같', '나', '정말',\n",
    " '지', '걸', '못','좀', '그', '왜','때문', '임', '게', '것', '의', '사람', '이','대한',\n",
    "             '수','이','있','하','것','들','그','되','수','보','않','나','사람','주','아니',\n",
    "             '등',\n",
    "             '같','우리','때','년','가','한','지','대하','오','말','일','그렇','위하','때문',\n",
    "             '그것','두','말하','알','그러나','그런데','그래도','그래서','받','못하','일',\n",
    "             '그런','또','문제','더','사회','많','좋','크','중','나오','가지','씨','시키',\n",
    "             '만들','지금','생각하','그러','속','하나','집','살','모르','적','월','데','자신',\n",
    "             '안','어떤','내','경우','명','생각','시간','그녀','다시','이런','앞','보이','번',\n",
    "             '나','다른','어떻','여자','남자','개','전','들','사실','이렇','점','싶','말','정도',\n",
    "             '좀','원','잘','통하','소리','놓','영화','진짜', '많이', '정말', '그냥', '그', '애',\n",
    "             '생각', '완전', '편','내용','중간', '꼭','편','상미', '모두' , '거']\n"
   ]
  },
  {
   "cell_type": "markdown",
   "id": "b871e8cb",
   "metadata": {},
   "source": [
    "---"
   ]
  },
  {
   "cell_type": "markdown",
   "id": "b7a77ef9",
   "metadata": {},
   "source": [
    "# 장르 통합 리뷰"
   ]
  },
  {
   "cell_type": "code",
   "execution_count": 91,
   "id": "b6a65a3c",
   "metadata": {
    "ExecuteTime": {
     "end_time": "2021-10-12T19:23:02.247116Z",
     "start_time": "2021-10-12T19:22:20.442134Z"
    },
    "scrolled": true
   },
   "outputs": [
    {
     "data": {
      "application/vnd.jupyter.widget-view+json": {
       "model_id": "6473c0e850f743b989fd72750825fcfc",
       "version_major": 2,
       "version_minor": 0
      },
      "text/plain": [
       "  0%|          | 0/235785 [00:00<?, ?it/s]"
      ]
     },
     "metadata": {},
     "output_type": "display_data"
    }
   ],
   "source": [
    "allcontent = []\n",
    "for words in tqdm(movie_alldrop['content']):\n",
    "    # word_tokenize을 통해서 Tokenizer를 진행해줍니다. \n",
    "    word_tokens = word_tokenize(words)\n",
    "    # re.sub('[^a-z0-9]+', ' ', str(word_tokens)) 명령어를 통해서 특수문자를 모두 제거해줍니다. \n",
    "    sentence = re.sub('[^A-Za-z0-9]+', ' ', str(word_tokens))\n",
    "    # 양끝에 존재하는 공백을 제거해줍니다. \n",
    "    sentence = sentence.strip()\n",
    "\n",
    "    # 문장의 Tokenizer를 진행해줍니다. \n",
    "    sentence_tokens = word_tokenize(sentence)\n",
    "    result = ''\n",
    "    for token in sentence_tokens: \n",
    "        if token not in stop_words:\n",
    "            result += ' ' + token \n",
    "    result = result.strip().lower()\n",
    "    allcontent.append(result)"
   ]
  },
  {
   "cell_type": "code",
   "execution_count": 92,
   "id": "3e3eacca",
   "metadata": {
    "ExecuteTime": {
     "end_time": "2021-10-12T19:24:03.564817Z",
     "start_time": "2021-10-12T19:24:03.547138Z"
    }
   },
   "outputs": [],
   "source": [
    "movie_alldrop['pre_content'] = allcontent"
   ]
  },
  {
   "cell_type": "code",
   "execution_count": 93,
   "id": "78d7c1df",
   "metadata": {
    "ExecuteTime": {
     "end_time": "2021-10-12T19:24:54.732266Z",
     "start_time": "2021-10-12T19:24:53.451562Z"
    }
   },
   "outputs": [],
   "source": [
    "from collections import namedtuple\n",
    "\n",
    "# Doc2Vec 입력형태를 맞춰줍니다. \n",
    "# TaggedDocument 형태로 ('영화 내용', '제목') 을 받습니다. \n",
    "## 이후, TaggedDocument에 모든 문서에 대해서 '영화 내용', '제목'을 넣어줍니다. \n",
    "agg = movie_alldrop[['title', 'pre_content']]\n",
    "TaggedDocument = namedtuple('TaggedDocument', 'words tags')\n",
    "tagged_train_docs = [TaggedDocument((c), [d]) for d, c in agg[['title', 'pre_content']].values]"
   ]
  },
  {
   "cell_type": "code",
   "execution_count": 95,
   "id": "979bb2a8",
   "metadata": {
    "ExecuteTime": {
     "end_time": "2021-10-12T19:26:44.778113Z",
     "start_time": "2021-10-12T19:26:44.758117Z"
    }
   },
   "outputs": [],
   "source": [
    "doc_vectorizer = doc2vec.Doc2Vec(\n",
    "    dm=1,            # PV-DBOW / default 1\n",
    "    #dbow_words=1,    # w2v simultaneous with DBOW d2v / default 0\n",
    "    window=10,        # distance between the predicted word and context words\n",
    "    vector_size=300,        # vector size\n",
    "    alpha=0.025,     # learning-rate\n",
    "    seed=1234,\n",
    "    #min_count=5,    # ignore with freq lower\n",
    "    min_alpha=0.025, # min learning-rate\n",
    "    #workers=4,   # multi cpu\n",
    "    #hs = 1,          # hierar chical softmax / default 0\n",
    "    negative = 5   # negative sampling / default 5\n",
    ")"
   ]
  },
  {
   "cell_type": "code",
   "execution_count": 96,
   "id": "210b5583",
   "metadata": {
    "ExecuteTime": {
     "end_time": "2021-10-12T19:27:02.333536Z",
     "start_time": "2021-10-12T19:27:02.038074Z"
    }
   },
   "outputs": [
    {
     "name": "stdout",
     "output_type": "stream",
     "text": [
      "Doc2Vec(dm/m,d300,n5,w10,mc5,s0.001,t3)\n"
     ]
    }
   ],
   "source": [
    "# 위에서 만든 tagged_train_docs으로 사전을 만들어줍니다. \n",
    "doc_vectorizer.build_vocab(tagged_train_docs)\n",
    "print(str(doc_vectorizer))"
   ]
  },
  {
   "cell_type": "code",
   "execution_count": 97,
   "id": "ead6e1a2",
   "metadata": {
    "ExecuteTime": {
     "end_time": "2021-10-12T19:27:29.399460Z",
     "start_time": "2021-10-12T19:27:29.379490Z"
    }
   },
   "outputs": [],
   "source": [
    "# To save\n",
    "doc_vectorizer.save('doc2vec_all.model')"
   ]
  },
  {
   "cell_type": "code",
   "execution_count": 98,
   "id": "9e96f262",
   "metadata": {
    "ExecuteTime": {
     "end_time": "2021-10-12T21:54:58.622908Z",
     "start_time": "2021-10-12T19:27:52.039519Z"
    }
   },
   "outputs": [
    {
     "data": {
      "application/vnd.jupyter.widget-view+json": {
       "model_id": "0a1d5c5514d140338360a3ed021dfd4f",
       "version_major": 2,
       "version_minor": 0
      },
      "text/plain": [
       "  0%|          | 0/30 [00:00<?, ?it/s]"
      ]
     },
     "metadata": {},
     "output_type": "display_data"
    },
    {
     "name": "stdout",
     "output_type": "stream",
     "text": [
      "During Time: 8826.567391395569\n"
     ]
    }
   ],
   "source": [
    "# 벡터 문서 학습\n",
    "from time import time\n",
    "\n",
    "start = time()\n",
    "\n",
    "for epoch in tqdm(range(30)):\n",
    "    # Doc2Vec 학습을 진행하는데 Learning rate를 계속 감소해주면서 학습을 진행해줍니다. \n",
    "    doc_vectorizer.train(tagged_train_docs, total_examples=doc_vectorizer.corpus_count, epochs=30)\n",
    "    doc_vectorizer.alpha -= 0.002 # decrease the learning rate\n",
    "    doc_vectorizer.min_alpha = doc_vectorizer.alpha # fix the learning rate, no decay\n",
    "\n",
    "end = time()\n",
    "print(\"During Time: {}\".format(end-start))"
   ]
  },
  {
   "cell_type": "code",
   "execution_count": 102,
   "id": "1d50b7e4",
   "metadata": {
    "ExecuteTime": {
     "end_time": "2021-10-13T01:15:08.838503Z",
     "start_time": "2021-10-13T01:15:08.769642Z"
    }
   },
   "outputs": [
    {
     "data": {
      "text/plain": [
       "[('프린세스 에미: 마법 책의 비밀', 0.6510905027389526),\n",
       " ('대환장파티', 0.6344231367111206),\n",
       " ('맨슨 패밀리', 0.6096524000167847),\n",
       " ('내 완벽한 남사친의 비밀', 0.6074991822242737),\n",
       " ('프리즌 브레이커스', 0.5989813804626465),\n",
       " ('영화로운 나날', 0.5903171896934509),\n",
       " ('보르도 우정여행', 0.5771888494491577),\n",
       " ('파이널리스트', 0.5678276419639587),\n",
       " ('프론테라스', 0.562434732913971),\n",
       " ('7월7일', 0.5503718256950378),\n",
       " ('체크 히어로', 0.5486385822296143),\n",
       " ('슈퍼문', 0.5434455275535583),\n",
       " ('더 배니싱', 0.5404161214828491),\n",
       " ('고골: 악령과의 전쟁', 0.5395044684410095),\n",
       " ('O.J. 심슨 사건 파일', 0.5385341048240662),\n",
       " ('구르는 수레바퀴', 0.5361682772636414),\n",
       " ('초대녀 2', 0.5360038876533508),\n",
       " ('그리고 우린 춤을 추었다', 0.535868227481842),\n",
       " ('기묘한 이야기: 리플레이', 0.5341373682022095),\n",
       " ('얼굴들', 0.5340752601623535)]"
      ]
     },
     "execution_count": 102,
     "metadata": {},
     "output_type": "execute_result"
    }
   ],
   "source": [
    "doc_vectorizer.docvecs.most_similar('기생충', topn=20)"
   ]
  },
  {
   "cell_type": "code",
   "execution_count": 106,
   "id": "e539bb89",
   "metadata": {
    "ExecuteTime": {
     "end_time": "2021-10-13T01:16:25.709132Z",
     "start_time": "2021-10-13T01:16:25.688227Z"
    }
   },
   "outputs": [
    {
     "data": {
      "text/plain": [
       "[('그것: 두 번째 이야기', 0.576075553894043),\n",
       " ('트롤: 월드 투어', 0.5725052952766418),\n",
       " ('스웨그', 0.5673669576644897),\n",
       " ('초미의 관심사', 0.5517657995223999),\n",
       " ('컨저링 3: 악마가 시켰다', 0.5465413331985474),\n",
       " ('닥터 두리틀', 0.5164274573326111),\n",
       " ('범털2 : 쩐의 전쟁', 0.513810396194458),\n",
       " ('겨울왕국 2', 0.509134829044342),\n",
       " ('콰이어트 플레이스 2', 0.501354992389679),\n",
       " ('데드풀2: 순한 맛', 0.4988044798374176),\n",
       " ('오시로가의 비밀', 0.49445825815200806),\n",
       " ('날씨의 아이', 0.49288317561149597),\n",
       " ('극장판 짱구는 못말려: 격돌! 낙서왕국과 얼추 네 명의 용사들', 0.4908711314201355),\n",
       " ('걸후드', 0.4896414875984192),\n",
       " ('나의 흑역사 로맨티카', 0.48686811327934265),\n",
       " ('메모리즈', 0.4853954613208771),\n",
       " ('스네이크 아이즈: 지.아이.조', 0.48079225420951843),\n",
       " ('피닉스', 0.47633570432662964),\n",
       " ('완벽한 그녀의 비밀', 0.4735615849494934),\n",
       " ('신의 한 수: 귀수편', 0.47197017073631287)]"
      ]
     },
     "execution_count": 106,
     "metadata": {},
     "output_type": "execute_result"
    }
   ],
   "source": [
    "doc_vectorizer.docvecs.most_similar('보스 베이비 2', topn=20)"
   ]
  },
  {
   "cell_type": "markdown",
   "id": "d62b232e",
   "metadata": {},
   "source": [
    "---"
   ]
  },
  {
   "cell_type": "markdown",
   "id": "98e736b1",
   "metadata": {},
   "source": [
    "# 장르 : 공포\n",
    "\n",
    "## → 장르가 공포를 포함하는 모든 영화\n",
    "## 공포'만' 해당X"
   ]
  },
  {
   "cell_type": "code",
   "execution_count": 64,
   "id": "f3b1103b",
   "metadata": {
    "ExecuteTime": {
     "end_time": "2021-10-12T18:25:24.392374Z",
     "start_time": "2021-10-12T18:25:24.214355Z"
    }
   },
   "outputs": [],
   "source": [
    "horror = movie_alldrop[movie_alldrop['genre'].str.contains('공포')].reset_index(drop=True)"
   ]
  },
  {
   "cell_type": "code",
   "execution_count": null,
   "id": "4947d244",
   "metadata": {},
   "outputs": [],
   "source": [
    "from gensim.models import doc2vec\n",
    "# 사전 구축\n",
    "doc_vectorizer = doc2vec.Doc2Vec(size=300, alpha=0.025, min_alpha=0.025, seed=1234)\n",
    "doc_vectorizer.build_vocab(tagged_train_docs)"
   ]
  },
  {
   "cell_type": "code",
   "execution_count": 62,
   "id": "3e1ba8b1",
   "metadata": {
    "ExecuteTime": {
     "end_time": "2021-10-12T18:22:25.573016Z",
     "start_time": "2021-10-12T18:22:25.555919Z"
    }
   },
   "outputs": [],
   "source": [
    "from gensim.models import doc2vec"
   ]
  },
  {
   "cell_type": "code",
   "execution_count": 63,
   "id": "2606152b",
   "metadata": {
    "ExecuteTime": {
     "end_time": "2021-10-12T18:23:55.490126Z",
     "start_time": "2021-10-12T18:23:55.322046Z"
    }
   },
   "outputs": [],
   "source": [
    "from nltk.corpus import stopwords \n",
    "from tqdm.notebook import tqdm\n",
    "from nltk.tokenize import word_tokenize, sent_tokenize"
   ]
  },
  {
   "cell_type": "markdown",
   "id": "7b487f82",
   "metadata": {},
   "source": [
    "---"
   ]
  },
  {
   "cell_type": "markdown",
   "id": "1a37e1e7",
   "metadata": {
    "ExecuteTime": {
     "end_time": "2021-10-12T19:20:55.853802Z",
     "start_time": "2021-10-12T19:20:55.842802Z"
    }
   },
   "source": [
    "# 공포영화만 유사도 측정하기"
   ]
  },
  {
   "cell_type": "code",
   "execution_count": 65,
   "id": "da77900b",
   "metadata": {
    "ExecuteTime": {
     "end_time": "2021-10-12T18:29:59.101993Z",
     "start_time": "2021-10-12T18:29:55.182307Z"
    }
   },
   "outputs": [
    {
     "data": {
      "application/vnd.jupyter.widget-view+json": {
       "model_id": "4b65c72e43a34931afe1455b31a3de14",
       "version_major": 2,
       "version_minor": 0
      },
      "text/plain": [
       "  0%|          | 0/22291 [00:00<?, ?it/s]"
      ]
     },
     "metadata": {},
     "output_type": "display_data"
    }
   ],
   "source": [
    "hcontent = []\n",
    "for words in tqdm(horror['content']):\n",
    "    # word_tokenize을 통해서 Tokenizer를 진행해줍니다. \n",
    "    word_tokens = word_tokenize(words)\n",
    "    # re.sub('[^a-z0-9]+', ' ', str(word_tokens)) 명령어를 통해서 특수문자를 모두 제거해줍니다. \n",
    "    sentence = re.sub('[^A-Za-z0-9]+', ' ', str(word_tokens))\n",
    "    # 양끝에 존재하는 공백을 제거해줍니다. \n",
    "    sentence = sentence.strip()\n",
    "\n",
    "    # 문장의 Tokenizer를 진행해줍니다. \n",
    "    sentence_tokens = word_tokenize(sentence)\n",
    "    result = ''\n",
    "    for token in sentence_tokens: \n",
    "        if token not in stop_words:\n",
    "            result += ' ' + token \n",
    "    result = result.strip().lower()\n",
    "    hcontent.append(result)"
   ]
  },
  {
   "cell_type": "code",
   "execution_count": null,
   "id": "89640983",
   "metadata": {},
   "outputs": [],
   "source": [
    "from gensim.models import doc2vec\n",
    "# 사전 구축\n",
    "doc_vectorizer = doc2vec.Doc2Vec(size=300, alpha=0.025, min_alpha=0.025, seed=1234)\n",
    "doc_vectorizer.build_vocab(tagged_train_docs)"
   ]
  },
  {
   "cell_type": "code",
   "execution_count": 66,
   "id": "75a161ac",
   "metadata": {
    "ExecuteTime": {
     "end_time": "2021-10-12T18:30:20.627817Z",
     "start_time": "2021-10-12T18:30:20.602296Z"
    }
   },
   "outputs": [],
   "source": [
    "horror['pre_content'] = hcontent"
   ]
  },
  {
   "cell_type": "code",
   "execution_count": null,
   "id": "f0eadd5c",
   "metadata": {},
   "outputs": [],
   "source": [
    "## 장르 X\n",
    "## 줄거리 + 리뷰 "
   ]
  },
  {
   "cell_type": "code",
   "execution_count": 67,
   "id": "99b5feca",
   "metadata": {
    "ExecuteTime": {
     "end_time": "2021-10-12T18:47:41.486840Z",
     "start_time": "2021-10-12T18:47:41.447204Z"
    }
   },
   "outputs": [],
   "source": [
    "doc_vectorizer = doc2vec.Doc2Vec(\n",
    "    dm=1,            # PV-DBOW / default 1\n",
    "    #dbow_words=1,    # w2v simultaneous with DBOW d2v / default 0\n",
    "    window=10,        # distance between the predicted word and context words\n",
    "    vector_size=300,        # vector size\n",
    "    alpha=0.025,     # learning-rate\n",
    "    seed=1234,\n",
    "    #min_count=5,    # ignore with freq lower\n",
    "    min_alpha=0.025, # min learning-rate\n",
    "    #workers=4,   # multi cpu\n",
    "    #hs = 1,          # hierar chical softmax / default 0\n",
    "    negative = 5   # negative sampling / default 5\n",
    ")"
   ]
  },
  {
   "cell_type": "code",
   "execution_count": 68,
   "id": "f29b5eca",
   "metadata": {
    "ExecuteTime": {
     "end_time": "2021-10-12T18:48:42.871921Z",
     "start_time": "2021-10-12T18:48:42.762276Z"
    }
   },
   "outputs": [],
   "source": [
    "from collections import namedtuple\n",
    "\n",
    "# Doc2Vec 입력형태를 맞춰줍니다. \n",
    "# TaggedDocument 형태로 ('영화 내용', '제목') 을 받습니다. \n",
    "## 이후, TaggedDocument에 모든 문서에 대해서 '영화 내용', '제목'을 넣어줍니다. \n",
    "agg = horror[['title', 'pre_content']]\n",
    "TaggedDocument = namedtuple('TaggedDocument', 'words tags')\n",
    "tagged_train_docs = [TaggedDocument((c), [d]) for d, c in agg[['title', 'pre_content']].values]"
   ]
  },
  {
   "cell_type": "code",
   "execution_count": 69,
   "id": "6d83e2ef",
   "metadata": {
    "ExecuteTime": {
     "end_time": "2021-10-12T18:48:57.834397Z",
     "start_time": "2021-10-12T18:48:57.774433Z"
    }
   },
   "outputs": [
    {
     "name": "stdout",
     "output_type": "stream",
     "text": [
      "Doc2Vec(dm/m,d300,n5,w10,mc5,s0.001,t3)\n"
     ]
    }
   ],
   "source": [
    "# 위에서 만든 tagged_train_docs으로 사전을 만들어줍니다. \n",
    "doc_vectorizer.build_vocab(tagged_train_docs)\n",
    "print(str(doc_vectorizer))"
   ]
  },
  {
   "cell_type": "code",
   "execution_count": 79,
   "id": "bee68c57",
   "metadata": {
    "ExecuteTime": {
     "end_time": "2021-10-12T19:08:45.144658Z",
     "start_time": "2021-10-12T19:08:45.122102Z"
    }
   },
   "outputs": [],
   "source": [
    "# To save\n",
    "doc_vectorizer.save('doc2vec.model')"
   ]
  },
  {
   "cell_type": "code",
   "execution_count": 75,
   "id": "197d7610",
   "metadata": {
    "ExecuteTime": {
     "end_time": "2021-10-12T19:03:55.323176Z",
     "start_time": "2021-10-12T18:53:49.373163Z"
    },
    "scrolled": false
   },
   "outputs": [
    {
     "data": {
      "application/vnd.jupyter.widget-view+json": {
       "model_id": "ed345c6e5d0c437382a187876cf17e13",
       "version_major": 2,
       "version_minor": 0
      },
      "text/plain": [
       "  0%|          | 0/30 [00:00<?, ?it/s]"
      ]
     },
     "metadata": {},
     "output_type": "display_data"
    },
    {
     "name": "stdout",
     "output_type": "stream",
     "text": [
      "During Time: 605.9310328960419\n"
     ]
    }
   ],
   "source": [
    "# 벡터 문서 학습\n",
    "from time import time\n",
    "\n",
    "start = time()\n",
    "\n",
    "for epoch in tqdm(range(30)):\n",
    "    # Doc2Vec 학습을 진행하는데 Learning rate를 계속 감소해주면서 학습을 진행해줍니다. \n",
    "    doc_vectorizer.train(tagged_train_docs, total_examples=doc_vectorizer.corpus_count, epochs=30)\n",
    "    doc_vectorizer.alpha -= 0.002 # decrease the learning rate\n",
    "    doc_vectorizer.min_alpha = doc_vectorizer.alpha # fix the learning rate, no decay\n",
    "\n",
    "end = time()\n",
    "print(\"During Time: {}\".format(end-start))"
   ]
  },
  {
   "cell_type": "code",
   "execution_count": 76,
   "id": "8f09d669",
   "metadata": {
    "ExecuteTime": {
     "end_time": "2021-10-12T19:04:02.412707Z",
     "start_time": "2021-10-12T19:04:02.386751Z"
    },
    "scrolled": true
   },
   "outputs": [
    {
     "data": {
      "text/plain": [
       "array(['0.0MHz', '47미터 2', '공포의 묘지', '귀신의 향기', '그레이브 하우스', '나이트메어 시네마',\n",
       "       '노크: 낯선 그림자', '늑대의 아이들', '다커 나이트', '닥터 킬러 패밀리', '더 바이 바이 맨',\n",
       "       '더 보이', '더 빌리지', '더 스쿨', '더하우스', '데드 돈 다이', '디 엔드?',\n",
       "       '레드 스프링 아포칼립스', '로드킬', '룩 어웨이', '매리', '매트리악', '맨디', '미드소마',\n",
       "       '미이라 리턴즈', '베스와 베라', '변신', '보어 살인 멧돼지', '사일런스', '사자', '사탄의 인형',\n",
       "       '사탄의 인형: 상속 받은 저주', '살인마 잭의 집', '악령의 캠핑카', '암전',\n",
       "       '애나벨 : 잊혀지지 않는 선율', '애나벨 집으로', '어스', '언데드 인 커밍', '요로나의 저주',\n",
       "       '위치 오브 하우스', '이스케이프 룸', '인면어: 저주의 시작', '좀비 : 죽은 자들의 도시',\n",
       "       '좀비랜드: 더블 탭', '카르마', '카리스마타 살인', '카메라를 멈추면 안 돼! 스핀오프 : 할리우드 대작전',\n",
       "       '카운트다운', '캐빈 오브 더 컨저링', '컨벤트', '크로우 라이징', '파라노말 액티비티 2019',\n",
       "       '파이와켓: 죽음의 주문', '폐교', '폴라로이드', '프로디지', '해피 데스데이 2 유', '헌팅 오브 힐하우스',\n",
       "       '검은 사제들: 지옥의 문', '겟 아웃 얼라이브', '고스트 오브 워', '그곳', '그집', '기기괴괴 성형수',\n",
       "       '기묘한 이야기: 리플레이', '나이트메어 라디오', '나이트메어 서커스', '나치 오버로드', '뉴 뮤턴트',\n",
       "       '더 렌탈: 소리없는 감시자', '더 보이 2: 돌아온 브람스', '더 터닝', '데빌 인사이드 미', '돈 스피크',\n",
       "       '디어스킨', '라비드', '런 런 런', '레벨 16', '맨슨 패밀리', '머시블랙: 저주 받은 아이',\n",
       "       '메가 블리자드', '목격자 : 눈이 없는 아이', '반교: 디텐션', '블러드: 궁금한 이야기',\n",
       "       '사냥의 시간: 데스 게임', '사스콰치: 거인 괴물', '세인트 아가타', '스케어리 스토리: 어둠의 속삭임',\n",
       "       '시라이', '시체들의 새벽', '시체들의 새벽: 컨테이젼', '싸이코: 13번째 희생자', '씨 피버',\n",
       "       '악마의 오후', '악몽', '악플러 죽이기', '얼티밋 배틀', '엑소시즘 : 잠들지 못하는 시간',\n",
       "       '엑소시즘: 귀신과의 대화', '엠티맨', '오픈 더 도어', '온다', '올 머스트 다이',\n",
       "       '요가학원:죽음의쿤달리니', '위 섬온 더 다크니스', '위자 악마소환게임', '위자 크래프트', '이블데드 2020',\n",
       "       '이제 그만 끝낼까 해', '인 더 다크: 악령의 부활', '인비저블맨', '자매의 공동묘지', '좀비파이터',\n",
       "       '죽이는 여자', '컬트 걸', '컴 투 대디 : 30년만의 재회', '코벤', '프리키 데스데이',\n",
       "       '할로윈: 살인마 잭', '해피 데스데이: 악마의 큐피드', '헌트', '헌티드 파크', 'CCTV',\n",
       "       '고스트 킬러 vs 블러디 메리', '괴기맨숀', '귀문', '귀신', '나만 보이니', '나이트 언데드',\n",
       "       '다크 앤드 위키드', '더 그레이트 샤크', '더 나이트', '더 드라이버', '더 레치드: 악령의 저주',\n",
       "       '더 배니싱', '더 퍼지: 포에버', '데빌스 나이트', '데스 숏컷', '데스 오브 미', '랑종', '리틀 조',\n",
       "       '링: 더 라스트 챕터', '마네킹', '맨 인 더 다크 2', '모추어리 컬렉션', '바이러스 Z: 백신 대참사',\n",
       "       '배드 헤어', '사라져버린', '사운드 오브 데스', '사일런싱', '살인 매뉴얼', '쇼미더고스트',\n",
       "       '숲의 비명 : 사라진 사람들', '스마일 페이스 킬러', '스쿨 아웃 포에버', '신 강시선생',\n",
       "       '실종: 사라진 사람들', '썰', '아이 씨 유', '여고괴담 여섯번째 이야기 : 모교', '올드', '완벽한 손님',\n",
       "       '이스케이프 룸 2: 노 웨이 아웃', '이스케이프 큐브', '존 도우', '최면', '캔디맨', '커넥트',\n",
       "       '컨저링 3: 악마가 시켰다', '컨저링: 귀신의 집', '클리닝 레이디', '피어 오브 레인', '피어썸',\n",
       "       '호스트: 접속금지'], dtype=object)"
      ]
     },
     "execution_count": 76,
     "metadata": {},
     "output_type": "execute_result"
    }
   ],
   "source": [
    "horror['title'].unique()"
   ]
  },
  {
   "cell_type": "code",
   "execution_count": 83,
   "id": "de5949c6",
   "metadata": {
    "ExecuteTime": {
     "end_time": "2021-10-12T19:13:18.864844Z",
     "start_time": "2021-10-12T19:13:18.848325Z"
    }
   },
   "outputs": [
    {
     "data": {
      "text/plain": [
       "[('인면어: 저주의 시작', 0.5635553002357483), ('세인트 아가타', 0.5156008005142212), ('자매의 공동묘지', 0.4939689338207245), ('매트리악', 0.4887956976890564), ('맨디', 0.48686933517456055), ('링: 더 라스트 챕터', 0.46589788794517517), ('데빌 인사이드 미', 0.46528691053390503), ('더 스쿨', 0.46294263005256653), ('레드 스프링 아포칼립스', 0.46280795335769653), ('헌티드 파크', 0.46124446392059326), ('돈 스피크', 0.45582059025764465), ('존 도우', 0.4442197382450104), ('목격자 : 눈이 없는 아이', 0.4434628486633301), ('더 나이트', 0.44225889444351196), ('악플러 죽이기', 0.44203585386276245), ('실종: 사라진 사람들', 0.42329758405685425), ('요가학원:죽음의쿤달리니', 0.42286810278892517), ('악령의 캠핑카', 0.41867345571517944), ('런 런 런', 0.41380488872528076), ('피어썸', 0.40190389752388)]"
      ]
     },
     "execution_count": 83,
     "metadata": {},
     "output_type": "execute_result"
    }
   ],
   "source": [
    "doc_vectorizer.docvecs.most_similar(positive=['컨저링: 귀신의 집', '공포의 묘지'], negative=['47미터 2'], topn=20)"
   ]
  },
  {
   "cell_type": "code",
   "execution_count": 78,
   "id": "e0b8a2b5",
   "metadata": {
    "ExecuteTime": {
     "end_time": "2021-10-12T19:06:04.623222Z",
     "start_time": "2021-10-12T19:06:04.615219Z"
    }
   },
   "outputs": [
    {
     "data": {
      "text/plain": [
       "[('아이 씨 유', 0.650468647480011),\n",
       " ('실종: 사라진 사람들', 0.6181316375732422),\n",
       " ('카르마', 0.6146055459976196),\n",
       " ('그곳', 0.6142624020576477),\n",
       " ('애나벨 : 잊혀지지 않는 선율', 0.6089791059494019),\n",
       " ('컬트 걸', 0.6086001396179199),\n",
       " ('캐빈 오브 더 컨저링', 0.6045429110527039),\n",
       " ('신 강시선생', 0.6001917719841003),\n",
       " ('해피 데스데이 2 유', 0.5811768770217896),\n",
       " ('피어 오브 레인', 0.5806698203086853),\n",
       " ('더 배니싱', 0.5653866529464722),\n",
       " ('47미터 2', 0.5523381233215332),\n",
       " ('위자 크래프트', 0.5474677681922913),\n",
       " ('파라노말 액티비티 2019', 0.5408865213394165),\n",
       " ('살인 매뉴얼', 0.5378244519233704),\n",
       " ('크로우 라이징', 0.5057649612426758),\n",
       " ('리틀 조', 0.5034528374671936),\n",
       " ('더 빌리지', 0.4987199902534485),\n",
       " ('닥터 킬러 패밀리', 0.4970897138118744),\n",
       " ('고스트 오브 워', 0.4949326515197754)]"
      ]
     },
     "execution_count": 78,
     "metadata": {},
     "output_type": "execute_result"
    }
   ],
   "source": [
    "doc_vectorizer.docvecs.most_similar('컨저링 3: 악마가 시켰다', topn=20)"
   ]
  },
  {
   "cell_type": "code",
   "execution_count": 89,
   "id": "cd697d0a",
   "metadata": {
    "ExecuteTime": {
     "end_time": "2021-10-12T19:17:39.164938Z",
     "start_time": "2021-10-12T19:17:39.144965Z"
    }
   },
   "outputs": [
    {
     "data": {
      "text/plain": [
       "[('블러드: 궁금한 이야기', 0.9891312122344971),\n",
       " ('캐빈 오브 더 컨저링', 0.8981232643127441),\n",
       " ('리틀 조', 0.863559365272522),\n",
       " ('기묘한 이야기: 리플레이', 0.8523256182670593),\n",
       " ('카르마', 0.8510911464691162),\n",
       " ('애나벨 : 잊혀지지 않는 선율', 0.8502852916717529),\n",
       " ('맨슨 패밀리', 0.8493539094924927),\n",
       " ('그곳', 0.8033229112625122),\n",
       " ('아이 씨 유', 0.7965874671936035),\n",
       " ('신 강시선생', 0.7965527176856995),\n",
       " ('더 배니싱', 0.7948595285415649),\n",
       " ('더 빌리지', 0.7891238927841187),\n",
       " ('피어 오브 레인', 0.7856281995773315),\n",
       " ('위자 크래프트', 0.7809276580810547),\n",
       " ('살인 매뉴얼', 0.7757599353790283),\n",
       " ('크로우 라이징', 0.7675133943557739),\n",
       " ('나이트메어 서커스', 0.7662829160690308),\n",
       " ('사라져버린', 0.7643951773643494),\n",
       " ('닥터 킬러 패밀리', 0.7599900364875793),\n",
       " ('컬트 걸', 0.757792055606842)]"
      ]
     },
     "execution_count": 89,
     "metadata": {},
     "output_type": "execute_result"
    }
   ],
   "source": [
    "doc_vectorizer.docvecs.most_similar('파라노말 액티비티 2019', topn=20)"
   ]
  },
  {
   "cell_type": "code",
   "execution_count": null,
   "id": "cabf33e3",
   "metadata": {},
   "outputs": [],
   "source": []
  }
 ],
 "metadata": {
  "hide_input": false,
  "interpreter": {
   "hash": "31f2aee4e71d21fbe5cf8b01ff0e069b9275f58929596ceb00d14d90e3e16cd6"
  },
  "kernelspec": {
   "display_name": "Python 3.8.10 64-bit",
   "name": "python3"
  },
  "language_info": {
   "codemirror_mode": {
    "name": "ipython",
    "version": 3
   },
   "file_extension": ".py",
   "mimetype": "text/x-python",
   "name": "python",
   "nbconvert_exporter": "python",
   "pygments_lexer": "ipython3",
   "version": "3.8.10"
  },
  "toc": {
   "base_numbering": 1,
   "nav_menu": {},
   "number_sections": true,
   "sideBar": true,
   "skip_h1_title": false,
   "title_cell": "Table of Contents",
   "title_sidebar": "Contents",
   "toc_cell": false,
   "toc_position": {},
   "toc_section_display": true,
   "toc_window_display": false
  },
  "varInspector": {
   "cols": {
    "lenName": 16,
    "lenType": 16,
    "lenVar": 40
   },
   "kernels_config": {
    "python": {
     "delete_cmd_postfix": "",
     "delete_cmd_prefix": "del ",
     "library": "var_list.py",
     "varRefreshCmd": "print(var_dic_list())"
    },
    "r": {
     "delete_cmd_postfix": ") ",
     "delete_cmd_prefix": "rm(",
     "library": "var_list.r",
     "varRefreshCmd": "cat(var_dic_list()) "
    }
   },
   "types_to_exclude": [
    "module",
    "function",
    "builtin_function_or_method",
    "instance",
    "_Feature"
   ],
   "window_display": false
  }
 },
 "nbformat": 4,
 "nbformat_minor": 5
}
