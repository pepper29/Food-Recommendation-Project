{
 "cells": [
  {
   "cell_type": "code",
   "execution_count": 1,
   "id": "84fd7cb0",
   "metadata": {
    "ExecuteTime": {
     "end_time": "2021-10-12T16:30:59.328409Z",
     "start_time": "2021-10-12T16:30:59.320374Z"
    }
   },
   "outputs": [],
   "source": [
    "import pandas as pd\n",
    "import warnings\n",
    "warnings.filterwarnings('ignore')"
   ]
  },
  {
   "cell_type": "markdown",
   "id": "73f89953",
   "metadata": {},
   "source": [
    "# 데이터 정리\n",
    "### 영화정보\n",
    "> meta19 meta20 meta21\n",
    "\n",
    "### 리뷰\n",
    "> 네이버 : n19 | n20 | n21<br>\n",
    "> 다음 : d19 | d20 | d21<br>\n",
    "> 왓챠피디아 : w19 | w20 | w21"
   ]
  },
  {
   "cell_type": "markdown",
   "id": "348a4171",
   "metadata": {},
   "source": [
    "# 데이터 병합"
   ]
  },
  {
   "cell_type": "code",
   "execution_count": 2,
   "id": "8fe559fa",
   "metadata": {
    "ExecuteTime": {
     "end_time": "2021-10-12T16:43:04.235177Z",
     "start_time": "2021-10-12T16:43:04.172739Z"
    }
   },
   "outputs": [],
   "source": [
    "meta = pd.read_csv('data/review/meta192021.csv')"
   ]
  },
  {
   "cell_type": "code",
   "execution_count": 3,
   "id": "8b35af51",
   "metadata": {
    "ExecuteTime": {
     "end_time": "2021-10-12T16:43:05.589486Z",
     "start_time": "2021-10-12T16:43:05.054534Z"
    }
   },
   "outputs": [],
   "source": [
    "w19 = pd.read_csv('data/review/Wa_review2019_last.csv')"
   ]
  },
  {
   "cell_type": "code",
   "execution_count": 4,
   "id": "e69e9555",
   "metadata": {
    "ExecuteTime": {
     "end_time": "2021-10-12T16:32:33.297802Z",
     "start_time": "2021-10-12T16:32:32.944666Z"
    }
   },
   "outputs": [],
   "source": [
    "w20 = pd.read_csv('data/review/Wa_review2020_last.csv')"
   ]
  },
  {
   "cell_type": "code",
   "execution_count": 5,
   "id": "a2652be1",
   "metadata": {
    "ExecuteTime": {
     "end_time": "2021-10-12T16:32:34.071315Z",
     "start_time": "2021-10-12T16:32:33.806143Z"
    }
   },
   "outputs": [],
   "source": [
    "w21 = pd.read_csv('data/review/Wa_review2021_last.csv')"
   ]
  },
  {
   "cell_type": "code",
   "execution_count": 6,
   "id": "307c130e",
   "metadata": {
    "ExecuteTime": {
     "end_time": "2021-10-12T17:03:43.235974Z",
     "start_time": "2021-10-12T17:03:42.721924Z"
    }
   },
   "outputs": [],
   "source": [
    "w1920 = pd.merge(w19, w20, on=('title','score','content','write_date','source_site'), how='outer')"
   ]
  },
  {
   "cell_type": "code",
   "execution_count": 7,
   "id": "422f74a2",
   "metadata": {
    "ExecuteTime": {
     "end_time": "2021-10-12T17:04:03.214451Z",
     "start_time": "2021-10-12T17:04:02.702868Z"
    }
   },
   "outputs": [],
   "source": [
    "w192021 = pd.merge(w1920, w21, on=('title','score','content','write_date','source_site'), how='outer')"
   ]
  },
  {
   "cell_type": "code",
   "execution_count": 8,
   "id": "d079023b",
   "metadata": {
    "ExecuteTime": {
     "end_time": "2021-10-12T17:04:39.620009Z",
     "start_time": "2021-10-12T17:04:39.559995Z"
    }
   },
   "outputs": [],
   "source": [
    "w192021 = w192021.reset_index(drop=True)"
   ]
  },
  {
   "cell_type": "code",
   "execution_count": 9,
   "id": "146e110a",
   "metadata": {
    "ExecuteTime": {
     "end_time": "2021-10-12T17:04:47.843632Z",
     "start_time": "2021-10-12T17:04:47.758599Z"
    }
   },
   "outputs": [
    {
     "name": "stdout",
     "output_type": "stream",
     "text": [
      "<class 'pandas.core.frame.DataFrame'>\n",
      "RangeIndex: 6804 entries, 0 to 6803\n",
      "Data columns (total 5 columns):\n",
      " #   Column       Non-Null Count  Dtype  \n",
      "---  ------       --------------  -----  \n",
      " 0   title        6804 non-null   object \n",
      " 1   score        6804 non-null   object \n",
      " 2   content      6570 non-null   object \n",
      " 3   write_date   0 non-null      float64\n",
      " 4   source_site  6804 non-null   object \n",
      "dtypes: float64(1), object(4)\n",
      "memory usage: 265.9+ KB\n"
     ]
    }
   ],
   "source": [
    "w192021.info()"
   ]
  },
  {
   "cell_type": "markdown",
   "id": "ac02ea11",
   "metadata": {},
   "source": [
    "# 전처리\n",
    "* 중복값 제거 (6,804 -> 6,754 -> 6,569)\n",
    "* `페르소나`, `각오는 됐나, 거기 여자`는 네이버에서 2018 개봉이라 제외\n",
    "* `힐빌리의 노래`, `러브라인`, `황무지 5월의 고해`, `오버 더 문`, `바이올렛 에버가든 외전 -영원과 자동수기인형-` 등은 네이버 영화 정보에 없음\n",
    "* `웰컴투X-월드`, `버즈 오브 프레이(할리 퀸의 황홀한 해방)`, `작은빛`은 띄어쓰기가 달라서 네이버로 통일"
   ]
  },
  {
   "cell_type": "code",
   "execution_count": 10,
   "id": "b865cd7a",
   "metadata": {
    "ExecuteTime": {
     "end_time": "2021-10-12T17:07:51.246171Z",
     "start_time": "2021-10-12T17:07:50.995729Z"
    }
   },
   "outputs": [],
   "source": [
    "no_duplicates = w192021.drop_duplicates()\n",
    "no_duplicates = no_duplicates[no_duplicates['content'].isnull()==False]\n",
    "no_duplicates = no_duplicates.reset_index(drop=True)"
   ]
  },
  {
   "cell_type": "code",
   "execution_count": 11,
   "id": "located-threshold",
   "metadata": {},
   "outputs": [],
   "source": [
    "def enc_title(x):\n",
    "    if x == \"웰컴투X-월드\":\n",
    "        return '웰컴 투 X-월드'\n",
    "    \n",
    "    elif x == \"버즈 오브 프레이: 할리 퀸의 황홀한 해방\":\n",
    "        return '버즈 오브 프레이(할리 퀸의 황홀한 해방)'\n",
    "    \n",
    "    elif x == \"작은빛\":\n",
    "        return \"작은 빛\"\n",
    "    \n",
    "    else: #일치 하지 않으면 input을 다시 return해줘야 함. 그렇지 않으면 null로 채워짐(아마도)\n",
    "        return x\n",
    "no_duplicates['title'] = no_duplicates['title'].apply(enc_title)"
   ]
  },
  {
   "cell_type": "code",
   "execution_count": 12,
   "id": "indie-solomon",
   "metadata": {},
   "outputs": [
    {
     "name": "stdout",
     "output_type": "stream",
     "text": [
      "605 페르소나\n",
      "606 페르소나\n",
      "607 페르소나\n",
      "608 페르소나\n",
      "609 페르소나\n",
      "610 페르소나\n",
      "611 페르소나\n",
      "612 페르소나\n",
      "613 페르소나\n",
      "614 페르소나\n",
      "615 페르소나\n",
      "616 페르소나\n",
      "617 페르소나\n",
      "618 페르소나\n",
      "619 페르소나\n",
      "620 페르소나\n",
      "621 페르소나\n",
      "622 페르소나\n",
      "623 페르소나\n",
      "645 각오는 됐나, 거기 여자\n",
      "646 각오는 됐나, 거기 여자\n",
      "647 각오는 됐나, 거기 여자\n",
      "648 각오는 됐나, 거기 여자\n",
      "649 각오는 됐나, 거기 여자\n",
      "650 각오는 됐나, 거기 여자\n",
      "651 각오는 됐나, 거기 여자\n",
      "652 각오는 됐나, 거기 여자\n",
      "653 각오는 됐나, 거기 여자\n",
      "654 각오는 됐나, 거기 여자\n",
      "655 각오는 됐나, 거기 여자\n",
      "656 각오는 됐나, 거기 여자\n",
      "657 각오는 됐나, 거기 여자\n",
      "658 각오는 됐나, 거기 여자\n",
      "659 각오는 됐나, 거기 여자\n",
      "660 각오는 됐나, 거기 여자\n",
      "661 각오는 됐나, 거기 여자\n",
      "662 각오는 됐나, 거기 여자\n",
      "663 각오는 됐나, 거기 여자\n",
      "664 각오는 됐나, 거기 여자\n",
      "665 각오는 됐나, 거기 여자\n",
      "1256 힐빌리의 노래\n",
      "1257 힐빌리의 노래\n",
      "1258 힐빌리의 노래\n",
      "1304 러브라인\n",
      "1305 러브라인\n",
      "1306 러브라인\n",
      "1352 황무지 5월의 고해\n",
      "1353 황무지 5월의 고해\n",
      "1354 황무지 5월의 고해\n",
      "1355 황무지 5월의 고해\n",
      "1356 황무지 5월의 고해\n",
      "1357 황무지 5월의 고해\n",
      "1358 황무지 5월의 고해\n",
      "1359 황무지 5월의 고해\n",
      "1360 황무지 5월의 고해\n",
      "1361 황무지 5월의 고해\n",
      "1435 오버 더 문\n",
      "1436 오버 더 문\n",
      "1437 오버 더 문\n",
      "1438 오버 더 문\n",
      "1439 오버 더 문\n",
      "1440 오버 더 문\n",
      "1441 오버 더 문\n",
      "1442 오버 더 문\n",
      "1443 오버 더 문\n",
      "1444 오버 더 문\n",
      "1445 오버 더 문\n",
      "1446 오버 더 문\n",
      "1447 오버 더 문\n",
      "1448 오버 더 문\n",
      "1449 오버 더 문\n",
      "1450 오버 더 문\n",
      "1451 오버 더 문\n",
      "1452 오버 더 문\n",
      "1453 오버 더 문\n",
      "1454 오버 더 문\n",
      "1455 오버 더 문\n",
      "1499 아름다운 여행\n",
      "1500 아름다운 여행\n",
      "1501 아름다운 여행\n",
      "1502 아름다운 여행\n",
      "1503 아름다운 여행\n",
      "1504 아름다운 여행\n",
      "1505 아름다운 여행\n",
      "1506 아름다운 여행\n",
      "1507 아름다운 여행\n",
      "1508 아름다운 여행\n",
      "1509 아름다운 여행\n",
      "1510 아름다운 여행\n",
      "1511 아름다운 여행\n",
      "1512 아름다운 여행\n",
      "1513 아름다운 여행\n",
      "1514 아름다운 여행\n",
      "1515 아름다운 여행\n",
      "1516 아름다운 여행\n",
      "1517 아름다운 여행\n",
      "1556 호프\n",
      "1557 호프\n",
      "1558 호프\n",
      "1702 공포분자\n",
      "1703 공포분자\n",
      "1704 공포분자\n",
      "1705 공포분자\n",
      "1706 공포분자\n",
      "1707 공포분자\n",
      "1723 뱀파이어에 관한 아주 특별한 다큐멘터리\n",
      "1724 뱀파이어에 관한 아주 특별한 다큐멘터리\n",
      "1725 뱀파이어에 관한 아주 특별한 다큐멘터리\n",
      "1726 뱀파이어에 관한 아주 특별한 다큐멘터리\n",
      "1727 뱀파이어에 관한 아주 특별한 다큐멘터리\n",
      "1728 뱀파이어에 관한 아주 특별한 다큐멘터리\n",
      "1729 뱀파이어에 관한 아주 특별한 다큐멘터리\n",
      "1730 뱀파이어에 관한 아주 특별한 다큐멘터리\n",
      "1731 뱀파이어에 관한 아주 특별한 다큐멘터리\n",
      "1732 뱀파이어에 관한 아주 특별한 다큐멘터리\n",
      "1733 뱀파이어에 관한 아주 특별한 다큐멘터리\n",
      "1734 뱀파이어에 관한 아주 특별한 다큐멘터리\n",
      "1735 뱀파이어에 관한 아주 특별한 다큐멘터리\n",
      "1736 뱀파이어에 관한 아주 특별한 다큐멘터리\n",
      "1737 뱀파이어에 관한 아주 특별한 다큐멘터리\n",
      "1738 뱀파이어에 관한 아주 특별한 다큐멘터리\n",
      "1739 뱀파이어에 관한 아주 특별한 다큐멘터리\n",
      "1740 뱀파이어에 관한 아주 특별한 다큐멘터리\n",
      "1741 뱀파이어에 관한 아주 특별한 다큐멘터리\n",
      "1742 뱀파이어에 관한 아주 특별한 다큐멘터리\n",
      "2090 레베카\n",
      "2091 레베카\n",
      "2092 레베카\n",
      "2093 레베카\n",
      "2094 레베카\n",
      "2095 레베카\n",
      "2096 레베카\n",
      "2097 레베카\n",
      "2098 레베카\n",
      "2099 레베카\n",
      "2100 레베카\n",
      "2101 레베카\n",
      "2102 레베카\n",
      "2103 레베카\n",
      "2104 레베카\n",
      "2105 레베카\n",
      "2106 레베카\n",
      "2107 레베카\n",
      "2108 레베카\n",
      "2109 레베카\n",
      "2110 레베카\n",
      "2429 후쿠오카\n",
      "2430 후쿠오카\n",
      "2431 후쿠오카\n",
      "2432 후쿠오카\n",
      "2433 후쿠오카\n",
      "2434 후쿠오카\n",
      "2435 후쿠오카\n",
      "2436 후쿠오카\n",
      "2437 후쿠오카\n",
      "2438 후쿠오카\n",
      "2439 후쿠오카\n",
      "2440 후쿠오카\n",
      "2441 후쿠오카\n",
      "2442 후쿠오카\n",
      "2443 후쿠오카\n",
      "2444 후쿠오카\n",
      "2445 후쿠오카\n",
      "2446 후쿠오카\n",
      "2447 후쿠오카\n",
      "2448 후쿠오카\n",
      "2637 동아시아반일무장전선\n",
      "2638 동아시아반일무장전선\n",
      "2639 동아시아반일무장전선\n",
      "2640 동아시아반일무장전선\n",
      "2641 동아시아반일무장전선\n",
      "2642 동아시아반일무장전선\n",
      "2643 동아시아반일무장전선\n",
      "2644 동아시아반일무장전선\n",
      "2645 동아시아반일무장전선\n",
      "2646 동아시아반일무장전선\n",
      "2647 동아시아반일무장전선\n",
      "2648 동아시아반일무장전선\n",
      "2649 동아시아반일무장전선\n",
      "2650 동아시아반일무장전선\n",
      "2651 동아시아반일무장전선\n",
      "2652 동아시아반일무장전선\n",
      "2653 동아시아반일무장전선\n",
      "2654 동아시아반일무장전선\n",
      "2655 동아시아반일무장전선\n",
      "2656 동아시아반일무장전선\n",
      "2871 노만: 어느 뉴요커의 신분상승과 몰락\n",
      "2872 노만: 어느 뉴요커의 신분상승과 몰락\n",
      "2873 노만: 어느 뉴요커의 신분상승과 몰락\n",
      "2874 진파\n",
      "2875 진파\n",
      "2876 진파\n",
      "2877 진파\n",
      "2878 진파\n",
      "2879 진파\n",
      "2880 진파\n",
      "2881 진파\n",
      "2882 진파\n",
      "2883 진파\n",
      "2884 진파\n",
      "3024 베이루트: 리미티드 아워\n",
      "3025 베이루트: 리미티드 아워\n",
      "3026 베이루트: 리미티드 아워\n",
      "3027 베이루트: 리미티드 아워\n",
      "3028 베이루트: 리미티드 아워\n",
      "3029 베이루트: 리미티드 아워\n",
      "3030 베이루트: 리미티드 아워\n",
      "3031 베이루트: 리미티드 아워\n",
      "3032 베이루트: 리미티드 아워\n",
      "3033 베이루트: 리미티드 아워\n",
      "3034 베이루트: 리미티드 아워\n",
      "3035 베이루트: 리미티드 아워\n",
      "3036 베이루트: 리미티드 아워\n",
      "3037 베이루트: 리미티드 아워\n",
      "3038 베이루트: 리미티드 아워\n",
      "3039 베이루트: 리미티드 아워\n",
      "3040 베이루트: 리미티드 아워\n",
      "3041 베이루트: 리미티드 아워\n",
      "3042 베이루트: 리미티드 아워\n",
      "3043 베이루트: 리미티드 아워\n",
      "3044 베이루트: 리미티드 아워\n",
      "3206 올드 가드\n",
      "3207 올드 가드\n",
      "3208 올드 가드\n",
      "3209 올드 가드\n",
      "3210 올드 가드\n",
      "3211 올드 가드\n",
      "3212 올드 가드\n",
      "3213 올드 가드\n",
      "3214 올드 가드\n",
      "3215 올드 가드\n",
      "3216 올드 가드\n",
      "3217 올드 가드\n",
      "3218 올드 가드\n",
      "3219 올드 가드\n",
      "3220 올드 가드\n",
      "3221 올드 가드\n",
      "3222 올드 가드\n",
      "3223 올드 가드\n",
      "3224 올드 가드\n",
      "3225 올드 가드\n",
      "3247 피그테일\n",
      "3248 피그테일\n",
      "3249 피그테일\n",
      "3687 환상의 마로나\n",
      "3688 환상의 마로나\n",
      "3689 환상의 마로나\n",
      "4699 바이올렛 에버가든 외전 -영원과 자동수기인형-\n",
      "4700 바이올렛 에버가든 외전 -영원과 자동수기인형-\n",
      "4701 바이올렛 에버가든 외전 -영원과 자동수기인형-\n",
      "4702 바이올렛 에버가든 외전 -영원과 자동수기인형-\n",
      "4703 바이올렛 에버가든 외전 -영원과 자동수기인형-\n",
      "4704 바이올렛 에버가든 외전 -영원과 자동수기인형-\n",
      "4705 바이올렛 에버가든 외전 -영원과 자동수기인형-\n",
      "4706 바이올렛 에버가든 외전 -영원과 자동수기인형-\n",
      "4707 바이올렛 에버가든 외전 -영원과 자동수기인형-\n",
      "4708 바이올렛 에버가든 외전 -영원과 자동수기인형-\n",
      "4709 바이올렛 에버가든 외전 -영원과 자동수기인형-\n",
      "4710 바이올렛 에버가든 외전 -영원과 자동수기인형-\n",
      "5324 히트맨\n",
      "5325 히트맨\n",
      "5326 히트맨\n",
      "5327 히트맨\n",
      "5328 히트맨\n",
      "5329 히트맨\n",
      "5330 히트맨\n",
      "5331 히트맨\n",
      "5332 히트맨\n",
      "5333 히트맨\n",
      "5334 히트맨\n",
      "5335 히트맨\n",
      "5336 히트맨\n",
      "5337 히트맨\n",
      "5338 히트맨\n",
      "5339 히트맨\n",
      "5340 히트맨\n",
      "5341 히트맨\n",
      "5342 히트맨\n",
      "5343 히트맨\n",
      "5344 히트맨\n",
      "5572 그래비티\n",
      "5573 그래비티\n",
      "5574 그래비티\n",
      "5575 그래비티\n",
      "5576 그래비티\n",
      "5577 그래비티\n",
      "5578 그래비티\n",
      "5579 그래비티\n",
      "5580 그래비티\n",
      "5581 그래비티\n",
      "5582 그래비티\n",
      "5583 그래비티\n",
      "5584 그래비티\n",
      "5585 그래비티\n",
      "5586 그래비티\n",
      "5587 그래비티\n",
      "5588 그래비티\n",
      "5589 그래비티\n",
      "5590 그래비티\n",
      "5591 그래비티\n",
      "5677 고스트 스토리\n",
      "5678 고스트 스토리\n",
      "5746 승리호\n",
      "5747 승리호\n",
      "5748 승리호\n",
      "5749 승리호\n",
      "5750 승리호\n",
      "5751 승리호\n",
      "5752 승리호\n",
      "5753 승리호\n",
      "5754 승리호\n",
      "5755 승리호\n",
      "5756 승리호\n",
      "5757 승리호\n",
      "5758 승리호\n",
      "5759 승리호\n",
      "5760 승리호\n",
      "5761 승리호\n",
      "5762 승리호\n",
      "5763 승리호\n",
      "5764 승리호\n",
      "5765 승리호\n",
      "5766 승리호\n",
      "5808 내가 사랑했던 모든 남자들에게: 언제나 그리고 영원히\n",
      "5809 내가 사랑했던 모든 남자들에게: 언제나 그리고 영원히\n",
      "5810 내가 사랑했던 모든 남자들에게: 언제나 그리고 영원히\n",
      "5835 스퀘어드 러브\n",
      "5836 스퀘어드 러브\n",
      "5837 스퀘어드 러브\n",
      "5838 스퀘어드 러브\n",
      "5839 스퀘어드 러브\n",
      "5840 스퀘어드 러브\n",
      "5841 스퀘어드 러브\n",
      "5842 스퀘어드 러브\n",
      "5843 스퀘어드 러브\n",
      "5844 스퀘어드 러브\n",
      "5845 스퀘어드 러브\n",
      "5846 스퀘어드 러브\n",
      "5847 스퀘어드 러브\n",
      "5848 스퀘어드 러브\n",
      "6329 명탐정 코난: 비색의 탄환\n",
      "6330 명탐정 코난: 비색의 탄환\n",
      "6331 명탐정 코난: 비색의 탄환\n",
      "6332 명탐정 코난: 비색의 탄환\n",
      "6333 명탐정 코난: 비색의 탄환\n",
      "6334 명탐정 코난: 비색의 탄환\n",
      "6335 명탐정 코난: 비색의 탄환\n",
      "6336 명탐정 코난: 비색의 탄환\n",
      "6337 명탐정 코난: 비색의 탄환\n",
      "6338 명탐정 코난: 비색의 탄환\n",
      "6339 명탐정 코난: 비색의 탄환\n",
      "6340 명탐정 코난: 비색의 탄환\n",
      "6341 명탐정 코난: 비색의 탄환\n",
      "6342 명탐정 코난: 비색의 탄환\n",
      "6343 명탐정 코난: 비색의 탄환\n",
      "6344 명탐정 코난: 비색의 탄환\n",
      "6345 명탐정 코난: 비색의 탄환\n",
      "6346 명탐정 코난: 비색의 탄환\n",
      "6347 명탐정 코난: 비색의 탄환\n",
      "359\n"
     ]
    }
   ],
   "source": [
    "cnt = 0\n",
    "titles = meta['title'].values\n",
    "for i in range(len(no_duplicates)):\n",
    "    title = no_duplicates.iloc[i,0]\n",
    "    content = no_duplicates.iloc[i,2]\n",
    "    if title not in titles:\n",
    "        cnt+=1\n",
    "        print(i, title)\n",
    "print(cnt)"
   ]
  },
  {
   "cell_type": "code",
   "execution_count": 13,
   "id": "bored-comedy",
   "metadata": {},
   "outputs": [
    {
     "data": {
      "text/html": [
       "<div>\n",
       "<style scoped>\n",
       "    .dataframe tbody tr th:only-of-type {\n",
       "        vertical-align: middle;\n",
       "    }\n",
       "\n",
       "    .dataframe tbody tr th {\n",
       "        vertical-align: top;\n",
       "    }\n",
       "\n",
       "    .dataframe thead th {\n",
       "        text-align: right;\n",
       "    }\n",
       "</style>\n",
       "<table border=\"1\" class=\"dataframe\">\n",
       "  <thead>\n",
       "    <tr style=\"text-align: right;\">\n",
       "      <th></th>\n",
       "      <th>title</th>\n",
       "      <th>genre</th>\n",
       "      <th>nation</th>\n",
       "      <th>running_time</th>\n",
       "      <th>release_date</th>\n",
       "      <th>director</th>\n",
       "      <th>actor</th>\n",
       "      <th>grade</th>\n",
       "      <th>summary</th>\n",
       "      <th>poster</th>\n",
       "    </tr>\n",
       "  </thead>\n",
       "  <tbody>\n",
       "    <tr>\n",
       "      <th>236</th>\n",
       "      <td>명탐정 코난: 감청의 권</td>\n",
       "      <td>애니메이션</td>\n",
       "      <td>일본</td>\n",
       "      <td>109분</td>\n",
       "      <td>2019 .07.24 개봉</td>\n",
       "      <td>나가오카 치카</td>\n",
       "      <td>타카야마 미나미, 야마자키 와카나, 코야마 리키야</td>\n",
       "      <td>12세 관람가</td>\n",
       "      <td>19세기말 해적선과 함께 싱가포르 인근 바다에 가라앉았다고 전해지는\\n 전설의 보물...</td>\n",
       "      <td>https://movie-phinf.pstatic.net/20190626_238/1...</td>\n",
       "    </tr>\n",
       "    <tr>\n",
       "      <th>237</th>\n",
       "      <td>명탐정 코난:전율의 악보</td>\n",
       "      <td>애니메이션, 서스펜스</td>\n",
       "      <td>일본</td>\n",
       "      <td>116분</td>\n",
       "      <td>2019 .02.14 개봉</td>\n",
       "      <td>야마모토 야스이치로</td>\n",
       "      <td>타카야마 미나미(에도가와 코난), 야마자키 와카나(모리 란), 쿠와시마 호우코(아키...</td>\n",
       "      <td>12세 관람가</td>\n",
       "      <td>음악가만을 노린 연쇄살인사건이 발생하고,\\n 피해자들은 모두 유명한 피아니스트가 설...</td>\n",
       "      <td>https://movie-phinf.pstatic.net/20190104_172/1...</td>\n",
       "    </tr>\n",
       "    <tr>\n",
       "      <th>1545</th>\n",
       "      <td>명탐정 코난: 진홍의 수학여행</td>\n",
       "      <td>애니메이션</td>\n",
       "      <td>일본</td>\n",
       "      <td>92분</td>\n",
       "      <td>2021 .01.27 개봉</td>\n",
       "      <td>야마모토 야스이치로</td>\n",
       "      <td>야마구치 캇페이, 야마자키 와카나, 히다카 노리코</td>\n",
       "      <td>12세 관람가</td>\n",
       "      <td>초등학생 코난이 아닌, 본래의 모습으로 교토 수학여행에 참가하게 된 고등학생 탐정 ...</td>\n",
       "      <td>https://movie-phinf.pstatic.net/20210113_148/1...</td>\n",
       "    </tr>\n",
       "  </tbody>\n",
       "</table>\n",
       "</div>"
      ],
      "text/plain": [
       "                 title        genre nation running_time    release_date  \\\n",
       "236      명탐정 코난: 감청의 권        애니메이션     일본         109분  2019 .07.24 개봉   \n",
       "237      명탐정 코난:전율의 악보  애니메이션, 서스펜스     일본         116분  2019 .02.14 개봉   \n",
       "1545  명탐정 코난: 진홍의 수학여행        애니메이션     일본          92분  2021 .01.27 개봉   \n",
       "\n",
       "        director                                              actor    grade  \\\n",
       "236      나가오카 치카                        타카야마 미나미, 야마자키 와카나, 코야마 리키야  12세 관람가   \n",
       "237   야마모토 야스이치로  타카야마 미나미(에도가와 코난), 야마자키 와카나(모리 란), 쿠와시마 호우코(아키...  12세 관람가   \n",
       "1545  야마모토 야스이치로                        야마구치 캇페이, 야마자키 와카나, 히다카 노리코  12세 관람가   \n",
       "\n",
       "                                                summary  \\\n",
       "236   19세기말 해적선과 함께 싱가포르 인근 바다에 가라앉았다고 전해지는\\n 전설의 보물...   \n",
       "237   음악가만을 노린 연쇄살인사건이 발생하고,\\n 피해자들은 모두 유명한 피아니스트가 설...   \n",
       "1545  초등학생 코난이 아닌, 본래의 모습으로 교토 수학여행에 참가하게 된 고등학생 탐정 ...   \n",
       "\n",
       "                                                 poster  \n",
       "236   https://movie-phinf.pstatic.net/20190626_238/1...  \n",
       "237   https://movie-phinf.pstatic.net/20190104_172/1...  \n",
       "1545  https://movie-phinf.pstatic.net/20210113_148/1...  "
      ]
     },
     "execution_count": 13,
     "metadata": {},
     "output_type": "execute_result"
    }
   ],
   "source": [
    "meta[meta['title'].str.contains('코난')==True]"
   ]
  },
  {
   "cell_type": "code",
   "execution_count": 14,
   "id": "minor-conservation",
   "metadata": {},
   "outputs": [
    {
     "name": "stdout",
     "output_type": "stream",
     "text": [
      "<class 'pandas.core.frame.DataFrame'>\n",
      "RangeIndex: 6569 entries, 0 to 6568\n",
      "Data columns (total 5 columns):\n",
      " #   Column       Non-Null Count  Dtype  \n",
      "---  ------       --------------  -----  \n",
      " 0   title        6569 non-null   object \n",
      " 1   score        6569 non-null   object \n",
      " 2   content      6569 non-null   object \n",
      " 3   write_date   0 non-null      float64\n",
      " 4   source_site  6569 non-null   object \n",
      "dtypes: float64(1), object(4)\n",
      "memory usage: 256.7+ KB\n"
     ]
    }
   ],
   "source": [
    "no_duplicates.info()"
   ]
  },
  {
   "cell_type": "markdown",
   "id": "b1f3b2c8",
   "metadata": {},
   "source": [
    "#### csv 저장"
   ]
  },
  {
   "cell_type": "code",
   "execution_count": 15,
   "id": "capital-archive",
   "metadata": {},
   "outputs": [],
   "source": [
    "no_duplicates.to_csv('./data/review/Wa_review_192021.csv',index=False)"
   ]
  },
  {
   "cell_type": "code",
   "execution_count": 16,
   "id": "b0a91059",
   "metadata": {
    "ExecuteTime": {
     "end_time": "2021-10-12T17:16:05.157605Z",
     "start_time": "2021-10-12T17:16:04.933439Z"
    }
   },
   "outputs": [],
   "source": [
    "movie_all = pd.merge(meta, no_duplicates\n",
    "    , how = 'inner'\n",
    "    , on = (\"title\"))"
   ]
  },
  {
   "cell_type": "code",
   "execution_count": 17,
   "id": "developmental-style",
   "metadata": {},
   "outputs": [
    {
     "name": "stdout",
     "output_type": "stream",
     "text": [
      "<class 'pandas.core.frame.DataFrame'>\n",
      "Int64Index: 6228 entries, 0 to 6227\n",
      "Data columns (total 14 columns):\n",
      " #   Column        Non-Null Count  Dtype  \n",
      "---  ------        --------------  -----  \n",
      " 0   title         6228 non-null   object \n",
      " 1   genre         6228 non-null   object \n",
      " 2   nation        6228 non-null   object \n",
      " 3   running_time  6228 non-null   object \n",
      " 4   release_date  6228 non-null   object \n",
      " 5   director      6228 non-null   object \n",
      " 6   actor         6228 non-null   object \n",
      " 7   grade         6228 non-null   object \n",
      " 8   summary       6228 non-null   object \n",
      " 9   poster        6228 non-null   object \n",
      " 10  score         6228 non-null   object \n",
      " 11  content       6228 non-null   object \n",
      " 12  write_date    0 non-null      float64\n",
      " 13  source_site   6228 non-null   object \n",
      "dtypes: float64(1), object(13)\n",
      "memory usage: 729.8+ KB\n"
     ]
    }
   ],
   "source": [
    "movie_all.info()"
   ]
  },
  {
   "cell_type": "code",
   "execution_count": 18,
   "id": "bacterial-warning",
   "metadata": {},
   "outputs": [],
   "source": [
    "mkdir data/total"
   ]
  },
  {
   "cell_type": "code",
   "execution_count": 19,
   "id": "weird-newfoundland",
   "metadata": {},
   "outputs": [
    {
     "name": "stdout",
     "output_type": "stream",
     "text": [
      "1013_naver_movie_sim.ipynb  add_movie.py    add_score.py  tag_search.py\n",
      "Daum_merge.ipynb            add_ranking.py  \u001b[0m\u001b[01;34mdata\u001b[0m/\n",
      "Watcha_merge.ipynb          add_review.py   scraping.py\n"
     ]
    }
   ],
   "source": [
    "ls"
   ]
  },
  {
   "cell_type": "code",
   "execution_count": 20,
   "id": "1b70a4ad",
   "metadata": {
    "ExecuteTime": {
     "end_time": "2021-10-12T17:41:37.202356Z",
     "start_time": "2021-10-12T17:41:33.353824Z"
    }
   },
   "outputs": [],
   "source": [
    "movie_all.to_csv('data/total/Wa_192021.csv',index=False)"
   ]
  }
 ],
 "metadata": {
  "hide_input": false,
  "interpreter": {
   "hash": "31f2aee4e71d21fbe5cf8b01ff0e069b9275f58929596ceb00d14d90e3e16cd6"
  },
  "kernelspec": {
   "display_name": "Python 3.8.10 64-bit",
   "name": "python3"
  },
  "language_info": {
   "codemirror_mode": {
    "name": "ipython",
    "version": 3
   },
   "file_extension": ".py",
   "mimetype": "text/x-python",
   "name": "python",
   "nbconvert_exporter": "python",
   "pygments_lexer": "ipython3",
   "version": "3.8.10"
  },
  "toc": {
   "base_numbering": 1,
   "nav_menu": {},
   "number_sections": true,
   "sideBar": true,
   "skip_h1_title": false,
   "title_cell": "Table of Contents",
   "title_sidebar": "Contents",
   "toc_cell": false,
   "toc_position": {},
   "toc_section_display": true,
   "toc_window_display": false
  },
  "varInspector": {
   "cols": {
    "lenName": 16,
    "lenType": 16,
    "lenVar": 40
   },
   "kernels_config": {
    "python": {
     "delete_cmd_postfix": "",
     "delete_cmd_prefix": "del ",
     "library": "var_list.py",
     "varRefreshCmd": "print(var_dic_list())"
    },
    "r": {
     "delete_cmd_postfix": ") ",
     "delete_cmd_prefix": "rm(",
     "library": "var_list.r",
     "varRefreshCmd": "cat(var_dic_list()) "
    }
   },
   "types_to_exclude": [
    "module",
    "function",
    "builtin_function_or_method",
    "instance",
    "_Feature"
   ],
   "window_display": false
  }
 },
 "nbformat": 4,
 "nbformat_minor": 5
}
